{
 "cells": [
  {
   "cell_type": "code",
   "execution_count": 1,
   "id": "71f2ee9e",
   "metadata": {
    "_cell_guid": "b1076dfc-b9ad-4769-8c92-a6c4dae69d19",
    "_uuid": "8f2839f25d086af736a60e9eeb907d3b93b6e0e5",
    "execution": {
     "iopub.execute_input": "2021-07-21T03:48:53.194220Z",
     "iopub.status.busy": "2021-07-21T03:48:53.193173Z",
     "iopub.status.idle": "2021-07-21T03:48:54.418349Z",
     "shell.execute_reply": "2021-07-21T03:48:54.418784Z",
     "shell.execute_reply.started": "2021-07-21T03:15:55.558390Z"
    },
    "papermill": {
     "duration": 1.286781,
     "end_time": "2021-07-21T03:48:54.419086",
     "exception": false,
     "start_time": "2021-07-21T03:48:53.132305",
     "status": "completed"
    },
    "tags": []
   },
   "outputs": [
    {
     "name": "stdout",
     "output_type": "stream",
     "text": [
      "./input\\cs-test.csv\n",
      "./input\\cs-training.csv\n",
      "./input\\Data Dictionary.xls\n",
      "./input\\sampleEntry.csv\n"
     ]
    }
   ],
   "source": [
    "# This Python 3 environment comes with many helpful analytics libraries installed\n",
    "# It is defined by the kaggle/python Docker image: https://github.com/kaggle/docker-python\n",
    "# For example, here's several helpful packages to load\n",
    "\n",
    "import numpy as np # linear algebra\n",
    "import pandas as pd # data processing, CSV file I/O (e.g. pd.read_csv)\n",
    "from sklearn.model_selection import train_test_split\n",
    "from sklearn.linear_model import LogisticRegression\n",
    "import matplotlib.pyplot as plt\n",
    "import seaborn as sns\n",
    "\n",
    "%matplotlib inline\n",
    "\n",
    "\n",
    "# Input data files are available in the read-only \"../input/\" directory\n",
    "# For example, running this (by clicking run or pressing Shift+Enter) will list all files under the input directory\n",
    "\n",
    "import os\n",
    "for dirname, _, filenames in os.walk('./input'):\n",
    "    for filename in filenames:\n",
    "        print(os.path.join(dirname, filename))\n",
    "\n",
    "# You can write up to 20GB to the current directory (/kaggle/working/) that gets preserved as output when you create a version using \"Save & Run All\" \n",
    "# You can also write temporary files to /kaggle/temp/, but they won't be saved outside of the current session"
   ]
  },
  {
   "cell_type": "markdown",
   "id": "831f8e75",
   "metadata": {
    "papermill": {
     "duration": 0.053319,
     "end_time": "2021-07-21T03:48:54.526808",
     "exception": false,
     "start_time": "2021-07-21T03:48:54.473489",
     "status": "completed"
    },
    "tags": []
   },
   "source": [
    "| 变量名称 | 变量描述 |\n",
    "| --- | --- |\n",
    "| id|序号|\n",
    "| SeriousDlqin2yrs | 2年内有严重逾期行为 |\n",
    "| RevolvingUtilizationOfUnsecuredLines | 无担保额度的循环使用情况 |\n",
    "| age | 年龄 |\n",
    "| NumberOfTime30-59DaysPastDueNotWorse | 逾期30-59天但未恶化的数量 |\n",
    "| DebtRatio | 债务比 |\n",
    "| MonthlyIncome | 月收入 |\n",
    "| NumberOfOpenCreditLinesAndLoans | 未偿的信用额度和贷款的数量 |\n",
    "| NumberOfTimes90DaysLate | 逾期90天的次数 |\n",
    "| NumberRealEstateLoansOrLines | 房地产贷款或额度的数量 |\n",
    "| NumberOfTime60-89DaysPastDueNotWorse | 逾期60-89天但未恶化的数量 |\n",
    "| NumberOfDependents | 受扶养人的数量 |"
   ]
  },
  {
   "cell_type": "markdown",
   "id": "80ce5eac",
   "metadata": {
    "papermill": {
     "duration": 0.071289,
     "end_time": "2021-07-21T03:48:54.656836",
     "exception": false,
     "start_time": "2021-07-21T03:48:54.585547",
     "status": "completed"
    },
    "tags": []
   },
   "source": [
    "1. [数据预处理](#数据预处理)\n",
    "    1. [数据导入](#1a)\n",
    "    1. [数据分析](#1b)\n",
    "1. [EDA](#EDA)\n",
    "    1. [age 年龄](#2a)\n",
    "    1. [RevolvingUtilizationOfUnsecuredLines 无担保额度的循环使用情况](#2b)\n",
    "    1. [DebtRatio 债务比率](#2c)\n",
    "    1. [MonthlyIncome 月收入](#2d)\n",
    "    1. [NumberOfOpenCreditLinesAndLoans 未偿的信用额度和贷款的数量](#2e)\n",
    "    1. [NumberRealEstateLoansOrLines 房地产贷款或额度的数量](#2f)\n",
    "    1. [NumberOfDependents 受扶养人的数量](#2g)\n",
    "    1. [三个逾期指标](#2h)\n",
    "1. [数据清洗](#数据清洗)\n",
    "    1. [异常值处理](#3a)\n",
    "    1. [缺失值处理](#3b)\n",
    "1. [特征工程](#特征工程)\n",
    "    1. [衍生变量](#4a)\n",
    "    1. [数据分箱](#4b)\n",
    "    1. [特征选取、变量筛选](#4c)\n",
    "        1. [变量相关性](#4c1)\n",
    "        1. [WOE、IV值计算](#4c2)\n",
    "1. [模型构建](#模型构建)\n",
    "    1. [数据集切分](#5a)\n",
    "    1. [逻辑回归建模](#5b)\n",
    "1. [模型评估](#模型评估)\n",
    "    1. [ROC曲线、AUC值](#6a)\n",
    "1. [评分卡](#评分卡)\n",
    "    1. [参数换算](#参数换算)\n",
    "    1. [评分卡生成](#评分卡生成)\n",
    "1. [参考链接](#参考链接)"
   ]
  },
  {
   "cell_type": "markdown",
   "id": "bd1a74d8",
   "metadata": {
    "papermill": {
     "duration": 0.053784,
     "end_time": "2021-07-21T03:48:54.774904",
     "exception": false,
     "start_time": "2021-07-21T03:48:54.721120",
     "status": "completed"
    },
    "tags": []
   },
   "source": [
    "## 数据预处理<a class=\"anchor\" id=\"1\"></a>"
   ]
  },
  {
   "cell_type": "code",
   "execution_count": 2,
   "id": "7f51a061",
   "metadata": {
    "execution": {
     "iopub.execute_input": "2021-07-21T03:48:54.888658Z",
     "iopub.status.busy": "2021-07-21T03:48:54.888072Z",
     "iopub.status.idle": "2021-07-21T03:48:55.283256Z",
     "shell.execute_reply": "2021-07-21T03:48:55.282681Z",
     "shell.execute_reply.started": "2021-07-21T03:17:25.220746Z"
    },
    "papermill": {
     "duration": 0.45353,
     "end_time": "2021-07-21T03:48:55.283392",
     "exception": false,
     "start_time": "2021-07-21T03:48:54.829862",
     "status": "completed"
    },
    "tags": []
   },
   "outputs": [
    {
     "data": {
      "text/html": [
       "<div>\n",
       "<style scoped>\n",
       "    .dataframe tbody tr th:only-of-type {\n",
       "        vertical-align: middle;\n",
       "    }\n",
       "\n",
       "    .dataframe tbody tr th {\n",
       "        vertical-align: top;\n",
       "    }\n",
       "\n",
       "    .dataframe thead th {\n",
       "        text-align: right;\n",
       "    }\n",
       "</style>\n",
       "<table border=\"1\" class=\"dataframe\">\n",
       "  <thead>\n",
       "    <tr style=\"text-align: right;\">\n",
       "      <th></th>\n",
       "      <th>Unnamed: 0</th>\n",
       "      <th>SeriousDlqin2yrs</th>\n",
       "      <th>RevolvingUtilizationOfUnsecuredLines</th>\n",
       "      <th>age</th>\n",
       "      <th>NumberOfTime30-59DaysPastDueNotWorse</th>\n",
       "      <th>DebtRatio</th>\n",
       "      <th>MonthlyIncome</th>\n",
       "      <th>NumberOfOpenCreditLinesAndLoans</th>\n",
       "      <th>NumberOfTimes90DaysLate</th>\n",
       "      <th>NumberRealEstateLoansOrLines</th>\n",
       "      <th>NumberOfTime60-89DaysPastDueNotWorse</th>\n",
       "      <th>NumberOfDependents</th>\n",
       "    </tr>\n",
       "  </thead>\n",
       "  <tbody>\n",
       "    <tr>\n",
       "      <th>0</th>\n",
       "      <td>1</td>\n",
       "      <td>1</td>\n",
       "      <td>0.766127</td>\n",
       "      <td>45</td>\n",
       "      <td>2</td>\n",
       "      <td>0.802982</td>\n",
       "      <td>9120.0</td>\n",
       "      <td>13</td>\n",
       "      <td>0</td>\n",
       "      <td>6</td>\n",
       "      <td>0</td>\n",
       "      <td>2.0</td>\n",
       "    </tr>\n",
       "    <tr>\n",
       "      <th>1</th>\n",
       "      <td>2</td>\n",
       "      <td>0</td>\n",
       "      <td>0.957151</td>\n",
       "      <td>40</td>\n",
       "      <td>0</td>\n",
       "      <td>0.121876</td>\n",
       "      <td>2600.0</td>\n",
       "      <td>4</td>\n",
       "      <td>0</td>\n",
       "      <td>0</td>\n",
       "      <td>0</td>\n",
       "      <td>1.0</td>\n",
       "    </tr>\n",
       "    <tr>\n",
       "      <th>2</th>\n",
       "      <td>3</td>\n",
       "      <td>0</td>\n",
       "      <td>0.658180</td>\n",
       "      <td>38</td>\n",
       "      <td>1</td>\n",
       "      <td>0.085113</td>\n",
       "      <td>3042.0</td>\n",
       "      <td>2</td>\n",
       "      <td>1</td>\n",
       "      <td>0</td>\n",
       "      <td>0</td>\n",
       "      <td>0.0</td>\n",
       "    </tr>\n",
       "    <tr>\n",
       "      <th>3</th>\n",
       "      <td>4</td>\n",
       "      <td>0</td>\n",
       "      <td>0.233810</td>\n",
       "      <td>30</td>\n",
       "      <td>0</td>\n",
       "      <td>0.036050</td>\n",
       "      <td>3300.0</td>\n",
       "      <td>5</td>\n",
       "      <td>0</td>\n",
       "      <td>0</td>\n",
       "      <td>0</td>\n",
       "      <td>0.0</td>\n",
       "    </tr>\n",
       "    <tr>\n",
       "      <th>4</th>\n",
       "      <td>5</td>\n",
       "      <td>0</td>\n",
       "      <td>0.907239</td>\n",
       "      <td>49</td>\n",
       "      <td>1</td>\n",
       "      <td>0.024926</td>\n",
       "      <td>63588.0</td>\n",
       "      <td>7</td>\n",
       "      <td>0</td>\n",
       "      <td>1</td>\n",
       "      <td>0</td>\n",
       "      <td>0.0</td>\n",
       "    </tr>\n",
       "  </tbody>\n",
       "</table>\n",
       "</div>"
      ],
      "text/plain": [
       "   Unnamed: 0  SeriousDlqin2yrs  RevolvingUtilizationOfUnsecuredLines  age  \\\n",
       "0           1                 1                              0.766127   45   \n",
       "1           2                 0                              0.957151   40   \n",
       "2           3                 0                              0.658180   38   \n",
       "3           4                 0                              0.233810   30   \n",
       "4           5                 0                              0.907239   49   \n",
       "\n",
       "   NumberOfTime30-59DaysPastDueNotWorse  DebtRatio  MonthlyIncome  \\\n",
       "0                                     2   0.802982         9120.0   \n",
       "1                                     0   0.121876         2600.0   \n",
       "2                                     1   0.085113         3042.0   \n",
       "3                                     0   0.036050         3300.0   \n",
       "4                                     1   0.024926        63588.0   \n",
       "\n",
       "   NumberOfOpenCreditLinesAndLoans  NumberOfTimes90DaysLate  \\\n",
       "0                               13                        0   \n",
       "1                                4                        0   \n",
       "2                                2                        1   \n",
       "3                                5                        0   \n",
       "4                                7                        0   \n",
       "\n",
       "   NumberRealEstateLoansOrLines  NumberOfTime60-89DaysPastDueNotWorse  \\\n",
       "0                             6                                     0   \n",
       "1                             0                                     0   \n",
       "2                             0                                     0   \n",
       "3                             0                                     0   \n",
       "4                             1                                     0   \n",
       "\n",
       "   NumberOfDependents  \n",
       "0                 2.0  \n",
       "1                 1.0  \n",
       "2                 0.0  \n",
       "3                 0.0  \n",
       "4                 0.0  "
      ]
     },
     "execution_count": 2,
     "metadata": {},
     "output_type": "execute_result"
    }
   ],
   "source": [
    "df_train = pd.read_csv(\"./input/cs-training.csv\")\n",
    "df_test = pd.read_csv(\"./input/cs-test.csv\")\n",
    "df_train.head()"
   ]
  },
  {
   "cell_type": "markdown",
   "id": "118a2772",
   "metadata": {
    "papermill": {
     "duration": 0.05413,
     "end_time": "2021-07-21T03:48:55.392109",
     "exception": false,
     "start_time": "2021-07-21T03:48:55.337979",
     "status": "completed"
    },
    "tags": []
   },
   "source": [
    "### 数据分析<a class=\"anchor\" id=\"1b\"></a>"
   ]
  },
  {
   "cell_type": "code",
   "execution_count": 3,
   "id": "b1a51254",
   "metadata": {
    "execution": {
     "iopub.execute_input": "2021-07-21T03:48:55.509993Z",
     "iopub.status.busy": "2021-07-21T03:48:55.509044Z",
     "iopub.status.idle": "2021-07-21T03:48:55.650970Z",
     "shell.execute_reply": "2021-07-21T03:48:55.650435Z",
     "shell.execute_reply.started": "2021-07-21T03:23:01.445842Z"
    },
    "papermill": {
     "duration": 0.204223,
     "end_time": "2021-07-21T03:48:55.651119",
     "exception": false,
     "start_time": "2021-07-21T03:48:55.446896",
     "status": "completed"
    },
    "tags": []
   },
   "outputs": [
    {
     "name": "stdout",
     "output_type": "stream",
     "text": [
      "False    150000\n",
      "dtype: int64\n",
      "False    101503\n",
      "dtype: int64\n"
     ]
    }
   ],
   "source": [
    "# 去重分析\n",
    "print(df_train.duplicated().value_counts())\n",
    "print(df_test.duplicated().value_counts())"
   ]
  },
  {
   "cell_type": "code",
   "execution_count": 4,
   "id": "0217ce2d",
   "metadata": {
    "execution": {
     "iopub.execute_input": "2021-07-21T03:48:55.764794Z",
     "iopub.status.busy": "2021-07-21T03:48:55.764169Z",
     "iopub.status.idle": "2021-07-21T03:48:55.860747Z",
     "shell.execute_reply": "2021-07-21T03:48:55.860166Z",
     "shell.execute_reply.started": "2021-07-21T03:23:32.542270Z"
    },
    "papermill": {
     "duration": 0.154473,
     "end_time": "2021-07-21T03:48:55.860903",
     "exception": false,
     "start_time": "2021-07-21T03:48:55.706430",
     "status": "completed"
    },
    "tags": []
   },
   "outputs": [
    {
     "data": {
      "text/html": [
       "<div>\n",
       "<style scoped>\n",
       "    .dataframe tbody tr th:only-of-type {\n",
       "        vertical-align: middle;\n",
       "    }\n",
       "\n",
       "    .dataframe tbody tr th {\n",
       "        vertical-align: top;\n",
       "    }\n",
       "\n",
       "    .dataframe thead th {\n",
       "        text-align: right;\n",
       "    }\n",
       "</style>\n",
       "<table border=\"1\" class=\"dataframe\">\n",
       "  <thead>\n",
       "    <tr style=\"text-align: right;\">\n",
       "      <th></th>\n",
       "      <th>Unnamed: 0</th>\n",
       "      <th>SeriousDlqin2yrs</th>\n",
       "      <th>RevolvingUtilizationOfUnsecuredLines</th>\n",
       "      <th>age</th>\n",
       "      <th>NumberOfTime30-59DaysPastDueNotWorse</th>\n",
       "      <th>DebtRatio</th>\n",
       "      <th>MonthlyIncome</th>\n",
       "      <th>NumberOfOpenCreditLinesAndLoans</th>\n",
       "      <th>NumberOfTimes90DaysLate</th>\n",
       "      <th>NumberRealEstateLoansOrLines</th>\n",
       "      <th>NumberOfTime60-89DaysPastDueNotWorse</th>\n",
       "      <th>NumberOfDependents</th>\n",
       "    </tr>\n",
       "  </thead>\n",
       "  <tbody>\n",
       "    <tr>\n",
       "      <th>count</th>\n",
       "      <td>150000.000000</td>\n",
       "      <td>150000.000000</td>\n",
       "      <td>150000.000000</td>\n",
       "      <td>150000.000000</td>\n",
       "      <td>150000.000000</td>\n",
       "      <td>150000.000000</td>\n",
       "      <td>1.202690e+05</td>\n",
       "      <td>150000.000000</td>\n",
       "      <td>150000.000000</td>\n",
       "      <td>150000.000000</td>\n",
       "      <td>150000.000000</td>\n",
       "      <td>146076.000000</td>\n",
       "    </tr>\n",
       "    <tr>\n",
       "      <th>mean</th>\n",
       "      <td>75000.500000</td>\n",
       "      <td>0.066840</td>\n",
       "      <td>6.048438</td>\n",
       "      <td>52.295207</td>\n",
       "      <td>0.421033</td>\n",
       "      <td>353.005076</td>\n",
       "      <td>6.670221e+03</td>\n",
       "      <td>8.452760</td>\n",
       "      <td>0.265973</td>\n",
       "      <td>1.018240</td>\n",
       "      <td>0.240387</td>\n",
       "      <td>0.757222</td>\n",
       "    </tr>\n",
       "    <tr>\n",
       "      <th>std</th>\n",
       "      <td>43301.414527</td>\n",
       "      <td>0.249746</td>\n",
       "      <td>249.755371</td>\n",
       "      <td>14.771866</td>\n",
       "      <td>4.192781</td>\n",
       "      <td>2037.818523</td>\n",
       "      <td>1.438467e+04</td>\n",
       "      <td>5.145951</td>\n",
       "      <td>4.169304</td>\n",
       "      <td>1.129771</td>\n",
       "      <td>4.155179</td>\n",
       "      <td>1.115086</td>\n",
       "    </tr>\n",
       "    <tr>\n",
       "      <th>min</th>\n",
       "      <td>1.000000</td>\n",
       "      <td>0.000000</td>\n",
       "      <td>0.000000</td>\n",
       "      <td>0.000000</td>\n",
       "      <td>0.000000</td>\n",
       "      <td>0.000000</td>\n",
       "      <td>0.000000e+00</td>\n",
       "      <td>0.000000</td>\n",
       "      <td>0.000000</td>\n",
       "      <td>0.000000</td>\n",
       "      <td>0.000000</td>\n",
       "      <td>0.000000</td>\n",
       "    </tr>\n",
       "    <tr>\n",
       "      <th>25%</th>\n",
       "      <td>37500.750000</td>\n",
       "      <td>0.000000</td>\n",
       "      <td>0.029867</td>\n",
       "      <td>41.000000</td>\n",
       "      <td>0.000000</td>\n",
       "      <td>0.175074</td>\n",
       "      <td>3.400000e+03</td>\n",
       "      <td>5.000000</td>\n",
       "      <td>0.000000</td>\n",
       "      <td>0.000000</td>\n",
       "      <td>0.000000</td>\n",
       "      <td>0.000000</td>\n",
       "    </tr>\n",
       "    <tr>\n",
       "      <th>50%</th>\n",
       "      <td>75000.500000</td>\n",
       "      <td>0.000000</td>\n",
       "      <td>0.154181</td>\n",
       "      <td>52.000000</td>\n",
       "      <td>0.000000</td>\n",
       "      <td>0.366508</td>\n",
       "      <td>5.400000e+03</td>\n",
       "      <td>8.000000</td>\n",
       "      <td>0.000000</td>\n",
       "      <td>1.000000</td>\n",
       "      <td>0.000000</td>\n",
       "      <td>0.000000</td>\n",
       "    </tr>\n",
       "    <tr>\n",
       "      <th>75%</th>\n",
       "      <td>112500.250000</td>\n",
       "      <td>0.000000</td>\n",
       "      <td>0.559046</td>\n",
       "      <td>63.000000</td>\n",
       "      <td>0.000000</td>\n",
       "      <td>0.868254</td>\n",
       "      <td>8.249000e+03</td>\n",
       "      <td>11.000000</td>\n",
       "      <td>0.000000</td>\n",
       "      <td>2.000000</td>\n",
       "      <td>0.000000</td>\n",
       "      <td>1.000000</td>\n",
       "    </tr>\n",
       "    <tr>\n",
       "      <th>max</th>\n",
       "      <td>150000.000000</td>\n",
       "      <td>1.000000</td>\n",
       "      <td>50708.000000</td>\n",
       "      <td>109.000000</td>\n",
       "      <td>98.000000</td>\n",
       "      <td>329664.000000</td>\n",
       "      <td>3.008750e+06</td>\n",
       "      <td>58.000000</td>\n",
       "      <td>98.000000</td>\n",
       "      <td>54.000000</td>\n",
       "      <td>98.000000</td>\n",
       "      <td>20.000000</td>\n",
       "    </tr>\n",
       "  </tbody>\n",
       "</table>\n",
       "</div>"
      ],
      "text/plain": [
       "          Unnamed: 0  SeriousDlqin2yrs  RevolvingUtilizationOfUnsecuredLines  \\\n",
       "count  150000.000000     150000.000000                         150000.000000   \n",
       "mean    75000.500000          0.066840                              6.048438   \n",
       "std     43301.414527          0.249746                            249.755371   \n",
       "min         1.000000          0.000000                              0.000000   \n",
       "25%     37500.750000          0.000000                              0.029867   \n",
       "50%     75000.500000          0.000000                              0.154181   \n",
       "75%    112500.250000          0.000000                              0.559046   \n",
       "max    150000.000000          1.000000                          50708.000000   \n",
       "\n",
       "                 age  NumberOfTime30-59DaysPastDueNotWorse      DebtRatio  \\\n",
       "count  150000.000000                         150000.000000  150000.000000   \n",
       "mean       52.295207                              0.421033     353.005076   \n",
       "std        14.771866                              4.192781    2037.818523   \n",
       "min         0.000000                              0.000000       0.000000   \n",
       "25%        41.000000                              0.000000       0.175074   \n",
       "50%        52.000000                              0.000000       0.366508   \n",
       "75%        63.000000                              0.000000       0.868254   \n",
       "max       109.000000                             98.000000  329664.000000   \n",
       "\n",
       "       MonthlyIncome  NumberOfOpenCreditLinesAndLoans  \\\n",
       "count   1.202690e+05                    150000.000000   \n",
       "mean    6.670221e+03                         8.452760   \n",
       "std     1.438467e+04                         5.145951   \n",
       "min     0.000000e+00                         0.000000   \n",
       "25%     3.400000e+03                         5.000000   \n",
       "50%     5.400000e+03                         8.000000   \n",
       "75%     8.249000e+03                        11.000000   \n",
       "max     3.008750e+06                        58.000000   \n",
       "\n",
       "       NumberOfTimes90DaysLate  NumberRealEstateLoansOrLines  \\\n",
       "count            150000.000000                 150000.000000   \n",
       "mean                  0.265973                      1.018240   \n",
       "std                   4.169304                      1.129771   \n",
       "min                   0.000000                      0.000000   \n",
       "25%                   0.000000                      0.000000   \n",
       "50%                   0.000000                      1.000000   \n",
       "75%                   0.000000                      2.000000   \n",
       "max                  98.000000                     54.000000   \n",
       "\n",
       "       NumberOfTime60-89DaysPastDueNotWorse  NumberOfDependents  \n",
       "count                         150000.000000       146076.000000  \n",
       "mean                               0.240387            0.757222  \n",
       "std                                4.155179            1.115086  \n",
       "min                                0.000000            0.000000  \n",
       "25%                                0.000000            0.000000  \n",
       "50%                                0.000000            0.000000  \n",
       "75%                                0.000000            1.000000  \n",
       "max                               98.000000           20.000000  "
      ]
     },
     "execution_count": 4,
     "metadata": {},
     "output_type": "execute_result"
    }
   ],
   "source": [
    "# 数据概览，分析异常值\n",
    "df_train.describe()"
   ]
  },
  {
   "cell_type": "code",
   "execution_count": 5,
   "id": "5d1ca524",
   "metadata": {
    "execution": {
     "iopub.execute_input": "2021-07-21T03:48:55.978320Z",
     "iopub.status.busy": "2021-07-21T03:48:55.977755Z",
     "iopub.status.idle": "2021-07-21T03:48:55.991721Z",
     "shell.execute_reply": "2021-07-21T03:48:55.992477Z",
     "shell.execute_reply.started": "2021-07-21T03:24:24.728772Z"
    },
    "papermill": {
     "duration": 0.075084,
     "end_time": "2021-07-21T03:48:55.992707",
     "exception": false,
     "start_time": "2021-07-21T03:48:55.917623",
     "status": "completed"
    },
    "tags": []
   },
   "outputs": [
    {
     "name": "stdout",
     "output_type": "stream",
     "text": [
      "<class 'pandas.core.frame.DataFrame'>\n",
      "RangeIndex: 150000 entries, 0 to 149999\n",
      "Data columns (total 12 columns):\n",
      " #   Column                                Non-Null Count   Dtype  \n",
      "---  ------                                --------------   -----  \n",
      " 0   Unnamed: 0                            150000 non-null  int64  \n",
      " 1   SeriousDlqin2yrs                      150000 non-null  int64  \n",
      " 2   RevolvingUtilizationOfUnsecuredLines  150000 non-null  float64\n",
      " 3   age                                   150000 non-null  int64  \n",
      " 4   NumberOfTime30-59DaysPastDueNotWorse  150000 non-null  int64  \n",
      " 5   DebtRatio                             150000 non-null  float64\n",
      " 6   MonthlyIncome                         120269 non-null  float64\n",
      " 7   NumberOfOpenCreditLinesAndLoans       150000 non-null  int64  \n",
      " 8   NumberOfTimes90DaysLate               150000 non-null  int64  \n",
      " 9   NumberRealEstateLoansOrLines          150000 non-null  int64  \n",
      " 10  NumberOfTime60-89DaysPastDueNotWorse  150000 non-null  int64  \n",
      " 11  NumberOfDependents                    146076 non-null  float64\n",
      "dtypes: float64(4), int64(8)\n",
      "memory usage: 13.7 MB\n"
     ]
    }
   ],
   "source": [
    "df_train.info()"
   ]
  },
  {
   "cell_type": "markdown",
   "id": "a8d682d0",
   "metadata": {
    "papermill": {
     "duration": 0.055275,
     "end_time": "2021-07-21T03:48:56.105105",
     "exception": false,
     "start_time": "2021-07-21T03:48:56.049830",
     "status": "completed"
    },
    "tags": []
   },
   "source": [
    "#### 初步分析结论\n",
    "从上面的数据描述信息可以看出：\n",
    "- 年龄 age 存在异常数据，最小值为0，最大值为109\n",
    "- RevolvingUtilizationOfUnsecuredLines 应为0-1之间，最大值为50708，可能含有异常值\n",
    "- NumberOfTime30-59DaysPastDueNotWorse、NumberOfTimes90DaysLate、NumberOfTime60-89DaysPastDueNotWorse 三个指标的最大值均为98，需要探查一下\n",
    "- MonthlyIncome 和 NumberOfDependents 含有缺失值，缺失值的比例分别为 19.82% 和 2.62%"
   ]
  },
  {
   "cell_type": "markdown",
   "id": "196ed1a1",
   "metadata": {
    "papermill": {
     "duration": 0.056889,
     "end_time": "2021-07-21T03:48:56.217766",
     "exception": false,
     "start_time": "2021-07-21T03:48:56.160877",
     "status": "completed"
    },
    "tags": []
   },
   "source": [
    "## EDA<a class=\"anchor\" id=\"3\"></a>"
   ]
  },
  {
   "cell_type": "markdown",
   "id": "8ef54a2a",
   "metadata": {
    "papermill": {
     "duration": 0.055719,
     "end_time": "2021-07-21T03:48:56.329704",
     "exception": false,
     "start_time": "2021-07-21T03:48:56.273985",
     "status": "completed"
    },
    "tags": []
   },
   "source": [
    "好坏样本占比，约有6%的样本违约，数据不平衡需处理"
   ]
  },
  {
   "cell_type": "code",
   "execution_count": 6,
   "id": "9aa68935",
   "metadata": {
    "execution": {
     "iopub.execute_input": "2021-07-21T03:48:56.444706Z",
     "iopub.status.busy": "2021-07-21T03:48:56.443823Z",
     "iopub.status.idle": "2021-07-21T03:48:56.600239Z",
     "shell.execute_reply": "2021-07-21T03:48:56.600727Z",
     "shell.execute_reply.started": "2021-07-21T03:26:20.138158Z"
    },
    "papermill": {
     "duration": 0.215238,
     "end_time": "2021-07-21T03:48:56.600949",
     "exception": false,
     "start_time": "2021-07-21T03:48:56.385711",
     "status": "completed"
    },
    "tags": []
   },
   "outputs": [
    {
     "name": "stdout",
     "output_type": "stream",
     "text": [
      "Default Rate: 6.68%\n"
     ]
    },
    {
     "data": {
      "image/png": "[encoded data removed]",
      "text/plain": [
       "<Figure size 432x288 with 1 Axes>"
      ]
     },
     "metadata": {
      "needs_background": "light"
     },
     "output_type": "display_data"
    }
   ],
   "source": [
    "sns.countplot(x=\"SeriousDlqin2yrs\", data=df_train)\n",
    "print(\"Default Rate: {}%\".format(round(df_train[\"SeriousDlqin2yrs\"].sum()*100 / len(df_train), 2)))"
   ]
  },
  {
   "cell_type": "markdown",
   "id": "dcf435f8",
   "metadata": {
    "papermill": {
     "duration": 0.058386,
     "end_time": "2021-07-21T03:48:56.718003",
     "exception": false,
     "start_time": "2021-07-21T03:48:56.659617",
     "status": "completed"
    },
    "tags": []
   },
   "source": [
    "### age 年龄<a class=\"anchor\" id=\"2a\"></a>"
   ]
  },
  {
   "cell_type": "code",
   "execution_count": 7,
   "id": "ff2e94ac",
   "metadata": {
    "execution": {
     "iopub.execute_input": "2021-07-21T03:48:56.873454Z",
     "iopub.status.busy": "2021-07-21T03:48:56.859968Z",
     "iopub.status.idle": "2021-07-21T03:48:58.185431Z",
     "shell.execute_reply": "2021-07-21T03:48:58.184522Z",
     "shell.execute_reply.started": "2021-07-21T03:28:52.714718Z"
    },
    "papermill": {
     "duration": 1.410287,
     "end_time": "2021-07-21T03:48:58.185597",
     "exception": false,
     "start_time": "2021-07-21T03:48:56.775310",
     "status": "completed"
    },
    "tags": []
   },
   "outputs": [
    {
     "name": "stderr",
     "output_type": "stream",
     "text": [
      "/opt/conda/lib/python3.7/site-packages/seaborn/distributions.py:2557: FutureWarning: `distplot` is a deprecated function and will be removed in a future version. Please adapt your code to use either `displot` (a figure-level function with similar flexibility) or `histplot` (an axes-level function for histograms).\n",
      "  warnings.warn(msg, FutureWarning)\n"
     ]
    },
    {
     "data": {
      "text/plain": [
       "<AxesSubplot:ylabel='age'>"
      ]
     },
     "execution_count": 7,
     "metadata": {},
     "output_type": "execute_result"
    },
    {
     "data": {
      "image/png": "[encoded data removed]",
      "text/plain": [
       "<Figure size 1440x432 with 2 Axes>"
      ]
     },
     "metadata": {
      "needs_background": "light"
     },
     "output_type": "display_data"
    }
   ],
   "source": [
    "# 年龄分布情况\n",
    "fig,[ax1,ax2]=plt.subplots(1,2,figsize=(20,6))\n",
    "sns.distplot(df_train['age'],ax=ax1)\n",
    "sns.boxplot(y='age',data=df_train,ax=ax2)"
   ]
  },
  {
   "cell_type": "markdown",
   "id": "76f0fb82",
   "metadata": {
    "papermill": {
     "duration": 0.058151,
     "end_time": "2021-07-21T03:48:58.301825",
     "exception": false,
     "start_time": "2021-07-21T03:48:58.243674",
     "status": "completed"
    },
    "tags": []
   },
   "source": [
    "从以上分布来看，age的分布基本符合正态分布，用3倍标准差来筛选异常值"
   ]
  },
  {
   "cell_type": "code",
   "execution_count": 8,
   "id": "f9870360",
   "metadata": {
    "execution": {
     "iopub.execute_input": "2021-07-21T03:48:58.422395Z",
     "iopub.status.busy": "2021-07-21T03:48:58.421389Z",
     "iopub.status.idle": "2021-07-21T03:48:58.427415Z",
     "shell.execute_reply": "2021-07-21T03:48:58.427958Z",
     "shell.execute_reply.started": "2021-07-21T03:29:37.149129Z"
    },
    "papermill": {
     "duration": 0.068397,
     "end_time": "2021-07-21T03:48:58.428134",
     "exception": false,
     "start_time": "2021-07-21T03:48:58.359737",
     "status": "completed"
    },
    "tags": []
   },
   "outputs": [
    {
     "name": "stdout",
     "output_type": "stream",
     "text": [
      "年龄下限设为：7.979609077364238，年龄上限为：96.6108042559691\n"
     ]
    }
   ],
   "source": [
    "age_down = df_train['age'].mean() - 3 * df_train['age'].std()\n",
    "age_up = df_train['age'].mean() + 3 * df_train['age'].std()\n",
    "print(\"年龄下限设为：{}，年龄上限为：{}\".format(age_down, age_up))"
   ]
  },
  {
   "cell_type": "code",
   "execution_count": 9,
   "id": "46814f2b",
   "metadata": {
    "execution": {
     "iopub.execute_input": "2021-07-21T03:48:58.553387Z",
     "iopub.status.busy": "2021-07-21T03:48:58.552744Z",
     "iopub.status.idle": "2021-07-21T03:48:58.561420Z",
     "shell.execute_reply": "2021-07-21T03:48:58.561964Z",
     "shell.execute_reply.started": "2021-07-21T03:29:48.628308Z"
    },
    "papermill": {
     "duration": 0.074341,
     "end_time": "2021-07-21T03:48:58.562147",
     "exception": false,
     "start_time": "2021-07-21T03:48:58.487806",
     "status": "completed"
    },
    "tags": []
   },
   "outputs": [
    {
     "name": "stdout",
     "output_type": "stream",
     "text": [
      "小于异常下限比例：0.0006666666666666666%\n",
      "大于异常上限比例：0.03%\n"
     ]
    }
   ],
   "source": [
    "# 查询年龄异常数据比例\n",
    "df_agedown = df_train.loc[df_train['age']<age_down,:]\n",
    "df_ageup = df_train.loc[df_train['age']>age_up,:]\n",
    "print(\"小于异常下限比例：{}%\".format(df_agedown.shape[0]*100/df_train.shape[0]))\n",
    "print(\"大于异常上限比例：{}%\".format(df_ageup.shape[0]*100/df_train.shape[0]))"
   ]
  },
  {
   "cell_type": "code",
   "execution_count": 10,
   "id": "960fcfa7",
   "metadata": {
    "execution": {
     "iopub.execute_input": "2021-07-21T03:48:58.681715Z",
     "iopub.status.busy": "2021-07-21T03:48:58.681144Z",
     "iopub.status.idle": "2021-07-21T03:48:58.686215Z",
     "shell.execute_reply": "2021-07-21T03:48:58.686788Z",
     "shell.execute_reply.started": "2021-07-21T03:30:13.304367Z"
    },
    "papermill": {
     "duration": 0.066123,
     "end_time": "2021-07-21T03:48:58.686953",
     "exception": false,
     "start_time": "2021-07-21T03:48:58.620830",
     "status": "completed"
    },
    "tags": []
   },
   "outputs": [
    {
     "name": "stdout",
     "output_type": "stream",
     "text": [
      "(1, 12) (45, 12)\n"
     ]
    }
   ],
   "source": [
    "print(df_agedown.shape, df_ageup.shape)"
   ]
  },
  {
   "cell_type": "code",
   "execution_count": 11,
   "id": "694118ec",
   "metadata": {
    "execution": {
     "iopub.execute_input": "2021-07-21T03:48:58.808469Z",
     "iopub.status.busy": "2021-07-21T03:48:58.807930Z",
     "iopub.status.idle": "2021-07-21T03:48:58.820714Z",
     "shell.execute_reply": "2021-07-21T03:48:58.820244Z",
     "shell.execute_reply.started": "2021-07-21T03:30:23.791718Z"
    },
    "papermill": {
     "duration": 0.073755,
     "end_time": "2021-07-21T03:48:58.820852",
     "exception": false,
     "start_time": "2021-07-21T03:48:58.747097",
     "status": "completed"
    },
    "tags": []
   },
   "outputs": [
    {
     "data": {
      "text/html": [
       "<div>\n",
       "<style scoped>\n",
       "    .dataframe tbody tr th:only-of-type {\n",
       "        vertical-align: middle;\n",
       "    }\n",
       "\n",
       "    .dataframe tbody tr th {\n",
       "        vertical-align: top;\n",
       "    }\n",
       "\n",
       "    .dataframe thead th {\n",
       "        text-align: right;\n",
       "    }\n",
       "</style>\n",
       "<table border=\"1\" class=\"dataframe\">\n",
       "  <thead>\n",
       "    <tr style=\"text-align: right;\">\n",
       "      <th></th>\n",
       "      <th>Unnamed: 0</th>\n",
       "      <th>SeriousDlqin2yrs</th>\n",
       "      <th>RevolvingUtilizationOfUnsecuredLines</th>\n",
       "      <th>age</th>\n",
       "      <th>NumberOfTime30-59DaysPastDueNotWorse</th>\n",
       "      <th>DebtRatio</th>\n",
       "      <th>MonthlyIncome</th>\n",
       "      <th>NumberOfOpenCreditLinesAndLoans</th>\n",
       "      <th>NumberOfTimes90DaysLate</th>\n",
       "      <th>NumberRealEstateLoansOrLines</th>\n",
       "      <th>NumberOfTime60-89DaysPastDueNotWorse</th>\n",
       "      <th>NumberOfDependents</th>\n",
       "    </tr>\n",
       "  </thead>\n",
       "  <tbody>\n",
       "    <tr>\n",
       "      <th>65695</th>\n",
       "      <td>65696</td>\n",
       "      <td>0</td>\n",
       "      <td>1.0</td>\n",
       "      <td>0</td>\n",
       "      <td>1</td>\n",
       "      <td>0.436927</td>\n",
       "      <td>6000.0</td>\n",
       "      <td>6</td>\n",
       "      <td>0</td>\n",
       "      <td>2</td>\n",
       "      <td>0</td>\n",
       "      <td>2.0</td>\n",
       "    </tr>\n",
       "  </tbody>\n",
       "</table>\n",
       "</div>"
      ],
      "text/plain": [
       "       Unnamed: 0  SeriousDlqin2yrs  RevolvingUtilizationOfUnsecuredLines  \\\n",
       "65695       65696                 0                                   1.0   \n",
       "\n",
       "       age  NumberOfTime30-59DaysPastDueNotWorse  DebtRatio  MonthlyIncome  \\\n",
       "65695    0                                     1   0.436927         6000.0   \n",
       "\n",
       "       NumberOfOpenCreditLinesAndLoans  NumberOfTimes90DaysLate  \\\n",
       "65695                                6                        0   \n",
       "\n",
       "       NumberRealEstateLoansOrLines  NumberOfTime60-89DaysPastDueNotWorse  \\\n",
       "65695                             2                                     0   \n",
       "\n",
       "       NumberOfDependents  \n",
       "65695                 2.0  "
      ]
     },
     "execution_count": 11,
     "metadata": {},
     "output_type": "execute_result"
    }
   ],
   "source": [
    "df_agedown"
   ]
  },
  {
   "cell_type": "code",
   "execution_count": 12,
   "id": "0ddc9427",
   "metadata": {
    "execution": {
     "iopub.execute_input": "2021-07-21T03:48:58.955201Z",
     "iopub.status.busy": "2021-07-21T03:48:58.954494Z",
     "iopub.status.idle": "2021-07-21T03:48:58.957419Z",
     "shell.execute_reply": "2021-07-21T03:48:58.957891Z",
     "shell.execute_reply.started": "2021-07-21T03:30:43.712846Z"
    },
    "papermill": {
     "duration": 0.07709,
     "end_time": "2021-07-21T03:48:58.958072",
     "exception": false,
     "start_time": "2021-07-21T03:48:58.880982",
     "status": "completed"
    },
    "tags": []
   },
   "outputs": [
    {
     "data": {
      "text/html": [
       "<div>\n",
       "<style scoped>\n",
       "    .dataframe tbody tr th:only-of-type {\n",
       "        vertical-align: middle;\n",
       "    }\n",
       "\n",
       "    .dataframe tbody tr th {\n",
       "        vertical-align: top;\n",
       "    }\n",
       "\n",
       "    .dataframe thead th {\n",
       "        text-align: right;\n",
       "    }\n",
       "</style>\n",
       "<table border=\"1\" class=\"dataframe\">\n",
       "  <thead>\n",
       "    <tr style=\"text-align: right;\">\n",
       "      <th></th>\n",
       "      <th>Unnamed: 0</th>\n",
       "      <th>SeriousDlqin2yrs</th>\n",
       "      <th>RevolvingUtilizationOfUnsecuredLines</th>\n",
       "      <th>age</th>\n",
       "      <th>NumberOfTime30-59DaysPastDueNotWorse</th>\n",
       "      <th>DebtRatio</th>\n",
       "      <th>MonthlyIncome</th>\n",
       "      <th>NumberOfOpenCreditLinesAndLoans</th>\n",
       "      <th>NumberOfTimes90DaysLate</th>\n",
       "      <th>NumberRealEstateLoansOrLines</th>\n",
       "      <th>NumberOfTime60-89DaysPastDueNotWorse</th>\n",
       "      <th>NumberOfDependents</th>\n",
       "    </tr>\n",
       "  </thead>\n",
       "  <tbody>\n",
       "    <tr>\n",
       "      <th>436</th>\n",
       "      <td>437</td>\n",
       "      <td>0</td>\n",
       "      <td>0.007000</td>\n",
       "      <td>97</td>\n",
       "      <td>0</td>\n",
       "      <td>3.000000</td>\n",
       "      <td>NaN</td>\n",
       "      <td>2</td>\n",
       "      <td>0</td>\n",
       "      <td>0</td>\n",
       "      <td>0</td>\n",
       "      <td>NaN</td>\n",
       "    </tr>\n",
       "    <tr>\n",
       "      <th>2922</th>\n",
       "      <td>2923</td>\n",
       "      <td>0</td>\n",
       "      <td>0.005043</td>\n",
       "      <td>99</td>\n",
       "      <td>0</td>\n",
       "      <td>800.000000</td>\n",
       "      <td>NaN</td>\n",
       "      <td>5</td>\n",
       "      <td>0</td>\n",
       "      <td>0</td>\n",
       "      <td>0</td>\n",
       "      <td>NaN</td>\n",
       "    </tr>\n",
       "    <tr>\n",
       "      <th>7763</th>\n",
       "      <td>7764</td>\n",
       "      <td>0</td>\n",
       "      <td>0.069167</td>\n",
       "      <td>101</td>\n",
       "      <td>0</td>\n",
       "      <td>50.000000</td>\n",
       "      <td>NaN</td>\n",
       "      <td>2</td>\n",
       "      <td>0</td>\n",
       "      <td>0</td>\n",
       "      <td>0</td>\n",
       "      <td>0.0</td>\n",
       "    </tr>\n",
       "    <tr>\n",
       "      <th>9359</th>\n",
       "      <td>9360</td>\n",
       "      <td>0</td>\n",
       "      <td>0.000000</td>\n",
       "      <td>97</td>\n",
       "      <td>0</td>\n",
       "      <td>0.000000</td>\n",
       "      <td>0.0</td>\n",
       "      <td>3</td>\n",
       "      <td>0</td>\n",
       "      <td>0</td>\n",
       "      <td>0</td>\n",
       "      <td>0.0</td>\n",
       "    </tr>\n",
       "    <tr>\n",
       "      <th>9870</th>\n",
       "      <td>9871</td>\n",
       "      <td>0</td>\n",
       "      <td>0.012737</td>\n",
       "      <td>98</td>\n",
       "      <td>0</td>\n",
       "      <td>0.006503</td>\n",
       "      <td>2152.0</td>\n",
       "      <td>6</td>\n",
       "      <td>0</td>\n",
       "      <td>0</td>\n",
       "      <td>0</td>\n",
       "      <td>0.0</td>\n",
       "    </tr>\n",
       "  </tbody>\n",
       "</table>\n",
       "</div>"
      ],
      "text/plain": [
       "      Unnamed: 0  SeriousDlqin2yrs  RevolvingUtilizationOfUnsecuredLines  age  \\\n",
       "436          437                 0                              0.007000   97   \n",
       "2922        2923                 0                              0.005043   99   \n",
       "7763        7764                 0                              0.069167  101   \n",
       "9359        9360                 0                              0.000000   97   \n",
       "9870        9871                 0                              0.012737   98   \n",
       "\n",
       "      NumberOfTime30-59DaysPastDueNotWorse   DebtRatio  MonthlyIncome  \\\n",
       "436                                      0    3.000000            NaN   \n",
       "2922                                     0  800.000000            NaN   \n",
       "7763                                     0   50.000000            NaN   \n",
       "9359                                     0    0.000000            0.0   \n",
       "9870                                     0    0.006503         2152.0   \n",
       "\n",
       "      NumberOfOpenCreditLinesAndLoans  NumberOfTimes90DaysLate  \\\n",
       "436                                 2                        0   \n",
       "2922                                5                        0   \n",
       "7763                                2                        0   \n",
       "9359                                3                        0   \n",
       "9870                                6                        0   \n",
       "\n",
       "      NumberRealEstateLoansOrLines  NumberOfTime60-89DaysPastDueNotWorse  \\\n",
       "436                              0                                     0   \n",
       "2922                             0                                     0   \n",
       "7763                             0                                     0   \n",
       "9359                             0                                     0   \n",
       "9870                             0                                     0   \n",
       "\n",
       "      NumberOfDependents  \n",
       "436                  NaN  \n",
       "2922                 NaN  \n",
       "7763                 0.0  \n",
       "9359                 0.0  \n",
       "9870                 0.0  "
      ]
     },
     "execution_count": 12,
     "metadata": {},
     "output_type": "execute_result"
    }
   ],
   "source": [
    "df_ageup.head()"
   ]
  },
  {
   "cell_type": "markdown",
   "id": "9b2f6771",
   "metadata": {
    "papermill": {
     "duration": 0.06038,
     "end_time": "2021-07-21T03:48:59.078342",
     "exception": false,
     "start_time": "2021-07-21T03:48:59.017962",
     "status": "completed"
    },
    "tags": []
   },
   "source": [
    "只有一条数据小于年龄异常下限，该数据年龄为0，可以删除处理。年龄超出上限有45条，存在噪声\n",
    "\n",
    "对年龄做分组查看："
   ]
  },
  {
   "cell_type": "code",
   "execution_count": 13,
   "id": "1c8d2966",
   "metadata": {
    "execution": {
     "iopub.execute_input": "2021-07-21T03:48:59.205275Z",
     "iopub.status.busy": "2021-07-21T03:48:59.204656Z",
     "iopub.status.idle": "2021-07-21T03:48:59.375782Z",
     "shell.execute_reply": "2021-07-21T03:48:59.375313Z",
     "shell.execute_reply.started": "2021-07-21T03:31:03.156571Z"
    },
    "papermill": {
     "duration": 0.237399,
     "end_time": "2021-07-21T03:48:59.375919",
     "exception": false,
     "start_time": "2021-07-21T03:48:59.138520",
     "status": "completed"
    },
    "tags": []
   },
   "outputs": [
    {
     "data": {
      "text/plain": [
       "<AxesSubplot:xlabel='age'>"
      ]
     },
     "execution_count": 13,
     "metadata": {},
     "output_type": "execute_result"
    },
    {
     "data": {
      "image/png": "[encoded data removed]",
      "text/plain": [
       "<Figure size 432x288 with 1 Axes>"
      ]
     },
     "metadata": {
      "needs_background": "light"
     },
     "output_type": "display_data"
    }
   ],
   "source": [
    "df_age = df_train.loc[df_train['age'] > 0, ['age', 'SeriousDlqin2yrs']] # age=0不考虑\n",
    "df_age.loc[(df_age['age']>18) & (df_age['age']<40), 'age'] = 1\n",
    "df_age.loc[(df_age['age']>=40) & (df_age['age']<60), 'age'] = 2\n",
    "df_age.loc[(df_age['age']>=60) & (df_age['age']<80), 'age'] = 3\n",
    "df_age.loc[(df_age['age']>=80), 'age'] = 4\n",
    "\n",
    "label_by_age_group = df_age.groupby('age')['SeriousDlqin2yrs'].sum()\n",
    "count_by_age_group = df_age.groupby('age')['SeriousDlqin2yrs'].count()\n",
    "ratio_by_age_group = label_by_age_group / count_by_age_group\n",
    "\n",
    "ratio_by_age_group.plot(kind='bar')"
   ]
  },
  {
   "cell_type": "markdown",
   "id": "ea6d3a82",
   "metadata": {
    "papermill": {
     "duration": 0.059808,
     "end_time": "2021-07-21T03:48:59.495702",
     "exception": false,
     "start_time": "2021-07-21T03:48:59.435894",
     "status": "completed"
    },
    "tags": []
   },
   "source": [
    "可以看出违约率随着年龄增长而下降，符合预期"
   ]
  },
  {
   "cell_type": "markdown",
   "id": "6e72a773",
   "metadata": {
    "papermill": {
     "duration": 0.060222,
     "end_time": "2021-07-21T03:48:59.615904",
     "exception": false,
     "start_time": "2021-07-21T03:48:59.555682",
     "status": "completed"
    },
    "tags": []
   },
   "source": [
    "### RevolvingUtilizationOfUnsecuredLines 无担保额度的循环使用情况<a class=\"anchor\" id=\"2b\"></a>\n",
    "\n",
    "该指标为信用卡和个人信贷额度的总余额，除了房地产和没有分期付款的债务如汽车贷款，除以信贷限额的总和。"
   ]
  },
  {
   "cell_type": "code",
   "execution_count": 14,
   "id": "8fdff0af",
   "metadata": {
    "execution": {
     "iopub.execute_input": "2021-07-21T03:48:59.742081Z",
     "iopub.status.busy": "2021-07-21T03:48:59.741129Z",
     "iopub.status.idle": "2021-07-21T03:48:59.755155Z",
     "shell.execute_reply": "2021-07-21T03:48:59.754549Z",
     "shell.execute_reply.started": "2021-07-21T03:31:47.393015Z"
    },
    "papermill": {
     "duration": 0.079262,
     "end_time": "2021-07-21T03:48:59.755287",
     "exception": false,
     "start_time": "2021-07-21T03:48:59.676025",
     "status": "completed"
    },
    "tags": []
   },
   "outputs": [
    {
     "data": {
      "text/plain": [
       "count    150000.000000\n",
       "mean          6.048438\n",
       "std         249.755371\n",
       "min           0.000000\n",
       "25%           0.029867\n",
       "50%           0.154181\n",
       "75%           0.559046\n",
       "max       50708.000000\n",
       "Name: RevolvingUtilizationOfUnsecuredLines, dtype: float64"
      ]
     },
     "execution_count": 14,
     "metadata": {},
     "output_type": "execute_result"
    }
   ],
   "source": [
    "df_train[\"RevolvingUtilizationOfUnsecuredLines\"].describe()"
   ]
  },
  {
   "cell_type": "markdown",
   "id": "e0dbed94",
   "metadata": {
    "papermill": {
     "duration": 0.060916,
     "end_time": "2021-07-21T03:48:59.877798",
     "exception": false,
     "start_time": "2021-07-21T03:48:59.816882",
     "status": "completed"
    },
    "tags": []
   },
   "source": [
    "理论上为0到1之间的值，但是这里出现了很大的数字，大于1表示透支，有不少数据超过了10000"
   ]
  },
  {
   "cell_type": "code",
   "execution_count": 15,
   "id": "da8312a8",
   "metadata": {
    "execution": {
     "iopub.execute_input": "2021-07-21T03:49:00.130661Z",
     "iopub.status.busy": "2021-07-21T03:49:00.114379Z",
     "iopub.status.idle": "2021-07-21T03:49:00.798989Z",
     "shell.execute_reply": "2021-07-21T03:49:00.798421Z",
     "shell.execute_reply.started": "2021-07-21T03:32:04.528192Z"
    },
    "papermill": {
     "duration": 0.860296,
     "end_time": "2021-07-21T03:49:00.799118",
     "exception": false,
     "start_time": "2021-07-21T03:48:59.938822",
     "status": "completed"
    },
    "tags": []
   },
   "outputs": [
    {
     "data": {
      "image/png": "[encoded data removed]",
      "text/plain": [
       "<Figure size 576x432 with 1 Axes>"
      ]
     },
     "metadata": {
      "needs_background": "light"
     },
     "output_type": "display_data"
    }
   ],
   "source": [
    "# 用散点图看一下\n",
    "plt.figure(figsize=(8,6))\n",
    "plt.scatter(df_train['RevolvingUtilizationOfUnsecuredLines'], df_train['age'])\n",
    "plt.grid()"
   ]
  },
  {
   "cell_type": "code",
   "execution_count": 16,
   "id": "e99f2ecb",
   "metadata": {
    "execution": {
     "iopub.execute_input": "2021-07-21T03:49:00.929438Z",
     "iopub.status.busy": "2021-07-21T03:49:00.928520Z",
     "iopub.status.idle": "2021-07-21T03:49:00.937686Z",
     "shell.execute_reply": "2021-07-21T03:49:00.938161Z",
     "shell.execute_reply.started": "2021-07-21T03:32:20.797008Z"
    },
    "papermill": {
     "duration": 0.076892,
     "end_time": "2021-07-21T03:49:00.938328",
     "exception": false,
     "start_time": "2021-07-21T03:49:00.861436",
     "status": "completed"
    },
    "tags": []
   },
   "outputs": [
    {
     "name": "stdout",
     "output_type": "stream",
     "text": [
      "异常值下限值： -0.7639007662499999 异常值上限值： 1.35281445575\n"
     ]
    }
   ],
   "source": [
    "# 四分位距查看异常值\n",
    "percent_25 = np.percentile(df_train['RevolvingUtilizationOfUnsecuredLines'], 25)\n",
    "percent_75 = np.percentile(df_train['RevolvingUtilizationOfUnsecuredLines'], 75)\n",
    "revol_down = percent_25 - 1.5*(percent_75 - percent_25)\n",
    "revol_up = percent_75 + 1.5*(percent_75 - percent_25)\n",
    "print('异常值下限值：', revol_down, '异常值上限值：', revol_up)"
   ]
  },
  {
   "cell_type": "code",
   "execution_count": 17,
   "id": "8621524a",
   "metadata": {
    "execution": {
     "iopub.execute_input": "2021-07-21T03:49:01.070227Z",
     "iopub.status.busy": "2021-07-21T03:49:01.069582Z",
     "iopub.status.idle": "2021-07-21T03:49:02.143588Z",
     "shell.execute_reply": "2021-07-21T03:49:02.142943Z",
     "shell.execute_reply.started": "2021-07-21T03:32:30.712854Z"
    },
    "papermill": {
     "duration": 1.14386,
     "end_time": "2021-07-21T03:49:02.143724",
     "exception": false,
     "start_time": "2021-07-21T03:49:00.999864",
     "status": "completed"
    },
    "tags": []
   },
   "outputs": [
    {
     "name": "stderr",
     "output_type": "stream",
     "text": [
      "/opt/conda/lib/python3.7/site-packages/seaborn/distributions.py:2557: FutureWarning: `distplot` is a deprecated function and will be removed in a future version. Please adapt your code to use either `displot` (a figure-level function with similar flexibility) or `histplot` (an axes-level function for histograms).\n",
      "  warnings.warn(msg, FutureWarning)\n",
      "/opt/conda/lib/python3.7/site-packages/seaborn/distributions.py:2557: FutureWarning: `distplot` is a deprecated function and will be removed in a future version. Please adapt your code to use either `displot` (a figure-level function with similar flexibility) or `histplot` (an axes-level function for histograms).\n",
      "  warnings.warn(msg, FutureWarning)\n"
     ]
    },
    {
     "data": {
      "text/plain": [
       "<AxesSubplot:xlabel='RevolvingUtilizationOfUnsecuredLines', ylabel='Density'>"
      ]
     },
     "execution_count": 17,
     "metadata": {},
     "output_type": "execute_result"
    },
    {
     "data": {
      "image/png": "[encoded data removed]",
      "text/plain": [
       "<Figure size 1440x432 with 2 Axes>"
      ]
     },
     "metadata": {
      "needs_background": "light"
     },
     "output_type": "display_data"
    }
   ],
   "source": [
    "#将数据分为两部分，小于1和大于1的部分\n",
    "data1 = df_train.loc[df_train['RevolvingUtilizationOfUnsecuredLines']<1,:]\n",
    "data2 = df_train.loc[df_train['RevolvingUtilizationOfUnsecuredLines']>=1,:]\n",
    "\n",
    "#看一下两部分数据分布情况\n",
    "fig=plt.figure(figsize=(20,6))\n",
    "ax1=fig.add_subplot(1,2,1)\n",
    "ax2=fig.add_subplot(1,2,2)\n",
    "sns.distplot(data1['RevolvingUtilizationOfUnsecuredLines'],ax=ax1,bins=10)\n",
    "sns.distplot(data2['RevolvingUtilizationOfUnsecuredLines'],ax=ax2,bins=10)"
   ]
  },
  {
   "cell_type": "code",
   "execution_count": 18,
   "id": "a74a13ad",
   "metadata": {
    "execution": {
     "iopub.execute_input": "2021-07-21T03:49:02.283033Z",
     "iopub.status.busy": "2021-07-21T03:49:02.277639Z",
     "iopub.status.idle": "2021-07-21T03:49:03.091918Z",
     "shell.execute_reply": "2021-07-21T03:49:03.092348Z",
     "shell.execute_reply.started": "2021-07-21T03:32:41.547487Z"
    },
    "papermill": {
     "duration": 0.885389,
     "end_time": "2021-07-21T03:49:03.092521",
     "exception": false,
     "start_time": "2021-07-21T03:49:02.207132",
     "status": "completed"
    },
    "tags": []
   },
   "outputs": [
    {
     "name": "stderr",
     "output_type": "stream",
     "text": [
      "/opt/conda/lib/python3.7/site-packages/seaborn/distributions.py:2557: FutureWarning: `distplot` is a deprecated function and will be removed in a future version. Please adapt your code to use either `displot` (a figure-level function with similar flexibility) or `histplot` (an axes-level function for histograms).\n",
      "  warnings.warn(msg, FutureWarning)\n",
      "/opt/conda/lib/python3.7/site-packages/seaborn/distributions.py:2557: FutureWarning: `distplot` is a deprecated function and will be removed in a future version. Please adapt your code to use either `displot` (a figure-level function with similar flexibility) or `histplot` (an axes-level function for histograms).\n",
      "  warnings.warn(msg, FutureWarning)\n",
      "/opt/conda/lib/python3.7/site-packages/seaborn/distributions.py:2557: FutureWarning: `distplot` is a deprecated function and will be removed in a future version. Please adapt your code to use either `displot` (a figure-level function with similar flexibility) or `histplot` (an axes-level function for histograms).\n",
      "  warnings.warn(msg, FutureWarning)\n",
      "/opt/conda/lib/python3.7/site-packages/seaborn/distributions.py:2557: FutureWarning: `distplot` is a deprecated function and will be removed in a future version. Please adapt your code to use either `displot` (a figure-level function with similar flexibility) or `histplot` (an axes-level function for histograms).\n",
      "  warnings.warn(msg, FutureWarning)\n"
     ]
    },
    {
     "data": {
      "text/plain": [
       "<AxesSubplot:xlabel='RevolvingUtilizationOfUnsecuredLines', ylabel='Density'>"
      ]
     },
     "execution_count": 18,
     "metadata": {},
     "output_type": "execute_result"
    },
    {
     "data": {
      "image/png": "[encoded data removed]",
      "text/plain": [
       "<Figure size 1440x720 with 4 Axes>"
      ]
     },
     "metadata": {
      "needs_background": "light"
     },
     "output_type": "display_data"
    }
   ],
   "source": [
    "fig,[[ax1,ax2],[ax3,ax4]]=plt.subplots(2,2,figsize=(20,10))\n",
    "sns.distplot(df_train.loc[(df_train['RevolvingUtilizationOfUnsecuredLines']>=1)&(df_train['RevolvingUtilizationOfUnsecuredLines']<100),'RevolvingUtilizationOfUnsecuredLines'],bins=10,ax=ax1)\n",
    "sns.distplot(df_train.loc[(df_train['RevolvingUtilizationOfUnsecuredLines']>=100)&(df_train['RevolvingUtilizationOfUnsecuredLines']<1000),'RevolvingUtilizationOfUnsecuredLines'],bins=10,ax=ax2)\n",
    "sns.distplot(df_train.loc[(df_train['RevolvingUtilizationOfUnsecuredLines']>=1000)&(df_train['RevolvingUtilizationOfUnsecuredLines']<10000),'RevolvingUtilizationOfUnsecuredLines'],bins=10,ax=ax3)\n",
    "sns.distplot(df_train.loc[df_train['RevolvingUtilizationOfUnsecuredLines']>=10000,'RevolvingUtilizationOfUnsecuredLines'],bins=10,ax=ax4)"
   ]
  },
  {
   "cell_type": "markdown",
   "id": "c49cd7bc",
   "metadata": {
    "papermill": {
     "duration": 0.065495,
     "end_time": "2021-07-21T03:49:03.224717",
     "exception": false,
     "start_time": "2021-07-21T03:49:03.159222",
     "status": "completed"
    },
    "tags": []
   },
   "source": [
    "大于1的数据绝大多数数据集中在1-20之间，目的是找到异常值的阈值，分区间看一下违约率情况。"
   ]
  },
  {
   "cell_type": "code",
   "execution_count": 19,
   "id": "ffe384aa",
   "metadata": {
    "execution": {
     "iopub.execute_input": "2021-07-21T03:49:03.372654Z",
     "iopub.status.busy": "2021-07-21T03:49:03.369183Z",
     "iopub.status.idle": "2021-07-21T03:49:03.407583Z",
     "shell.execute_reply": "2021-07-21T03:49:03.408097Z",
     "shell.execute_reply.started": "2021-07-21T03:33:17.383608Z"
    },
    "papermill": {
     "duration": 0.11582,
     "end_time": "2021-07-21T03:49:03.408265",
     "exception": false,
     "start_time": "2021-07-21T03:49:03.292445",
     "status": "completed"
    },
    "tags": []
   },
   "outputs": [
    {
     "name": "stdout",
     "output_type": "stream",
     "text": [
      "0-1违约率为：5.989963317014633%\n",
      "1-10违约率为：39.52211817888279%\n",
      "10-20违约率为：57.142857142857146%\n",
      "20-100违约率为：18.181818181818183%\n",
      "100-1000违约率为：1.9607843137254901%\n",
      "1000-10000违约率为：6.410256410256411%\n",
      "10000-51000违约率为：0.0%\n"
     ]
    }
   ],
   "source": [
    "#将区间分为（0-1），(1-10),（10-20），（20-100），（100,1000），（1000-10000），（10000,51000）看一下违约率情况\n",
    "data_1=df_train.loc[(df_train['RevolvingUtilizationOfUnsecuredLines']>=0)&(df_train['RevolvingUtilizationOfUnsecuredLines']<1),:]\n",
    "Is_1=data_1.loc[data_1['SeriousDlqin2yrs']==1,:].shape[0]*100/data_1.shape[0]\n",
    "\n",
    "data_2=df_train.loc[(df_train['RevolvingUtilizationOfUnsecuredLines']>=1)&(df_train['RevolvingUtilizationOfUnsecuredLines']<10),:]\n",
    "Is_2=data_2.loc[data_2['SeriousDlqin2yrs']==1,:].shape[0]*100/data_2.shape[0]\n",
    "\n",
    "data_3=df_train.loc[(df_train['RevolvingUtilizationOfUnsecuredLines']>=10)&(df_train['RevolvingUtilizationOfUnsecuredLines']<20),:]\n",
    "Is_3=data_3.loc[data_3['SeriousDlqin2yrs']==1,:].shape[0]*100/data_3.shape[0]\n",
    "\n",
    "data_4=df_train.loc[(df_train['RevolvingUtilizationOfUnsecuredLines']>=20)&(df_train['RevolvingUtilizationOfUnsecuredLines']<100),:]\n",
    "Is_4=data_4.loc[data_4['SeriousDlqin2yrs']==1,:].shape[0]*100/data_4.shape[0]\n",
    "\n",
    "data_5=df_train.loc[(df_train['RevolvingUtilizationOfUnsecuredLines']>=100)&(df_train['RevolvingUtilizationOfUnsecuredLines']<1000),:]\n",
    "Is_5=data_5.loc[data_5['SeriousDlqin2yrs']==1,:].shape[0]*100/data_5.shape[0]\n",
    "\n",
    "data_6=df_train.loc[(df_train['RevolvingUtilizationOfUnsecuredLines']>=1000)&(df_train['RevolvingUtilizationOfUnsecuredLines']<10000),:]\n",
    "Is_6=data_6.loc[data_6['SeriousDlqin2yrs']==1,:].shape[0]*100/data_6.shape[0]\n",
    "\n",
    "data_7=df_train.loc[(df_train['RevolvingUtilizationOfUnsecuredLines']>=10000)&(df_train['RevolvingUtilizationOfUnsecuredLines']<51000),:]\n",
    "Is_7=data_7.loc[data_7['SeriousDlqin2yrs']==1,:].shape[0]*100/data_7.shape[0]\n",
    "\n",
    "print('0-1违约率为：{0}%'.format(Is_1))\n",
    "print('1-10违约率为：{0}%'.format(Is_2))\n",
    "print('10-20违约率为：{0}%'.format(Is_3))\n",
    "print('20-100违约率为：{0}%'.format(Is_4))\n",
    "print('100-1000违约率为：{0}%'.format(Is_5))\n",
    "print('1000-10000违约率为：{0}%'.format(Is_6))\n",
    "print('10000-51000违约率为：{0}%'.format(Is_7))"
   ]
  },
  {
   "cell_type": "markdown",
   "id": "eb47bb81",
   "metadata": {
    "papermill": {
     "duration": 0.065884,
     "end_time": "2021-07-21T03:49:03.540160",
     "exception": false,
     "start_time": "2021-07-21T03:49:03.474276",
     "status": "completed"
    },
    "tags": []
   },
   "source": [
    "可以看出在RevolvingUtilizationOfUnsecuredLines大于1时，违约率开始上升，10-20之间违约率达到高峰，超过20后开始下降，超过1000后开始恢复正常（与0-1的违约率一致），说明20左右的值可能为异常值上限的阈值。可以将超过20的值都定义为异常值。"
   ]
  },
  {
   "cell_type": "markdown",
   "id": "660cca39",
   "metadata": {
    "papermill": {
     "duration": 0.065874,
     "end_time": "2021-07-21T03:49:03.671999",
     "exception": false,
     "start_time": "2021-07-21T03:49:03.606125",
     "status": "completed"
    },
    "tags": []
   },
   "source": [
    "### DebtRatio 债务比率<a class=\"anchor\" id=\"2c\"></a>"
   ]
  },
  {
   "cell_type": "code",
   "execution_count": 20,
   "id": "8a111186",
   "metadata": {
    "execution": {
     "iopub.execute_input": "2021-07-21T03:49:03.810500Z",
     "iopub.status.busy": "2021-07-21T03:49:03.809941Z",
     "iopub.status.idle": "2021-07-21T03:49:03.825356Z",
     "shell.execute_reply": "2021-07-21T03:49:03.824757Z",
     "shell.execute_reply.started": "2021-07-21T03:33:53.192415Z"
    },
    "papermill": {
     "duration": 0.084135,
     "end_time": "2021-07-21T03:49:03.825675",
     "exception": false,
     "start_time": "2021-07-21T03:49:03.741540",
     "status": "completed"
    },
    "tags": []
   },
   "outputs": [
    {
     "data": {
      "text/plain": [
       "count    150000.000000\n",
       "mean        353.005076\n",
       "std        2037.818523\n",
       "min           0.000000\n",
       "25%           0.175074\n",
       "50%           0.366508\n",
       "75%           0.868254\n",
       "max      329664.000000\n",
       "Name: DebtRatio, dtype: float64"
      ]
     },
     "execution_count": 20,
     "metadata": {},
     "output_type": "execute_result"
    }
   ],
   "source": [
    "df_train[\"DebtRatio\"].describe()"
   ]
  },
  {
   "cell_type": "code",
   "execution_count": 21,
   "id": "553eac44",
   "metadata": {
    "execution": {
     "iopub.execute_input": "2021-07-21T03:49:04.002278Z",
     "iopub.status.busy": "2021-07-21T03:49:03.997318Z",
     "iopub.status.idle": "2021-07-21T03:49:04.960664Z",
     "shell.execute_reply": "2021-07-21T03:49:04.960158Z",
     "shell.execute_reply.started": "2021-07-21T03:34:00.200714Z"
    },
    "papermill": {
     "duration": 1.067643,
     "end_time": "2021-07-21T03:49:04.960808",
     "exception": false,
     "start_time": "2021-07-21T03:49:03.893165",
     "status": "completed"
    },
    "tags": []
   },
   "outputs": [
    {
     "data": {
      "text/plain": [
       "<AxesSubplot:ylabel='DebtRatio'>"
      ]
     },
     "execution_count": 21,
     "metadata": {},
     "output_type": "execute_result"
    },
    {
     "data": {
      "image/png": "[encoded data removed]",
      "text/plain": [
       "<Figure size 1440x432 with 2 Axes>"
      ]
     },
     "metadata": {
      "needs_background": "light"
     },
     "output_type": "display_data"
    }
   ],
   "source": [
    "#DebtRatio数据的分布情况\n",
    "fig,[ax1,ax2]=plt.subplots(1,2,figsize=(20,6))\n",
    "sns.kdeplot(df_train['DebtRatio'],ax=ax1)\n",
    "sns.boxplot(y=df_train['DebtRatio'],ax=ax2)"
   ]
  },
  {
   "cell_type": "code",
   "execution_count": 22,
   "id": "a2697b98",
   "metadata": {
    "execution": {
     "iopub.execute_input": "2021-07-21T03:49:05.102512Z",
     "iopub.status.busy": "2021-07-21T03:49:05.101895Z",
     "iopub.status.idle": "2021-07-21T03:49:06.469335Z",
     "shell.execute_reply": "2021-07-21T03:49:06.468545Z",
     "shell.execute_reply.started": "2021-07-21T03:34:09.652456Z"
    },
    "papermill": {
     "duration": 1.440337,
     "end_time": "2021-07-21T03:49:06.469496",
     "exception": false,
     "start_time": "2021-07-21T03:49:05.029159",
     "status": "completed"
    },
    "tags": []
   },
   "outputs": [
    {
     "name": "stderr",
     "output_type": "stream",
     "text": [
      "/opt/conda/lib/python3.7/site-packages/seaborn/distributions.py:2557: FutureWarning: `distplot` is a deprecated function and will be removed in a future version. Please adapt your code to use either `displot` (a figure-level function with similar flexibility) or `histplot` (an axes-level function for histograms).\n",
      "  warnings.warn(msg, FutureWarning)\n",
      "/opt/conda/lib/python3.7/site-packages/seaborn/distributions.py:2557: FutureWarning: `distplot` is a deprecated function and will be removed in a future version. Please adapt your code to use either `displot` (a figure-level function with similar flexibility) or `histplot` (an axes-level function for histograms).\n",
      "  warnings.warn(msg, FutureWarning)\n"
     ]
    },
    {
     "data": {
      "text/plain": [
       "<AxesSubplot:xlabel='DebtRatio', ylabel='Density'>"
      ]
     },
     "execution_count": 22,
     "metadata": {},
     "output_type": "execute_result"
    },
    {
     "data": {
      "image/png": "[encoded data removed]",
      "text/plain": [
       "<Figure size 1440x432 with 2 Axes>"
      ]
     },
     "metadata": {
      "needs_background": "light"
     },
     "output_type": "display_data"
    }
   ],
   "source": [
    "# 数据分布跨度较大，分组查看数据分布情况\n",
    "Debt1=df_train.loc[df_train['DebtRatio']<1,:]\n",
    "Debt2=df_train.loc[df_train['DebtRatio']>=1,:]\n",
    "fig,[ax1,ax2]=plt.subplots(1,2,figsize=(20,6))\n",
    "sns.distplot(Debt1['DebtRatio'],ax=ax1)\n",
    "sns.distplot(Debt2['DebtRatio'],ax=ax2)"
   ]
  },
  {
   "cell_type": "code",
   "execution_count": 23,
   "id": "2360c783",
   "metadata": {
    "execution": {
     "iopub.execute_input": "2021-07-21T03:49:06.616979Z",
     "iopub.status.busy": "2021-07-21T03:49:06.616291Z",
     "iopub.status.idle": "2021-07-21T03:49:08.075402Z",
     "shell.execute_reply": "2021-07-21T03:49:08.075875Z",
     "shell.execute_reply.started": "2021-07-21T03:34:24.930000Z"
    },
    "papermill": {
     "duration": 1.536309,
     "end_time": "2021-07-21T03:49:08.076068",
     "exception": false,
     "start_time": "2021-07-21T03:49:06.539759",
     "status": "completed"
    },
    "tags": []
   },
   "outputs": [
    {
     "name": "stderr",
     "output_type": "stream",
     "text": [
      "/opt/conda/lib/python3.7/site-packages/seaborn/distributions.py:2557: FutureWarning: `distplot` is a deprecated function and will be removed in a future version. Please adapt your code to use either `displot` (a figure-level function with similar flexibility) or `histplot` (an axes-level function for histograms).\n",
      "  warnings.warn(msg, FutureWarning)\n",
      "/opt/conda/lib/python3.7/site-packages/seaborn/distributions.py:2557: FutureWarning: `distplot` is a deprecated function and will be removed in a future version. Please adapt your code to use either `displot` (a figure-level function with similar flexibility) or `histplot` (an axes-level function for histograms).\n",
      "  warnings.warn(msg, FutureWarning)\n",
      "/opt/conda/lib/python3.7/site-packages/seaborn/distributions.py:2557: FutureWarning: `distplot` is a deprecated function and will be removed in a future version. Please adapt your code to use either `displot` (a figure-level function with similar flexibility) or `histplot` (an axes-level function for histograms).\n",
      "  warnings.warn(msg, FutureWarning)\n",
      "/opt/conda/lib/python3.7/site-packages/seaborn/distributions.py:2557: FutureWarning: `distplot` is a deprecated function and will be removed in a future version. Please adapt your code to use either `displot` (a figure-level function with similar flexibility) or `histplot` (an axes-level function for histograms).\n",
      "  warnings.warn(msg, FutureWarning)\n"
     ]
    },
    {
     "data": {
      "text/plain": [
       "<AxesSubplot:xlabel='DebtRatio', ylabel='Density'>"
      ]
     },
     "execution_count": 23,
     "metadata": {},
     "output_type": "execute_result"
    },
    {
     "data": {
      "image/png": "[encoded data removed]",
      "text/plain": [
       "<Figure size 1440x720 with 4 Axes>"
      ]
     },
     "metadata": {
      "needs_background": "light"
     },
     "output_type": "display_data"
    }
   ],
   "source": [
    "#尝试多次细分\n",
    "Debt3=df_train.loc[(df_train['DebtRatio']>=1)&(df_train['DebtRatio']<1000),:]\n",
    "Debt4=df_train.loc[(df_train['DebtRatio']>=1)&(df_train['DebtRatio']<200),:]\n",
    "Debt5=df_train.loc[(df_train['DebtRatio']>=1)&(df_train['DebtRatio']<10),:]\n",
    "Debt6=df_train.loc[(df_train['DebtRatio']>=1)&(df_train['DebtRatio']<2),:]\n",
    "\n",
    "fig,[[ax1,ax2],[ax3,ax4]]=plt.subplots(2,2,figsize=(20,10))\n",
    "sns.distplot(Debt3['DebtRatio'],ax=ax1)\n",
    "sns.distplot(Debt4['DebtRatio'],ax=ax2)\n",
    "sns.distplot(Debt5['DebtRatio'],ax=ax3)\n",
    "sns.distplot(Debt6['DebtRatio'],ax=ax4)"
   ]
  },
  {
   "cell_type": "code",
   "execution_count": 24,
   "id": "f05d41e2",
   "metadata": {
    "execution": {
     "iopub.execute_input": "2021-07-21T03:49:08.235023Z",
     "iopub.status.busy": "2021-07-21T03:49:08.232251Z",
     "iopub.status.idle": "2021-07-21T03:49:08.274619Z",
     "shell.execute_reply": "2021-07-21T03:49:08.273949Z",
     "shell.execute_reply.started": "2021-07-21T03:34:32.160105Z"
    },
    "papermill": {
     "duration": 0.122907,
     "end_time": "2021-07-21T03:49:08.274762",
     "exception": false,
     "start_time": "2021-07-21T03:49:08.151855",
     "status": "completed"
    },
    "tags": []
   },
   "outputs": [
    {
     "name": "stdout",
     "output_type": "stream",
     "text": [
      "0-1违约率为：6.744944780780571%\n",
      "1-2违约率为：13.008913514815706%\n",
      "2-10违约率为：6.2584421431787485%\n",
      "10-50违约率为：4.346383543463835%\n",
      "50-200违约率为：5.62695380340396%\n",
      "200-1000违约率为：7.950330591840026%\n",
      "1000以上违约率为：4.905325443786983%\n"
     ]
    }
   ],
   "source": [
    "#各区间的违约率(0,1),(1-2),(2-10),(10-50),(50-200),(200,1000),1000以上\n",
    "Debt_1=df_train.loc[(df_train['DebtRatio']>=0)&(df_train['DebtRatio']<1),:]\n",
    "DebIs_1=Debt_1.loc[Debt_1['SeriousDlqin2yrs']==1,:].shape[0]*100/Debt_1.shape[0]\n",
    "\n",
    "Debt_2=df_train.loc[(df_train['DebtRatio']>=1)&(df_train['DebtRatio']<2),:]\n",
    "DebIs_2=Debt_2.loc[Debt_2['SeriousDlqin2yrs']==1,:].shape[0]*100/Debt_2.shape[0]\n",
    "\n",
    "Debt_3=df_train.loc[(df_train['DebtRatio']>=2)&(df_train['DebtRatio']<10),:]\n",
    "DebIs_3=Debt_3.loc[Debt_3['SeriousDlqin2yrs']==1,:].shape[0]*100/Debt_3.shape[0]\n",
    "\n",
    "Debt_4=df_train.loc[(df_train['DebtRatio']>=10)&(df_train['DebtRatio']<50),:]\n",
    "DebIs_4=Debt_4.loc[Debt_4['SeriousDlqin2yrs']==1,:].shape[0]*100/Debt_4.shape[0]\n",
    "\n",
    "Debt_5=df_train.loc[(df_train['DebtRatio']>=50)&(df_train['DebtRatio']<200),:]\n",
    "DebIs_5=Debt_5.loc[Debt_5['SeriousDlqin2yrs']==1,:].shape[0]*100/Debt_5.shape[0]\n",
    "\n",
    "Debt_6=df_train.loc[(df_train['DebtRatio']>=200)&(df_train['DebtRatio']<1000),:]\n",
    "DebIs_6=Debt_6.loc[Debt_6['SeriousDlqin2yrs']==1,:].shape[0]*100/Debt_6.shape[0]\n",
    "\n",
    "Debt_7=df_train.loc[df_train['DebtRatio']>=1000,:]\n",
    "DebIs_7=Debt_7.loc[Debt_7['SeriousDlqin2yrs']==1,:].shape[0]*100/Debt_7.shape[0]\n",
    "\n",
    "print('0-1违约率为：{0}%'.format(DebIs_1))\n",
    "print('1-2违约率为：{0}%'.format(DebIs_2))\n",
    "print('2-10违约率为：{0}%'.format(DebIs_3)) \n",
    "print('10-50违约率为：{0}%'.format(DebIs_4))\n",
    "print('50-200违约率为：{0}%'.format(DebIs_5))\n",
    "print('200-1000违约率为：{0}%'.format(DebIs_6))\n",
    "print('1000以上违约率为：{0}%'.format(DebIs_7))"
   ]
  },
  {
   "cell_type": "markdown",
   "id": "3e8375d0",
   "metadata": {
    "papermill": {
     "duration": 0.074727,
     "end_time": "2021-07-21T03:49:08.423749",
     "exception": false,
     "start_time": "2021-07-21T03:49:08.349022",
     "status": "completed"
    },
    "tags": []
   },
   "source": [
    "可以看到1-2的违约率达到最高，超过2以后违约率开始稳定，可以把2作为异常值上限的阈值。并把大于2的数据和0-1的数据进行合并。"
   ]
  },
  {
   "cell_type": "markdown",
   "id": "1781b2e7",
   "metadata": {
    "papermill": {
     "duration": 0.072685,
     "end_time": "2021-07-21T03:49:08.569292",
     "exception": false,
     "start_time": "2021-07-21T03:49:08.496607",
     "status": "completed"
    },
    "tags": []
   },
   "source": [
    "### MonthlyIncome 月收入<a class=\"anchor\" id=\"2d\"></a>"
   ]
  },
  {
   "cell_type": "code",
   "execution_count": 25,
   "id": "6d7ff536",
   "metadata": {
    "execution": {
     "iopub.execute_input": "2021-07-21T03:49:08.736477Z",
     "iopub.status.busy": "2021-07-21T03:49:08.720039Z",
     "iopub.status.idle": "2021-07-21T03:49:09.534196Z",
     "shell.execute_reply": "2021-07-21T03:49:09.533677Z",
     "shell.execute_reply.started": "2021-07-21T03:34:52.966562Z"
    },
    "papermill": {
     "duration": 0.892045,
     "end_time": "2021-07-21T03:49:09.534338",
     "exception": false,
     "start_time": "2021-07-21T03:49:08.642293",
     "status": "completed"
    },
    "tags": []
   },
   "outputs": [
    {
     "data": {
      "text/plain": [
       "<AxesSubplot:ylabel='MonthlyIncome'>"
      ]
     },
     "execution_count": 25,
     "metadata": {},
     "output_type": "execute_result"
    },
    {
     "data": {
      "image/png": "[encoded data removed]",
      "text/plain": [
       "<Figure size 1440x432 with 2 Axes>"
      ]
     },
     "metadata": {
      "needs_background": "light"
     },
     "output_type": "display_data"
    }
   ],
   "source": [
    "#MonthlyIncome数据分布\n",
    "fig,[ax1,ax2]=plt.subplots(1,2,figsize=(20,6))\n",
    "sns.kdeplot(df_train['MonthlyIncome'],ax=ax1)\n",
    "sns.boxplot(y=df_train['MonthlyIncome'],ax=ax2)"
   ]
  },
  {
   "cell_type": "code",
   "execution_count": 26,
   "id": "26832713",
   "metadata": {
    "execution": {
     "iopub.execute_input": "2021-07-21T03:49:09.688888Z",
     "iopub.status.busy": "2021-07-21T03:49:09.687368Z",
     "iopub.status.idle": "2021-07-21T03:49:09.691919Z",
     "shell.execute_reply": "2021-07-21T03:49:09.692381Z",
     "shell.execute_reply.started": "2021-07-21T03:35:00.398459Z"
    },
    "papermill": {
     "duration": 0.084607,
     "end_time": "2021-07-21T03:49:09.692542",
     "exception": false,
     "start_time": "2021-07-21T03:49:09.607935",
     "status": "completed"
    },
    "tags": []
   },
   "outputs": [
    {
     "name": "stdout",
     "output_type": "stream",
     "text": [
      "缺失值数量： 29731 缺失值比率：19.820666666666668%\n"
     ]
    }
   ],
   "source": [
    "# MonthlyIncome缺失值情况\n",
    "M_nullNum=df_train['MonthlyIncome'].isnull().sum()\n",
    "print('缺失值数量：',M_nullNum,'缺失值比率：{0}%'.format(M_nullNum*100/df_train.shape[0]))"
   ]
  },
  {
   "cell_type": "markdown",
   "id": "c890490c",
   "metadata": {
    "papermill": {
     "duration": 0.073673,
     "end_time": "2021-07-21T03:49:09.841092",
     "exception": false,
     "start_time": "2021-07-21T03:49:09.767419",
     "status": "completed"
    },
    "tags": []
   },
   "source": [
    "缺失值比率达到20%，不能直接删除，可以采用随机森林填补缺失值。"
   ]
  },
  {
   "cell_type": "markdown",
   "id": "b74eca1a",
   "metadata": {
    "papermill": {
     "duration": 0.073661,
     "end_time": "2021-07-21T03:49:09.989265",
     "exception": false,
     "start_time": "2021-07-21T03:49:09.915604",
     "status": "completed"
    },
    "tags": []
   },
   "source": [
    "### NumberOfOpenCreditLinesAndLoans 未偿的信用额度和贷款的数量<a class=\"anchor\" id=\"2e\"></a>"
   ]
  },
  {
   "cell_type": "code",
   "execution_count": 27,
   "id": "a19a98d2",
   "metadata": {
    "execution": {
     "iopub.execute_input": "2021-07-21T03:49:10.160811Z",
     "iopub.status.busy": "2021-07-21T03:49:10.155746Z",
     "iopub.status.idle": "2021-07-21T03:49:11.255840Z",
     "shell.execute_reply": "2021-07-21T03:49:11.256331Z",
     "shell.execute_reply.started": "2021-07-21T03:35:27.233122Z"
    },
    "papermill": {
     "duration": 1.193705,
     "end_time": "2021-07-21T03:49:11.256511",
     "exception": false,
     "start_time": "2021-07-21T03:49:10.062806",
     "status": "completed"
    },
    "tags": []
   },
   "outputs": [
    {
     "name": "stderr",
     "output_type": "stream",
     "text": [
      "/opt/conda/lib/python3.7/site-packages/seaborn/distributions.py:2557: FutureWarning: `distplot` is a deprecated function and will be removed in a future version. Please adapt your code to use either `displot` (a figure-level function with similar flexibility) or `histplot` (an axes-level function for histograms).\n",
      "  warnings.warn(msg, FutureWarning)\n"
     ]
    },
    {
     "data": {
      "text/plain": [
       "<AxesSubplot:ylabel='NumberOfOpenCreditLinesAndLoans'>"
      ]
     },
     "execution_count": 27,
     "metadata": {},
     "output_type": "execute_result"
    },
    {
     "data": {
      "image/png": "[encoded data removed]",
      "text/plain": [
       "<Figure size 1440x432 with 2 Axes>"
      ]
     },
     "metadata": {
      "needs_background": "light"
     },
     "output_type": "display_data"
    }
   ],
   "source": [
    "# 数据分布\n",
    "fig,[ax1,ax2]=plt.subplots(1,2,figsize=(20,6))\n",
    "sns.distplot(df_train['NumberOfOpenCreditLinesAndLoans'],ax=ax1)\n",
    "sns.boxplot(y=df_train['NumberOfOpenCreditLinesAndLoans'],ax=ax2)"
   ]
  },
  {
   "cell_type": "code",
   "execution_count": 28,
   "id": "1f81072f",
   "metadata": {
    "execution": {
     "iopub.execute_input": "2021-07-21T03:49:11.415204Z",
     "iopub.status.busy": "2021-07-21T03:49:11.414318Z",
     "iopub.status.idle": "2021-07-21T03:49:12.246548Z",
     "shell.execute_reply": "2021-07-21T03:49:12.246102Z",
     "shell.execute_reply.started": "2021-07-21T03:35:34.602653Z"
    },
    "papermill": {
     "duration": 0.914022,
     "end_time": "2021-07-21T03:49:12.246701",
     "exception": false,
     "start_time": "2021-07-21T03:49:11.332679",
     "status": "completed"
    },
    "tags": []
   },
   "outputs": [
    {
     "name": "stderr",
     "output_type": "stream",
     "text": [
      "/opt/conda/lib/python3.7/site-packages/seaborn/_decorators.py:43: FutureWarning: Pass the following variable as a keyword arg: x. From version 0.12, the only valid positional argument will be `data`, and passing other arguments without an explicit keyword will result in an error or misinterpretation.\n",
      "  FutureWarning\n"
     ]
    },
    {
     "data": {
      "text/plain": [
       "<AxesSubplot:xlabel='NumberOfOpenCreditLinesAndLoans', ylabel='count'>"
      ]
     },
     "execution_count": 28,
     "metadata": {},
     "output_type": "execute_result"
    },
    {
     "data": {
      "image/png": "[encoded data removed]",
      "text/plain": [
       "<Figure size 864x432 with 1 Axes>"
      ]
     },
     "metadata": {
      "needs_background": "light"
     },
     "output_type": "display_data"
    }
   ],
   "source": [
    "#看一下数据点分布\n",
    "figure=plt.figure(figsize=(12,6))\n",
    "sns.countplot(df_train['NumberOfOpenCreditLinesAndLoans'])"
   ]
  },
  {
   "cell_type": "code",
   "execution_count": 29,
   "id": "7409cfd9",
   "metadata": {
    "execution": {
     "iopub.execute_input": "2021-07-21T03:49:12.406106Z",
     "iopub.status.busy": "2021-07-21T03:49:12.404959Z",
     "iopub.status.idle": "2021-07-21T03:49:12.753549Z",
     "shell.execute_reply": "2021-07-21T03:49:12.753079Z",
     "shell.execute_reply.started": "2021-07-21T03:35:42.234609Z"
    },
    "papermill": {
     "duration": 0.430899,
     "end_time": "2021-07-21T03:49:12.753698",
     "exception": false,
     "start_time": "2021-07-21T03:49:12.322799",
     "status": "completed"
    },
    "tags": []
   },
   "outputs": [
    {
     "data": {
      "text/plain": [
       "<AxesSubplot:xlabel='NumberOfOpenCreditLinesAndLoans'>"
      ]
     },
     "execution_count": 29,
     "metadata": {},
     "output_type": "execute_result"
    },
    {
     "data": {
      "image/png": "[encoded data removed]",
      "text/plain": [
       "<Figure size 864x432 with 1 Axes>"
      ]
     },
     "metadata": {
      "needs_background": "light"
     },
     "output_type": "display_data"
    }
   ],
   "source": [
    "# 可以看出大于36的数据过少，把大于36的数据和36合并，看一下违约率的情况\n",
    "df_train.loc[df_train['NumberOfOpenCreditLinesAndLoans']>36,'NumberOfOpenCreditLinesAndLoans']=36\n",
    "Numopen_dlq=df_train.groupby(['NumberOfOpenCreditLinesAndLoans'])['SeriousDlqin2yrs'].sum()\n",
    "Numopen_total=df_train.groupby(['NumberOfOpenCreditLinesAndLoans'])['SeriousDlqin2yrs'].count()\n",
    "Numopen_dlqratio=Numopen_dlq/Numopen_total\n",
    "Numopen_dlqratio.plot(kind='bar',figsize=(12,6),color='#4682B4')"
   ]
  },
  {
   "cell_type": "markdown",
   "id": "1d2bca16",
   "metadata": {
    "papermill": {
     "duration": 0.077944,
     "end_time": "2021-07-21T03:49:12.910974",
     "exception": false,
     "start_time": "2021-07-21T03:49:12.833030",
     "status": "completed"
    },
    "tags": []
   },
   "source": [
    "### NumberRealEstateLoansOrLines 房地产贷款或额度的数量<a class=\"anchor\" id=\"2f\"></a>"
   ]
  },
  {
   "cell_type": "code",
   "execution_count": 30,
   "id": "2a389f1a",
   "metadata": {
    "execution": {
     "iopub.execute_input": "2021-07-21T03:49:13.108788Z",
     "iopub.status.busy": "2021-07-21T03:49:13.108151Z",
     "iopub.status.idle": "2021-07-21T03:49:14.078838Z",
     "shell.execute_reply": "2021-07-21T03:49:14.079251Z",
     "shell.execute_reply.started": "2021-07-21T03:35:55.464943Z"
    },
    "papermill": {
     "duration": 1.091064,
     "end_time": "2021-07-21T03:49:14.079419",
     "exception": false,
     "start_time": "2021-07-21T03:49:12.988355",
     "status": "completed"
    },
    "tags": []
   },
   "outputs": [
    {
     "name": "stderr",
     "output_type": "stream",
     "text": [
      "/opt/conda/lib/python3.7/site-packages/seaborn/distributions.py:2557: FutureWarning: `distplot` is a deprecated function and will be removed in a future version. Please adapt your code to use either `displot` (a figure-level function with similar flexibility) or `histplot` (an axes-level function for histograms).\n",
      "  warnings.warn(msg, FutureWarning)\n"
     ]
    },
    {
     "data": {
      "text/plain": [
       "<AxesSubplot:ylabel='NumberRealEstateLoansOrLines'>"
      ]
     },
     "execution_count": 30,
     "metadata": {},
     "output_type": "execute_result"
    },
    {
     "data": {
      "image/png": "[encoded data removed]",
      "text/plain": [
       "<Figure size 1440x432 with 2 Axes>"
      ]
     },
     "metadata": {
      "needs_background": "light"
     },
     "output_type": "display_data"
    }
   ],
   "source": [
    "#数据分布\n",
    "fig,[ax1,ax2]=plt.subplots(1,2,figsize=(20,6))\n",
    "sns.distplot(df_train['NumberRealEstateLoansOrLines'],ax=ax1)\n",
    "sns.boxplot(y=df_train['NumberRealEstateLoansOrLines'],ax=ax2)"
   ]
  },
  {
   "cell_type": "markdown",
   "id": "1e062e66",
   "metadata": {
    "papermill": {
     "duration": 0.078984,
     "end_time": "2021-07-21T03:49:14.237880",
     "exception": false,
     "start_time": "2021-07-21T03:49:14.158896",
     "status": "completed"
    },
    "tags": []
   },
   "source": [
    "可以看到超过50的点为明显的异常点"
   ]
  },
  {
   "cell_type": "code",
   "execution_count": 31,
   "id": "94a03572",
   "metadata": {
    "execution": {
     "iopub.execute_input": "2021-07-21T03:49:14.401617Z",
     "iopub.status.busy": "2021-07-21T03:49:14.399943Z",
     "iopub.status.idle": "2021-07-21T03:49:14.707444Z",
     "shell.execute_reply": "2021-07-21T03:49:14.706387Z",
     "shell.execute_reply.started": "2021-07-21T03:36:10.642674Z"
    },
    "papermill": {
     "duration": 0.391098,
     "end_time": "2021-07-21T03:49:14.707686",
     "exception": false,
     "start_time": "2021-07-21T03:49:14.316588",
     "status": "completed"
    },
    "tags": []
   },
   "outputs": [
    {
     "name": "stderr",
     "output_type": "stream",
     "text": [
      "/opt/conda/lib/python3.7/site-packages/seaborn/_decorators.py:43: FutureWarning: Pass the following variable as a keyword arg: x. From version 0.12, the only valid positional argument will be `data`, and passing other arguments without an explicit keyword will result in an error or misinterpretation.\n",
      "  FutureWarning\n"
     ]
    },
    {
     "data": {
      "text/plain": [
       "<AxesSubplot:xlabel='NumberRealEstateLoansOrLines', ylabel='count'>"
      ]
     },
     "execution_count": 31,
     "metadata": {},
     "output_type": "execute_result"
    },
    {
     "data": {
      "image/png": "[encoded data removed]",
      "text/plain": [
       "<Figure size 432x288 with 1 Axes>"
      ]
     },
     "metadata": {
      "needs_background": "light"
     },
     "output_type": "display_data"
    }
   ],
   "source": [
    "#大致看一下各数据点数据大小分布\n",
    "sns.countplot(df_train['NumberRealEstateLoansOrLines'])"
   ]
  },
  {
   "cell_type": "code",
   "execution_count": 32,
   "id": "eba509d9",
   "metadata": {
    "execution": {
     "iopub.execute_input": "2021-07-21T03:49:14.903877Z",
     "iopub.status.busy": "2021-07-21T03:49:14.902880Z",
     "iopub.status.idle": "2021-07-21T03:49:15.115503Z",
     "shell.execute_reply": "2021-07-21T03:49:15.115979Z",
     "shell.execute_reply.started": "2021-07-21T03:36:16.041356Z"
    },
    "papermill": {
     "duration": 0.313523,
     "end_time": "2021-07-21T03:49:15.116156",
     "exception": false,
     "start_time": "2021-07-21T03:49:14.802633",
     "status": "completed"
    },
    "tags": []
   },
   "outputs": [
    {
     "data": {
      "text/plain": [
       "<AxesSubplot:xlabel='NumberRealEstateLoansOrLines'>"
      ]
     },
     "execution_count": 32,
     "metadata": {},
     "output_type": "execute_result"
    },
    {
     "data": {
      "image/png": "[encoded data removed]",
      "text/plain": [
       "<Figure size 576x432 with 1 Axes>"
      ]
     },
     "metadata": {
      "needs_background": "light"
     },
     "output_type": "display_data"
    }
   ],
   "source": [
    "# 将大于8的数据和8合并后看一下违约率的情况\n",
    "df_train.loc[df_train['NumberRealEstateLoansOrLines']>8,'NumberRealEstateLoansOrLines']=8\n",
    "Numestate_dlq=df_train.groupby(['NumberRealEstateLoansOrLines'])['SeriousDlqin2yrs'].sum()\n",
    "Numestate_total=df_train.groupby(['NumberRealEstateLoansOrLines'])['SeriousDlqin2yrs'].count()\n",
    "Numestate_dlqratio=Numestate_dlq/Numestate_total\n",
    "Numestate_dlqratio.plot(kind='bar',figsize=(8,6),color='#4682B4')"
   ]
  },
  {
   "cell_type": "markdown",
   "id": "5b77d45b",
   "metadata": {
    "papermill": {
     "duration": 0.081735,
     "end_time": "2021-07-21T03:49:15.279633",
     "exception": false,
     "start_time": "2021-07-21T03:49:15.197898",
     "status": "completed"
    },
    "tags": []
   },
   "source": [
    "从 NumberOfOpenCreditLinesAndLoans 和 NumberRealEstateLoansOrLines 的违约率分布可以看出，贷款数量为0时并不是违约率最低的，不动产贷款数量为1时违约率最低，但随着打款数量增加，违约率也随着增高。"
   ]
  },
  {
   "cell_type": "markdown",
   "id": "56776211",
   "metadata": {
    "papermill": {
     "duration": 0.131453,
     "end_time": "2021-07-21T03:49:15.492705",
     "exception": false,
     "start_time": "2021-07-21T03:49:15.361252",
     "status": "completed"
    },
    "tags": []
   },
   "source": [
    "### NumberOfDependents 受扶养人的数量<a class=\"anchor\" id=\"2g\"></a>"
   ]
  },
  {
   "cell_type": "code",
   "execution_count": 33,
   "id": "3500ada5",
   "metadata": {
    "execution": {
     "iopub.execute_input": "2021-07-21T03:49:15.662016Z",
     "iopub.status.busy": "2021-07-21T03:49:15.661087Z",
     "iopub.status.idle": "2021-07-21T03:49:15.677104Z",
     "shell.execute_reply": "2021-07-21T03:49:15.675895Z",
     "shell.execute_reply.started": "2021-07-21T03:36:38.745747Z"
    },
    "papermill": {
     "duration": 0.101529,
     "end_time": "2021-07-21T03:49:15.677312",
     "exception": false,
     "start_time": "2021-07-21T03:49:15.575783",
     "status": "completed"
    },
    "tags": []
   },
   "outputs": [
    {
     "name": "stdout",
     "output_type": "stream",
     "text": [
      "<class 'pandas.core.frame.DataFrame'>\n",
      "RangeIndex: 150000 entries, 0 to 149999\n",
      "Data columns (total 12 columns):\n",
      " #   Column                                Non-Null Count   Dtype  \n",
      "---  ------                                --------------   -----  \n",
      " 0   Unnamed: 0                            150000 non-null  int64  \n",
      " 1   SeriousDlqin2yrs                      150000 non-null  int64  \n",
      " 2   RevolvingUtilizationOfUnsecuredLines  150000 non-null  float64\n",
      " 3   age                                   150000 non-null  int64  \n",
      " 4   NumberOfTime30-59DaysPastDueNotWorse  150000 non-null  int64  \n",
      " 5   DebtRatio                             150000 non-null  float64\n",
      " 6   MonthlyIncome                         120269 non-null  float64\n",
      " 7   NumberOfOpenCreditLinesAndLoans       150000 non-null  int64  \n",
      " 8   NumberOfTimes90DaysLate               150000 non-null  int64  \n",
      " 9   NumberRealEstateLoansOrLines          150000 non-null  int64  \n",
      " 10  NumberOfTime60-89DaysPastDueNotWorse  150000 non-null  int64  \n",
      " 11  NumberOfDependents                    146076 non-null  float64\n",
      "dtypes: float64(4), int64(8)\n",
      "memory usage: 13.7 MB\n"
     ]
    }
   ],
   "source": [
    "df_train.info()"
   ]
  },
  {
   "cell_type": "markdown",
   "id": "8145ad19",
   "metadata": {
    "papermill": {
     "duration": 0.083423,
     "end_time": "2021-07-21T03:49:15.844768",
     "exception": false,
     "start_time": "2021-07-21T03:49:15.761345",
     "status": "completed"
    },
    "tags": []
   },
   "source": [
    "由描述统计信息，NumberOfDependents 存在缺失值，缺失值数量为 3924，缺失率为 2.616%"
   ]
  },
  {
   "cell_type": "code",
   "execution_count": 34,
   "id": "571c345e",
   "metadata": {
    "execution": {
     "iopub.execute_input": "2021-07-21T03:49:16.017464Z",
     "iopub.status.busy": "2021-07-21T03:49:16.016818Z",
     "iopub.status.idle": "2021-07-21T03:49:16.393011Z",
     "shell.execute_reply": "2021-07-21T03:49:16.392499Z",
     "shell.execute_reply.started": "2021-07-21T03:36:52.643252Z"
    },
    "papermill": {
     "duration": 0.464942,
     "end_time": "2021-07-21T03:49:16.393148",
     "exception": false,
     "start_time": "2021-07-21T03:49:15.928206",
     "status": "completed"
    },
    "tags": []
   },
   "outputs": [
    {
     "name": "stderr",
     "output_type": "stream",
     "text": [
      "/opt/conda/lib/python3.7/site-packages/seaborn/_decorators.py:43: FutureWarning: Pass the following variable as a keyword arg: x. From version 0.12, the only valid positional argument will be `data`, and passing other arguments without an explicit keyword will result in an error or misinterpretation.\n",
      "  FutureWarning\n"
     ]
    },
    {
     "data": {
      "text/plain": [
       "<AxesSubplot:ylabel='NumberOfDependents'>"
      ]
     },
     "execution_count": 34,
     "metadata": {},
     "output_type": "execute_result"
    },
    {
     "data": {
      "image/png": "[encoded data removed]",
      "text/plain": [
       "<Figure size 1440x432 with 2 Axes>"
      ]
     },
     "metadata": {
      "needs_background": "light"
     },
     "output_type": "display_data"
    }
   ],
   "source": [
    "# NumberOfDependents 数据分布\n",
    "fig,[ax1,ax2]=plt.subplots(1,2,figsize=(20,6))\n",
    "sns.countplot(df_train['NumberOfDependents'],ax=ax1)\n",
    "sns.boxplot(y=df_train['NumberOfDependents'],ax=ax2)"
   ]
  },
  {
   "cell_type": "code",
   "execution_count": 35,
   "id": "33bbc997",
   "metadata": {
    "execution": {
     "iopub.execute_input": "2021-07-21T03:49:16.564683Z",
     "iopub.status.busy": "2021-07-21T03:49:16.564082Z",
     "iopub.status.idle": "2021-07-21T03:49:16.571857Z",
     "shell.execute_reply": "2021-07-21T03:49:16.571067Z",
     "shell.execute_reply.started": "2021-07-21T03:36:58.415630Z"
    },
    "papermill": {
     "duration": 0.09523,
     "end_time": "2021-07-21T03:49:16.572050",
     "exception": false,
     "start_time": "2021-07-21T03:49:16.476820",
     "status": "completed"
    },
    "tags": []
   },
   "outputs": [
    {
     "data": {
      "text/plain": [
       "3924"
      ]
     },
     "execution_count": 35,
     "metadata": {},
     "output_type": "execute_result"
    }
   ],
   "source": [
    "# 看一下 MonthlyIncome和 NumberOfDependents 的缺失是否有关联\n",
    "df_train.loc[(df_train['NumberOfDependents'].isnull()) & (df_train['MonthlyIncome'].isnull()),:].shape[0]"
   ]
  },
  {
   "cell_type": "markdown",
   "id": "68c0f2bc",
   "metadata": {
    "papermill": {
     "duration": 0.082594,
     "end_time": "2021-07-21T03:49:16.759866",
     "exception": false,
     "start_time": "2021-07-21T03:49:16.677272",
     "status": "completed"
    },
    "tags": []
   },
   "source": [
    "可以看出 NumberOfDependents 缺失的，MonthlyIncome也同时缺失。看一下MonthlyIncome缺失，NumberOfDependents 不缺失的数据分布："
   ]
  },
  {
   "cell_type": "code",
   "execution_count": 36,
   "id": "bc3fee46",
   "metadata": {
    "execution": {
     "iopub.execute_input": "2021-07-21T03:49:16.930105Z",
     "iopub.status.busy": "2021-07-21T03:49:16.929445Z",
     "iopub.status.idle": "2021-07-21T03:49:17.106225Z",
     "shell.execute_reply": "2021-07-21T03:49:17.105669Z",
     "shell.execute_reply.started": "2021-07-21T03:37:14.086972Z"
    },
    "papermill": {
     "duration": 0.264082,
     "end_time": "2021-07-21T03:49:17.106353",
     "exception": false,
     "start_time": "2021-07-21T03:49:16.842271",
     "status": "completed"
    },
    "tags": []
   },
   "outputs": [
    {
     "name": "stderr",
     "output_type": "stream",
     "text": [
      "/opt/conda/lib/python3.7/site-packages/seaborn/_decorators.py:43: FutureWarning: Pass the following variable as a keyword arg: x. From version 0.12, the only valid positional argument will be `data`, and passing other arguments without an explicit keyword will result in an error or misinterpretation.\n",
      "  FutureWarning\n"
     ]
    },
    {
     "data": {
      "text/plain": [
       "<AxesSubplot:xlabel='NumberOfDependents', ylabel='count'>"
      ]
     },
     "execution_count": 36,
     "metadata": {},
     "output_type": "execute_result"
    },
    {
     "data": {
      "image/png": "[encoded data removed]",
      "text/plain": [
       "<Figure size 432x288 with 1 Axes>"
      ]
     },
     "metadata": {
      "needs_background": "light"
     },
     "output_type": "display_data"
    }
   ],
   "source": [
    "MonthNullDependNot=df_train.loc[(df_train['NumberOfDependents'].notnull())&(df_train['MonthlyIncome']).isnull(),:]\n",
    "sns.countplot(MonthNullDependNot['NumberOfDependents'])"
   ]
  },
  {
   "cell_type": "markdown",
   "id": "25eca032",
   "metadata": {
    "papermill": {
     "duration": 0.083506,
     "end_time": "2021-07-21T03:49:17.272836",
     "exception": false,
     "start_time": "2021-07-21T03:49:17.189330",
     "status": "completed"
    },
    "tags": []
   },
   "source": [
    "可以看出MonthlyIncome缺失，NumberOfDependents 不缺失的数据中 NumberOfDependents 大多取值0，所以可以们将 NumberOfDependents 的缺失值填充为0。"
   ]
  },
  {
   "cell_type": "markdown",
   "id": "e6feaae8",
   "metadata": {
    "papermill": {
     "duration": 0.083128,
     "end_time": "2021-07-21T03:49:17.439758",
     "exception": false,
     "start_time": "2021-07-21T03:49:17.356630",
     "status": "completed"
    },
    "tags": []
   },
   "source": [
    "### 三个逾期指标<a class=\"anchor\" id=\"2h\"></a>\n",
    "\n",
    "- NumberOfTime30-59DaysPastDueNotWorse 逾期30-59天但未恶化的数量\n",
    "- NumberOfTime60-89DaysPastDueNotWorse 逾期60-89天但未恶化的数量\n",
    "- NumberOfTimes90DaysLate 逾期90天的次数\n",
    "\n",
    "可以看出大于90的为明显的异常值"
   ]
  },
  {
   "cell_type": "code",
   "execution_count": 37,
   "id": "03f794c8",
   "metadata": {
    "execution": {
     "iopub.execute_input": "2021-07-21T03:49:17.641494Z",
     "iopub.status.busy": "2021-07-21T03:49:17.640897Z",
     "iopub.status.idle": "2021-07-21T03:49:18.053137Z",
     "shell.execute_reply": "2021-07-21T03:49:18.052514Z",
     "shell.execute_reply.started": "2021-07-21T03:37:49.776887Z"
    },
    "papermill": {
     "duration": 0.529964,
     "end_time": "2021-07-21T03:49:18.053274",
     "exception": false,
     "start_time": "2021-07-21T03:49:17.523310",
     "status": "completed"
    },
    "tags": []
   },
   "outputs": [
    {
     "name": "stderr",
     "output_type": "stream",
     "text": [
      "/opt/conda/lib/python3.7/site-packages/seaborn/_decorators.py:43: FutureWarning: Pass the following variable as a keyword arg: x. From version 0.12, the only valid positional argument will be `data`, and passing other arguments without an explicit keyword will result in an error or misinterpretation.\n",
      "  FutureWarning\n"
     ]
    },
    {
     "data": {
      "text/plain": [
       "<AxesSubplot:ylabel='NumberOfTime30-59DaysPastDueNotWorse'>"
      ]
     },
     "execution_count": 37,
     "metadata": {},
     "output_type": "execute_result"
    },
    {
     "data": {
      "image/png": "[encoded data removed]",
      "text/plain": [
       "<Figure size 1440x432 with 2 Axes>"
      ]
     },
     "metadata": {
      "needs_background": "light"
     },
     "output_type": "display_data"
    }
   ],
   "source": [
    "# NumberOfTime30-59DaysPastDueNotWorse 逾期30-59天但未恶化的数量\n",
    "fig,[ax1,ax2]=plt.subplots(1,2,figsize=(20,6))\n",
    "sns.countplot(df_train['NumberOfTime30-59DaysPastDueNotWorse'],ax=ax1)\n",
    "sns.boxplot(y=df_train['NumberOfTime30-59DaysPastDueNotWorse'],ax=ax2)"
   ]
  },
  {
   "cell_type": "code",
   "execution_count": 38,
   "id": "423fcafe",
   "metadata": {
    "execution": {
     "iopub.execute_input": "2021-07-21T03:49:18.265039Z",
     "iopub.status.busy": "2021-07-21T03:49:18.263478Z",
     "iopub.status.idle": "2021-07-21T03:49:18.593648Z",
     "shell.execute_reply": "2021-07-21T03:49:18.594047Z",
     "shell.execute_reply.started": "2021-07-21T03:37:56.290465Z"
    },
    "papermill": {
     "duration": 0.454318,
     "end_time": "2021-07-21T03:49:18.594213",
     "exception": false,
     "start_time": "2021-07-21T03:49:18.139895",
     "status": "completed"
    },
    "tags": []
   },
   "outputs": [
    {
     "name": "stderr",
     "output_type": "stream",
     "text": [
      "/opt/conda/lib/python3.7/site-packages/seaborn/_decorators.py:43: FutureWarning: Pass the following variable as a keyword arg: x. From version 0.12, the only valid positional argument will be `data`, and passing other arguments without an explicit keyword will result in an error or misinterpretation.\n",
      "  FutureWarning\n"
     ]
    },
    {
     "data": {
      "text/plain": [
       "<AxesSubplot:ylabel='NumberOfTime60-89DaysPastDueNotWorse'>"
      ]
     },
     "execution_count": 38,
     "metadata": {},
     "output_type": "execute_result"
    },
    {
     "data": {
      "image/png": "[encoded data removed]",
      "text/plain": [
       "<Figure size 1440x432 with 2 Axes>"
      ]
     },
     "metadata": {
      "needs_background": "light"
     },
     "output_type": "display_data"
    }
   ],
   "source": [
    "# NumberOfTime60-89DaysPastDueNotWorse 逾期60-89天但未恶化的数量\n",
    "fig,[ax1,ax2]=plt.subplots(1,2,figsize=(20,6))\n",
    "sns.countplot(df_train['NumberOfTime60-89DaysPastDueNotWorse'],ax=ax1)\n",
    "sns.boxplot(y=df_train['NumberOfTime60-89DaysPastDueNotWorse'],ax=ax2)"
   ]
  },
  {
   "cell_type": "code",
   "execution_count": 39,
   "id": "3bb0882f",
   "metadata": {
    "execution": {
     "iopub.execute_input": "2021-07-21T03:49:18.777129Z",
     "iopub.status.busy": "2021-07-21T03:49:18.776458Z",
     "iopub.status.idle": "2021-07-21T03:49:19.320657Z",
     "shell.execute_reply": "2021-07-21T03:49:19.320175Z",
     "shell.execute_reply.started": "2021-07-21T03:38:04.274566Z"
    },
    "papermill": {
     "duration": 0.635261,
     "end_time": "2021-07-21T03:49:19.320793",
     "exception": false,
     "start_time": "2021-07-21T03:49:18.685532",
     "status": "completed"
    },
    "tags": []
   },
   "outputs": [
    {
     "name": "stderr",
     "output_type": "stream",
     "text": [
      "/opt/conda/lib/python3.7/site-packages/seaborn/_decorators.py:43: FutureWarning: Pass the following variable as a keyword arg: x. From version 0.12, the only valid positional argument will be `data`, and passing other arguments without an explicit keyword will result in an error or misinterpretation.\n",
      "  FutureWarning\n"
     ]
    },
    {
     "data": {
      "text/plain": [
       "<AxesSubplot:ylabel='NumberOfTimes90DaysLate'>"
      ]
     },
     "execution_count": 39,
     "metadata": {},
     "output_type": "execute_result"
    },
    {
     "data": {
      "image/png": "[encoded data removed]",
      "text/plain": [
       "<Figure size 1440x432 with 2 Axes>"
      ]
     },
     "metadata": {
      "needs_background": "light"
     },
     "output_type": "display_data"
    }
   ],
   "source": [
    "# NumberOfTimes90DaysLate 逾期90天的次数\n",
    "fig,[ax1,ax2]=plt.subplots(1,2,figsize=(20,6))\n",
    "sns.countplot(df_train['NumberOfTimes90DaysLate'],ax=ax1)\n",
    "sns.boxplot(y=df_train['NumberOfTimes90DaysLate'],ax=ax2)"
   ]
  },
  {
   "cell_type": "markdown",
   "id": "1ef60351",
   "metadata": {
    "papermill": {
     "duration": 0.087842,
     "end_time": "2021-07-21T03:49:19.496670",
     "exception": false,
     "start_time": "2021-07-21T03:49:19.408828",
     "status": "completed"
    },
    "tags": []
   },
   "source": [
    "### 数据清洗<a class=\"anchor\" id=\"3\"></a>\n",
    "\n",
    "#### 异常值处理<a class=\"anchor\" id=\"3a\"></a>"
   ]
  },
  {
   "cell_type": "code",
   "execution_count": 40,
   "id": "9ed92252",
   "metadata": {
    "execution": {
     "iopub.execute_input": "2021-07-21T03:49:19.677709Z",
     "iopub.status.busy": "2021-07-21T03:49:19.677105Z",
     "iopub.status.idle": "2021-07-21T03:49:19.719752Z",
     "shell.execute_reply": "2021-07-21T03:49:19.720232Z",
     "shell.execute_reply.started": "2021-07-21T03:38:21.208426Z"
    },
    "papermill": {
     "duration": 0.135895,
     "end_time": "2021-07-21T03:49:19.720419",
     "exception": false,
     "start_time": "2021-07-21T03:49:19.584524",
     "status": "completed"
    },
    "tags": []
   },
   "outputs": [],
   "source": [
    "# age异常值处理\n",
    "df_train=df_train[df_train['age']>0]\n",
    "\n",
    "# 三个逾期指标的异常值处理\n",
    "# NumberOfTime30-59DaysPastDueNotWorse\n",
    "# NumberOfTime60-89DaysPastDueNotWorse\n",
    "# NumberOfTimes90DaysLate\n",
    "df_train=df_train[df_train['NumberOfTime30-59DaysPastDueNotWorse']<90]\n",
    "df_train=df_train[df_train['NumberOfTime60-89DaysPastDueNotWorse']<90]\n",
    "df_train=df_train[df_train['NumberOfTimes90DaysLate']<90]\n",
    "\n",
    "# NumberRealEstateLoansOrLines 异常值处理\n",
    "df_train=df_train[df_train['NumberRealEstateLoansOrLines']<50]"
   ]
  },
  {
   "cell_type": "markdown",
   "id": "4b0c41ba",
   "metadata": {
    "papermill": {
     "duration": 0.087733,
     "end_time": "2021-07-21T03:49:19.896404",
     "exception": false,
     "start_time": "2021-07-21T03:49:19.808671",
     "status": "completed"
    },
    "tags": []
   },
   "source": [
    "#### 缺失值处理<a class=\"anchor\" id=\"3b\"></a>"
   ]
  },
  {
   "cell_type": "code",
   "execution_count": 41,
   "id": "d589d9f4",
   "metadata": {
    "execution": {
     "iopub.execute_input": "2021-07-21T03:49:20.075560Z",
     "iopub.status.busy": "2021-07-21T03:49:20.074936Z",
     "iopub.status.idle": "2021-07-21T03:49:28.144029Z",
     "shell.execute_reply": "2021-07-21T03:49:28.143500Z",
     "shell.execute_reply.started": "2021-07-21T03:38:36.178188Z"
    },
    "papermill": {
     "duration": 8.159632,
     "end_time": "2021-07-21T03:49:28.144175",
     "exception": false,
     "start_time": "2021-07-21T03:49:19.984543",
     "status": "completed"
    },
    "tags": []
   },
   "outputs": [],
   "source": [
    "# NumberOfDependents 缺失值处理\n",
    "df_train['NumberOfDependents']=df_train['NumberOfDependents'].fillna('0')\n",
    "\n",
    "# MonthlyIncome缺失值处理\n",
    "# 随机森林预测缺失值\n",
    "df_Forest=df_train.iloc[:,[6,1,2,3,4,5,7,8,9]]\n",
    "MonthlyIncome_isnull=df_Forest.loc[df_train['MonthlyIncome'].isnull(),:]\n",
    "MonthlyIncome_notnull=df_Forest.loc[df_train['MonthlyIncome'].notnull(),:]\n",
    "\n",
    "from sklearn.ensemble import RandomForestRegressor\n",
    "X=MonthlyIncome_notnull.iloc[:,1:].values\n",
    "y=MonthlyIncome_notnull.iloc[:,0].values\n",
    "regr=RandomForestRegressor(max_depth=3, random_state=0,n_estimators=200,n_jobs=-1)\n",
    "regr.fit(X,y)\n",
    "MonthlyIncome_fillvalue=regr.predict(MonthlyIncome_isnull.iloc[:,1:].values).round(0)\n",
    "\n",
    "# 填充 MonthlyIncome 缺失值\n",
    "df_train.loc[df_train['MonthlyIncome'].isnull(),'MonthlyIncome']=MonthlyIncome_fillvalue"
   ]
  },
  {
   "cell_type": "markdown",
   "id": "0a502265",
   "metadata": {
    "papermill": {
     "duration": 0.088215,
     "end_time": "2021-07-21T03:49:28.320914",
     "exception": false,
     "start_time": "2021-07-21T03:49:28.232699",
     "status": "completed"
    },
    "tags": []
   },
   "source": [
    "### 特征工程<a class=\"anchor\" id=\"4\"></a>\n",
    "\n",
    "#### 衍生变量<a class=\"anchor\" id=\"4a\"></a>"
   ]
  },
  {
   "cell_type": "code",
   "execution_count": 42,
   "id": "92d22bea",
   "metadata": {
    "execution": {
     "iopub.execute_input": "2021-07-21T03:49:28.499488Z",
     "iopub.status.busy": "2021-07-21T03:49:28.498907Z",
     "iopub.status.idle": "2021-07-21T03:49:28.507637Z",
     "shell.execute_reply": "2021-07-21T03:49:28.507175Z",
     "shell.execute_reply.started": "2021-07-21T03:39:17.481546Z"
    },
    "papermill": {
     "duration": 0.098868,
     "end_time": "2021-07-21T03:49:28.507771",
     "exception": false,
     "start_time": "2021-07-21T03:49:28.408903",
     "status": "completed"
    },
    "tags": []
   },
   "outputs": [],
   "source": [
    "df_train['NumLate']=df_train['NumberOfTime30-59DaysPastDueNotWorse']+df_train['NumberOfTime60-89DaysPastDueNotWorse']+df_train['NumberOfTimes90DaysLate']\n",
    "df_train['MonthlyPayment']=df_train['DebtRatio']*df_train['MonthlyIncome']"
   ]
  },
  {
   "cell_type": "markdown",
   "id": "300cbfe5",
   "metadata": {
    "papermill": {
     "duration": 0.088168,
     "end_time": "2021-07-21T03:49:28.684727",
     "exception": false,
     "start_time": "2021-07-21T03:49:28.596559",
     "status": "completed"
    },
    "tags": []
   },
   "source": [
    "#### 数据分箱<a class=\"anchor\" id=\"4b\"></a>"
   ]
  },
  {
   "cell_type": "code",
   "execution_count": 43,
   "id": "24dc9791",
   "metadata": {
    "execution": {
     "iopub.execute_input": "2021-07-21T03:49:28.869527Z",
     "iopub.status.busy": "2021-07-21T03:49:28.868930Z",
     "iopub.status.idle": "2021-07-21T03:49:28.887771Z",
     "shell.execute_reply": "2021-07-21T03:49:28.888165Z",
     "shell.execute_reply.started": "2021-07-21T03:39:19.985374Z"
    },
    "papermill": {
     "duration": 0.114242,
     "end_time": "2021-07-21T03:49:28.888328",
     "exception": false,
     "start_time": "2021-07-21T03:49:28.774086",
     "status": "completed"
    },
    "tags": []
   },
   "outputs": [
    {
     "name": "stdout",
     "output_type": "stream",
     "text": [
      "<class 'pandas.core.frame.DataFrame'>\n",
      "Int64Index: 149730 entries, 0 to 149999\n",
      "Data columns (total 14 columns):\n",
      " #   Column                                Non-Null Count   Dtype  \n",
      "---  ------                                --------------   -----  \n",
      " 0   Unnamed: 0                            149730 non-null  int64  \n",
      " 1   SeriousDlqin2yrs                      149730 non-null  int64  \n",
      " 2   RevolvingUtilizationOfUnsecuredLines  149730 non-null  float64\n",
      " 3   age                                   149730 non-null  int64  \n",
      " 4   NumberOfTime30-59DaysPastDueNotWorse  149730 non-null  int64  \n",
      " 5   DebtRatio                             149730 non-null  float64\n",
      " 6   MonthlyIncome                         149730 non-null  float64\n",
      " 7   NumberOfOpenCreditLinesAndLoans       149730 non-null  int64  \n",
      " 8   NumberOfTimes90DaysLate               149730 non-null  int64  \n",
      " 9   NumberRealEstateLoansOrLines          149730 non-null  int64  \n",
      " 10  NumberOfTime60-89DaysPastDueNotWorse  149730 non-null  int64  \n",
      " 11  NumberOfDependents                    149730 non-null  object \n",
      " 12  NumLate                               149730 non-null  int64  \n",
      " 13  MonthlyPayment                        149730 non-null  float64\n",
      "dtypes: float64(4), int64(9), object(1)\n",
      "memory usage: 17.1+ MB\n"
     ]
    }
   ],
   "source": [
    "df_train.info()"
   ]
  },
  {
   "cell_type": "code",
   "execution_count": 44,
   "id": "151fba47",
   "metadata": {
    "execution": {
     "iopub.execute_input": "2021-07-21T03:49:29.069512Z",
     "iopub.status.busy": "2021-07-21T03:49:29.068524Z",
     "iopub.status.idle": "2021-07-21T03:49:29.086340Z",
     "shell.execute_reply": "2021-07-21T03:49:29.086778Z",
     "shell.execute_reply.started": "2021-07-21T03:39:26.967420Z"
    },
    "papermill": {
     "duration": 0.110335,
     "end_time": "2021-07-21T03:49:29.086953",
     "exception": false,
     "start_time": "2021-07-21T03:49:28.976618",
     "status": "completed"
    },
    "tags": []
   },
   "outputs": [],
   "source": [
    "# 数据类型转换\n",
    "df_train['NumberOfDependents']=df_train['NumberOfDependents'].astype('int64')\n",
    "df_train['MonthlyIncome']=df_train['MonthlyIncome'].astype('int64')\n",
    "df_train['MonthlyPayment']=df_train['MonthlyPayment'].astype('int64')"
   ]
  },
  {
   "cell_type": "code",
   "execution_count": 45,
   "id": "4eec2cfc",
   "metadata": {
    "execution": {
     "iopub.execute_input": "2021-07-21T03:49:29.269279Z",
     "iopub.status.busy": "2021-07-21T03:49:29.268341Z",
     "iopub.status.idle": "2021-07-21T03:49:29.299979Z",
     "shell.execute_reply": "2021-07-21T03:49:29.300399Z",
     "shell.execute_reply.started": "2021-07-21T03:39:32.857128Z"
    },
    "papermill": {
     "duration": 0.123993,
     "end_time": "2021-07-21T03:49:29.300588",
     "exception": false,
     "start_time": "2021-07-21T03:49:29.176595",
     "status": "completed"
    },
    "tags": []
   },
   "outputs": [],
   "source": [
    "# RevolvingUtilizationOfUnsecuredLines 分箱\n",
    "# 根据前文EDA分析，将大于20的数据与0-1的数据合并\n",
    "df_train.loc[(df_train['RevolvingUtilizationOfUnsecuredLines']<1),'RevolvingUtilizationOfUnsecuredLines']=0\n",
    "df_train.loc[(df_train['RevolvingUtilizationOfUnsecuredLines']>1)&(df_train['RevolvingUtilizationOfUnsecuredLines']<=20),'RevolvingUtilizationOfUnsecuredLines']=1\n",
    "df_train.loc[(df_train['RevolvingUtilizationOfUnsecuredLines']>20),'RevolvingUtilizationOfUnsecuredLines']=0 \n",
    "\n",
    "# DebtRatio 分箱\n",
    "df_train.loc[(df_train['DebtRatio']<1),'DebtRatio']=0\n",
    "df_train.loc[(df_train['DebtRatio']>1)&(df_train['DebtRatio']<2),'DebtRatio']=1\n",
    "df_train.loc[(df_train['DebtRatio']>=2),'DebtRatio']=0\n",
    "\n",
    "# NumberOfTime30-59DaysPastDueNotWorse \n",
    "# NumberOfTime60-89DaysPastDueNotWorse\n",
    "# NumberOfTimes90DaysLate\n",
    "# NumberRealEstateLoansOrLines\n",
    "# NumberOfDependents\n",
    "df_train.loc[(df_train['NumberOfTime30-59DaysPastDueNotWorse']>=8), 'NumberOfTime30-59DaysPastDueNotWorse'] = 8\n",
    "df_train.loc[(df_train['NumberOfTime60-89DaysPastDueNotWorse']>=7), 'NumberOfTime60-89DaysPastDueNotWorse'] = 7\n",
    "df_train.loc[(df_train['NumberOfTimes90DaysLate']>=10), 'NumberOfTimes90DaysLate'] = 10\n",
    "df_train.loc[(df_train['NumberRealEstateLoansOrLines']>=8), 'NumberRealEstateLoansOrLines'] = 8\n",
    "df_train.loc[(df_train['NumberOfDependents']>=7), 'NumberOfDependents'] = 7\n",
    "\n",
    "# NumLate 分箱\n",
    "df_train.loc[(df_train['NumLate']>1),'NumLate']=1 # 分为逾期和未逾期两种情况"
   ]
  },
  {
   "cell_type": "markdown",
   "id": "47913e8e",
   "metadata": {
    "papermill": {
     "duration": 0.088386,
     "end_time": "2021-07-21T03:49:29.478318",
     "exception": false,
     "start_time": "2021-07-21T03:49:29.389932",
     "status": "completed"
    },
    "tags": []
   },
   "source": [
    "#### 特征选择、变量筛选<a class=\"anchor\" id=\"4c\"></a>\n",
    "\n",
    "##### 变量相关性<a class=\"anchor\" id=\"4c1\"></a>"
   ]
  },
  {
   "cell_type": "code",
   "execution_count": 46,
   "id": "771e4203",
   "metadata": {
    "execution": {
     "iopub.execute_input": "2021-07-21T03:49:29.660416Z",
     "iopub.status.busy": "2021-07-21T03:49:29.659513Z",
     "iopub.status.idle": "2021-07-21T03:49:31.163169Z",
     "shell.execute_reply": "2021-07-21T03:49:31.163662Z",
     "shell.execute_reply.started": "2021-07-21T03:39:51.179581Z"
    },
    "papermill": {
     "duration": 1.595992,
     "end_time": "2021-07-21T03:49:31.163840",
     "exception": false,
     "start_time": "2021-07-21T03:49:29.567848",
     "status": "completed"
    },
    "tags": []
   },
   "outputs": [
    {
     "data": {
      "text/plain": [
       "<AxesSubplot:>"
      ]
     },
     "execution_count": 46,
     "metadata": {},
     "output_type": "execute_result"
    },
    {
     "data": {
      "image/png": "[encoded data removed]",
      "text/plain": [
       "<Figure size 1008x864 with 2 Axes>"
      ]
     },
     "metadata": {
      "needs_background": "light"
     },
     "output_type": "display_data"
    }
   ],
   "source": [
    "# 变量相关性\n",
    "corr=df_train.corr()\n",
    "plt.figure(figsize=(14,12))\n",
    "sns.heatmap(corr,annot=True,linewidths=.3,cmap='YlGnBu')"
   ]
  },
  {
   "cell_type": "markdown",
   "id": "8bcf8793",
   "metadata": {
    "papermill": {
     "duration": 0.094091,
     "end_time": "2021-07-21T03:49:31.354306",
     "exception": false,
     "start_time": "2021-07-21T03:49:31.260215",
     "status": "completed"
    },
    "tags": []
   },
   "source": [
    "##### WOE、IV值计算<a class=\"anchor\" id=\"4c2\"></a>\n",
    "\n",
    "| IV | 预测能力 |\n",
    "| :---: | :---: |\n",
    "| < 0.03 | 无预测能力 |\n",
    "| 0.03 ~ 0.09 | 低 |\n",
    "| 0.1 ~ 0.29 | 中 |\n",
    "| 0.3 ~ 0.49 | 高 |\n",
    "| >= 0.5 | 极高 |"
   ]
  },
  {
   "cell_type": "code",
   "execution_count": 47,
   "id": "b0d749c4",
   "metadata": {
    "execution": {
     "iopub.execute_input": "2021-07-21T03:49:31.553608Z",
     "iopub.status.busy": "2021-07-21T03:49:31.552933Z",
     "iopub.status.idle": "2021-07-21T03:49:31.555922Z",
     "shell.execute_reply": "2021-07-21T03:49:31.555413Z",
     "shell.execute_reply.started": "2021-07-21T03:40:18.909847Z"
    },
    "papermill": {
     "duration": 0.108387,
     "end_time": "2021-07-21T03:49:31.556063",
     "exception": false,
     "start_time": "2021-07-21T03:49:31.447676",
     "status": "completed"
    },
    "tags": []
   },
   "outputs": [],
   "source": [
    "def bin_woe(tar, var, n=None, cat=None):\n",
    "    \"\"\"\n",
    "    连续自变量分箱,woe,iv变换\n",
    "    tar:target目标变量\n",
    "    var:进行woe,iv转换的自变量\n",
    "    n:分组数量\n",
    "    \"\"\"\n",
    "    total_bad = tar.sum()\n",
    "    total_good =tar.count()-total_bad\n",
    "    totalRate = total_good/total_bad\n",
    "    \n",
    "    if cat == 's':\n",
    "        msheet = pd.DataFrame({tar.name:tar,var.name:var,'var_bins':pd.qcut(var, n, duplicates='drop')})\n",
    "        grouped = msheet.groupby(['var_bins'])\n",
    "    elif (cat == 'd') and (n is None):\n",
    "        msheet = pd.DataFrame({tar.name:tar,var.name:var})\n",
    "        grouped = msheet.groupby([var.name])\n",
    "        \n",
    "    groupBad = grouped.sum()[tar.name]\n",
    "    groupTotal = grouped.count()[tar.name]\n",
    "    groupGood = groupTotal - groupBad\n",
    "    groupRate = groupGood/groupBad\n",
    "    groupBadRate = groupBad/groupTotal\n",
    "    groupGoodRate = groupGood/groupTotal\n",
    "\n",
    "    woe = np.log(groupRate/totalRate)\n",
    "    iv = np.sum((groupGood/total_good-groupBad/total_bad)*woe)\n",
    "    \n",
    "    if cat == 's':\n",
    "        new_var, cut = pd.qcut(var, n, duplicates='drop',retbins=True, labels=woe.tolist())\n",
    "    elif cat == 'd':\n",
    "        dictmap = {}\n",
    "        for x in woe.index:\n",
    "            dictmap[x] = woe[x]\n",
    "        new_var, cut = var.map(dictmap), woe.index\n",
    "    \n",
    "    return woe.tolist(), iv, cut, new_var"
   ]
  },
  {
   "cell_type": "code",
   "execution_count": 48,
   "id": "f94f3aa5",
   "metadata": {
    "execution": {
     "iopub.execute_input": "2021-07-21T03:49:31.751404Z",
     "iopub.status.busy": "2021-07-21T03:49:31.750787Z",
     "iopub.status.idle": "2021-07-21T03:49:31.753346Z",
     "shell.execute_reply": "2021-07-21T03:49:31.753890Z",
     "shell.execute_reply.started": "2021-07-21T03:40:27.480385Z"
    },
    "papermill": {
     "duration": 0.101367,
     "end_time": "2021-07-21T03:49:31.754049",
     "exception": false,
     "start_time": "2021-07-21T03:49:31.652682",
     "status": "completed"
    },
    "tags": []
   },
   "outputs": [
    {
     "data": {
      "text/plain": [
       "Index(['Unnamed: 0', 'SeriousDlqin2yrs',\n",
       "       'RevolvingUtilizationOfUnsecuredLines', 'age',\n",
       "       'NumberOfTime30-59DaysPastDueNotWorse', 'DebtRatio', 'MonthlyIncome',\n",
       "       'NumberOfOpenCreditLinesAndLoans', 'NumberOfTimes90DaysLate',\n",
       "       'NumberRealEstateLoansOrLines', 'NumberOfTime60-89DaysPastDueNotWorse',\n",
       "       'NumberOfDependents', 'NumLate', 'MonthlyPayment'],\n",
       "      dtype='object')"
      ]
     },
     "execution_count": 48,
     "metadata": {},
     "output_type": "execute_result"
    }
   ],
   "source": [
    "df_train.columns"
   ]
  },
  {
   "cell_type": "code",
   "execution_count": 49,
   "id": "a6353516",
   "metadata": {
    "execution": {
     "iopub.execute_input": "2021-07-21T03:49:31.945753Z",
     "iopub.status.busy": "2021-07-21T03:49:31.945161Z",
     "iopub.status.idle": "2021-07-21T03:49:32.496332Z",
     "shell.execute_reply": "2021-07-21T03:49:32.495765Z",
     "shell.execute_reply.started": "2021-07-21T03:40:33.385545Z"
    },
    "papermill": {
     "duration": 0.648116,
     "end_time": "2021-07-21T03:49:32.496475",
     "exception": false,
     "start_time": "2021-07-21T03:49:31.848359",
     "status": "completed"
    },
    "tags": []
   },
   "outputs": [
    {
     "data": {
      "image/png": "[encoded data removed]",
      "text/plain": [
       "<Figure size 864x864 with 1 Axes>"
      ]
     },
     "metadata": {
      "needs_background": "light"
     },
     "output_type": "display_data"
    }
   ],
   "source": [
    "# 确定变量类型，连续变量还是离散变量\n",
    "dvar = ['RevolvingUtilizationOfUnsecuredLines',\n",
    "        'DebtRatio',\n",
    "        'NumberOfTime30-59DaysPastDueNotWorse',\n",
    "        'NumberOfTime60-89DaysPastDueNotWorse',\n",
    "        'NumberOfTimes90DaysLate',\n",
    "        'NumLate',\n",
    "        'NumberRealEstateLoansOrLines',\n",
    "        'NumberOfDependents']\n",
    "\n",
    "svar = ['MonthlyIncome','age','MonthlyPayment','NumberOfOpenCreditLinesAndLoans']\n",
    "\n",
    "# 可视化woe得分和iv得分\n",
    "def woe_vs(data):\n",
    "    cutdict = {}\n",
    "    ivdict = {}\n",
    "    woe_dict = {}\n",
    "    woe_var = pd.DataFrame()\n",
    "    for var in data.columns:\n",
    "        if var in dvar:\n",
    "            woe, iv, cut, new = bin_woe(data['SeriousDlqin2yrs'], data[var], cat='d')\n",
    "            woe_dict[var] = woe\n",
    "            woe_var[var] = new\n",
    "            ivdict[var] = iv\n",
    "            cutdict[var] = cut\n",
    "        elif var in svar:\n",
    "            woe, iv, cut, new = bin_woe(data['SeriousDlqin2yrs'], data[var], n=5, cat='s')\n",
    "            woe_dict[var] = woe\n",
    "            woe_var[var] = new\n",
    "            ivdict[var] = iv\n",
    "            cutdict[var] = cut\n",
    "            \n",
    "    ivdict = sorted(ivdict.items(), key=lambda x:x[1], reverse=False)\n",
    "    iv_vs = pd.DataFrame([x[1] for x in ivdict],index=[x[0] for x in ivdict],columns=['IV'])\n",
    "    ax = iv_vs.plot(kind='barh',\n",
    "                    figsize=(12,12),\n",
    "                    title='Feature IV',\n",
    "                    fontsize=10,\n",
    "                    width=0.8,\n",
    "                    color='#00688B')\n",
    "    ax.set_ylabel('Features')\n",
    "    ax.set_xlabel('IV of Features')\n",
    "    \n",
    "    return ivdict, woe_var, woe_dict, cutdict\n",
    "\n",
    "# woe转化\n",
    "ivinfo, woe_data, woe_dict, cut_dict = woe_vs(df_train)"
   ]
  },
  {
   "cell_type": "markdown",
   "id": "4be5b740",
   "metadata": {
    "papermill": {
     "duration": 0.093819,
     "end_time": "2021-07-21T03:49:32.688223",
     "exception": false,
     "start_time": "2021-07-21T03:49:32.594404",
     "status": "completed"
    },
    "tags": []
   },
   "source": [
    "筛选出IV值大于0.1的变量：\n",
    "\n",
    "- NumLate\n",
    "- NumberOfTimes90DaysLate\n",
    "- *NumberOfTime30-59DaysPastDueNotWorse*\n",
    "- NumberOfTime60-89DaysPastDueNotWorse\n",
    "- RevolvingUtilizationOfUnsecuredLines\n",
    "- age\n",
    "\n",
    "根据变量的相关性，NumLate 与 NumberOfTime30-59DaysPastDueNotWorse 相关系数0.7，强相关，舍去变量 NumberOfTime30-59DaysPastDueNotWorse。\n",
    "\n",
    "\n",
    "### 模型构建<a class=\"anchor\" id=\"5\"></a>\n",
    "\n",
    "#### 数据集切分<a class=\"anchor\" id=\"5a\"></a>"
   ]
  },
  {
   "cell_type": "code",
   "execution_count": 50,
   "id": "72003293",
   "metadata": {
    "execution": {
     "iopub.execute_input": "2021-07-21T03:49:32.885616Z",
     "iopub.status.busy": "2021-07-21T03:49:32.884997Z",
     "iopub.status.idle": "2021-07-21T03:49:32.913306Z",
     "shell.execute_reply": "2021-07-21T03:49:32.912733Z",
     "shell.execute_reply.started": "2021-07-21T03:40:58.002291Z"
    },
    "papermill": {
     "duration": 0.130372,
     "end_time": "2021-07-21T03:49:32.913466",
     "exception": false,
     "start_time": "2021-07-21T03:49:32.783094",
     "status": "completed"
    },
    "tags": []
   },
   "outputs": [],
   "source": [
    "# 分离训练集和验证集\n",
    "from sklearn.model_selection import train_test_split\n",
    "selected_columns=['NumLate','NumberOfTimes90DaysLate','NumberOfTime60-89DaysPastDueNotWorse','RevolvingUtilizationOfUnsecuredLines','age']\n",
    "X=woe_data[selected_columns]\n",
    "y=df_train['SeriousDlqin2yrs']\n",
    "X_train,X_test,y_train,y_test=train_test_split(X,y,random_state=42)"
   ]
  },
  {
   "cell_type": "markdown",
   "id": "e7bff1a5",
   "metadata": {
    "papermill": {
     "duration": 0.095165,
     "end_time": "2021-07-21T03:49:33.106575",
     "exception": false,
     "start_time": "2021-07-21T03:49:33.011410",
     "status": "completed"
    },
    "tags": []
   },
   "source": [
    "#### 逻辑回归模型<a class=\"anchor\" id=\"5b\"></a>"
   ]
  },
  {
   "cell_type": "code",
   "execution_count": 51,
   "id": "1e6ac686",
   "metadata": {
    "execution": {
     "iopub.execute_input": "2021-07-21T03:49:33.304680Z",
     "iopub.status.busy": "2021-07-21T03:49:33.304031Z",
     "iopub.status.idle": "2021-07-21T03:49:33.584583Z",
     "shell.execute_reply": "2021-07-21T03:49:33.585396Z",
     "shell.execute_reply.started": "2021-07-21T03:41:10.846727Z"
    },
    "papermill": {
     "duration": 0.384307,
     "end_time": "2021-07-21T03:49:33.585679",
     "exception": false,
     "start_time": "2021-07-21T03:49:33.201372",
     "status": "completed"
    },
    "tags": []
   },
   "outputs": [],
   "source": [
    "# Logistic模型建立\n",
    "from sklearn.linear_model import LogisticRegression\n",
    "\n",
    "# model=LogisticRegression(random_state=0,\n",
    "#                            solver=\"sag\",\n",
    "#                            penalty=\"l2\",\n",
    "#                            class_weight=\"balanced\",\n",
    "#                            C=1.0,\n",
    "#                            max_iter=500)\n",
    "model = LogisticRegression(random_state=42)\n",
    "model.fit(X_train, y_train)\n",
    "model_proba = model.predict_proba(X_test)#predict_proba返回的结果是一个数组，包含两个元素，第一个元素是标签为0的概率值，第二个元素是标签为1的概率值\n",
    "model_score=model_proba[:,1]"
   ]
  },
  {
   "cell_type": "code",
   "execution_count": 52,
   "id": "7494e2ba",
   "metadata": {
    "execution": {
     "iopub.execute_input": "2021-07-21T03:49:33.842977Z",
     "iopub.status.busy": "2021-07-21T03:49:33.842002Z",
     "iopub.status.idle": "2021-07-21T03:49:33.856834Z",
     "shell.execute_reply": "2021-07-21T03:49:33.857732Z",
     "shell.execute_reply.started": "2021-07-21T03:41:16.413513Z"
    },
    "papermill": {
     "duration": 0.120103,
     "end_time": "2021-07-21T03:49:33.857982",
     "exception": false,
     "start_time": "2021-07-21T03:49:33.737879",
     "status": "completed"
    },
    "tags": []
   },
   "outputs": [
    {
     "data": {
      "text/plain": [
       "0.9358854486682874"
      ]
     },
     "execution_count": 52,
     "metadata": {},
     "output_type": "execute_result"
    }
   ],
   "source": [
    "model.score(X_test, y_test)"
   ]
  },
  {
   "cell_type": "markdown",
   "id": "12a8f1f3",
   "metadata": {
    "papermill": {
     "duration": 0.096101,
     "end_time": "2021-07-21T03:49:34.097938",
     "exception": false,
     "start_time": "2021-07-21T03:49:34.001837",
     "status": "completed"
    },
    "tags": []
   },
   "source": [
    "### 模型评估<a class=\"anchor\" id=\"6\"></a>\n",
    "\n",
    "#### ROC曲线、AUC值<a class=\"anchor\" id=\"6a\"></a>"
   ]
  },
  {
   "cell_type": "code",
   "execution_count": 53,
   "id": "a5a7ccfb",
   "metadata": {
    "execution": {
     "iopub.execute_input": "2021-07-21T03:49:34.295380Z",
     "iopub.status.busy": "2021-07-21T03:49:34.294777Z",
     "iopub.status.idle": "2021-07-21T03:49:34.453437Z",
     "shell.execute_reply": "2021-07-21T03:49:34.453985Z",
     "shell.execute_reply.started": "2021-07-21T03:41:28.379943Z"
    },
    "papermill": {
     "duration": 0.260604,
     "end_time": "2021-07-21T03:49:34.454154",
     "exception": false,
     "start_time": "2021-07-21T03:49:34.193550",
     "status": "completed"
    },
    "tags": []
   },
   "outputs": [
    {
     "data": {
      "text/plain": [
       "<matplotlib.legend.Legend at 0x7f4d52149f90>"
      ]
     },
     "execution_count": 53,
     "metadata": {},
     "output_type": "execute_result"
    },
    {
     "data": {
      "image/png": "[encoded data removed]",
      "text/plain": [
       "<Figure size 432x288 with 1 Axes>"
      ]
     },
     "metadata": {
      "needs_background": "light"
     },
     "output_type": "display_data"
    }
   ],
   "source": [
    "#绘制ROC曲线，计算AUC值\n",
    "from sklearn.metrics import roc_curve, roc_auc_score\n",
    "fpr,tpr,thresholds =roc_curve(y_test, model_score)\n",
    "auc_score=roc_auc_score(y_test,model_score)\n",
    "plt.plot(fpr, tpr, linewidth=2, label='AUC = %0.2f'%auc_score)\n",
    "plt.plot([0,1],[0,1], \"k--\")\n",
    "plt.axis([0,1,0,1])\n",
    "plt.xlabel('FPR')\n",
    "plt.ylabel('TPR')\n",
    "plt.legend()"
   ]
  },
  {
   "cell_type": "markdown",
   "id": "7b11e2a7",
   "metadata": {
    "papermill": {
     "duration": 0.096076,
     "end_time": "2021-07-21T03:49:34.648062",
     "exception": false,
     "start_time": "2021-07-21T03:49:34.551986",
     "status": "completed"
    },
    "tags": []
   },
   "source": [
    "### 评分卡<a class=\"anchor\" id=\"6a\"></a>\n",
    "\n",
    "#### 参数换算\n",
    "\n",
    "设定比率$\\theta_0$的特定点的分值为$P_0$，$2\\theta_0$的分值点为$P_0 + PDO$。\n",
    "\n",
    "$$P_0 = A - B * log(\\theta_0)$$\n",
    "$$P_0 + PDO = A - B * log(2\\theta_0)$$\n",
    "\n",
    "解方程，得到常数$A,B$：\n",
    "\n",
    "$$B = PDO / log(2)$$\n",
    "$$A = P_0 + B * log(\\theta_0)$$\n",
    "\n",
    "设$P_0=600,PDO=20,\\theta_0=1/60$，即当比率为1:60(对应违约率1.64%)时，将分值设为600分，加20分，对应的违约概率减半。解得："
   ]
  },
  {
   "cell_type": "code",
   "execution_count": 54,
   "id": "97eda0d4",
   "metadata": {
    "execution": {
     "iopub.execute_input": "2021-07-21T03:49:34.844732Z",
     "iopub.status.busy": "2021-07-21T03:49:34.844156Z",
     "iopub.status.idle": "2021-07-21T03:49:34.849986Z",
     "shell.execute_reply": "2021-07-21T03:49:34.849465Z",
     "shell.execute_reply.started": "2021-07-21T03:41:52.128774Z"
    },
    "papermill": {
     "duration": 0.105719,
     "end_time": "2021-07-21T03:49:34.850120",
     "exception": false,
     "start_time": "2021-07-21T03:49:34.744401",
     "status": "completed"
    },
    "tags": []
   },
   "outputs": [
    {
     "name": "stdout",
     "output_type": "stream",
     "text": [
      "A=481.8621880878296, B=28.85390081777927\n"
     ]
    }
   ],
   "source": [
    "B = 20/np.log(2)\n",
    "A = 600 + B*np.log(1/60)\n",
    "print(\"A={}, B={}\".format(A,B))"
   ]
  },
  {
   "cell_type": "code",
   "execution_count": 55,
   "id": "864bb321",
   "metadata": {
    "execution": {
     "iopub.execute_input": "2021-07-21T03:49:35.050019Z",
     "iopub.status.busy": "2021-07-21T03:49:35.049357Z",
     "iopub.status.idle": "2021-07-21T03:49:35.051306Z",
     "shell.execute_reply": "2021-07-21T03:49:35.051717Z",
     "shell.execute_reply.started": "2021-07-21T03:42:00.517706Z"
    },
    "papermill": {
     "duration": 0.105077,
     "end_time": "2021-07-21T03:49:35.051878",
     "exception": false,
     "start_time": "2021-07-21T03:49:34.946801",
     "status": "completed"
    },
    "tags": []
   },
   "outputs": [],
   "source": [
    "intercept=model.intercept_\n",
    "coef=model.coef_.flatten().tolist()\n",
    "df_coef=pd.DataFrame({'feature':selected_columns,'coef':coef})"
   ]
  },
  {
   "cell_type": "code",
   "execution_count": 56,
   "id": "0bd8ea11",
   "metadata": {
    "execution": {
     "iopub.execute_input": "2021-07-21T03:49:35.247088Z",
     "iopub.status.busy": "2021-07-21T03:49:35.246458Z",
     "iopub.status.idle": "2021-07-21T03:49:35.254357Z",
     "shell.execute_reply": "2021-07-21T03:49:35.254760Z",
     "shell.execute_reply.started": "2021-07-21T03:42:06.782191Z"
    },
    "papermill": {
     "duration": 0.10714,
     "end_time": "2021-07-21T03:49:35.254923",
     "exception": false,
     "start_time": "2021-07-21T03:49:35.147783",
     "status": "completed"
    },
    "tags": []
   },
   "outputs": [
    {
     "data": {
      "text/html": [
       "<div>\n",
       "<style scoped>\n",
       "    .dataframe tbody tr th:only-of-type {\n",
       "        vertical-align: middle;\n",
       "    }\n",
       "\n",
       "    .dataframe tbody tr th {\n",
       "        vertical-align: top;\n",
       "    }\n",
       "\n",
       "    .dataframe thead th {\n",
       "        text-align: right;\n",
       "    }\n",
       "</style>\n",
       "<table border=\"1\" class=\"dataframe\">\n",
       "  <thead>\n",
       "    <tr style=\"text-align: right;\">\n",
       "      <th></th>\n",
       "      <th>feature</th>\n",
       "      <th>coef</th>\n",
       "    </tr>\n",
       "  </thead>\n",
       "  <tbody>\n",
       "    <tr>\n",
       "      <th>0</th>\n",
       "      <td>NumLate</td>\n",
       "      <td>-0.627100</td>\n",
       "    </tr>\n",
       "    <tr>\n",
       "      <th>1</th>\n",
       "      <td>NumberOfTimes90DaysLate</td>\n",
       "      <td>-0.474766</td>\n",
       "    </tr>\n",
       "    <tr>\n",
       "      <th>2</th>\n",
       "      <td>NumberOfTime60-89DaysPastDueNotWorse</td>\n",
       "      <td>-0.357322</td>\n",
       "    </tr>\n",
       "    <tr>\n",
       "      <th>3</th>\n",
       "      <td>RevolvingUtilizationOfUnsecuredLines</td>\n",
       "      <td>-0.475957</td>\n",
       "    </tr>\n",
       "    <tr>\n",
       "      <th>4</th>\n",
       "      <td>age</td>\n",
       "      <td>-0.679136</td>\n",
       "    </tr>\n",
       "  </tbody>\n",
       "</table>\n",
       "</div>"
      ],
      "text/plain": [
       "                                feature      coef\n",
       "0                               NumLate -0.627100\n",
       "1               NumberOfTimes90DaysLate -0.474766\n",
       "2  NumberOfTime60-89DaysPastDueNotWorse -0.357322\n",
       "3  RevolvingUtilizationOfUnsecuredLines -0.475957\n",
       "4                                   age -0.679136"
      ]
     },
     "execution_count": 56,
     "metadata": {},
     "output_type": "execute_result"
    }
   ],
   "source": [
    "df_coef"
   ]
  },
  {
   "cell_type": "markdown",
   "id": "98d69414",
   "metadata": {
    "papermill": {
     "duration": 0.095977,
     "end_time": "2021-07-21T03:49:35.447390",
     "exception": false,
     "start_time": "2021-07-21T03:49:35.351413",
     "status": "completed"
    },
    "tags": []
   },
   "source": [
    "#### 评分卡生成"
   ]
  },
  {
   "cell_type": "code",
   "execution_count": 57,
   "id": "5634575f",
   "metadata": {
    "execution": {
     "iopub.execute_input": "2021-07-21T03:49:35.642908Z",
     "iopub.status.busy": "2021-07-21T03:49:35.642321Z",
     "iopub.status.idle": "2021-07-21T03:49:35.647511Z",
     "shell.execute_reply": "2021-07-21T03:49:35.647930Z",
     "shell.execute_reply.started": "2021-07-21T03:42:30.421864Z"
    },
    "papermill": {
     "duration": 0.104456,
     "end_time": "2021-07-21T03:49:35.648093",
     "exception": false,
     "start_time": "2021-07-21T03:49:35.543637",
     "status": "completed"
    },
    "tags": []
   },
   "outputs": [
    {
     "data": {
      "text/plain": [
       "558.0"
      ]
     },
     "execution_count": 57,
     "metadata": {},
     "output_type": "execute_result"
    }
   ],
   "source": [
    "# 基础分\n",
    "score = round(A-B*intercept[0],0)\n",
    "score"
   ]
  },
  {
   "cell_type": "code",
   "execution_count": 58,
   "id": "b1733410",
   "metadata": {
    "execution": {
     "iopub.execute_input": "2021-07-21T03:49:35.851838Z",
     "iopub.status.busy": "2021-07-21T03:49:35.851045Z",
     "iopub.status.idle": "2021-07-21T03:49:35.854215Z",
     "shell.execute_reply": "2021-07-21T03:49:35.854668Z",
     "shell.execute_reply.started": "2021-07-21T03:42:35.929359Z"
    },
    "papermill": {
     "duration": 0.10976,
     "end_time": "2021-07-21T03:49:35.854831",
     "exception": false,
     "start_time": "2021-07-21T03:49:35.745071",
     "status": "completed"
    },
    "tags": []
   },
   "outputs": [
    {
     "data": {
      "text/plain": [
       "{'RevolvingUtilizationOfUnsecuredLines': Float64Index([0.0, 1.0], dtype='float64', name='RevolvingUtilizationOfUnsecuredLines'),\n",
       " 'age': array([ 21.,  39.,  48.,  56.,  65., 109.]),\n",
       " 'NumberOfTime30-59DaysPastDueNotWorse': Int64Index([0, 1, 2, 3, 4, 5, 6, 7, 8], dtype='int64', name='NumberOfTime30-59DaysPastDueNotWorse'),\n",
       " 'DebtRatio': Float64Index([0.0, 1.0], dtype='float64', name='DebtRatio'),\n",
       " 'MonthlyIncome': array([0.00000e+00, 2.38200e+03, 4.00000e+03, 5.92000e+03, 8.37700e+03,\n",
       "        3.00875e+06]),\n",
       " 'NumberOfOpenCreditLinesAndLoans': array([ 0.,  4.,  6.,  9., 12., 36.]),\n",
       " 'NumberOfTimes90DaysLate': Int64Index([0, 1, 2, 3, 4, 5, 6, 7, 8, 9, 10], dtype='int64', name='NumberOfTimes90DaysLate'),\n",
       " 'NumberRealEstateLoansOrLines': Int64Index([0, 1, 2, 3, 4, 5, 6, 7, 8], dtype='int64', name='NumberRealEstateLoansOrLines'),\n",
       " 'NumberOfTime60-89DaysPastDueNotWorse': Int64Index([0, 1, 2, 3, 4, 5, 6, 7], dtype='int64', name='NumberOfTime60-89DaysPastDueNotWorse'),\n",
       " 'NumberOfDependents': Int64Index([0, 1, 2, 3, 4, 5, 6, 7], dtype='int64', name='NumberOfDependents'),\n",
       " 'NumLate': Int64Index([0, 1], dtype='int64', name='NumLate'),\n",
       " 'MonthlyPayment': array([0.00000000e+00, 5.52000000e+02, 1.56000000e+03, 2.76500000e+03,\n",
       "        7.14000000e+03, 2.76159533e+09])}"
      ]
     },
     "execution_count": 58,
     "metadata": {},
     "output_type": "execute_result"
    }
   ],
   "source": [
    "cut_dict"
   ]
  },
  {
   "cell_type": "code",
   "execution_count": 59,
   "id": "260668dc",
   "metadata": {
    "execution": {
     "iopub.execute_input": "2021-07-21T03:49:36.056166Z",
     "iopub.status.busy": "2021-07-21T03:49:36.055543Z",
     "iopub.status.idle": "2021-07-21T03:49:36.061815Z",
     "shell.execute_reply": "2021-07-21T03:49:36.061252Z",
     "shell.execute_reply.started": "2021-07-21T03:42:41.954993Z"
    },
    "papermill": {
     "duration": 0.109189,
     "end_time": "2021-07-21T03:49:36.061951",
     "exception": false,
     "start_time": "2021-07-21T03:49:35.952762",
     "status": "completed"
    },
    "tags": []
   },
   "outputs": [
    {
     "data": {
      "text/plain": [
       "{'RevolvingUtilizationOfUnsecuredLines': [0.1192313100488483,\n",
       "  -2.2264112572193975],\n",
       " 'age': [-0.4871831280687727,\n",
       "  -0.25255703624491094,\n",
       "  -0.07829209771025719,\n",
       "  0.4301233835035746,\n",
       "  1.0541680947582983],\n",
       " 'NumberOfTime30-59DaysPastDueNotWorse': [0.5278296917051442,\n",
       "  -0.9176184609272902,\n",
       "  -1.630617320845461,\n",
       "  -2.0413861362550736,\n",
       "  -2.3507607419306393,\n",
       "  -2.4506769176621597,\n",
       "  -2.764576629256224,\n",
       "  -2.7242742502322015,\n",
       "  -2.244701169970315],\n",
       " 'DebtRatio': [0.030052578148372425, -0.749995396359342],\n",
       " 'MonthlyIncome': [-0.033300700391121936,\n",
       "  -0.33642946921766287,\n",
       "  -0.09943535174949214,\n",
       "  0.15905251049018698,\n",
       "  0.3817514072996404],\n",
       " 'NumberOfOpenCreditLinesAndLoans': [-0.31844287666651216,\n",
       "  0.11456424939282875,\n",
       "  0.20770482357731448,\n",
       "  0.10849776673108649,\n",
       "  -0.011341137621030463],\n",
       " 'NumberOfTimes90DaysLate': [0.3758252287402818,\n",
       "  -1.9718595525316482,\n",
       "  -2.64630775239095,\n",
       "  -2.96150254142815,\n",
       "  -3.35881764517439,\n",
       "  -3.1978058749671865,\n",
       "  -3.055631386186644,\n",
       "  -4.138243333508313,\n",
       "  -3.5664570099526345,\n",
       "  -3.6797856952596377,\n",
       "  -2.817220362741646],\n",
       " 'NumberRealEstateLoansOrLines': [-0.22026242110041308,\n",
       "  0.2427495480624601,\n",
       "  0.17471382386535528,\n",
       "  -0.01619974513562871,\n",
       "  -0.3291945588339947,\n",
       "  -0.6621268998057629,\n",
       "  -0.9155652226903731,\n",
       "  -1.1425110599543216,\n",
       "  -1.3168374525385016],\n",
       " 'NumberOfTime60-89DaysPastDueNotWorse': [0.27430888747172566,\n",
       "  -1.8503651025025687,\n",
       "  -2.657321943673892,\n",
       "  -2.915869443811485,\n",
       "  -3.1356740938601804,\n",
       "  -3.1297393583403657,\n",
       "  -3.7487785667465894,\n",
       "  -2.804316957905738],\n",
       " 'NumberOfDependents': [0.15699896344640205,\n",
       "  -0.10957722947865116,\n",
       "  -0.21540334973492223,\n",
       "  -0.31034785501774503,\n",
       "  -0.49120191436197946,\n",
       "  -0.3520027103423114,\n",
       "  -0.9303803084755138,\n",
       "  -0.21404979245991126],\n",
       " 'NumLate': [0.9236808344475159, -1.3834422631890684],\n",
       " 'MonthlyPayment': [0.0387442448683887,\n",
       "  -0.10064194170067012,\n",
       "  0.11824233959434997,\n",
       "  -0.10172201093009021,\n",
       "  0.06273882136118061]}"
      ]
     },
     "execution_count": 59,
     "metadata": {},
     "output_type": "execute_result"
    }
   ],
   "source": [
    "woe_dict"
   ]
  },
  {
   "cell_type": "code",
   "execution_count": 60,
   "id": "0845fa5c",
   "metadata": {
    "execution": {
     "iopub.execute_input": "2021-07-21T03:49:36.267478Z",
     "iopub.status.busy": "2021-07-21T03:49:36.266869Z",
     "iopub.status.idle": "2021-07-21T03:49:36.269825Z",
     "shell.execute_reply": "2021-07-21T03:49:36.270273Z",
     "shell.execute_reply.started": "2021-07-21T03:44:03.082475Z"
    },
    "papermill": {
     "duration": 0.110139,
     "end_time": "2021-07-21T03:49:36.270434",
     "exception": false,
     "start_time": "2021-07-21T03:49:36.160295",
     "status": "completed"
    },
    "tags": []
   },
   "outputs": [
    {
     "data": {
      "text/plain": [
       "{'RevolvingUtilizationOfUnsecuredLines': ['[0.0,1.0)', '[1.0,inf)'],\n",
       " 'age': ['[-inf,21.0)',\n",
       "  '[21.0,39.0)',\n",
       "  '[39.0,48.0)',\n",
       "  '[48.0,56.0)',\n",
       "  '[56.0,65.0)',\n",
       "  '[65.0,109.0)'],\n",
       " 'NumberOfTime30-59DaysPastDueNotWorse': ['[0,1)',\n",
       "  '[1,2)',\n",
       "  '[2,3)',\n",
       "  '[3,4)',\n",
       "  '[4,5)',\n",
       "  '[5,6)',\n",
       "  '[6,7)',\n",
       "  '[7,8)',\n",
       "  '[8,inf)'],\n",
       " 'DebtRatio': ['[0.0,1.0)', '[1.0,inf)'],\n",
       " 'MonthlyIncome': ['[0.0,2382.0)',\n",
       "  '[2382.0,4000.0)',\n",
       "  '[4000.0,5920.0)',\n",
       "  '[5920.0,8377.0)',\n",
       "  '[8377.0,3008750.0)',\n",
       "  '[3008750.0,inf)'],\n",
       " 'NumberOfOpenCreditLinesAndLoans': ['[0.0,4.0)',\n",
       "  '[4.0,6.0)',\n",
       "  '[6.0,9.0)',\n",
       "  '[9.0,12.0)',\n",
       "  '[12.0,36.0)',\n",
       "  '[36.0,inf)'],\n",
       " 'NumberOfTimes90DaysLate': ['[0,1)',\n",
       "  '[1,2)',\n",
       "  '[2,3)',\n",
       "  '[3,4)',\n",
       "  '[4,5)',\n",
       "  '[5,6)',\n",
       "  '[6,7)',\n",
       "  '[7,8)',\n",
       "  '[8,9)',\n",
       "  '[9,10)',\n",
       "  '[10,inf)'],\n",
       " 'NumberRealEstateLoansOrLines': ['[0,1)',\n",
       "  '[1,2)',\n",
       "  '[2,3)',\n",
       "  '[3,4)',\n",
       "  '[4,5)',\n",
       "  '[5,6)',\n",
       "  '[6,7)',\n",
       "  '[7,8)',\n",
       "  '[8,inf)'],\n",
       " 'NumberOfTime60-89DaysPastDueNotWorse': ['[0,1)',\n",
       "  '[1,2)',\n",
       "  '[2,3)',\n",
       "  '[3,4)',\n",
       "  '[4,5)',\n",
       "  '[5,6)',\n",
       "  '[6,7)',\n",
       "  '[7,inf)'],\n",
       " 'NumberOfDependents': ['[0,1)',\n",
       "  '[1,2)',\n",
       "  '[2,3)',\n",
       "  '[3,4)',\n",
       "  '[4,5)',\n",
       "  '[5,6)',\n",
       "  '[6,7)',\n",
       "  '[7,inf)'],\n",
       " 'NumLate': ['[0,1)', '[1,inf)'],\n",
       " 'MonthlyPayment': ['[0.0,552.0)',\n",
       "  '[552.0,1560.0)',\n",
       "  '[1560.0,2765.0)',\n",
       "  '[2765.0,7140.0)',\n",
       "  '[7140.0,2761595328.0)',\n",
       "  '[2761595328.0,inf)']}"
      ]
     },
     "execution_count": 60,
     "metadata": {},
     "output_type": "execute_result"
    }
   ],
   "source": [
    "# 分箱区间转换\n",
    "def cut_to_bin(cutlist):\n",
    "    cutlist_right = cutlist[1:] + ['inf']\n",
    "    binlist = [\"[{},{})\".format(a,b) for a,b in zip(cutlist,cutlist_right)]\n",
    "    return binlist\n",
    "\n",
    "def cut_to_bin2(cutlist):\n",
    "    cutlist_left = ['-inf'] + cutlist[:-1]\n",
    "    binlist = [\"[{},{})\".format(a,b) for a,b in zip(cutlist_left,cutlist)]\n",
    "    return binlist\n",
    "\n",
    "df_bins = cut_dict.copy()\n",
    "bins=[]\n",
    "for k,cutlist in cut_dict.items():\n",
    "    if k == 'age':\n",
    "        binlist = cut_to_bin2(list(cutlist))\n",
    "    else:\n",
    "        binlist = cut_to_bin(list(cutlist))\n",
    "    bins.append(binlist)\n",
    "    df_bins[k]=binlist\n",
    "    \n",
    "df_bins"
   ]
  },
  {
   "cell_type": "code",
   "execution_count": 61,
   "id": "18cb3d98",
   "metadata": {
    "execution": {
     "iopub.execute_input": "2021-07-21T03:49:36.470338Z",
     "iopub.status.busy": "2021-07-21T03:49:36.469763Z",
     "iopub.status.idle": "2021-07-21T03:49:36.499598Z",
     "shell.execute_reply": "2021-07-21T03:49:36.499135Z",
     "shell.execute_reply.started": "2021-07-21T03:44:11.122805Z"
    },
    "papermill": {
     "duration": 0.130783,
     "end_time": "2021-07-21T03:49:36.499732",
     "exception": false,
     "start_time": "2021-07-21T03:49:36.368949",
     "status": "completed"
    },
    "tags": []
   },
   "outputs": [
    {
     "data": {
      "text/html": [
       "<div>\n",
       "<style scoped>\n",
       "    .dataframe tbody tr th:only-of-type {\n",
       "        vertical-align: middle;\n",
       "    }\n",
       "\n",
       "    .dataframe tbody tr th {\n",
       "        vertical-align: top;\n",
       "    }\n",
       "\n",
       "    .dataframe thead th {\n",
       "        text-align: right;\n",
       "    }\n",
       "</style>\n",
       "<table border=\"1\" class=\"dataframe\">\n",
       "  <thead>\n",
       "    <tr style=\"text-align: right;\">\n",
       "      <th></th>\n",
       "      <th>feature</th>\n",
       "      <th>bins</th>\n",
       "      <th>woe</th>\n",
       "      <th>score</th>\n",
       "    </tr>\n",
       "  </thead>\n",
       "  <tbody>\n",
       "    <tr>\n",
       "      <th>0</th>\n",
       "      <td>RevolvingUtilizationOfUnsecuredLines</td>\n",
       "      <td>[0.0,1.0)</td>\n",
       "      <td>0.119231</td>\n",
       "      <td>2.0</td>\n",
       "    </tr>\n",
       "    <tr>\n",
       "      <th>1</th>\n",
       "      <td>RevolvingUtilizationOfUnsecuredLines</td>\n",
       "      <td>[1.0,inf)</td>\n",
       "      <td>-2.226411</td>\n",
       "      <td>-31.0</td>\n",
       "    </tr>\n",
       "    <tr>\n",
       "      <th>2</th>\n",
       "      <td>age</td>\n",
       "      <td>[-inf,21.0)</td>\n",
       "      <td>-0.487183</td>\n",
       "      <td>-10.0</td>\n",
       "    </tr>\n",
       "    <tr>\n",
       "      <th>3</th>\n",
       "      <td>age</td>\n",
       "      <td>[21.0,39.0)</td>\n",
       "      <td>-0.252557</td>\n",
       "      <td>-5.0</td>\n",
       "    </tr>\n",
       "    <tr>\n",
       "      <th>4</th>\n",
       "      <td>age</td>\n",
       "      <td>[39.0,48.0)</td>\n",
       "      <td>-0.078292</td>\n",
       "      <td>-2.0</td>\n",
       "    </tr>\n",
       "    <tr>\n",
       "      <th>5</th>\n",
       "      <td>age</td>\n",
       "      <td>[48.0,56.0)</td>\n",
       "      <td>0.430123</td>\n",
       "      <td>8.0</td>\n",
       "    </tr>\n",
       "    <tr>\n",
       "      <th>6</th>\n",
       "      <td>age</td>\n",
       "      <td>[56.0,65.0)</td>\n",
       "      <td>1.054168</td>\n",
       "      <td>21.0</td>\n",
       "    </tr>\n",
       "    <tr>\n",
       "      <th>7</th>\n",
       "      <td>NumberOfTimes90DaysLate</td>\n",
       "      <td>[0,1)</td>\n",
       "      <td>0.375825</td>\n",
       "      <td>5.0</td>\n",
       "    </tr>\n",
       "    <tr>\n",
       "      <th>8</th>\n",
       "      <td>NumberOfTimes90DaysLate</td>\n",
       "      <td>[1,2)</td>\n",
       "      <td>-1.971860</td>\n",
       "      <td>-27.0</td>\n",
       "    </tr>\n",
       "    <tr>\n",
       "      <th>9</th>\n",
       "      <td>NumberOfTimes90DaysLate</td>\n",
       "      <td>[2,3)</td>\n",
       "      <td>-2.646308</td>\n",
       "      <td>-36.0</td>\n",
       "    </tr>\n",
       "    <tr>\n",
       "      <th>10</th>\n",
       "      <td>NumberOfTimes90DaysLate</td>\n",
       "      <td>[3,4)</td>\n",
       "      <td>-2.961503</td>\n",
       "      <td>-41.0</td>\n",
       "    </tr>\n",
       "    <tr>\n",
       "      <th>11</th>\n",
       "      <td>NumberOfTimes90DaysLate</td>\n",
       "      <td>[4,5)</td>\n",
       "      <td>-3.358818</td>\n",
       "      <td>-46.0</td>\n",
       "    </tr>\n",
       "    <tr>\n",
       "      <th>12</th>\n",
       "      <td>NumberOfTimes90DaysLate</td>\n",
       "      <td>[5,6)</td>\n",
       "      <td>-3.197806</td>\n",
       "      <td>-44.0</td>\n",
       "    </tr>\n",
       "    <tr>\n",
       "      <th>13</th>\n",
       "      <td>NumberOfTimes90DaysLate</td>\n",
       "      <td>[6,7)</td>\n",
       "      <td>-3.055631</td>\n",
       "      <td>-42.0</td>\n",
       "    </tr>\n",
       "    <tr>\n",
       "      <th>14</th>\n",
       "      <td>NumberOfTimes90DaysLate</td>\n",
       "      <td>[7,8)</td>\n",
       "      <td>-4.138243</td>\n",
       "      <td>-57.0</td>\n",
       "    </tr>\n",
       "    <tr>\n",
       "      <th>15</th>\n",
       "      <td>NumberOfTimes90DaysLate</td>\n",
       "      <td>[8,9)</td>\n",
       "      <td>-3.566457</td>\n",
       "      <td>-49.0</td>\n",
       "    </tr>\n",
       "    <tr>\n",
       "      <th>16</th>\n",
       "      <td>NumberOfTimes90DaysLate</td>\n",
       "      <td>[9,10)</td>\n",
       "      <td>-3.679786</td>\n",
       "      <td>-50.0</td>\n",
       "    </tr>\n",
       "    <tr>\n",
       "      <th>17</th>\n",
       "      <td>NumberOfTimes90DaysLate</td>\n",
       "      <td>[10,inf)</td>\n",
       "      <td>-2.817220</td>\n",
       "      <td>-39.0</td>\n",
       "    </tr>\n",
       "    <tr>\n",
       "      <th>18</th>\n",
       "      <td>NumberOfTime60-89DaysPastDueNotWorse</td>\n",
       "      <td>[0,1)</td>\n",
       "      <td>0.274309</td>\n",
       "      <td>3.0</td>\n",
       "    </tr>\n",
       "    <tr>\n",
       "      <th>19</th>\n",
       "      <td>NumberOfTime60-89DaysPastDueNotWorse</td>\n",
       "      <td>[1,2)</td>\n",
       "      <td>-1.850365</td>\n",
       "      <td>-19.0</td>\n",
       "    </tr>\n",
       "    <tr>\n",
       "      <th>20</th>\n",
       "      <td>NumberOfTime60-89DaysPastDueNotWorse</td>\n",
       "      <td>[2,3)</td>\n",
       "      <td>-2.657322</td>\n",
       "      <td>-27.0</td>\n",
       "    </tr>\n",
       "    <tr>\n",
       "      <th>21</th>\n",
       "      <td>NumberOfTime60-89DaysPastDueNotWorse</td>\n",
       "      <td>[3,4)</td>\n",
       "      <td>-2.915869</td>\n",
       "      <td>-30.0</td>\n",
       "    </tr>\n",
       "    <tr>\n",
       "      <th>22</th>\n",
       "      <td>NumberOfTime60-89DaysPastDueNotWorse</td>\n",
       "      <td>[4,5)</td>\n",
       "      <td>-3.135674</td>\n",
       "      <td>-32.0</td>\n",
       "    </tr>\n",
       "    <tr>\n",
       "      <th>23</th>\n",
       "      <td>NumberOfTime60-89DaysPastDueNotWorse</td>\n",
       "      <td>[5,6)</td>\n",
       "      <td>-3.129739</td>\n",
       "      <td>-32.0</td>\n",
       "    </tr>\n",
       "    <tr>\n",
       "      <th>24</th>\n",
       "      <td>NumberOfTime60-89DaysPastDueNotWorse</td>\n",
       "      <td>[6,7)</td>\n",
       "      <td>-3.748779</td>\n",
       "      <td>-39.0</td>\n",
       "    </tr>\n",
       "    <tr>\n",
       "      <th>25</th>\n",
       "      <td>NumberOfTime60-89DaysPastDueNotWorse</td>\n",
       "      <td>[7,inf)</td>\n",
       "      <td>-2.804317</td>\n",
       "      <td>-29.0</td>\n",
       "    </tr>\n",
       "    <tr>\n",
       "      <th>26</th>\n",
       "      <td>NumLate</td>\n",
       "      <td>[0,1)</td>\n",
       "      <td>0.923681</td>\n",
       "      <td>17.0</td>\n",
       "    </tr>\n",
       "    <tr>\n",
       "      <th>27</th>\n",
       "      <td>NumLate</td>\n",
       "      <td>[1,inf)</td>\n",
       "      <td>-1.383442</td>\n",
       "      <td>-25.0</td>\n",
       "    </tr>\n",
       "  </tbody>\n",
       "</table>\n",
       "</div>"
      ],
      "text/plain": [
       "                                 feature         bins       woe  score\n",
       "0   RevolvingUtilizationOfUnsecuredLines    [0.0,1.0)  0.119231    2.0\n",
       "1   RevolvingUtilizationOfUnsecuredLines    [1.0,inf) -2.226411  -31.0\n",
       "2                                    age  [-inf,21.0) -0.487183  -10.0\n",
       "3                                    age  [21.0,39.0) -0.252557   -5.0\n",
       "4                                    age  [39.0,48.0) -0.078292   -2.0\n",
       "5                                    age  [48.0,56.0)  0.430123    8.0\n",
       "6                                    age  [56.0,65.0)  1.054168   21.0\n",
       "7                NumberOfTimes90DaysLate        [0,1)  0.375825    5.0\n",
       "8                NumberOfTimes90DaysLate        [1,2) -1.971860  -27.0\n",
       "9                NumberOfTimes90DaysLate        [2,3) -2.646308  -36.0\n",
       "10               NumberOfTimes90DaysLate        [3,4) -2.961503  -41.0\n",
       "11               NumberOfTimes90DaysLate        [4,5) -3.358818  -46.0\n",
       "12               NumberOfTimes90DaysLate        [5,6) -3.197806  -44.0\n",
       "13               NumberOfTimes90DaysLate        [6,7) -3.055631  -42.0\n",
       "14               NumberOfTimes90DaysLate        [7,8) -4.138243  -57.0\n",
       "15               NumberOfTimes90DaysLate        [8,9) -3.566457  -49.0\n",
       "16               NumberOfTimes90DaysLate       [9,10) -3.679786  -50.0\n",
       "17               NumberOfTimes90DaysLate     [10,inf) -2.817220  -39.0\n",
       "18  NumberOfTime60-89DaysPastDueNotWorse        [0,1)  0.274309    3.0\n",
       "19  NumberOfTime60-89DaysPastDueNotWorse        [1,2) -1.850365  -19.0\n",
       "20  NumberOfTime60-89DaysPastDueNotWorse        [2,3) -2.657322  -27.0\n",
       "21  NumberOfTime60-89DaysPastDueNotWorse        [3,4) -2.915869  -30.0\n",
       "22  NumberOfTime60-89DaysPastDueNotWorse        [4,5) -3.135674  -32.0\n",
       "23  NumberOfTime60-89DaysPastDueNotWorse        [5,6) -3.129739  -32.0\n",
       "24  NumberOfTime60-89DaysPastDueNotWorse        [6,7) -3.748779  -39.0\n",
       "25  NumberOfTime60-89DaysPastDueNotWorse      [7,inf) -2.804317  -29.0\n",
       "26                               NumLate        [0,1)  0.923681   17.0\n",
       "27                               NumLate      [1,inf) -1.383442  -25.0"
      ]
     },
     "execution_count": 61,
     "metadata": {},
     "output_type": "execute_result"
    }
   ],
   "source": [
    "features = []\n",
    "woelist = []\n",
    "binlist = []\n",
    "\n",
    "for k,v in woe_dict.items():\n",
    "    if k in selected_columns:\n",
    "        for n in range(0,len(v)):\n",
    "            features.append(k)\n",
    "            woelist.append(v[n])\n",
    "            \n",
    "            binlist.append(df_bins[k][n])\n",
    "            \n",
    "\n",
    "scoreboard = pd.DataFrame({'feature':features,'woe':woelist,'bins':binlist},\n",
    "                          columns=['feature','bins','woe'])\n",
    "\n",
    "score_card = pd.merge(scoreboard, df_coef)\n",
    "score_card['score'] = round(-B*score_card['woe']*score_card['coef'],0)\n",
    "score_card.drop('coef',axis=1,inplace=True)\n",
    "score_card"
   ]
  },
  {
   "cell_type": "markdown",
   "id": "4aa913fe",
   "metadata": {
    "papermill": {
     "duration": 0.098549,
     "end_time": "2021-07-21T03:49:36.696839",
     "exception": false,
     "start_time": "2021-07-21T03:49:36.598290",
     "status": "completed"
    },
    "tags": []
   },
   "source": [
    "为了方便查看，这里再分组排序下，每组按照分值的高低："
   ]
  },
  {
   "cell_type": "code",
   "execution_count": 62,
   "id": "2e1c34ab",
   "metadata": {
    "execution": {
     "iopub.execute_input": "2021-07-21T03:49:36.921221Z",
     "iopub.status.busy": "2021-07-21T03:49:36.920240Z",
     "iopub.status.idle": "2021-07-21T03:49:36.923826Z",
     "shell.execute_reply": "2021-07-21T03:49:36.924331Z",
     "shell.execute_reply.started": "2021-07-21T03:44:40.952489Z"
    },
    "papermill": {
     "duration": 0.128592,
     "end_time": "2021-07-21T03:49:36.924490",
     "exception": false,
     "start_time": "2021-07-21T03:49:36.795898",
     "status": "completed"
    },
    "tags": []
   },
   "outputs": [
    {
     "data": {
      "text/html": [
       "<div>\n",
       "<style scoped>\n",
       "    .dataframe tbody tr th:only-of-type {\n",
       "        vertical-align: middle;\n",
       "    }\n",
       "\n",
       "    .dataframe tbody tr th {\n",
       "        vertical-align: top;\n",
       "    }\n",
       "\n",
       "    .dataframe thead th {\n",
       "        text-align: right;\n",
       "    }\n",
       "</style>\n",
       "<table border=\"1\" class=\"dataframe\">\n",
       "  <thead>\n",
       "    <tr style=\"text-align: right;\">\n",
       "      <th></th>\n",
       "      <th></th>\n",
       "      <th>feature</th>\n",
       "      <th>bins</th>\n",
       "      <th>woe</th>\n",
       "      <th>score</th>\n",
       "    </tr>\n",
       "    <tr>\n",
       "      <th>feature</th>\n",
       "      <th></th>\n",
       "      <th></th>\n",
       "      <th></th>\n",
       "      <th></th>\n",
       "      <th></th>\n",
       "    </tr>\n",
       "  </thead>\n",
       "  <tbody>\n",
       "    <tr>\n",
       "      <th rowspan=\"2\" valign=\"top\">NumLate</th>\n",
       "      <th>26</th>\n",
       "      <td>NumLate</td>\n",
       "      <td>[0,1)</td>\n",
       "      <td>0.923681</td>\n",
       "      <td>17.0</td>\n",
       "    </tr>\n",
       "    <tr>\n",
       "      <th>27</th>\n",
       "      <td>NumLate</td>\n",
       "      <td>[1,inf)</td>\n",
       "      <td>-1.383442</td>\n",
       "      <td>-25.0</td>\n",
       "    </tr>\n",
       "    <tr>\n",
       "      <th rowspan=\"8\" valign=\"top\">NumberOfTime60-89DaysPastDueNotWorse</th>\n",
       "      <th>18</th>\n",
       "      <td>NumberOfTime60-89DaysPastDueNotWorse</td>\n",
       "      <td>[0,1)</td>\n",
       "      <td>0.274309</td>\n",
       "      <td>3.0</td>\n",
       "    </tr>\n",
       "    <tr>\n",
       "      <th>19</th>\n",
       "      <td>NumberOfTime60-89DaysPastDueNotWorse</td>\n",
       "      <td>[1,2)</td>\n",
       "      <td>-1.850365</td>\n",
       "      <td>-19.0</td>\n",
       "    </tr>\n",
       "    <tr>\n",
       "      <th>20</th>\n",
       "      <td>NumberOfTime60-89DaysPastDueNotWorse</td>\n",
       "      <td>[2,3)</td>\n",
       "      <td>-2.657322</td>\n",
       "      <td>-27.0</td>\n",
       "    </tr>\n",
       "    <tr>\n",
       "      <th>25</th>\n",
       "      <td>NumberOfTime60-89DaysPastDueNotWorse</td>\n",
       "      <td>[7,inf)</td>\n",
       "      <td>-2.804317</td>\n",
       "      <td>-29.0</td>\n",
       "    </tr>\n",
       "    <tr>\n",
       "      <th>21</th>\n",
       "      <td>NumberOfTime60-89DaysPastDueNotWorse</td>\n",
       "      <td>[3,4)</td>\n",
       "      <td>-2.915869</td>\n",
       "      <td>-30.0</td>\n",
       "    </tr>\n",
       "    <tr>\n",
       "      <th>22</th>\n",
       "      <td>NumberOfTime60-89DaysPastDueNotWorse</td>\n",
       "      <td>[4,5)</td>\n",
       "      <td>-3.135674</td>\n",
       "      <td>-32.0</td>\n",
       "    </tr>\n",
       "    <tr>\n",
       "      <th>23</th>\n",
       "      <td>NumberOfTime60-89DaysPastDueNotWorse</td>\n",
       "      <td>[5,6)</td>\n",
       "      <td>-3.129739</td>\n",
       "      <td>-32.0</td>\n",
       "    </tr>\n",
       "    <tr>\n",
       "      <th>24</th>\n",
       "      <td>NumberOfTime60-89DaysPastDueNotWorse</td>\n",
       "      <td>[6,7)</td>\n",
       "      <td>-3.748779</td>\n",
       "      <td>-39.0</td>\n",
       "    </tr>\n",
       "    <tr>\n",
       "      <th rowspan=\"11\" valign=\"top\">NumberOfTimes90DaysLate</th>\n",
       "      <th>7</th>\n",
       "      <td>NumberOfTimes90DaysLate</td>\n",
       "      <td>[0,1)</td>\n",
       "      <td>0.375825</td>\n",
       "      <td>5.0</td>\n",
       "    </tr>\n",
       "    <tr>\n",
       "      <th>8</th>\n",
       "      <td>NumberOfTimes90DaysLate</td>\n",
       "      <td>[1,2)</td>\n",
       "      <td>-1.971860</td>\n",
       "      <td>-27.0</td>\n",
       "    </tr>\n",
       "    <tr>\n",
       "      <th>9</th>\n",
       "      <td>NumberOfTimes90DaysLate</td>\n",
       "      <td>[2,3)</td>\n",
       "      <td>-2.646308</td>\n",
       "      <td>-36.0</td>\n",
       "    </tr>\n",
       "    <tr>\n",
       "      <th>17</th>\n",
       "      <td>NumberOfTimes90DaysLate</td>\n",
       "      <td>[10,inf)</td>\n",
       "      <td>-2.817220</td>\n",
       "      <td>-39.0</td>\n",
       "    </tr>\n",
       "    <tr>\n",
       "      <th>10</th>\n",
       "      <td>NumberOfTimes90DaysLate</td>\n",
       "      <td>[3,4)</td>\n",
       "      <td>-2.961503</td>\n",
       "      <td>-41.0</td>\n",
       "    </tr>\n",
       "    <tr>\n",
       "      <th>13</th>\n",
       "      <td>NumberOfTimes90DaysLate</td>\n",
       "      <td>[6,7)</td>\n",
       "      <td>-3.055631</td>\n",
       "      <td>-42.0</td>\n",
       "    </tr>\n",
       "    <tr>\n",
       "      <th>12</th>\n",
       "      <td>NumberOfTimes90DaysLate</td>\n",
       "      <td>[5,6)</td>\n",
       "      <td>-3.197806</td>\n",
       "      <td>-44.0</td>\n",
       "    </tr>\n",
       "    <tr>\n",
       "      <th>11</th>\n",
       "      <td>NumberOfTimes90DaysLate</td>\n",
       "      <td>[4,5)</td>\n",
       "      <td>-3.358818</td>\n",
       "      <td>-46.0</td>\n",
       "    </tr>\n",
       "    <tr>\n",
       "      <th>15</th>\n",
       "      <td>NumberOfTimes90DaysLate</td>\n",
       "      <td>[8,9)</td>\n",
       "      <td>-3.566457</td>\n",
       "      <td>-49.0</td>\n",
       "    </tr>\n",
       "    <tr>\n",
       "      <th>16</th>\n",
       "      <td>NumberOfTimes90DaysLate</td>\n",
       "      <td>[9,10)</td>\n",
       "      <td>-3.679786</td>\n",
       "      <td>-50.0</td>\n",
       "    </tr>\n",
       "    <tr>\n",
       "      <th>14</th>\n",
       "      <td>NumberOfTimes90DaysLate</td>\n",
       "      <td>[7,8)</td>\n",
       "      <td>-4.138243</td>\n",
       "      <td>-57.0</td>\n",
       "    </tr>\n",
       "    <tr>\n",
       "      <th rowspan=\"2\" valign=\"top\">RevolvingUtilizationOfUnsecuredLines</th>\n",
       "      <th>0</th>\n",
       "      <td>RevolvingUtilizationOfUnsecuredLines</td>\n",
       "      <td>[0.0,1.0)</td>\n",
       "      <td>0.119231</td>\n",
       "      <td>2.0</td>\n",
       "    </tr>\n",
       "    <tr>\n",
       "      <th>1</th>\n",
       "      <td>RevolvingUtilizationOfUnsecuredLines</td>\n",
       "      <td>[1.0,inf)</td>\n",
       "      <td>-2.226411</td>\n",
       "      <td>-31.0</td>\n",
       "    </tr>\n",
       "    <tr>\n",
       "      <th rowspan=\"5\" valign=\"top\">age</th>\n",
       "      <th>6</th>\n",
       "      <td>age</td>\n",
       "      <td>[56.0,65.0)</td>\n",
       "      <td>1.054168</td>\n",
       "      <td>21.0</td>\n",
       "    </tr>\n",
       "    <tr>\n",
       "      <th>5</th>\n",
       "      <td>age</td>\n",
       "      <td>[48.0,56.0)</td>\n",
       "      <td>0.430123</td>\n",
       "      <td>8.0</td>\n",
       "    </tr>\n",
       "    <tr>\n",
       "      <th>4</th>\n",
       "      <td>age</td>\n",
       "      <td>[39.0,48.0)</td>\n",
       "      <td>-0.078292</td>\n",
       "      <td>-2.0</td>\n",
       "    </tr>\n",
       "    <tr>\n",
       "      <th>3</th>\n",
       "      <td>age</td>\n",
       "      <td>[21.0,39.0)</td>\n",
       "      <td>-0.252557</td>\n",
       "      <td>-5.0</td>\n",
       "    </tr>\n",
       "    <tr>\n",
       "      <th>2</th>\n",
       "      <td>age</td>\n",
       "      <td>[-inf,21.0)</td>\n",
       "      <td>-0.487183</td>\n",
       "      <td>-10.0</td>\n",
       "    </tr>\n",
       "  </tbody>\n",
       "</table>\n",
       "</div>"
      ],
      "text/plain": [
       "                                                                      feature  \\\n",
       "feature                                                                         \n",
       "NumLate                              26                               NumLate   \n",
       "                                     27                               NumLate   \n",
       "NumberOfTime60-89DaysPastDueNotWorse 18  NumberOfTime60-89DaysPastDueNotWorse   \n",
       "                                     19  NumberOfTime60-89DaysPastDueNotWorse   \n",
       "                                     20  NumberOfTime60-89DaysPastDueNotWorse   \n",
       "                                     25  NumberOfTime60-89DaysPastDueNotWorse   \n",
       "                                     21  NumberOfTime60-89DaysPastDueNotWorse   \n",
       "                                     22  NumberOfTime60-89DaysPastDueNotWorse   \n",
       "                                     23  NumberOfTime60-89DaysPastDueNotWorse   \n",
       "                                     24  NumberOfTime60-89DaysPastDueNotWorse   \n",
       "NumberOfTimes90DaysLate              7                NumberOfTimes90DaysLate   \n",
       "                                     8                NumberOfTimes90DaysLate   \n",
       "                                     9                NumberOfTimes90DaysLate   \n",
       "                                     17               NumberOfTimes90DaysLate   \n",
       "                                     10               NumberOfTimes90DaysLate   \n",
       "                                     13               NumberOfTimes90DaysLate   \n",
       "                                     12               NumberOfTimes90DaysLate   \n",
       "                                     11               NumberOfTimes90DaysLate   \n",
       "                                     15               NumberOfTimes90DaysLate   \n",
       "                                     16               NumberOfTimes90DaysLate   \n",
       "                                     14               NumberOfTimes90DaysLate   \n",
       "RevolvingUtilizationOfUnsecuredLines 0   RevolvingUtilizationOfUnsecuredLines   \n",
       "                                     1   RevolvingUtilizationOfUnsecuredLines   \n",
       "age                                  6                                    age   \n",
       "                                     5                                    age   \n",
       "                                     4                                    age   \n",
       "                                     3                                    age   \n",
       "                                     2                                    age   \n",
       "\n",
       "                                                bins       woe  score  \n",
       "feature                                                                \n",
       "NumLate                              26        [0,1)  0.923681   17.0  \n",
       "                                     27      [1,inf) -1.383442  -25.0  \n",
       "NumberOfTime60-89DaysPastDueNotWorse 18        [0,1)  0.274309    3.0  \n",
       "                                     19        [1,2) -1.850365  -19.0  \n",
       "                                     20        [2,3) -2.657322  -27.0  \n",
       "                                     25      [7,inf) -2.804317  -29.0  \n",
       "                                     21        [3,4) -2.915869  -30.0  \n",
       "                                     22        [4,5) -3.135674  -32.0  \n",
       "                                     23        [5,6) -3.129739  -32.0  \n",
       "                                     24        [6,7) -3.748779  -39.0  \n",
       "NumberOfTimes90DaysLate              7         [0,1)  0.375825    5.0  \n",
       "                                     8         [1,2) -1.971860  -27.0  \n",
       "                                     9         [2,3) -2.646308  -36.0  \n",
       "                                     17     [10,inf) -2.817220  -39.0  \n",
       "                                     10        [3,4) -2.961503  -41.0  \n",
       "                                     13        [6,7) -3.055631  -42.0  \n",
       "                                     12        [5,6) -3.197806  -44.0  \n",
       "                                     11        [4,5) -3.358818  -46.0  \n",
       "                                     15        [8,9) -3.566457  -49.0  \n",
       "                                     16       [9,10) -3.679786  -50.0  \n",
       "                                     14        [7,8) -4.138243  -57.0  \n",
       "RevolvingUtilizationOfUnsecuredLines 0     [0.0,1.0)  0.119231    2.0  \n",
       "                                     1     [1.0,inf) -2.226411  -31.0  \n",
       "age                                  6   [56.0,65.0)  1.054168   21.0  \n",
       "                                     5   [48.0,56.0)  0.430123    8.0  \n",
       "                                     4   [39.0,48.0) -0.078292   -2.0  \n",
       "                                     3   [21.0,39.0) -0.252557   -5.0  \n",
       "                                     2   [-inf,21.0) -0.487183  -10.0  "
      ]
     },
     "execution_count": 62,
     "metadata": {},
     "output_type": "execute_result"
    }
   ],
   "source": [
    "scorecard_sorted = score_card.groupby('feature').apply(lambda x: x.sort_values('score', ascending=False))\n",
    "scorecard_sorted"
   ]
  },
  {
   "cell_type": "markdown",
   "id": "368230e8",
   "metadata": {
    "papermill": {
     "duration": 0.101498,
     "end_time": "2021-07-21T03:49:37.126317",
     "exception": false,
     "start_time": "2021-07-21T03:49:37.024819",
     "status": "completed"
    },
    "tags": []
   },
   "source": [
    "总体来说评分符合预期，例如NumberOfTime60-89DaysPastDueNotWorses越高，给的分数越低。\n",
    "\n",
    "#### 评分卡应用"
   ]
  },
  {
   "cell_type": "code",
   "execution_count": 63,
   "id": "54a794ba",
   "metadata": {
    "execution": {
     "iopub.execute_input": "2021-07-21T03:49:37.330008Z",
     "iopub.status.busy": "2021-07-21T03:49:37.329036Z",
     "iopub.status.idle": "2021-07-21T03:49:37.339646Z",
     "shell.execute_reply": "2021-07-21T03:49:37.340066Z",
     "shell.execute_reply.started": "2021-07-21T03:47:19.061093Z"
    },
    "papermill": {
     "duration": 0.113905,
     "end_time": "2021-07-21T03:49:37.340237",
     "exception": false,
     "start_time": "2021-07-21T03:49:37.226332",
     "status": "completed"
    },
    "tags": []
   },
   "outputs": [],
   "source": [
    "# 将输入数据映射到分箱，并且选取相应的分值来计算最后的信用评分\n",
    "def str_to_int(s):\n",
    "    if s == '-inf':\n",
    "        return -999999999.0\n",
    "    elif s=='inf':\n",
    "        return 999999999.0\n",
    "    else:\n",
    "        return float(s)\n",
    "    \n",
    "def map_value_to_bin(feature_value,feature_to_bin):\n",
    "    for idx, row in feature_to_bin.iterrows():\n",
    "        bins = str(row['bins'])\n",
    "        left_open = bins[0]==\"(\"\n",
    "        right_open = bins[-1]==\")\"\n",
    "        binnings = bins[1:-1].split(',')\n",
    "        in_range = True\n",
    "        # check left bound\n",
    "        if left_open:\n",
    "            if feature_value<= str_to_int(binnings[0]):\n",
    "                in_range = False   \n",
    "        else:\n",
    "            if feature_value< str_to_int(binnings[0]):\n",
    "                in_range = False   \n",
    "        #check right bound\n",
    "        if right_open:\n",
    "            if feature_value>= str_to_int(binnings[1]):\n",
    "                in_range = False \n",
    "        else:\n",
    "            if feature_value> str_to_int(binnings[1]):\n",
    "                in_range = False   \n",
    "        if in_range:\n",
    "            return row['bins']\n",
    "    return None\n",
    "\n",
    "def map_to_score(df,score_card):\n",
    "    scored_columns = list(score_card['feature'].unique())\n",
    "    score = 0\n",
    "    for col in scored_columns:\n",
    "        feature_to_bin = score_card[score_card['feature']==col]\n",
    "        feature_value = df[col]\n",
    "        selected_bin = map_value_to_bin(feature_value,feature_to_bin)\n",
    "        selected_record_in_scorecard = feature_to_bin[feature_to_bin['bins'] == selected_bin]\n",
    "        score += selected_record_in_scorecard['score'].iloc[0]\n",
    "    return score  \n",
    "\n",
    "def calculate_score_with_card(df,score_card,A):\n",
    "    df['score'] = df.apply(map_to_score,args=(score_card,),axis=1)\n",
    "    df['score'] = df['score']+A\n",
    "    df['score'] = df['score'].astype(int)\n",
    "    return df"
   ]
  },
  {
   "cell_type": "code",
   "execution_count": 64,
   "id": "cf79cfa6",
   "metadata": {
    "execution": {
     "iopub.execute_input": "2021-07-21T03:49:37.544117Z",
     "iopub.status.busy": "2021-07-21T03:49:37.543189Z",
     "iopub.status.idle": "2021-07-21T03:49:37.579697Z",
     "shell.execute_reply": "2021-07-21T03:49:37.580124Z",
     "shell.execute_reply.started": "2021-07-21T03:46:15.125258Z"
    },
    "papermill": {
     "duration": 0.14033,
     "end_time": "2021-07-21T03:49:37.580303",
     "exception": false,
     "start_time": "2021-07-21T03:49:37.439973",
     "status": "completed"
    },
    "tags": []
   },
   "outputs": [],
   "source": [
    "good_sample = df_train[df_train['SeriousDlqin2yrs']==0].sample(5, random_state=1)\n",
    "good_sample = good_sample[selected_columns]\n",
    "bad_sample = df_train[df_train['SeriousDlqin2yrs']==1].sample(5, random_state=1)\n",
    "bad_sample = bad_sample[selected_columns]"
   ]
  },
  {
   "cell_type": "code",
   "execution_count": 65,
   "id": "688fedc0",
   "metadata": {
    "execution": {
     "iopub.execute_input": "2021-07-21T03:49:37.783819Z",
     "iopub.status.busy": "2021-07-21T03:49:37.783209Z",
     "iopub.status.idle": "2021-07-21T03:49:37.785879Z",
     "shell.execute_reply": "2021-07-21T03:49:37.785392Z",
     "shell.execute_reply.started": "2021-07-21T03:47:22.437558Z"
    },
    "papermill": {
     "duration": 0.105882,
     "end_time": "2021-07-21T03:49:37.786030",
     "exception": false,
     "start_time": "2021-07-21T03:49:37.680148",
     "status": "completed"
    },
    "tags": []
   },
   "outputs": [],
   "source": [
    "#calculate_score_with_card(good_sample,score_card,A)"
   ]
  },
  {
   "cell_type": "code",
   "execution_count": 66,
   "id": "89d95c75",
   "metadata": {
    "execution": {
     "iopub.execute_input": "2021-07-21T03:49:38.000243Z",
     "iopub.status.busy": "2021-07-21T03:49:37.999647Z",
     "iopub.status.idle": "2021-07-21T03:49:38.037002Z",
     "shell.execute_reply": "2021-07-21T03:49:38.036349Z",
     "shell.execute_reply.started": "2021-07-21T03:48:00.227042Z"
    },
    "papermill": {
     "duration": 0.149151,
     "end_time": "2021-07-21T03:49:38.037140",
     "exception": false,
     "start_time": "2021-07-21T03:49:37.887989",
     "status": "completed"
    },
    "tags": []
   },
   "outputs": [
    {
     "data": {
      "text/html": [
       "<div>\n",
       "<style scoped>\n",
       "    .dataframe tbody tr th:only-of-type {\n",
       "        vertical-align: middle;\n",
       "    }\n",
       "\n",
       "    .dataframe tbody tr th {\n",
       "        vertical-align: top;\n",
       "    }\n",
       "\n",
       "    .dataframe thead th {\n",
       "        text-align: right;\n",
       "    }\n",
       "</style>\n",
       "<table border=\"1\" class=\"dataframe\">\n",
       "  <thead>\n",
       "    <tr style=\"text-align: right;\">\n",
       "      <th></th>\n",
       "      <th>NumLate</th>\n",
       "      <th>NumberOfTimes90DaysLate</th>\n",
       "      <th>NumberOfTime60-89DaysPastDueNotWorse</th>\n",
       "      <th>RevolvingUtilizationOfUnsecuredLines</th>\n",
       "      <th>age</th>\n",
       "      <th>score</th>\n",
       "    </tr>\n",
       "  </thead>\n",
       "  <tbody>\n",
       "    <tr>\n",
       "      <th>75002</th>\n",
       "      <td>0</td>\n",
       "      <td>0</td>\n",
       "      <td>0</td>\n",
       "      <td>0.0</td>\n",
       "      <td>44</td>\n",
       "      <td>506</td>\n",
       "    </tr>\n",
       "    <tr>\n",
       "      <th>42079</th>\n",
       "      <td>1</td>\n",
       "      <td>2</td>\n",
       "      <td>0</td>\n",
       "      <td>0.0</td>\n",
       "      <td>51</td>\n",
       "      <td>433</td>\n",
       "    </tr>\n",
       "    <tr>\n",
       "      <th>132295</th>\n",
       "      <td>0</td>\n",
       "      <td>0</td>\n",
       "      <td>0</td>\n",
       "      <td>0.0</td>\n",
       "      <td>44</td>\n",
       "      <td>506</td>\n",
       "    </tr>\n",
       "    <tr>\n",
       "      <th>87494</th>\n",
       "      <td>0</td>\n",
       "      <td>0</td>\n",
       "      <td>0</td>\n",
       "      <td>0.0</td>\n",
       "      <td>47</td>\n",
       "      <td>506</td>\n",
       "    </tr>\n",
       "    <tr>\n",
       "      <th>83105</th>\n",
       "      <td>1</td>\n",
       "      <td>0</td>\n",
       "      <td>1</td>\n",
       "      <td>0.0</td>\n",
       "      <td>34</td>\n",
       "      <td>439</td>\n",
       "    </tr>\n",
       "  </tbody>\n",
       "</table>\n",
       "</div>"
      ],
      "text/plain": [
       "        NumLate  NumberOfTimes90DaysLate  \\\n",
       "75002         0                        0   \n",
       "42079         1                        2   \n",
       "132295        0                        0   \n",
       "87494         0                        0   \n",
       "83105         1                        0   \n",
       "\n",
       "        NumberOfTime60-89DaysPastDueNotWorse  \\\n",
       "75002                                      0   \n",
       "42079                                      0   \n",
       "132295                                     0   \n",
       "87494                                      0   \n",
       "83105                                      1   \n",
       "\n",
       "        RevolvingUtilizationOfUnsecuredLines  age  score  \n",
       "75002                                    0.0   44    506  \n",
       "42079                                    0.0   51    433  \n",
       "132295                                   0.0   44    506  \n",
       "87494                                    0.0   47    506  \n",
       "83105                                    0.0   34    439  "
      ]
     },
     "execution_count": 66,
     "metadata": {},
     "output_type": "execute_result"
    }
   ],
   "source": [
    "calculate_score_with_card(bad_sample,score_card,A)"
   ]
  },
  {
   "cell_type": "markdown",
   "id": "d3ef42f0",
   "metadata": {
    "papermill": {
     "duration": 0.099036,
     "end_time": "2021-07-21T03:49:38.235511",
     "exception": false,
     "start_time": "2021-07-21T03:49:38.136475",
     "status": "completed"
    },
    "tags": []
   },
   "source": [
    "### 参考链接<a class=\"anchor\" id=\"8\"></a>\n",
    "\n",
    "- https://www.kaggle.com/c/GiveMeSomeCredit/data\n",
    "- https://www.kaggle.com/orange90/credit-scorecard-example\n",
    "- https://zhuanlan.zhihu.com/p/50051580\n",
    "- https://www.jianshu.com/p/f60c9a7a3ec8\n",
    "- https://zhuanlan.zhihu.com/p/31229720\n",
    "- https://blog.csdn.net/PbGc396Dwxjb77F2je/article/details/78786994"
   ]
  },
  {
   "cell_type": "code",
   "execution_count": null,
   "id": "28735b1a",
   "metadata": {
    "papermill": {
     "duration": 0.112122,
     "end_time": "2021-07-21T03:49:38.446491",
     "exception": false,
     "start_time": "2021-07-21T03:49:38.334369",
     "status": "completed"
    },
    "tags": []
   },
   "outputs": [],
   "source": []
  }
 ],
 "metadata": {
  "kernelspec": {
   "display_name": "Python 3 (ipykernel)",
   "language": "python",
   "name": "python3"
  },
  "language_info": {
   "codemirror_mode": {
    "name": "ipython",
    "version": 3
   },
   "file_extension": ".py",
   "mimetype": "text/x-python",
   "name": "python",
   "nbconvert_exporter": "python",
   "pygments_lexer": "ipython3",
   "version": "3.8.2"
  },
  "papermill": {
   "default_parameters": {},
   "duration": 54.006503,
   "end_time": "2021-07-21T03:49:39.833908",
   "environment_variables": {},
   "exception": null,
   "input_path": "__notebook__.ipynb",
   "output_path": "__notebook__.ipynb",
   "parameters": {},
   "start_time": "2021-07-21T03:48:45.827405",
   "version": "2.3.3"
  }
 },
 "nbformat": 4,
 "nbformat_minor": 5
}
