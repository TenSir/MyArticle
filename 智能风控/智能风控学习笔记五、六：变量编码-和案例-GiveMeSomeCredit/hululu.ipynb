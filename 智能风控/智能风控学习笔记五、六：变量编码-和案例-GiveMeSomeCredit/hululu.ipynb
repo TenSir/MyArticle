{
 "cells": [
  {
   "cell_type": "code",
   "execution_count": 1,
   "id": "missing-birmingham",
   "metadata": {
    "_cell_guid": "b1076dfc-b9ad-4769-8c92-a6c4dae69d19",
    "_uuid": "8f2839f25d086af736a60e9eeb907d3b93b6e0e5",
    "execution": {
     "iopub.execute_input": "2021-07-07T14:56:04.726433Z",
     "iopub.status.busy": "2021-07-07T14:56:04.725924Z",
     "iopub.status.idle": "2021-07-07T14:56:04.732914Z",
     "shell.execute_reply": "2021-07-07T14:56:04.732405Z",
     "shell.execute_reply.started": "2021-07-07T14:39:38.639017Z"
    },
    "papermill": {
     "duration": 0.076509,
     "end_time": "2021-07-07T14:56:04.733045",
     "exception": false,
     "start_time": "2021-07-07T14:56:04.656536",
     "status": "completed"
    },
    "tags": []
   },
   "outputs": [
    {
     "name": "stdout",
     "output_type": "stream",
     "text": [
      "/kaggle/input/GiveMeSomeCredit/Data Dictionary.xls\n",
      "/kaggle/input/GiveMeSomeCredit/cs-training.csv\n",
      "/kaggle/input/GiveMeSomeCredit/sampleEntry.csv\n",
      "/kaggle/input/GiveMeSomeCredit/cs-test.csv\n"
     ]
    }
   ],
   "source": [
    "# This Python 3 environment comes with many helpful analytics libraries installed\n",
    "# It is defined by the kaggle/python Docker image: https://github.com/kaggle/docker-python\n",
    "# For example, here's several helpful packages to load\n",
    "\n",
    "import numpy as np # linear algebra\n",
    "import pandas as pd # data processing, CSV file I/O (e.g. pd.read_csv)\n",
    "\n",
    "# Input data files are available in the read-only \"../input/\" directory\n",
    "# For example, running this (by clicking run or pressing Shift+Enter) will list all files under the input directory\n",
    "\n",
    "import os\n",
    "for dirname, _, filenames in os.walk('/kaggle/input'):\n",
    "    for filename in filenames:\n",
    "        print(os.path.join(dirname, filename))\n",
    "\n",
    "# You can write up to 20GB to the current directory (/kaggle/working/) that gets preserved as output when you create a version using \"Save & Run All\" \n",
    "# You can also write temporary files to /kaggle/temp/, but they won't be saved outside of the current session"
   ]
  },
  {
   "cell_type": "markdown",
   "id": "disciplinary-batman",
   "metadata": {
    "papermill": {
     "duration": 0.059185,
     "end_time": "2021-07-07T14:56:04.851283",
     "exception": false,
     "start_time": "2021-07-07T14:56:04.792098",
     "status": "completed"
    },
    "tags": []
   },
   "source": [
    "# **一.准备工作**\n",
    "## 1.1导入相关库"
   ]
  },
  {
   "cell_type": "code",
   "execution_count": 2,
   "id": "combined-bracket",
   "metadata": {
    "execution": {
     "iopub.execute_input": "2021-07-07T14:56:04.972384Z",
     "iopub.status.busy": "2021-07-07T14:56:04.971842Z",
     "iopub.status.idle": "2021-07-07T14:56:05.583426Z",
     "shell.execute_reply": "2021-07-07T14:56:05.582567Z",
     "shell.execute_reply.started": "2021-07-07T14:39:39.564966Z"
    },
    "papermill": {
     "duration": 0.674418,
     "end_time": "2021-07-07T14:56:05.583565",
     "exception": false,
     "start_time": "2021-07-07T14:56:04.909147",
     "status": "completed"
    },
    "tags": []
   },
   "outputs": [],
   "source": [
    "import numpy as np\n",
    "import pandas as pd\n",
    "import seaborn as sns\n",
    "import matplotlib.pyplot as plt\n",
    "import warnings\n",
    "warnings.filterwarnings(\"ignore\")\n",
    "%matplotlib inline"
   ]
  },
  {
   "cell_type": "markdown",
   "id": "gentle-cargo",
   "metadata": {
    "papermill": {
     "duration": 0.058051,
     "end_time": "2021-07-07T14:56:05.701141",
     "exception": false,
     "start_time": "2021-07-07T14:56:05.643090",
     "status": "completed"
    },
    "tags": []
   },
   "source": [
    "## 1.2读取数据"
   ]
  },
  {
   "cell_type": "code",
   "execution_count": 3,
   "id": "tamil-mobility",
   "metadata": {
    "execution": {
     "iopub.execute_input": "2021-07-07T14:56:05.854238Z",
     "iopub.status.busy": "2021-07-07T14:56:05.853709Z",
     "iopub.status.idle": "2021-07-07T14:56:06.499829Z",
     "shell.execute_reply": "2021-07-07T14:56:06.500286Z",
     "shell.execute_reply.started": "2021-07-07T14:39:40.123820Z"
    },
    "papermill": {
     "duration": 0.713938,
     "end_time": "2021-07-07T14:56:06.500467",
     "exception": false,
     "start_time": "2021-07-07T14:56:05.786529",
     "status": "completed"
    },
    "tags": []
   },
   "outputs": [
    {
     "data": {
      "text/html": [
       "<div>\n",
       "<style scoped>\n",
       "    .dataframe tbody tr th:only-of-type {\n",
       "        vertical-align: middle;\n",
       "    }\n",
       "\n",
       "    .dataframe tbody tr th {\n",
       "        vertical-align: top;\n",
       "    }\n",
       "\n",
       "    .dataframe thead th {\n",
       "        text-align: right;\n",
       "    }\n",
       "</style>\n",
       "<table border=\"1\" class=\"dataframe\">\n",
       "  <thead>\n",
       "    <tr style=\"text-align: right;\">\n",
       "      <th></th>\n",
       "      <th>Unnamed: 0</th>\n",
       "      <th>SeriousDlqin2yrs</th>\n",
       "      <th>RevolvingUtilizationOfUnsecuredLines</th>\n",
       "      <th>age</th>\n",
       "      <th>NumberOfTime30-59DaysPastDueNotWorse</th>\n",
       "      <th>DebtRatio</th>\n",
       "      <th>MonthlyIncome</th>\n",
       "      <th>NumberOfOpenCreditLinesAndLoans</th>\n",
       "      <th>NumberOfTimes90DaysLate</th>\n",
       "      <th>NumberRealEstateLoansOrLines</th>\n",
       "      <th>NumberOfTime60-89DaysPastDueNotWorse</th>\n",
       "      <th>NumberOfDependents</th>\n",
       "    </tr>\n",
       "  </thead>\n",
       "  <tbody>\n",
       "    <tr>\n",
       "      <th>0</th>\n",
       "      <td>1</td>\n",
       "      <td>1</td>\n",
       "      <td>0.766127</td>\n",
       "      <td>45</td>\n",
       "      <td>2</td>\n",
       "      <td>0.802982</td>\n",
       "      <td>9120.0</td>\n",
       "      <td>13</td>\n",
       "      <td>0</td>\n",
       "      <td>6</td>\n",
       "      <td>0</td>\n",
       "      <td>2.0</td>\n",
       "    </tr>\n",
       "    <tr>\n",
       "      <th>1</th>\n",
       "      <td>2</td>\n",
       "      <td>0</td>\n",
       "      <td>0.957151</td>\n",
       "      <td>40</td>\n",
       "      <td>0</td>\n",
       "      <td>0.121876</td>\n",
       "      <td>2600.0</td>\n",
       "      <td>4</td>\n",
       "      <td>0</td>\n",
       "      <td>0</td>\n",
       "      <td>0</td>\n",
       "      <td>1.0</td>\n",
       "    </tr>\n",
       "    <tr>\n",
       "      <th>2</th>\n",
       "      <td>3</td>\n",
       "      <td>0</td>\n",
       "      <td>0.658180</td>\n",
       "      <td>38</td>\n",
       "      <td>1</td>\n",
       "      <td>0.085113</td>\n",
       "      <td>3042.0</td>\n",
       "      <td>2</td>\n",
       "      <td>1</td>\n",
       "      <td>0</td>\n",
       "      <td>0</td>\n",
       "      <td>0.0</td>\n",
       "    </tr>\n",
       "    <tr>\n",
       "      <th>3</th>\n",
       "      <td>4</td>\n",
       "      <td>0</td>\n",
       "      <td>0.233810</td>\n",
       "      <td>30</td>\n",
       "      <td>0</td>\n",
       "      <td>0.036050</td>\n",
       "      <td>3300.0</td>\n",
       "      <td>5</td>\n",
       "      <td>0</td>\n",
       "      <td>0</td>\n",
       "      <td>0</td>\n",
       "      <td>0.0</td>\n",
       "    </tr>\n",
       "    <tr>\n",
       "      <th>4</th>\n",
       "      <td>5</td>\n",
       "      <td>0</td>\n",
       "      <td>0.907239</td>\n",
       "      <td>49</td>\n",
       "      <td>1</td>\n",
       "      <td>0.024926</td>\n",
       "      <td>63588.0</td>\n",
       "      <td>7</td>\n",
       "      <td>0</td>\n",
       "      <td>1</td>\n",
       "      <td>0</td>\n",
       "      <td>0.0</td>\n",
       "    </tr>\n",
       "  </tbody>\n",
       "</table>\n",
       "</div>"
      ],
      "text/plain": [
       "   Unnamed: 0  SeriousDlqin2yrs  RevolvingUtilizationOfUnsecuredLines  age  \\\n",
       "0           1                 1                              0.766127   45   \n",
       "1           2                 0                              0.957151   40   \n",
       "2           3                 0                              0.658180   38   \n",
       "3           4                 0                              0.233810   30   \n",
       "4           5                 0                              0.907239   49   \n",
       "\n",
       "   NumberOfTime30-59DaysPastDueNotWorse  DebtRatio  MonthlyIncome  \\\n",
       "0                                     2   0.802982         9120.0   \n",
       "1                                     0   0.121876         2600.0   \n",
       "2                                     1   0.085113         3042.0   \n",
       "3                                     0   0.036050         3300.0   \n",
       "4                                     1   0.024926        63588.0   \n",
       "\n",
       "   NumberOfOpenCreditLinesAndLoans  NumberOfTimes90DaysLate  \\\n",
       "0                               13                        0   \n",
       "1                                4                        0   \n",
       "2                                2                        1   \n",
       "3                                5                        0   \n",
       "4                                7                        0   \n",
       "\n",
       "   NumberRealEstateLoansOrLines  NumberOfTime60-89DaysPastDueNotWorse  \\\n",
       "0                             6                                     0   \n",
       "1                             0                                     0   \n",
       "2                             0                                     0   \n",
       "3                             0                                     0   \n",
       "4                             1                                     0   \n",
       "\n",
       "   NumberOfDependents  \n",
       "0                 2.0  \n",
       "1                 1.0  \n",
       "2                 0.0  \n",
       "3                 0.0  \n",
       "4                 0.0  "
      ]
     },
     "execution_count": 3,
     "metadata": {},
     "output_type": "execute_result"
    }
   ],
   "source": [
    "data_train = pd.read_csv(\"../input/GiveMeSomeCredit/cs-training.csv\")\n",
    "data_test = pd.read_csv(\"../input/GiveMeSomeCredit/cs-test.csv\")\n",
    "#看看数据读取是否成功\n",
    "data_train.head()"
   ]
  },
  {
   "cell_type": "markdown",
   "id": "interesting-junior",
   "metadata": {
    "papermill": {
     "duration": 0.059065,
     "end_time": "2021-07-07T14:56:06.626608",
     "exception": false,
     "start_time": "2021-07-07T14:56:06.567543",
     "status": "completed"
    },
    "tags": []
   },
   "source": [
    "## 1.3 对照dictionary 简单了解一下数据的含义\n",
    "####       &nbsp;&nbsp;&nbsp;&nbsp;&nbsp;&nbsp;  SeriousDlqin2yrs:是否有超过90天或更严重的贷款拖欠问题\n",
    "####       &nbsp;&nbsp;&nbsp;&nbsp;&nbsp;&nbsp;  RevolvingUtilizationOfUnsecuredLines：除去房贷车贷的贷款金额/信用卡总贷款额度\n",
    "####       &nbsp;&nbsp;&nbsp;&nbsp;&nbsp;&nbsp;  age：借款人的年龄\n",
    "####       &nbsp;&nbsp;&nbsp;&nbsp;&nbsp;&nbsp;  NumberOfTime30-59DaysPastDueNotWorse:过去两年内借款人发生30-59天的贷款拖欠问题的次数\n",
    "####       &nbsp;&nbsp;&nbsp;&nbsp;&nbsp;&nbsp;  DebtRatio：负债率（生活花费/总收入）\n",
    "####       &nbsp;&nbsp;&nbsp;&nbsp;&nbsp;&nbsp;  MonthlyIncome:月收入\n",
    "####       &nbsp;&nbsp;&nbsp;&nbsp;&nbsp;&nbsp;  NumberOfOpenCreditLinesAndLoans：总共贷过多少款（例如有几个车贷房贷/有几张信用卡）\n",
    "####       &nbsp;&nbsp;&nbsp;&nbsp;&nbsp;&nbsp;  NumberOfTime60-89DaysPastDueNotWorse:过去两年内借款人发生60-89天的贷款拖欠问题的次数\n",
    "####       &nbsp;&nbsp;&nbsp;&nbsp;&nbsp;&nbsp;  NumberOfDependents:家属人数（除去自己）"
   ]
  },
  {
   "cell_type": "markdown",
   "id": "ceramic-clarity",
   "metadata": {
    "papermill": {
     "duration": 0.061937,
     "end_time": "2021-07-07T14:56:06.747482",
     "exception": false,
     "start_time": "2021-07-07T14:56:06.685545",
     "status": "completed"
    },
    "tags": []
   },
   "source": [
    "## 1.4查看描述性统计信息 准备对数据进行预处理"
   ]
  },
  {
   "cell_type": "code",
   "execution_count": 4,
   "id": "antique-blame",
   "metadata": {
    "execution": {
     "iopub.execute_input": "2021-07-07T14:56:06.870865Z",
     "iopub.status.busy": "2021-07-07T14:56:06.869851Z",
     "iopub.status.idle": "2021-07-07T14:56:06.886445Z",
     "shell.execute_reply": "2021-07-07T14:56:06.885886Z",
     "shell.execute_reply.started": "2021-07-07T14:39:40.534546Z"
    },
    "papermill": {
     "duration": 0.079781,
     "end_time": "2021-07-07T14:56:06.886590",
     "exception": false,
     "start_time": "2021-07-07T14:56:06.806809",
     "status": "completed"
    },
    "tags": []
   },
   "outputs": [
    {
     "name": "stdout",
     "output_type": "stream",
     "text": [
      "<class 'pandas.core.frame.DataFrame'>\n",
      "RangeIndex: 150000 entries, 0 to 149999\n",
      "Data columns (total 12 columns):\n",
      " #   Column                                Non-Null Count   Dtype  \n",
      "---  ------                                --------------   -----  \n",
      " 0   Unnamed: 0                            150000 non-null  int64  \n",
      " 1   SeriousDlqin2yrs                      150000 non-null  int64  \n",
      " 2   RevolvingUtilizationOfUnsecuredLines  150000 non-null  float64\n",
      " 3   age                                   150000 non-null  int64  \n",
      " 4   NumberOfTime30-59DaysPastDueNotWorse  150000 non-null  int64  \n",
      " 5   DebtRatio                             150000 non-null  float64\n",
      " 6   MonthlyIncome                         120269 non-null  float64\n",
      " 7   NumberOfOpenCreditLinesAndLoans       150000 non-null  int64  \n",
      " 8   NumberOfTimes90DaysLate               150000 non-null  int64  \n",
      " 9   NumberRealEstateLoansOrLines          150000 non-null  int64  \n",
      " 10  NumberOfTime60-89DaysPastDueNotWorse  150000 non-null  int64  \n",
      " 11  NumberOfDependents                    146076 non-null  float64\n",
      "dtypes: float64(4), int64(8)\n",
      "memory usage: 13.7 MB\n"
     ]
    }
   ],
   "source": [
    "data_train.info()"
   ]
  },
  {
   "cell_type": "code",
   "execution_count": 5,
   "id": "acute-desire",
   "metadata": {
    "execution": {
     "iopub.execute_input": "2021-07-07T14:56:07.019553Z",
     "iopub.status.busy": "2021-07-07T14:56:07.010370Z",
     "iopub.status.idle": "2021-07-07T14:56:07.107451Z",
     "shell.execute_reply": "2021-07-07T14:56:07.107866Z",
     "shell.execute_reply.started": "2021-07-07T14:39:40.556743Z"
    },
    "papermill": {
     "duration": 0.162035,
     "end_time": "2021-07-07T14:56:07.108012",
     "exception": false,
     "start_time": "2021-07-07T14:56:06.945977",
     "status": "completed"
    },
    "tags": []
   },
   "outputs": [
    {
     "data": {
      "text/html": [
       "<div>\n",
       "<style scoped>\n",
       "    .dataframe tbody tr th:only-of-type {\n",
       "        vertical-align: middle;\n",
       "    }\n",
       "\n",
       "    .dataframe tbody tr th {\n",
       "        vertical-align: top;\n",
       "    }\n",
       "\n",
       "    .dataframe thead th {\n",
       "        text-align: right;\n",
       "    }\n",
       "</style>\n",
       "<table border=\"1\" class=\"dataframe\">\n",
       "  <thead>\n",
       "    <tr style=\"text-align: right;\">\n",
       "      <th></th>\n",
       "      <th>Unnamed: 0</th>\n",
       "      <th>SeriousDlqin2yrs</th>\n",
       "      <th>RevolvingUtilizationOfUnsecuredLines</th>\n",
       "      <th>age</th>\n",
       "      <th>NumberOfTime30-59DaysPastDueNotWorse</th>\n",
       "      <th>DebtRatio</th>\n",
       "      <th>MonthlyIncome</th>\n",
       "      <th>NumberOfOpenCreditLinesAndLoans</th>\n",
       "      <th>NumberOfTimes90DaysLate</th>\n",
       "      <th>NumberRealEstateLoansOrLines</th>\n",
       "      <th>NumberOfTime60-89DaysPastDueNotWorse</th>\n",
       "      <th>NumberOfDependents</th>\n",
       "    </tr>\n",
       "  </thead>\n",
       "  <tbody>\n",
       "    <tr>\n",
       "      <th>count</th>\n",
       "      <td>150000.000000</td>\n",
       "      <td>150000.000000</td>\n",
       "      <td>150000.000000</td>\n",
       "      <td>150000.000000</td>\n",
       "      <td>150000.000000</td>\n",
       "      <td>150000.000000</td>\n",
       "      <td>1.202690e+05</td>\n",
       "      <td>150000.000000</td>\n",
       "      <td>150000.000000</td>\n",
       "      <td>150000.000000</td>\n",
       "      <td>150000.000000</td>\n",
       "      <td>146076.000000</td>\n",
       "    </tr>\n",
       "    <tr>\n",
       "      <th>mean</th>\n",
       "      <td>75000.500000</td>\n",
       "      <td>0.066840</td>\n",
       "      <td>6.048438</td>\n",
       "      <td>52.295207</td>\n",
       "      <td>0.421033</td>\n",
       "      <td>353.005076</td>\n",
       "      <td>6.670221e+03</td>\n",
       "      <td>8.452760</td>\n",
       "      <td>0.265973</td>\n",
       "      <td>1.018240</td>\n",
       "      <td>0.240387</td>\n",
       "      <td>0.757222</td>\n",
       "    </tr>\n",
       "    <tr>\n",
       "      <th>std</th>\n",
       "      <td>43301.414527</td>\n",
       "      <td>0.249746</td>\n",
       "      <td>249.755371</td>\n",
       "      <td>14.771866</td>\n",
       "      <td>4.192781</td>\n",
       "      <td>2037.818523</td>\n",
       "      <td>1.438467e+04</td>\n",
       "      <td>5.145951</td>\n",
       "      <td>4.169304</td>\n",
       "      <td>1.129771</td>\n",
       "      <td>4.155179</td>\n",
       "      <td>1.115086</td>\n",
       "    </tr>\n",
       "    <tr>\n",
       "      <th>min</th>\n",
       "      <td>1.000000</td>\n",
       "      <td>0.000000</td>\n",
       "      <td>0.000000</td>\n",
       "      <td>0.000000</td>\n",
       "      <td>0.000000</td>\n",
       "      <td>0.000000</td>\n",
       "      <td>0.000000e+00</td>\n",
       "      <td>0.000000</td>\n",
       "      <td>0.000000</td>\n",
       "      <td>0.000000</td>\n",
       "      <td>0.000000</td>\n",
       "      <td>0.000000</td>\n",
       "    </tr>\n",
       "    <tr>\n",
       "      <th>25%</th>\n",
       "      <td>37500.750000</td>\n",
       "      <td>0.000000</td>\n",
       "      <td>0.029867</td>\n",
       "      <td>41.000000</td>\n",
       "      <td>0.000000</td>\n",
       "      <td>0.175074</td>\n",
       "      <td>3.400000e+03</td>\n",
       "      <td>5.000000</td>\n",
       "      <td>0.000000</td>\n",
       "      <td>0.000000</td>\n",
       "      <td>0.000000</td>\n",
       "      <td>0.000000</td>\n",
       "    </tr>\n",
       "    <tr>\n",
       "      <th>50%</th>\n",
       "      <td>75000.500000</td>\n",
       "      <td>0.000000</td>\n",
       "      <td>0.154181</td>\n",
       "      <td>52.000000</td>\n",
       "      <td>0.000000</td>\n",
       "      <td>0.366508</td>\n",
       "      <td>5.400000e+03</td>\n",
       "      <td>8.000000</td>\n",
       "      <td>0.000000</td>\n",
       "      <td>1.000000</td>\n",
       "      <td>0.000000</td>\n",
       "      <td>0.000000</td>\n",
       "    </tr>\n",
       "    <tr>\n",
       "      <th>75%</th>\n",
       "      <td>112500.250000</td>\n",
       "      <td>0.000000</td>\n",
       "      <td>0.559046</td>\n",
       "      <td>63.000000</td>\n",
       "      <td>0.000000</td>\n",
       "      <td>0.868254</td>\n",
       "      <td>8.249000e+03</td>\n",
       "      <td>11.000000</td>\n",
       "      <td>0.000000</td>\n",
       "      <td>2.000000</td>\n",
       "      <td>0.000000</td>\n",
       "      <td>1.000000</td>\n",
       "    </tr>\n",
       "    <tr>\n",
       "      <th>max</th>\n",
       "      <td>150000.000000</td>\n",
       "      <td>1.000000</td>\n",
       "      <td>50708.000000</td>\n",
       "      <td>109.000000</td>\n",
       "      <td>98.000000</td>\n",
       "      <td>329664.000000</td>\n",
       "      <td>3.008750e+06</td>\n",
       "      <td>58.000000</td>\n",
       "      <td>98.000000</td>\n",
       "      <td>54.000000</td>\n",
       "      <td>98.000000</td>\n",
       "      <td>20.000000</td>\n",
       "    </tr>\n",
       "  </tbody>\n",
       "</table>\n",
       "</div>"
      ],
      "text/plain": [
       "          Unnamed: 0  SeriousDlqin2yrs  RevolvingUtilizationOfUnsecuredLines  \\\n",
       "count  150000.000000     150000.000000                         150000.000000   \n",
       "mean    75000.500000          0.066840                              6.048438   \n",
       "std     43301.414527          0.249746                            249.755371   \n",
       "min         1.000000          0.000000                              0.000000   \n",
       "25%     37500.750000          0.000000                              0.029867   \n",
       "50%     75000.500000          0.000000                              0.154181   \n",
       "75%    112500.250000          0.000000                              0.559046   \n",
       "max    150000.000000          1.000000                          50708.000000   \n",
       "\n",
       "                 age  NumberOfTime30-59DaysPastDueNotWorse      DebtRatio  \\\n",
       "count  150000.000000                         150000.000000  150000.000000   \n",
       "mean       52.295207                              0.421033     353.005076   \n",
       "std        14.771866                              4.192781    2037.818523   \n",
       "min         0.000000                              0.000000       0.000000   \n",
       "25%        41.000000                              0.000000       0.175074   \n",
       "50%        52.000000                              0.000000       0.366508   \n",
       "75%        63.000000                              0.000000       0.868254   \n",
       "max       109.000000                             98.000000  329664.000000   \n",
       "\n",
       "       MonthlyIncome  NumberOfOpenCreditLinesAndLoans  \\\n",
       "count   1.202690e+05                    150000.000000   \n",
       "mean    6.670221e+03                         8.452760   \n",
       "std     1.438467e+04                         5.145951   \n",
       "min     0.000000e+00                         0.000000   \n",
       "25%     3.400000e+03                         5.000000   \n",
       "50%     5.400000e+03                         8.000000   \n",
       "75%     8.249000e+03                        11.000000   \n",
       "max     3.008750e+06                        58.000000   \n",
       "\n",
       "       NumberOfTimes90DaysLate  NumberRealEstateLoansOrLines  \\\n",
       "count            150000.000000                 150000.000000   \n",
       "mean                  0.265973                      1.018240   \n",
       "std                   4.169304                      1.129771   \n",
       "min                   0.000000                      0.000000   \n",
       "25%                   0.000000                      0.000000   \n",
       "50%                   0.000000                      1.000000   \n",
       "75%                   0.000000                      2.000000   \n",
       "max                  98.000000                     54.000000   \n",
       "\n",
       "       NumberOfTime60-89DaysPastDueNotWorse  NumberOfDependents  \n",
       "count                         150000.000000       146076.000000  \n",
       "mean                               0.240387            0.757222  \n",
       "std                                4.155179            1.115086  \n",
       "min                                0.000000            0.000000  \n",
       "25%                                0.000000            0.000000  \n",
       "50%                                0.000000            0.000000  \n",
       "75%                                0.000000            1.000000  \n",
       "max                               98.000000           20.000000  "
      ]
     },
     "execution_count": 5,
     "metadata": {},
     "output_type": "execute_result"
    }
   ],
   "source": [
    "data_train.describe()"
   ]
  },
  {
   "cell_type": "markdown",
   "id": "apparent-productivity",
   "metadata": {
    "papermill": {
     "duration": 0.059529,
     "end_time": "2021-07-07T14:56:07.228150",
     "exception": false,
     "start_time": "2021-07-07T14:56:07.168621",
     "status": "completed"
    },
    "tags": []
   },
   "source": [
    "# **二.数据预处理**"
   ]
  },
  {
   "cell_type": "markdown",
   "id": "sufficient-firmware",
   "metadata": {
    "papermill": {
     "duration": 0.059698,
     "end_time": "2021-07-07T14:56:07.347795",
     "exception": false,
     "start_time": "2021-07-07T14:56:07.288097",
     "status": "completed"
    },
    "tags": []
   },
   "source": [
    "第一列应该是序号（ID），原数据集中的标题是Unnameed，改一下看着舒服点"
   ]
  },
  {
   "cell_type": "code",
   "execution_count": 6,
   "id": "metallic-command",
   "metadata": {
    "execution": {
     "iopub.execute_input": "2021-07-07T14:56:07.471991Z",
     "iopub.status.busy": "2021-07-07T14:56:07.471064Z",
     "iopub.status.idle": "2021-07-07T14:56:07.494131Z",
     "shell.execute_reply": "2021-07-07T14:56:07.493735Z",
     "shell.execute_reply.started": "2021-07-07T14:39:40.660390Z"
    },
    "papermill": {
     "duration": 0.086975,
     "end_time": "2021-07-07T14:56:07.494242",
     "exception": false,
     "start_time": "2021-07-07T14:56:07.407267",
     "status": "completed"
    },
    "tags": []
   },
   "outputs": [
    {
     "data": {
      "text/html": [
       "<div>\n",
       "<style scoped>\n",
       "    .dataframe tbody tr th:only-of-type {\n",
       "        vertical-align: middle;\n",
       "    }\n",
       "\n",
       "    .dataframe tbody tr th {\n",
       "        vertical-align: top;\n",
       "    }\n",
       "\n",
       "    .dataframe thead th {\n",
       "        text-align: right;\n",
       "    }\n",
       "</style>\n",
       "<table border=\"1\" class=\"dataframe\">\n",
       "  <thead>\n",
       "    <tr style=\"text-align: right;\">\n",
       "      <th></th>\n",
       "      <th>ID</th>\n",
       "      <th>SeriousDlqin2yrs</th>\n",
       "      <th>RevolvingUtilizationOfUnsecuredLines</th>\n",
       "      <th>age</th>\n",
       "      <th>NumberOfTime30-59DaysPastDueNotWorse</th>\n",
       "      <th>DebtRatio</th>\n",
       "      <th>MonthlyIncome</th>\n",
       "      <th>NumberOfOpenCreditLinesAndLoans</th>\n",
       "      <th>NumberOfTimes90DaysLate</th>\n",
       "      <th>NumberRealEstateLoansOrLines</th>\n",
       "      <th>NumberOfTime60-89DaysPastDueNotWorse</th>\n",
       "      <th>NumberOfDependents</th>\n",
       "    </tr>\n",
       "  </thead>\n",
       "  <tbody>\n",
       "    <tr>\n",
       "      <th>0</th>\n",
       "      <td>1</td>\n",
       "      <td>1</td>\n",
       "      <td>0.766127</td>\n",
       "      <td>45</td>\n",
       "      <td>2</td>\n",
       "      <td>0.802982</td>\n",
       "      <td>9120.0</td>\n",
       "      <td>13</td>\n",
       "      <td>0</td>\n",
       "      <td>6</td>\n",
       "      <td>0</td>\n",
       "      <td>2.0</td>\n",
       "    </tr>\n",
       "    <tr>\n",
       "      <th>1</th>\n",
       "      <td>2</td>\n",
       "      <td>0</td>\n",
       "      <td>0.957151</td>\n",
       "      <td>40</td>\n",
       "      <td>0</td>\n",
       "      <td>0.121876</td>\n",
       "      <td>2600.0</td>\n",
       "      <td>4</td>\n",
       "      <td>0</td>\n",
       "      <td>0</td>\n",
       "      <td>0</td>\n",
       "      <td>1.0</td>\n",
       "    </tr>\n",
       "    <tr>\n",
       "      <th>2</th>\n",
       "      <td>3</td>\n",
       "      <td>0</td>\n",
       "      <td>0.658180</td>\n",
       "      <td>38</td>\n",
       "      <td>1</td>\n",
       "      <td>0.085113</td>\n",
       "      <td>3042.0</td>\n",
       "      <td>2</td>\n",
       "      <td>1</td>\n",
       "      <td>0</td>\n",
       "      <td>0</td>\n",
       "      <td>0.0</td>\n",
       "    </tr>\n",
       "    <tr>\n",
       "      <th>3</th>\n",
       "      <td>4</td>\n",
       "      <td>0</td>\n",
       "      <td>0.233810</td>\n",
       "      <td>30</td>\n",
       "      <td>0</td>\n",
       "      <td>0.036050</td>\n",
       "      <td>3300.0</td>\n",
       "      <td>5</td>\n",
       "      <td>0</td>\n",
       "      <td>0</td>\n",
       "      <td>0</td>\n",
       "      <td>0.0</td>\n",
       "    </tr>\n",
       "    <tr>\n",
       "      <th>4</th>\n",
       "      <td>5</td>\n",
       "      <td>0</td>\n",
       "      <td>0.907239</td>\n",
       "      <td>49</td>\n",
       "      <td>1</td>\n",
       "      <td>0.024926</td>\n",
       "      <td>63588.0</td>\n",
       "      <td>7</td>\n",
       "      <td>0</td>\n",
       "      <td>1</td>\n",
       "      <td>0</td>\n",
       "      <td>0.0</td>\n",
       "    </tr>\n",
       "  </tbody>\n",
       "</table>\n",
       "</div>"
      ],
      "text/plain": [
       "   ID  SeriousDlqin2yrs  RevolvingUtilizationOfUnsecuredLines  age  \\\n",
       "0   1                 1                              0.766127   45   \n",
       "1   2                 0                              0.957151   40   \n",
       "2   3                 0                              0.658180   38   \n",
       "3   4                 0                              0.233810   30   \n",
       "4   5                 0                              0.907239   49   \n",
       "\n",
       "   NumberOfTime30-59DaysPastDueNotWorse  DebtRatio  MonthlyIncome  \\\n",
       "0                                     2   0.802982         9120.0   \n",
       "1                                     0   0.121876         2600.0   \n",
       "2                                     1   0.085113         3042.0   \n",
       "3                                     0   0.036050         3300.0   \n",
       "4                                     1   0.024926        63588.0   \n",
       "\n",
       "   NumberOfOpenCreditLinesAndLoans  NumberOfTimes90DaysLate  \\\n",
       "0                               13                        0   \n",
       "1                                4                        0   \n",
       "2                                2                        1   \n",
       "3                                5                        0   \n",
       "4                                7                        0   \n",
       "\n",
       "   NumberRealEstateLoansOrLines  NumberOfTime60-89DaysPastDueNotWorse  \\\n",
       "0                             6                                     0   \n",
       "1                             0                                     0   \n",
       "2                             0                                     0   \n",
       "3                             0                                     0   \n",
       "4                             1                                     0   \n",
       "\n",
       "   NumberOfDependents  \n",
       "0                 2.0  \n",
       "1                 1.0  \n",
       "2                 0.0  \n",
       "3                 0.0  \n",
       "4                 0.0  "
      ]
     },
     "execution_count": 6,
     "metadata": {},
     "output_type": "execute_result"
    }
   ],
   "source": [
    "data_train = data_train.rename(columns={\"Unnamed: 0\":\"ID\"})\n",
    "data_test = data_test.rename(columns={\"Unnamed: 0\":\"ID\"})\n",
    "data_train.head()"
   ]
  },
  {
   "cell_type": "markdown",
   "id": "perfect-equipment",
   "metadata": {
    "papermill": {
     "duration": 0.061288,
     "end_time": "2021-07-07T14:56:07.615511",
     "exception": false,
     "start_time": "2021-07-07T14:56:07.554223",
     "status": "completed"
    },
    "tags": []
   },
   "source": [
    "对要预测的变量SeriousDlqin2yrs先作一个简单的观察"
   ]
  },
  {
   "cell_type": "code",
   "execution_count": 7,
   "id": "inside-serbia",
   "metadata": {
    "execution": {
     "iopub.execute_input": "2021-07-07T14:56:07.773518Z",
     "iopub.status.busy": "2021-07-07T14:56:07.772555Z",
     "iopub.status.idle": "2021-07-07T14:56:08.018332Z",
     "shell.execute_reply": "2021-07-07T14:56:08.019321Z",
     "shell.execute_reply.started": "2021-07-07T14:39:40.690015Z"
    },
    "papermill": {
     "duration": 0.341716,
     "end_time": "2021-07-07T14:56:08.019535",
     "exception": false,
     "start_time": "2021-07-07T14:56:07.677819",
     "status": "completed"
    },
    "tags": []
   },
   "outputs": [
    {
     "data": {
      "text/plain": [
       "<AxesSubplot:xlabel='SeriousDlqin2yrs', ylabel='count'>"
      ]
     },
     "execution_count": 7,
     "metadata": {},
     "output_type": "execute_result"
    },
    {
     "data": {
      "image/png": "[encoded data removed]",
      "text/plain": [
       "<Figure size 432x288 with 1 Axes>"
      ]
     },
     "metadata": {
      "needs_background": "light"
     },
     "output_type": "display_data"
    }
   ],
   "source": [
    "# 对分类结果SeriousDlqin2yrs查看\n",
    "sns.countplot(x=\"SeriousDlqin2yrs\",data=data_train)"
   ]
  },
  {
   "cell_type": "markdown",
   "id": "appointed-malaysia",
   "metadata": {
    "papermill": {
     "duration": 0.107351,
     "end_time": "2021-07-07T14:56:08.236866",
     "exception": false,
     "start_time": "2021-07-07T14:56:08.129515",
     "status": "completed"
    },
    "tags": []
   },
   "source": [
    "发现数据是极度不平衡的，所以在最后使用随机森林时要注意设置**class_weight**参数来解决数据不平衡的问题"
   ]
  },
  {
   "cell_type": "markdown",
   "id": "combined-retail",
   "metadata": {
    "papermill": {
     "duration": 0.064729,
     "end_time": "2021-07-07T14:56:08.403539",
     "exception": false,
     "start_time": "2021-07-07T14:56:08.338810",
     "status": "completed"
    },
    "tags": []
   },
   "source": [
    "## 2.1缺失值处理\n",
    "\n",
    "缺失值的处理方法一般包括：\n",
    "\n",
    "- 直接使用含有缺失值的属性（不处理）；\n",
    "- 删除含有缺失值的属性；\n",
    "- 删除含有缺失值的样本；\n",
    "- 缺失值补全：均值插补、建模预测，中位数填充等 \n",
    "\n",
    "根据1.4中的描述性统计，训练集和测试集在NumberOfDependents和MonthlyIncome上有空缺值；\n",
    "\n",
    "下面分别进行分析"
   ]
  },
  {
   "cell_type": "code",
   "execution_count": 8,
   "id": "adopted-reggae",
   "metadata": {
    "execution": {
     "iopub.execute_input": "2021-07-07T14:56:08.533171Z",
     "iopub.status.busy": "2021-07-07T14:56:08.532073Z",
     "iopub.status.idle": "2021-07-07T14:56:08.541425Z",
     "shell.execute_reply": "2021-07-07T14:56:08.541030Z",
     "shell.execute_reply.started": "2021-07-07T14:39:40.828253Z"
    },
    "papermill": {
     "duration": 0.075172,
     "end_time": "2021-07-07T14:56:08.541535",
     "exception": false,
     "start_time": "2021-07-07T14:56:08.466363",
     "status": "completed"
    },
    "tags": []
   },
   "outputs": [
    {
     "data": {
      "text/plain": [
       "ID                                          0\n",
       "SeriousDlqin2yrs                            0\n",
       "RevolvingUtilizationOfUnsecuredLines        0\n",
       "age                                         0\n",
       "NumberOfTime30-59DaysPastDueNotWorse        0\n",
       "DebtRatio                                   0\n",
       "MonthlyIncome                           29731\n",
       "NumberOfOpenCreditLinesAndLoans             0\n",
       "NumberOfTimes90DaysLate                     0\n",
       "NumberRealEstateLoansOrLines                0\n",
       "NumberOfTime60-89DaysPastDueNotWorse        0\n",
       "NumberOfDependents                       3924\n",
       "dtype: int64"
      ]
     },
     "execution_count": 8,
     "metadata": {},
     "output_type": "execute_result"
    }
   ],
   "source": [
    "data_train.isnull().sum()"
   ]
  },
  {
   "cell_type": "markdown",
   "id": "distinct-accuracy",
   "metadata": {
    "papermill": {
     "duration": 0.062172,
     "end_time": "2021-07-07T14:56:08.664715",
     "exception": false,
     "start_time": "2021-07-07T14:56:08.602543",
     "status": "completed"
    },
    "tags": []
   },
   "source": [
    "### 2.1.1 MonthlyIncome\n",
    "从上表中可以发现MonthlyIncome缺失值较多（29731/150000$\\approx$19.8%）  \n",
    "所以不能直接删除含有缺失值的样本，考虑填充缺失值。  \n",
    "因为随机森林不容易过拟合且对于有大量缺失值的数据能进行有效的估计与处理，所以此处我们使用随机森林进行回归预测，"
   ]
  },
  {
   "cell_type": "code",
   "execution_count": 9,
   "id": "proved-personal",
   "metadata": {
    "execution": {
     "iopub.execute_input": "2021-07-07T14:56:08.796288Z",
     "iopub.status.busy": "2021-07-07T14:56:08.795572Z",
     "iopub.status.idle": "2021-07-07T14:56:21.756205Z",
     "shell.execute_reply": "2021-07-07T14:56:21.756895Z",
     "shell.execute_reply.started": "2021-07-07T14:39:40.841081Z"
    },
    "papermill": {
     "duration": 13.030079,
     "end_time": "2021-07-07T14:56:21.757124",
     "exception": false,
     "start_time": "2021-07-07T14:56:08.727045",
     "status": "completed"
    },
    "tags": []
   },
   "outputs": [
    {
     "name": "stdout",
     "output_type": "stream",
     "text": [
      "<class 'pandas.core.frame.DataFrame'>\n",
      "RangeIndex: 150000 entries, 0 to 149999\n",
      "Data columns (total 12 columns):\n",
      " #   Column                                Non-Null Count   Dtype  \n",
      "---  ------                                --------------   -----  \n",
      " 0   ID                                    150000 non-null  int64  \n",
      " 1   SeriousDlqin2yrs                      150000 non-null  int64  \n",
      " 2   RevolvingUtilizationOfUnsecuredLines  150000 non-null  float64\n",
      " 3   age                                   150000 non-null  int64  \n",
      " 4   NumberOfTime30-59DaysPastDueNotWorse  150000 non-null  int64  \n",
      " 5   DebtRatio                             150000 non-null  float64\n",
      " 6   MonthlyIncome                         150000 non-null  float64\n",
      " 7   NumberOfOpenCreditLinesAndLoans       150000 non-null  int64  \n",
      " 8   NumberOfTimes90DaysLate               150000 non-null  int64  \n",
      " 9   NumberRealEstateLoansOrLines          150000 non-null  int64  \n",
      " 10  NumberOfTime60-89DaysPastDueNotWorse  150000 non-null  int64  \n",
      " 11  NumberOfDependents                    146076 non-null  float64\n",
      "dtypes: float64(4), int64(8)\n",
      "memory usage: 13.7 MB\n"
     ]
    }
   ],
   "source": [
    "from sklearn.ensemble import RandomForestRegressor\n",
    "\n",
    "#先把所有数值特征提取出来 其中第零列是id不要,最后一列还有缺失值未处理先不要\n",
    "data_randomforest = data_train.iloc[:,[1,2,3,4,5,6,7,8,9,10]]\n",
    "\n",
    "##把整个数据按MonthlyIncome是否为空缺分为两部分\n",
    "known = data_randomforest[data_randomforest.MonthlyIncome.notnull()].values\n",
    "unknown = data_randomforest[data_randomforest.MonthlyIncome.isnull()].values\n",
    "\n",
    "##确定随机森林的训练集和试验集\n",
    "#注意因为known的定义里就没取第零列，所以这里对应的列数都要减一\n",
    "X_know = known[:,[0,1,2,3,4,6,7,8,9]]\n",
    "Y_know = known[:,[5]]\n",
    "X_forpredict = unknown[:,[0,1,2,3,4,6,7,8,9]]\n",
    "##训练随机森林模型\n",
    "rfr = RandomForestRegressor(random_state=0,n_estimators=200,max_depth=3,n_jobs=-1)\n",
    "rfr.fit(X_know,Y_know)\n",
    "\n",
    "##预测缺失值,原数据中收入都是整数，所以这里保留0位小数\n",
    "Y_predicted = rfr.predict(X_forpredict).round(0)\n",
    "\n",
    "##回填\n",
    "data_train.loc[(data_train.MonthlyIncome.isnull()), 'MonthlyIncome'] = Y_predicted\n",
    "\n",
    "##看一下有没有成功\n",
    "data_train.info()"
   ]
  },
  {
   "cell_type": "markdown",
   "id": "superior-management",
   "metadata": {
    "papermill": {
     "duration": 0.061466,
     "end_time": "2021-07-07T14:56:21.883239",
     "exception": false,
     "start_time": "2021-07-07T14:56:21.821773",
     "status": "completed"
    },
    "tags": []
   },
   "source": [
    "对训练集也做类似填充，只需注意训练集中SeriousDlqin2yrs也是空缺值，所以随机森林中传入的变量要少一个"
   ]
  },
  {
   "cell_type": "code",
   "execution_count": 10,
   "id": "specified-tutorial",
   "metadata": {
    "execution": {
     "iopub.execute_input": "2021-07-07T14:56:22.019579Z",
     "iopub.status.busy": "2021-07-07T14:56:22.018685Z",
     "iopub.status.idle": "2021-07-07T14:56:30.377538Z",
     "shell.execute_reply": "2021-07-07T14:56:30.376905Z",
     "shell.execute_reply.started": "2021-07-07T14:39:53.396612Z"
    },
    "papermill": {
     "duration": 8.431941,
     "end_time": "2021-07-07T14:56:30.377728",
     "exception": false,
     "start_time": "2021-07-07T14:56:21.945787",
     "status": "completed"
    },
    "tags": []
   },
   "outputs": [
    {
     "name": "stdout",
     "output_type": "stream",
     "text": [
      "<class 'pandas.core.frame.DataFrame'>\n",
      "RangeIndex: 101503 entries, 0 to 101502\n",
      "Data columns (total 12 columns):\n",
      " #   Column                                Non-Null Count   Dtype  \n",
      "---  ------                                --------------   -----  \n",
      " 0   ID                                    101503 non-null  int64  \n",
      " 1   SeriousDlqin2yrs                      0 non-null       float64\n",
      " 2   RevolvingUtilizationOfUnsecuredLines  101503 non-null  float64\n",
      " 3   age                                   101503 non-null  int64  \n",
      " 4   NumberOfTime30-59DaysPastDueNotWorse  101503 non-null  int64  \n",
      " 5   DebtRatio                             101503 non-null  float64\n",
      " 6   MonthlyIncome                         101503 non-null  float64\n",
      " 7   NumberOfOpenCreditLinesAndLoans       101503 non-null  int64  \n",
      " 8   NumberOfTimes90DaysLate               101503 non-null  int64  \n",
      " 9   NumberRealEstateLoansOrLines          101503 non-null  int64  \n",
      " 10  NumberOfTime60-89DaysPastDueNotWorse  101503 non-null  int64  \n",
      " 11  NumberOfDependents                    98877 non-null   float64\n",
      "dtypes: float64(5), int64(7)\n",
      "memory usage: 9.3 MB\n"
     ]
    }
   ],
   "source": [
    "#先把所有数值特征提取出来 其中第零列是id不要,最后一列还有缺失值未处理先不要\n",
    "data_randomforest = data_test.iloc[:,[2,3,4,5,6,7,8,9,10]]\n",
    "\n",
    "##把整个数据按MonthlyIncome是否为空缺分为两部分\n",
    "known = data_randomforest[data_randomforest.MonthlyIncome.notnull()].values\n",
    "unknown = data_randomforest[data_randomforest.MonthlyIncome.isnull()].values\n",
    "\n",
    "##确定随机森林的训练集和试验集\n",
    "#注意因为known的定义里没取第零和第一列，所以这里对应的列数都要减二\n",
    "X_know = known[:,[0,1,2,3,5,6,7,8]]\n",
    "Y_know = known[:,[4]]\n",
    "X_forpredict = unknown[:,[0,1,2,3,5,6,7,8]]\n",
    "##训练随机森林模型\n",
    "rfr = RandomForestRegressor(random_state=0,n_estimators=200,max_depth=3,n_jobs=-1)\n",
    "rfr.fit(X_know,Y_know)\n",
    "\n",
    "##预测缺失值,原数据中收入都是整数，所以这里保留0位小数\n",
    "Y_predicted = rfr.predict(X_forpredict).round(0)\n",
    "\n",
    "##回填\n",
    "data_test.loc[(data_test.MonthlyIncome.isnull()), 'MonthlyIncome'] = Y_predicted\n",
    "\n",
    "##看一下有没有成功\n",
    "data_test.info()"
   ]
  },
  {
   "cell_type": "markdown",
   "id": "adverse-notion",
   "metadata": {
    "papermill": {
     "duration": 0.101194,
     "end_time": "2021-07-07T14:56:30.677379",
     "exception": false,
     "start_time": "2021-07-07T14:56:30.576185",
     "status": "completed"
    },
    "tags": []
   },
   "source": [
    "### 2.1.2 NumberOfDependents\n",
    "从上表中可以发现NumberOfDependents缺失值较少（3924/150000$\\approx$2.6%）  \n",
    "所以考虑直接使用fillna函数，用中位数填充缺失值。"
   ]
  },
  {
   "cell_type": "code",
   "execution_count": 11,
   "id": "developing-wound",
   "metadata": {
    "execution": {
     "iopub.execute_input": "2021-07-07T14:56:30.896540Z",
     "iopub.status.busy": "2021-07-07T14:56:30.895772Z",
     "iopub.status.idle": "2021-07-07T14:56:30.909218Z",
     "shell.execute_reply": "2021-07-07T14:56:30.910171Z",
     "shell.execute_reply.started": "2021-07-07T14:40:01.420936Z"
    },
    "papermill": {
     "duration": 0.130907,
     "end_time": "2021-07-07T14:56:30.910356",
     "exception": false,
     "start_time": "2021-07-07T14:56:30.779449",
     "status": "completed"
    },
    "tags": []
   },
   "outputs": [
    {
     "name": "stdout",
     "output_type": "stream",
     "text": [
      "<class 'pandas.core.frame.DataFrame'>\n",
      "RangeIndex: 101503 entries, 0 to 101502\n",
      "Data columns (total 12 columns):\n",
      " #   Column                                Non-Null Count   Dtype  \n",
      "---  ------                                --------------   -----  \n",
      " 0   ID                                    101503 non-null  int64  \n",
      " 1   SeriousDlqin2yrs                      0 non-null       float64\n",
      " 2   RevolvingUtilizationOfUnsecuredLines  101503 non-null  float64\n",
      " 3   age                                   101503 non-null  int64  \n",
      " 4   NumberOfTime30-59DaysPastDueNotWorse  101503 non-null  int64  \n",
      " 5   DebtRatio                             101503 non-null  float64\n",
      " 6   MonthlyIncome                         101503 non-null  float64\n",
      " 7   NumberOfOpenCreditLinesAndLoans       101503 non-null  int64  \n",
      " 8   NumberOfTimes90DaysLate               101503 non-null  int64  \n",
      " 9   NumberRealEstateLoansOrLines          101503 non-null  int64  \n",
      " 10  NumberOfTime60-89DaysPastDueNotWorse  101503 non-null  int64  \n",
      " 11  NumberOfDependents                    101503 non-null  float64\n",
      "dtypes: float64(5), int64(7)\n",
      "memory usage: 9.3 MB\n"
     ]
    }
   ],
   "source": [
    "data_train['NumberOfDependents'].fillna(data_train['NumberOfDependents'].median(), inplace=True)\n",
    "data_test['NumberOfDependents'].fillna(data_test['NumberOfDependents'].median(), inplace=True)\n",
    "data_test.info()"
   ]
  },
  {
   "cell_type": "markdown",
   "id": "directed-tattoo",
   "metadata": {
    "papermill": {
     "duration": 0.101728,
     "end_time": "2021-07-07T14:56:31.114739",
     "exception": false,
     "start_time": "2021-07-07T14:56:31.013011",
     "status": "completed"
    },
    "tags": []
   },
   "source": [
    "## 2.2重复值处理\n",
    "直接删除重复值即可"
   ]
  },
  {
   "cell_type": "code",
   "execution_count": 12,
   "id": "animated-clerk",
   "metadata": {
    "execution": {
     "iopub.execute_input": "2021-07-07T14:56:31.256734Z",
     "iopub.status.busy": "2021-07-07T14:56:31.255939Z",
     "iopub.status.idle": "2021-07-07T14:56:31.316387Z",
     "shell.execute_reply": "2021-07-07T14:56:31.316838Z",
     "shell.execute_reply.started": "2021-07-07T14:40:01.443526Z"
    },
    "papermill": {
     "duration": 0.128203,
     "end_time": "2021-07-07T14:56:31.316998",
     "exception": false,
     "start_time": "2021-07-07T14:56:31.188795",
     "status": "completed"
    },
    "tags": []
   },
   "outputs": [
    {
     "name": "stdout",
     "output_type": "stream",
     "text": [
      "<class 'pandas.core.frame.DataFrame'>\n",
      "Int64Index: 150000 entries, 0 to 149999\n",
      "Data columns (total 12 columns):\n",
      " #   Column                                Non-Null Count   Dtype  \n",
      "---  ------                                --------------   -----  \n",
      " 0   ID                                    150000 non-null  int64  \n",
      " 1   SeriousDlqin2yrs                      150000 non-null  int64  \n",
      " 2   RevolvingUtilizationOfUnsecuredLines  150000 non-null  float64\n",
      " 3   age                                   150000 non-null  int64  \n",
      " 4   NumberOfTime30-59DaysPastDueNotWorse  150000 non-null  int64  \n",
      " 5   DebtRatio                             150000 non-null  float64\n",
      " 6   MonthlyIncome                         150000 non-null  float64\n",
      " 7   NumberOfOpenCreditLinesAndLoans       150000 non-null  int64  \n",
      " 8   NumberOfTimes90DaysLate               150000 non-null  int64  \n",
      " 9   NumberRealEstateLoansOrLines          150000 non-null  int64  \n",
      " 10  NumberOfTime60-89DaysPastDueNotWorse  150000 non-null  int64  \n",
      " 11  NumberOfDependents                    150000 non-null  float64\n",
      "dtypes: float64(4), int64(8)\n",
      "memory usage: 14.9 MB\n"
     ]
    }
   ],
   "source": [
    "data_train = data_train.drop_duplicates()\n",
    "data_train.info()\n",
    "#事实上好像没有重复值咕噜咕噜"
   ]
  },
  {
   "cell_type": "markdown",
   "id": "vital-correlation",
   "metadata": {
    "papermill": {
     "duration": 0.064028,
     "end_time": "2021-07-07T14:56:31.443553",
     "exception": false,
     "start_time": "2021-07-07T14:56:31.379525",
     "status": "completed"
    },
    "tags": []
   },
   "source": [
    "## 2.3异常值处理"
   ]
  },
  {
   "cell_type": "markdown",
   "id": "permanent-hamburg",
   "metadata": {
    "papermill": {
     "duration": 0.062689,
     "end_time": "2021-07-07T14:56:31.568898",
     "exception": false,
     "start_time": "2021-07-07T14:56:31.506209",
     "status": "completed"
    },
    "tags": []
   },
   "source": [
    "异常值的处理方法一般包括：\n",
    "\n",
    "- 删除含有异常值的样本\n",
    "- 将异常值视为缺失值，应用缺失值处理方法\n",
    "- 用平均值来修正\n",
    "- 不处理"
   ]
  },
  {
   "cell_type": "markdown",
   "id": "legal-signal",
   "metadata": {
    "papermill": {
     "duration": 0.073144,
     "end_time": "2021-07-07T14:56:31.714286",
     "exception": false,
     "start_time": "2021-07-07T14:56:31.641142",
     "status": "completed"
    },
    "tags": []
   },
   "source": [
    "先做一个分位数统计"
   ]
  },
  {
   "cell_type": "code",
   "execution_count": 13,
   "id": "improving-glance",
   "metadata": {
    "execution": {
     "iopub.execute_input": "2021-07-07T14:56:31.857447Z",
     "iopub.status.busy": "2021-07-07T14:56:31.856604Z",
     "iopub.status.idle": "2021-07-07T14:56:31.904333Z",
     "shell.execute_reply": "2021-07-07T14:56:31.903934Z",
     "shell.execute_reply.started": "2021-07-07T14:40:01.509636Z"
    },
    "papermill": {
     "duration": 0.123957,
     "end_time": "2021-07-07T14:56:31.904459",
     "exception": false,
     "start_time": "2021-07-07T14:56:31.780502",
     "status": "completed"
    },
    "tags": []
   },
   "outputs": [
    {
     "data": {
      "text/html": [
       "<div>\n",
       "<style scoped>\n",
       "    .dataframe tbody tr th:only-of-type {\n",
       "        vertical-align: middle;\n",
       "    }\n",
       "\n",
       "    .dataframe tbody tr th {\n",
       "        vertical-align: top;\n",
       "    }\n",
       "\n",
       "    .dataframe thead th {\n",
       "        text-align: right;\n",
       "    }\n",
       "</style>\n",
       "<table border=\"1\" class=\"dataframe\">\n",
       "  <thead>\n",
       "    <tr style=\"text-align: right;\">\n",
       "      <th></th>\n",
       "      <th>min</th>\n",
       "      <th>25%</th>\n",
       "      <th>50%</th>\n",
       "      <th>75%</th>\n",
       "      <th>max</th>\n",
       "    </tr>\n",
       "  </thead>\n",
       "  <tbody>\n",
       "    <tr>\n",
       "      <th>ID</th>\n",
       "      <td>1.0</td>\n",
       "      <td>37500.75</td>\n",
       "      <td>75000.5</td>\n",
       "      <td>112500.25</td>\n",
       "      <td>150000.0</td>\n",
       "    </tr>\n",
       "    <tr>\n",
       "      <th>SeriousDlqin2yrs</th>\n",
       "      <td>0.0</td>\n",
       "      <td>0.00</td>\n",
       "      <td>0.0</td>\n",
       "      <td>0.00</td>\n",
       "      <td>1.0</td>\n",
       "    </tr>\n",
       "    <tr>\n",
       "      <th>age</th>\n",
       "      <td>0.0</td>\n",
       "      <td>41.00</td>\n",
       "      <td>52.0</td>\n",
       "      <td>63.00</td>\n",
       "      <td>109.0</td>\n",
       "    </tr>\n",
       "    <tr>\n",
       "      <th>NumberOfTime30-59DaysPastDueNotWorse</th>\n",
       "      <td>0.0</td>\n",
       "      <td>0.00</td>\n",
       "      <td>0.0</td>\n",
       "      <td>0.00</td>\n",
       "      <td>98.0</td>\n",
       "    </tr>\n",
       "    <tr>\n",
       "      <th>NumberOfOpenCreditLinesAndLoans</th>\n",
       "      <td>0.0</td>\n",
       "      <td>5.00</td>\n",
       "      <td>8.0</td>\n",
       "      <td>11.00</td>\n",
       "      <td>58.0</td>\n",
       "    </tr>\n",
       "    <tr>\n",
       "      <th>NumberOfTimes90DaysLate</th>\n",
       "      <td>0.0</td>\n",
       "      <td>0.00</td>\n",
       "      <td>0.0</td>\n",
       "      <td>0.00</td>\n",
       "      <td>98.0</td>\n",
       "    </tr>\n",
       "    <tr>\n",
       "      <th>NumberRealEstateLoansOrLines</th>\n",
       "      <td>0.0</td>\n",
       "      <td>0.00</td>\n",
       "      <td>1.0</td>\n",
       "      <td>2.00</td>\n",
       "      <td>54.0</td>\n",
       "    </tr>\n",
       "    <tr>\n",
       "      <th>NumberOfTime60-89DaysPastDueNotWorse</th>\n",
       "      <td>0.0</td>\n",
       "      <td>0.00</td>\n",
       "      <td>0.0</td>\n",
       "      <td>0.00</td>\n",
       "      <td>98.0</td>\n",
       "    </tr>\n",
       "  </tbody>\n",
       "</table>\n",
       "</div>"
      ],
      "text/plain": [
       "                                      min       25%      50%        75%  \\\n",
       "ID                                    1.0  37500.75  75000.5  112500.25   \n",
       "SeriousDlqin2yrs                      0.0      0.00      0.0       0.00   \n",
       "age                                   0.0     41.00     52.0      63.00   \n",
       "NumberOfTime30-59DaysPastDueNotWorse  0.0      0.00      0.0       0.00   \n",
       "NumberOfOpenCreditLinesAndLoans       0.0      5.00      8.0      11.00   \n",
       "NumberOfTimes90DaysLate               0.0      0.00      0.0       0.00   \n",
       "NumberRealEstateLoansOrLines          0.0      0.00      1.0       2.00   \n",
       "NumberOfTime60-89DaysPastDueNotWorse  0.0      0.00      0.0       0.00   \n",
       "\n",
       "                                           max  \n",
       "ID                                    150000.0  \n",
       "SeriousDlqin2yrs                           1.0  \n",
       "age                                      109.0  \n",
       "NumberOfTime30-59DaysPastDueNotWorse      98.0  \n",
       "NumberOfOpenCreditLinesAndLoans           58.0  \n",
       "NumberOfTimes90DaysLate                   98.0  \n",
       "NumberRealEstateLoansOrLines              54.0  \n",
       "NumberOfTime60-89DaysPastDueNotWorse      98.0  "
      ]
     },
     "execution_count": 13,
     "metadata": {},
     "output_type": "execute_result"
    }
   ],
   "source": [
    "data_train.select_dtypes('int64').describe().transpose()[['min', '25%', '50%', '75%', 'max']]"
   ]
  },
  {
   "cell_type": "markdown",
   "id": "recorded-marketplace",
   "metadata": {
    "papermill": {
     "duration": 0.065457,
     "end_time": "2021-07-07T14:56:32.032823",
     "exception": false,
     "start_time": "2021-07-07T14:56:31.967366",
     "status": "completed"
    },
    "tags": []
   },
   "source": [
    "发现其中不少特征的最大最小值都比较异常，需要进一步处理"
   ]
  },
  {
   "cell_type": "markdown",
   "id": "assigned-makeup",
   "metadata": {
    "papermill": {
     "duration": 0.064048,
     "end_time": "2021-07-07T14:56:32.169176",
     "exception": false,
     "start_time": "2021-07-07T14:56:32.105128",
     "status": "completed"
    },
    "tags": []
   },
   "source": [
    "先定义两个作图的函数，方便后续观察分析"
   ]
  },
  {
   "cell_type": "code",
   "execution_count": 14,
   "id": "precious-dancing",
   "metadata": {
    "execution": {
     "iopub.execute_input": "2021-07-07T14:56:32.307661Z",
     "iopub.status.busy": "2021-07-07T14:56:32.307013Z",
     "iopub.status.idle": "2021-07-07T14:56:32.319309Z",
     "shell.execute_reply": "2021-07-07T14:56:32.318900Z",
     "shell.execute_reply.started": "2021-07-07T14:40:01.583928Z"
    },
    "papermill": {
     "duration": 0.086451,
     "end_time": "2021-07-07T14:56:32.319427",
     "exception": false,
     "start_time": "2021-07-07T14:56:32.232976",
     "status": "completed"
    },
    "tags": []
   },
   "outputs": [],
   "source": [
    "from sklearn.feature_selection import mutual_info_classif\n",
    "def plot_distributions_discrete(feature):\n",
    "    \n",
    "    _, axes = plt.subplots(1, 2, figsize=(12,4))\n",
    "    sns.histplot(data_train[feature], kde=True, label='Train',stat='density',\n",
    "                 discrete=True, color='steelblue', alpha=0.6, ax=axes[0])\n",
    "    sns.histplot(data_test[feature], kde=True, label='Test',stat='density',\n",
    "                 discrete=True, color='gold', alpha=0.25, ax=axes[0])\n",
    "    axes[0].legend()\n",
    "    axes[0].set_title('Distr Train set vs Distr Test set')\n",
    "\n",
    "    sns.boxplot(x='SeriousDlqin2yrs', y=feature, data=data_train, ax=axes[1], palette=['seagreen', 'tan'])\n",
    "    \n",
    "    X = data_train[[feature]].dropna()\n",
    "    MI = mutual_info_classif(X, data_train.loc[X.index, 'SeriousDlqin2yrs'], discrete_features=True,\n",
    "                             random_state=0)\n",
    "    axes[1].set_title('Distribution depending on the SeriousDlqin2yrs\\n-> MI Score : ' + str(round(MI[0], 7)))\n",
    "\n",
    "    plt.suptitle('\"{}\" distributions'.format(feature), y=1.15);"
   ]
  },
  {
   "cell_type": "code",
   "execution_count": 15,
   "id": "applied-grounds",
   "metadata": {
    "execution": {
     "iopub.execute_input": "2021-07-07T14:56:32.454536Z",
     "iopub.status.busy": "2021-07-07T14:56:32.453699Z",
     "iopub.status.idle": "2021-07-07T14:56:32.456246Z",
     "shell.execute_reply": "2021-07-07T14:56:32.455813Z",
     "shell.execute_reply.started": "2021-07-07T14:40:01.620013Z"
    },
    "papermill": {
     "duration": 0.073749,
     "end_time": "2021-07-07T14:56:32.456355",
     "exception": false,
     "start_time": "2021-07-07T14:56:32.382606",
     "status": "completed"
    },
    "tags": []
   },
   "outputs": [],
   "source": [
    "def plot_distributions_continuous(feature):\n",
    "    \n",
    "    _, axes = plt.subplots(1, 2, figsize=(12,4))\n",
    "    sns.kdeplot(data_train[feature].apply(np.log1p), label='Train',\n",
    "                color='steelblue', alpha=0.5, shade=True, edgecolor='k', ax=axes[0])\n",
    "    sns.kdeplot(data_test[feature].apply(np.log1p), label='Test',\n",
    "                color='gold', alpha=0.3, shade=True, edgecolor='k', ax=axes[0])\n",
    "\n",
    "    axes[0].legend()\n",
    "    axes[0].set_title('Distr Train set vs Distr Test set')\n",
    "    axes[0].set_xlabel('log-{}'.format(feature))\n",
    "\n",
    "    sns.boxplot(x='SeriousDlqin2yrs', y=data_train[feature],\n",
    "                data=data_train, ax=axes[1], palette=['seagreen', 'tan'])\n",
    "\n",
    "    X = data_train[[feature]].dropna()\n",
    "    MI = mutual_info_classif(X, data_train.loc[X.index, 'SeriousDlqin2yrs'], random_state=0)\n",
    "    axes[1].set_title('Distribution depending on the SeriousDlqin2yrs\\n-> MI Score : ' + str(round(MI[0], 7)))\n",
    "    \n",
    "    plt.suptitle('\"{}\" distributions'.format(feature), y=1.15);"
   ]
  },
  {
   "cell_type": "markdown",
   "id": "loved-witness",
   "metadata": {
    "papermill": {
     "duration": 0.062943,
     "end_time": "2021-07-07T14:56:32.582288",
     "exception": false,
     "start_time": "2021-07-07T14:56:32.519345",
     "status": "completed"
    },
    "tags": []
   },
   "source": [
    "### 2.3.1 age异常值处理"
   ]
  },
  {
   "cell_type": "code",
   "execution_count": 16,
   "id": "compatible-whole",
   "metadata": {
    "execution": {
     "iopub.execute_input": "2021-07-07T14:56:32.744859Z",
     "iopub.status.busy": "2021-07-07T14:56:32.744020Z",
     "iopub.status.idle": "2021-07-07T14:56:34.859143Z",
     "shell.execute_reply": "2021-07-07T14:56:34.858404Z",
     "shell.execute_reply.started": "2021-07-07T14:40:01.647825Z"
    },
    "papermill": {
     "duration": 2.214169,
     "end_time": "2021-07-07T14:56:34.859271",
     "exception": false,
     "start_time": "2021-07-07T14:56:32.645102",
     "status": "completed"
    },
    "tags": []
   },
   "outputs": [
    {
     "data": {
      "image/png": "[encoded data removed]",
      "text/plain": [
       "<Figure size 864x288 with 2 Axes>"
      ]
     },
     "metadata": {
      "needs_background": "light"
     },
     "output_type": "display_data"
    }
   ],
   "source": [
    "plot_distributions_discrete('age')"
   ]
  },
  {
   "cell_type": "markdown",
   "id": "balanced-middle",
   "metadata": {
    "papermill": {
     "duration": 0.063574,
     "end_time": "2021-07-07T14:56:34.987378",
     "exception": false,
     "start_time": "2021-07-07T14:56:34.923804",
     "status": "completed"
    },
    "tags": []
   },
   "source": [
    "从图中可以发现\n",
    "- 训练集和测试集的年龄分布基本类似（蓝色是训练集，黄色是测试集，在图上叠加起来显示绿色）\n",
    "- 有严重违约情况的人群年龄整体偏低\n",
    "- 年龄整体符合正态分布\n",
    "\n",
    "处理age，根据法律，20岁以上才可以办理信用卡，所以20岁以下可以认为是错误数据，看看数量"
   ]
  },
  {
   "cell_type": "code",
   "execution_count": 17,
   "id": "monthly-regular",
   "metadata": {
    "execution": {
     "iopub.execute_input": "2021-07-07T14:56:35.122115Z",
     "iopub.status.busy": "2021-07-07T14:56:35.121329Z",
     "iopub.status.idle": "2021-07-07T14:56:35.133194Z",
     "shell.execute_reply": "2021-07-07T14:56:35.133626Z",
     "shell.execute_reply.started": "2021-07-07T14:40:04.053770Z"
    },
    "papermill": {
     "duration": 0.081533,
     "end_time": "2021-07-07T14:56:35.133773",
     "exception": false,
     "start_time": "2021-07-07T14:56:35.052240",
     "status": "completed"
    },
    "tags": []
   },
   "outputs": [
    {
     "data": {
      "text/html": [
       "<div>\n",
       "<style scoped>\n",
       "    .dataframe tbody tr th:only-of-type {\n",
       "        vertical-align: middle;\n",
       "    }\n",
       "\n",
       "    .dataframe tbody tr th {\n",
       "        vertical-align: top;\n",
       "    }\n",
       "\n",
       "    .dataframe thead th {\n",
       "        text-align: right;\n",
       "    }\n",
       "</style>\n",
       "<table border=\"1\" class=\"dataframe\">\n",
       "  <thead>\n",
       "    <tr style=\"text-align: right;\">\n",
       "      <th></th>\n",
       "      <th>ID</th>\n",
       "      <th>SeriousDlqin2yrs</th>\n",
       "      <th>RevolvingUtilizationOfUnsecuredLines</th>\n",
       "      <th>age</th>\n",
       "      <th>NumberOfTime30-59DaysPastDueNotWorse</th>\n",
       "      <th>DebtRatio</th>\n",
       "      <th>MonthlyIncome</th>\n",
       "      <th>NumberOfOpenCreditLinesAndLoans</th>\n",
       "      <th>NumberOfTimes90DaysLate</th>\n",
       "      <th>NumberRealEstateLoansOrLines</th>\n",
       "      <th>NumberOfTime60-89DaysPastDueNotWorse</th>\n",
       "      <th>NumberOfDependents</th>\n",
       "    </tr>\n",
       "  </thead>\n",
       "  <tbody>\n",
       "    <tr>\n",
       "      <th>65695</th>\n",
       "      <td>65696</td>\n",
       "      <td>0</td>\n",
       "      <td>1.0</td>\n",
       "      <td>0</td>\n",
       "      <td>1</td>\n",
       "      <td>0.436927</td>\n",
       "      <td>6000.0</td>\n",
       "      <td>6</td>\n",
       "      <td>0</td>\n",
       "      <td>2</td>\n",
       "      <td>0</td>\n",
       "      <td>2.0</td>\n",
       "    </tr>\n",
       "  </tbody>\n",
       "</table>\n",
       "</div>"
      ],
      "text/plain": [
       "          ID  SeriousDlqin2yrs  RevolvingUtilizationOfUnsecuredLines  age  \\\n",
       "65695  65696                 0                                   1.0    0   \n",
       "\n",
       "       NumberOfTime30-59DaysPastDueNotWorse  DebtRatio  MonthlyIncome  \\\n",
       "65695                                     1   0.436927         6000.0   \n",
       "\n",
       "       NumberOfOpenCreditLinesAndLoans  NumberOfTimes90DaysLate  \\\n",
       "65695                                6                        0   \n",
       "\n",
       "       NumberRealEstateLoansOrLines  NumberOfTime60-89DaysPastDueNotWorse  \\\n",
       "65695                             2                                     0   \n",
       "\n",
       "       NumberOfDependents  \n",
       "65695                 2.0  "
      ]
     },
     "execution_count": 17,
     "metadata": {},
     "output_type": "execute_result"
    }
   ],
   "source": [
    "data_train[data_train[\"age\"]<20]"
   ]
  },
  {
   "cell_type": "markdown",
   "id": "graphic-sessions",
   "metadata": {
    "papermill": {
     "duration": 0.065035,
     "end_time": "2021-07-07T14:56:35.263941",
     "exception": false,
     "start_time": "2021-07-07T14:56:35.198906",
     "status": "completed"
    },
    "tags": []
   },
   "source": [
    "发现只有一个案例，直接删除即可"
   ]
  },
  {
   "cell_type": "code",
   "execution_count": 18,
   "id": "complimentary-outside",
   "metadata": {
    "execution": {
     "iopub.execute_input": "2021-07-07T14:56:35.398552Z",
     "iopub.status.busy": "2021-07-07T14:56:35.397654Z",
     "iopub.status.idle": "2021-07-07T14:56:35.407959Z",
     "shell.execute_reply": "2021-07-07T14:56:35.407528Z",
     "shell.execute_reply.started": "2021-07-07T14:40:04.071106Z"
    },
    "papermill": {
     "duration": 0.079806,
     "end_time": "2021-07-07T14:56:35.408082",
     "exception": false,
     "start_time": "2021-07-07T14:56:35.328276",
     "status": "completed"
    },
    "tags": []
   },
   "outputs": [],
   "source": [
    "data_train = data_train[data_train[\"age\"]>=20]"
   ]
  },
  {
   "cell_type": "markdown",
   "id": "domestic-circus",
   "metadata": {
    "papermill": {
     "duration": 0.06543,
     "end_time": "2021-07-07T14:56:35.538436",
     "exception": false,
     "start_time": "2021-07-07T14:56:35.473006",
     "status": "completed"
    },
    "tags": []
   },
   "source": [
    "### 2.3.2 DebtRatio"
   ]
  },
  {
   "cell_type": "code",
   "execution_count": 19,
   "id": "senior-clause",
   "metadata": {
    "execution": {
     "iopub.execute_input": "2021-07-07T14:56:35.716632Z",
     "iopub.status.busy": "2021-07-07T14:56:35.713039Z",
     "iopub.status.idle": "2021-07-07T14:56:38.550803Z",
     "shell.execute_reply": "2021-07-07T14:56:38.551186Z",
     "shell.execute_reply.started": "2021-07-07T14:40:04.085777Z"
    },
    "papermill": {
     "duration": 2.947551,
     "end_time": "2021-07-07T14:56:38.551336",
     "exception": false,
     "start_time": "2021-07-07T14:56:35.603785",
     "status": "completed"
    },
    "tags": []
   },
   "outputs": [
    {
     "data": {
      "image/png": "[encoded data removed]",
      "text/plain": [
       "<Figure size 864x288 with 2 Axes>"
      ]
     },
     "metadata": {
      "needs_background": "light"
     },
     "output_type": "display_data"
    }
   ],
   "source": [
    "plot_distributions_continuous('DebtRatio')\n",
    "plt.gca().set_ylim(0, 2);"
   ]
  },
  {
   "cell_type": "markdown",
   "id": "aquatic-alias",
   "metadata": {
    "papermill": {
     "duration": 0.066793,
     "end_time": "2021-07-07T14:56:38.684422",
     "exception": false,
     "start_time": "2021-07-07T14:56:38.617629",
     "status": "completed"
    },
    "tags": []
   },
   "source": [
    "- 负债率正常来讲不会太高，主要集中在1附近（左图中取了对数，也就是0附近）\n",
    "- 考虑根据左图将取对数后大于9的离群点进行处理"
   ]
  },
  {
   "cell_type": "code",
   "execution_count": 20,
   "id": "adjusted-cincinnati",
   "metadata": {
    "execution": {
     "iopub.execute_input": "2021-07-07T14:56:38.822584Z",
     "iopub.status.busy": "2021-07-07T14:56:38.821689Z",
     "iopub.status.idle": "2021-07-07T14:56:38.826220Z",
     "shell.execute_reply": "2021-07-07T14:56:38.825825Z",
     "shell.execute_reply.started": "2021-07-07T14:40:07.386317Z"
    },
    "papermill": {
     "duration": 0.075572,
     "end_time": "2021-07-07T14:56:38.826336",
     "exception": false,
     "start_time": "2021-07-07T14:56:38.750764",
     "status": "completed"
    },
    "tags": []
   },
   "outputs": [
    {
     "name": "stdout",
     "output_type": "stream",
     "text": [
      "323\n"
     ]
    }
   ],
   "source": [
    "print(data_train[data_train[\"DebtRatio\"]>np.e**9].shape[0])"
   ]
  },
  {
   "cell_type": "markdown",
   "id": "numeric-republican",
   "metadata": {
    "papermill": {
     "duration": 0.065408,
     "end_time": "2021-07-07T14:56:38.958118",
     "exception": false,
     "start_time": "2021-07-07T14:56:38.892710",
     "status": "completed"
    },
    "tags": []
   },
   "source": [
    "占比较小，直接删去即可"
   ]
  },
  {
   "cell_type": "code",
   "execution_count": 21,
   "id": "turned-formation",
   "metadata": {
    "execution": {
     "iopub.execute_input": "2021-07-07T14:56:39.095608Z",
     "iopub.status.busy": "2021-07-07T14:56:39.094809Z",
     "iopub.status.idle": "2021-07-07T14:56:39.105274Z",
     "shell.execute_reply": "2021-07-07T14:56:39.104876Z",
     "shell.execute_reply.started": "2021-07-07T14:40:07.401662Z"
    },
    "papermill": {
     "duration": 0.081198,
     "end_time": "2021-07-07T14:56:39.105387",
     "exception": false,
     "start_time": "2021-07-07T14:56:39.024189",
     "status": "completed"
    },
    "tags": []
   },
   "outputs": [
    {
     "data": {
      "text/plain": [
       "149676"
      ]
     },
     "execution_count": 21,
     "metadata": {},
     "output_type": "execute_result"
    }
   ],
   "source": [
    "data_train = data_train[data_train[\"DebtRatio\"]<=np.e**9]\n",
    "#看看操作是否成功\n",
    "data_train.shape[0]"
   ]
  },
  {
   "cell_type": "markdown",
   "id": "complicated-namibia",
   "metadata": {
    "papermill": {
     "duration": 0.065471,
     "end_time": "2021-07-07T14:56:39.236643",
     "exception": false,
     "start_time": "2021-07-07T14:56:39.171172",
     "status": "completed"
    },
    "tags": []
   },
   "source": [
    "### 2.3.3 MonthlyIncome\n",
    "做类似分析和处理"
   ]
  },
  {
   "cell_type": "code",
   "execution_count": 22,
   "id": "administrative-founder",
   "metadata": {
    "execution": {
     "iopub.execute_input": "2021-07-07T14:56:39.409991Z",
     "iopub.status.busy": "2021-07-07T14:56:39.405385Z",
     "iopub.status.idle": "2021-07-07T14:56:42.534479Z",
     "shell.execute_reply": "2021-07-07T14:56:42.534063Z",
     "shell.execute_reply.started": "2021-07-07T14:40:07.422963Z"
    },
    "papermill": {
     "duration": 3.231869,
     "end_time": "2021-07-07T14:56:42.534600",
     "exception": false,
     "start_time": "2021-07-07T14:56:39.302731",
     "status": "completed"
    },
    "tags": []
   },
   "outputs": [
    {
     "data": {
      "image/png": "[encoded data removed]",
      "text/plain": [
       "<Figure size 864x288 with 2 Axes>"
      ]
     },
     "metadata": {
      "needs_background": "light"
     },
     "output_type": "display_data"
    }
   ],
   "source": [
    "plot_distributions_continuous('MonthlyIncome')\n",
    "plt.gca().set_ylim(0, 2e4);"
   ]
  },
  {
   "cell_type": "code",
   "execution_count": 23,
   "id": "cubic-beach",
   "metadata": {
    "execution": {
     "iopub.execute_input": "2021-07-07T14:56:42.675523Z",
     "iopub.status.busy": "2021-07-07T14:56:42.674719Z",
     "iopub.status.idle": "2021-07-07T14:56:42.680057Z",
     "shell.execute_reply": "2021-07-07T14:56:42.679649Z",
     "shell.execute_reply.started": "2021-07-07T14:40:10.296895Z"
    },
    "papermill": {
     "duration": 0.077196,
     "end_time": "2021-07-07T14:56:42.680166",
     "exception": false,
     "start_time": "2021-07-07T14:56:42.602970",
     "status": "completed"
    },
    "tags": []
   },
   "outputs": [
    {
     "data": {
      "text/plain": [
       "77"
      ]
     },
     "execution_count": 23,
     "metadata": {},
     "output_type": "execute_result"
    }
   ],
   "source": [
    "data_train[data_train[\"MonthlyIncome\"]>np.e**11.5].shape[0]"
   ]
  },
  {
   "cell_type": "code",
   "execution_count": 24,
   "id": "proved-heritage",
   "metadata": {
    "execution": {
     "iopub.execute_input": "2021-07-07T14:56:42.822300Z",
     "iopub.status.busy": "2021-07-07T14:56:42.821392Z",
     "iopub.status.idle": "2021-07-07T14:56:42.832252Z",
     "shell.execute_reply": "2021-07-07T14:56:42.831854Z",
     "shell.execute_reply.started": "2021-07-07T14:40:10.306598Z"
    },
    "papermill": {
     "duration": 0.084629,
     "end_time": "2021-07-07T14:56:42.832375",
     "exception": false,
     "start_time": "2021-07-07T14:56:42.747746",
     "status": "completed"
    },
    "tags": []
   },
   "outputs": [
    {
     "data": {
      "text/plain": [
       "149599"
      ]
     },
     "execution_count": 24,
     "metadata": {},
     "output_type": "execute_result"
    }
   ],
   "source": [
    "data_train = data_train[data_train[\"MonthlyIncome\"]<np.e**11.5]\n",
    "#看看操作是否成功\n",
    "data_train.shape[0]"
   ]
  },
  {
   "cell_type": "markdown",
   "id": "cooked-tower",
   "metadata": {
    "papermill": {
     "duration": 0.068955,
     "end_time": "2021-07-07T14:56:42.970779",
     "exception": false,
     "start_time": "2021-07-07T14:56:42.901824",
     "status": "completed"
    },
    "tags": []
   },
   "source": [
    "### 2.3.4 NumberOfDependents"
   ]
  },
  {
   "cell_type": "code",
   "execution_count": 25,
   "id": "primary-lesson",
   "metadata": {
    "execution": {
     "iopub.execute_input": "2021-07-07T14:56:43.134074Z",
     "iopub.status.busy": "2021-07-07T14:56:43.122640Z",
     "iopub.status.idle": "2021-07-07T14:56:44.725349Z",
     "shell.execute_reply": "2021-07-07T14:56:44.724529Z",
     "shell.execute_reply.started": "2021-07-07T14:40:10.322639Z"
    },
    "papermill": {
     "duration": 1.685124,
     "end_time": "2021-07-07T14:56:44.725494",
     "exception": false,
     "start_time": "2021-07-07T14:56:43.040370",
     "status": "completed"
    },
    "tags": []
   },
   "outputs": [
    {
     "data": {
      "image/png": "[encoded data removed]",
      "text/plain": [
       "<Figure size 864x288 with 2 Axes>"
      ]
     },
     "metadata": {
      "needs_background": "light"
     },
     "output_type": "display_data"
    }
   ],
   "source": [
    "plot_distributions_discrete('NumberOfDependents')\n",
    "plt.gca().set_ylim(0, 10);"
   ]
  },
  {
   "cell_type": "code",
   "execution_count": 26,
   "id": "healthy-refund",
   "metadata": {
    "execution": {
     "iopub.execute_input": "2021-07-07T14:56:44.870716Z",
     "iopub.status.busy": "2021-07-07T14:56:44.869899Z",
     "iopub.status.idle": "2021-07-07T14:56:44.875003Z",
     "shell.execute_reply": "2021-07-07T14:56:44.875375Z",
     "shell.execute_reply.started": "2021-07-07T14:40:11.946662Z"
    },
    "papermill": {
     "duration": 0.07967,
     "end_time": "2021-07-07T14:56:44.875510",
     "exception": false,
     "start_time": "2021-07-07T14:56:44.795840",
     "status": "completed"
    },
    "tags": []
   },
   "outputs": [
    {
     "data": {
      "text/plain": [
       "2"
      ]
     },
     "execution_count": 26,
     "metadata": {},
     "output_type": "execute_result"
    }
   ],
   "source": [
    "data_train[data_train[\"NumberOfDependents\"]>10].shape[0]"
   ]
  },
  {
   "cell_type": "code",
   "execution_count": 27,
   "id": "floating-invalid",
   "metadata": {
    "execution": {
     "iopub.execute_input": "2021-07-07T14:56:45.019212Z",
     "iopub.status.busy": "2021-07-07T14:56:45.018360Z",
     "iopub.status.idle": "2021-07-07T14:56:45.031149Z",
     "shell.execute_reply": "2021-07-07T14:56:45.030747Z",
     "shell.execute_reply.started": "2021-07-07T14:40:11.956069Z"
    },
    "papermill": {
     "duration": 0.086574,
     "end_time": "2021-07-07T14:56:45.031261",
     "exception": false,
     "start_time": "2021-07-07T14:56:44.944687",
     "status": "completed"
    },
    "tags": []
   },
   "outputs": [
    {
     "data": {
      "text/plain": [
       "149597"
      ]
     },
     "execution_count": 27,
     "metadata": {},
     "output_type": "execute_result"
    }
   ],
   "source": [
    "data_train = data_train[data_train[\"NumberOfDependents\"]<=10]\n",
    "#看看操作是否成功\n",
    "data_train.shape[0]"
   ]
  },
  {
   "cell_type": "markdown",
   "id": "daily-convention",
   "metadata": {
    "papermill": {
     "duration": 0.069578,
     "end_time": "2021-07-07T14:56:45.171391",
     "exception": false,
     "start_time": "2021-07-07T14:56:45.101813",
     "status": "completed"
    },
    "tags": []
   },
   "source": [
    "### 2.3.5  RevolvingUtilizationOfUnsecuredLines"
   ]
  },
  {
   "cell_type": "code",
   "execution_count": 28,
   "id": "stuffed-referral",
   "metadata": {
    "execution": {
     "iopub.execute_input": "2021-07-07T14:56:45.323143Z",
     "iopub.status.busy": "2021-07-07T14:56:45.322346Z",
     "iopub.status.idle": "2021-07-07T14:56:47.969333Z",
     "shell.execute_reply": "2021-07-07T14:56:47.968817Z",
     "shell.execute_reply.started": "2021-07-07T14:40:11.974394Z"
    },
    "papermill": {
     "duration": 2.727876,
     "end_time": "2021-07-07T14:56:47.969480",
     "exception": false,
     "start_time": "2021-07-07T14:56:45.241604",
     "status": "completed"
    },
    "tags": []
   },
   "outputs": [
    {
     "data": {
      "image/png": "[encoded data removed]",
      "text/plain": [
       "<Figure size 864x288 with 2 Axes>"
      ]
     },
     "metadata": {
      "needs_background": "light"
     },
     "output_type": "display_data"
    }
   ],
   "source": [
    "plot_distributions_continuous('RevolvingUtilizationOfUnsecuredLines')\n",
    "plt.gca().set_ylim(0, 3);"
   ]
  },
  {
   "cell_type": "code",
   "execution_count": 29,
   "id": "concrete-popularity",
   "metadata": {
    "execution": {
     "iopub.execute_input": "2021-07-07T14:56:48.117362Z",
     "iopub.status.busy": "2021-07-07T14:56:48.116553Z",
     "iopub.status.idle": "2021-07-07T14:56:48.121979Z",
     "shell.execute_reply": "2021-07-07T14:56:48.121570Z",
     "shell.execute_reply.started": "2021-07-07T14:40:14.891914Z"
    },
    "papermill": {
     "duration": 0.080851,
     "end_time": "2021-07-07T14:56:48.122088",
     "exception": false,
     "start_time": "2021-07-07T14:56:48.041237",
     "status": "completed"
    },
    "tags": []
   },
   "outputs": [
    {
     "data": {
      "text/plain": [
       "599"
      ]
     },
     "execution_count": 29,
     "metadata": {},
     "output_type": "execute_result"
    }
   ],
   "source": [
    "data_train[data_train[\"RevolvingUtilizationOfUnsecuredLines\"]>1.5].shape[0]"
   ]
  },
  {
   "cell_type": "code",
   "execution_count": 30,
   "id": "statewide-israel",
   "metadata": {
    "execution": {
     "iopub.execute_input": "2021-07-07T14:56:48.269709Z",
     "iopub.status.busy": "2021-07-07T14:56:48.268812Z",
     "iopub.status.idle": "2021-07-07T14:56:48.277849Z",
     "shell.execute_reply": "2021-07-07T14:56:48.278249Z",
     "shell.execute_reply.started": "2021-07-07T14:40:14.902194Z"
    },
    "papermill": {
     "duration": 0.084982,
     "end_time": "2021-07-07T14:56:48.278363",
     "exception": false,
     "start_time": "2021-07-07T14:56:48.193381",
     "status": "completed"
    },
    "tags": []
   },
   "outputs": [
    {
     "data": {
      "text/plain": [
       "148998"
      ]
     },
     "execution_count": 30,
     "metadata": {},
     "output_type": "execute_result"
    }
   ],
   "source": [
    "data_train = data_train[data_train[\"RevolvingUtilizationOfUnsecuredLines\"]<=1.5]\n",
    "data_train.shape[0]"
   ]
  },
  {
   "cell_type": "markdown",
   "id": "economic-elizabeth",
   "metadata": {
    "papermill": {
     "duration": 0.071323,
     "end_time": "2021-07-07T14:56:48.420952",
     "exception": false,
     "start_time": "2021-07-07T14:56:48.349629",
     "status": "completed"
    },
    "tags": []
   },
   "source": [
    "### 2.3.6 Pastdue\n",
    "因为三者的含义类似，所以放在一起分析"
   ]
  },
  {
   "cell_type": "code",
   "execution_count": 31,
   "id": "civic-heaven",
   "metadata": {
    "execution": {
     "iopub.execute_input": "2021-07-07T14:56:48.574719Z",
     "iopub.status.busy": "2021-07-07T14:56:48.573992Z",
     "iopub.status.idle": "2021-07-07T14:56:48.781951Z",
     "shell.execute_reply": "2021-07-07T14:56:48.782347Z",
     "shell.execute_reply.started": "2021-07-07T14:40:14.917841Z"
    },
    "papermill": {
     "duration": 0.28765,
     "end_time": "2021-07-07T14:56:48.782501",
     "exception": false,
     "start_time": "2021-07-07T14:56:48.494851",
     "status": "completed"
    },
    "tags": []
   },
   "outputs": [
    {
     "data": {
      "image/png": "[encoded data removed]",
      "text/plain": [
       "<Figure size 1440x720 with 1 Axes>"
      ]
     },
     "metadata": {
      "needs_background": "light"
     },
     "output_type": "display_data"
    }
   ],
   "source": [
    "# 查看一下三者的箱型图\n",
    "plt.figure(figsize=(20, 10)) \n",
    "data_train[['NumberOfTime30-59DaysPastDueNotWorse', \n",
    "          'NumberOfTime60-89DaysPastDueNotWorse',\n",
    "          'NumberOfTimes90DaysLate']].boxplot()\n",
    "plt.show()"
   ]
  },
  {
   "cell_type": "markdown",
   "id": "previous-short",
   "metadata": {
    "papermill": {
     "duration": 0.072406,
     "end_time": "2021-07-07T14:56:48.927848",
     "exception": false,
     "start_time": "2021-07-07T14:56:48.855442",
     "status": "completed"
    },
    "tags": []
   },
   "source": [
    "发现离群点都是类似的，可以将他们一起删除"
   ]
  },
  {
   "cell_type": "code",
   "execution_count": 32,
   "id": "alpine-boxing",
   "metadata": {
    "execution": {
     "iopub.execute_input": "2021-07-07T14:56:49.079009Z",
     "iopub.status.busy": "2021-07-07T14:56:49.078206Z",
     "iopub.status.idle": "2021-07-07T14:56:49.087868Z",
     "shell.execute_reply": "2021-07-07T14:56:49.087450Z",
     "shell.execute_reply.started": "2021-07-07T14:40:15.129694Z"
    },
    "papermill": {
     "duration": 0.087571,
     "end_time": "2021-07-07T14:56:49.087987",
     "exception": false,
     "start_time": "2021-07-07T14:56:49.000416",
     "status": "completed"
    },
    "tags": []
   },
   "outputs": [
    {
     "data": {
      "text/plain": [
       "148729"
      ]
     },
     "execution_count": 32,
     "metadata": {},
     "output_type": "execute_result"
    }
   ],
   "source": [
    "data_train = data_train[data_train['NumberOfTime30-59DaysPastDueNotWorse']<95]\n",
    "data_train.shape[0]"
   ]
  },
  {
   "cell_type": "markdown",
   "id": "excellent-foundation",
   "metadata": {
    "papermill": {
     "duration": 0.072618,
     "end_time": "2021-07-07T14:56:49.233308",
     "exception": false,
     "start_time": "2021-07-07T14:56:49.160690",
     "status": "completed"
    },
    "tags": []
   },
   "source": [
    "### 2.3.6 NumberOfOpenCreditLinesAndLoans"
   ]
  },
  {
   "cell_type": "code",
   "execution_count": 33,
   "id": "italic-arrow",
   "metadata": {
    "execution": {
     "iopub.execute_input": "2021-07-07T14:56:49.417691Z",
     "iopub.status.busy": "2021-07-07T14:56:49.413983Z",
     "iopub.status.idle": "2021-07-07T14:56:51.219663Z",
     "shell.execute_reply": "2021-07-07T14:56:51.220071Z",
     "shell.execute_reply.started": "2021-07-07T14:40:15.145492Z"
    },
    "papermill": {
     "duration": 1.912539,
     "end_time": "2021-07-07T14:56:51.220224",
     "exception": false,
     "start_time": "2021-07-07T14:56:49.307685",
     "status": "completed"
    },
    "tags": []
   },
   "outputs": [
    {
     "data": {
      "image/png": "[encoded data removed]",
      "text/plain": [
       "<Figure size 864x288 with 2 Axes>"
      ]
     },
     "metadata": {
      "needs_background": "light"
     },
     "output_type": "display_data"
    }
   ],
   "source": [
    "plot_distributions_discrete('NumberOfOpenCreditLinesAndLoans')\n",
    "plt.gca().set_ylim(0, 30);"
   ]
  },
  {
   "cell_type": "code",
   "execution_count": 34,
   "id": "finnish-psychology",
   "metadata": {
    "execution": {
     "iopub.execute_input": "2021-07-07T14:56:51.374144Z",
     "iopub.status.busy": "2021-07-07T14:56:51.373287Z",
     "iopub.status.idle": "2021-07-07T14:56:51.385555Z",
     "shell.execute_reply": "2021-07-07T14:56:51.385142Z",
     "shell.execute_reply.started": "2021-07-07T14:40:17.017044Z"
    },
    "papermill": {
     "duration": 0.090212,
     "end_time": "2021-07-07T14:56:51.385687",
     "exception": false,
     "start_time": "2021-07-07T14:56:51.295475",
     "status": "completed"
    },
    "tags": []
   },
   "outputs": [
    {
     "data": {
      "text/plain": [
       "143646"
      ]
     },
     "execution_count": 34,
     "metadata": {},
     "output_type": "execute_result"
    }
   ],
   "source": [
    "data_train = data_train[data_train['NumberOfOpenCreditLinesAndLoans']<20]\n",
    "data_train.shape[0]"
   ]
  },
  {
   "cell_type": "markdown",
   "id": "renewable-arabic",
   "metadata": {
    "papermill": {
     "duration": 0.074899,
     "end_time": "2021-07-07T14:56:51.535330",
     "exception": false,
     "start_time": "2021-07-07T14:56:51.460431",
     "status": "completed"
    },
    "tags": []
   },
   "source": [
    "## 2.4  查看处理后的结果"
   ]
  },
  {
   "cell_type": "code",
   "execution_count": 35,
   "id": "suspected-society",
   "metadata": {
    "execution": {
     "iopub.execute_input": "2021-07-07T14:56:51.876527Z",
     "iopub.status.busy": "2021-07-07T14:56:51.871376Z",
     "iopub.status.idle": "2021-07-07T14:56:54.560052Z",
     "shell.execute_reply": "2021-07-07T14:56:54.559552Z",
     "shell.execute_reply.started": "2021-07-07T14:40:17.033449Z"
    },
    "papermill": {
     "duration": 2.950341,
     "end_time": "2021-07-07T14:56:54.560181",
     "exception": false,
     "start_time": "2021-07-07T14:56:51.609840",
     "status": "completed"
    },
    "tags": []
   },
   "outputs": [
    {
     "data": {
      "image/png": "[encoded data removed]",
      "text/plain": [
       "<Figure size 1440x1080 with 12 Axes>"
      ]
     },
     "metadata": {
      "needs_background": "light"
     },
     "output_type": "display_data"
    }
   ],
   "source": [
    "#大致数据分布情况\n",
    "data_train.hist(bins=50, figsize=(20,15))\n",
    "plt.show()"
   ]
  },
  {
   "cell_type": "code",
   "execution_count": 36,
   "id": "handled-landscape",
   "metadata": {
    "execution": {
     "iopub.execute_input": "2021-07-07T14:56:54.718790Z",
     "iopub.status.busy": "2021-07-07T14:56:54.717822Z",
     "iopub.status.idle": "2021-07-07T14:56:55.843208Z",
     "shell.execute_reply": "2021-07-07T14:56:55.843657Z",
     "shell.execute_reply.started": "2021-07-07T14:40:19.553521Z"
    },
    "papermill": {
     "duration": 1.206169,
     "end_time": "2021-07-07T14:56:55.843825",
     "exception": false,
     "start_time": "2021-07-07T14:56:54.637656",
     "status": "completed"
    },
    "tags": []
   },
   "outputs": [
    {
     "data": {
      "text/plain": [
       "<AxesSubplot:>"
      ]
     },
     "execution_count": 36,
     "metadata": {},
     "output_type": "execute_result"
    },
    {
     "data": {
      "image/png": "[encoded data removed]",
      "text/plain": [
       "<Figure size 1440x1080 with 2 Axes>"
      ]
     },
     "metadata": {
      "needs_background": "light"
     },
     "output_type": "display_data"
    }
   ],
   "source": [
    "# 检查数据的相关性\n",
    "corr = data_train.corr()\n",
    "plt.figure(figsize=(20, 15))\n",
    "sns.heatmap(corr, annot=True, fmt='.2g')"
   ]
  },
  {
   "cell_type": "markdown",
   "id": "cultural-pound",
   "metadata": {
    "papermill": {
     "duration": 0.079772,
     "end_time": "2021-07-07T14:56:56.004415",
     "exception": false,
     "start_time": "2021-07-07T14:56:55.924643",
     "status": "completed"
    },
    "tags": []
   },
   "source": [
    "从相关系数图中可以看出因变量SeriousDlqin2yrs与\n",
    "- RevolvingUtilizationOfUnsecuredLines\n",
    "- NumberOfTime30-59DaysPastDueNotWorse\n",
    "- NumberOfTime60-89DaysPastDueNotWorse\n",
    "- NumberOfTime90Dayslate  \n",
    "相关性较强"
   ]
  },
  {
   "cell_type": "markdown",
   "id": "brutal-palestine",
   "metadata": {
    "papermill": {
     "duration": 0.079946,
     "end_time": "2021-07-07T14:56:56.165807",
     "exception": false,
     "start_time": "2021-07-07T14:56:56.085861",
     "status": "completed"
    },
    "tags": []
   },
   "source": [
    "# 三.**变量处理**"
   ]
  },
  {
   "cell_type": "markdown",
   "id": "bored-video",
   "metadata": {
    "papermill": {
     "duration": 0.079794,
     "end_time": "2021-07-07T14:56:56.325958",
     "exception": false,
     "start_time": "2021-07-07T14:56:56.246164",
     "status": "completed"
    },
    "tags": []
   },
   "source": [
    "为了方便后续处理，先将训练集，测试集上的自变量因变量划分清楚"
   ]
  },
  {
   "cell_type": "code",
   "execution_count": 37,
   "id": "protected-arctic",
   "metadata": {
    "execution": {
     "iopub.execute_input": "2021-07-07T14:56:56.531992Z",
     "iopub.status.busy": "2021-07-07T14:56:56.531002Z",
     "iopub.status.idle": "2021-07-07T14:56:56.542232Z",
     "shell.execute_reply": "2021-07-07T14:56:56.541652Z",
     "shell.execute_reply.started": "2021-07-07T14:40:20.693521Z"
    },
    "papermill": {
     "duration": 0.137108,
     "end_time": "2021-07-07T14:56:56.542377",
     "exception": false,
     "start_time": "2021-07-07T14:56:56.405269",
     "status": "completed"
    },
    "tags": []
   },
   "outputs": [
    {
     "name": "stdout",
     "output_type": "stream",
     "text": [
      "<class 'pandas.core.frame.DataFrame'>\n",
      "RangeIndex: 101503 entries, 0 to 101502\n",
      "Data columns (total 10 columns):\n",
      " #   Column                                Non-Null Count   Dtype  \n",
      "---  ------                                --------------   -----  \n",
      " 0   RevolvingUtilizationOfUnsecuredLines  101503 non-null  float64\n",
      " 1   age                                   101503 non-null  int64  \n",
      " 2   NumberOfTime30-59DaysPastDueNotWorse  101503 non-null  int64  \n",
      " 3   DebtRatio                             101503 non-null  float64\n",
      " 4   MonthlyIncome                         101503 non-null  float64\n",
      " 5   NumberOfOpenCreditLinesAndLoans       101503 non-null  int64  \n",
      " 6   NumberOfTimes90DaysLate               101503 non-null  int64  \n",
      " 7   NumberRealEstateLoansOrLines          101503 non-null  int64  \n",
      " 8   NumberOfTime60-89DaysPastDueNotWorse  101503 non-null  int64  \n",
      " 9   NumberOfDependents                    101503 non-null  float64\n",
      "dtypes: float64(4), int64(6)\n",
      "memory usage: 7.7 MB\n"
     ]
    }
   ],
   "source": [
    "X_train = data_train.iloc[:,2:]\n",
    "Y_train = data_train.iloc[:,1]\n",
    "X_test = data_test.iloc[:,2:]\n",
    "X_test.info()"
   ]
  },
  {
   "cell_type": "markdown",
   "id": "binary-magic",
   "metadata": {
    "papermill": {
     "duration": 0.081073,
     "end_time": "2021-07-07T14:56:56.710407",
     "exception": false,
     "start_time": "2021-07-07T14:56:56.629334",
     "status": "completed"
    },
    "tags": []
   },
   "source": [
    "## 3.1变量分箱\n",
    "分箱离散化后,可以降低异常值的影响，在分箱后，我们还计算了Woe和IV  \n",
    "\n",
    "- Woe全称叫Weight of Evidence，常用在风险评估、授信评分卡等领域。\n",
    "\n",
    "- IV全称是Information value，可通过woe加权求和得到，衡量自变量对应变量的预测能力。"
   ]
  },
  {
   "cell_type": "markdown",
   "id": "meaning-jordan",
   "metadata": {
    "papermill": {
     "duration": 0.08056,
     "end_time": "2021-07-07T14:56:56.873015",
     "exception": false,
     "start_time": "2021-07-07T14:56:56.792455",
     "status": "completed"
    },
    "tags": []
   },
   "source": [
    "### 3.1.1最优分箱\n",
    "对于连续变量直接使用最优分箱方法即可"
   ]
  },
  {
   "cell_type": "code",
   "execution_count": 38,
   "id": "infectious-bundle",
   "metadata": {
    "execution": {
     "iopub.execute_input": "2021-07-07T14:56:57.046238Z",
     "iopub.status.busy": "2021-07-07T14:56:57.045378Z",
     "iopub.status.idle": "2021-07-07T14:56:57.047863Z",
     "shell.execute_reply": "2021-07-07T14:56:57.047456Z",
     "shell.execute_reply.started": "2021-07-07T14:40:20.714565Z"
    },
    "papermill": {
     "duration": 0.09402,
     "end_time": "2021-07-07T14:56:57.047982",
     "exception": false,
     "start_time": "2021-07-07T14:56:56.953962",
     "status": "completed"
    },
    "tags": []
   },
   "outputs": [],
   "source": [
    "import scipy.stats as stats\n",
    "\n",
    "def monoto_bin(Y, X, n):\n",
    "    r = 0\n",
    "    total_good = Y.sum()\n",
    "    total_bad =Y.count()-total_good\n",
    "    while np.abs(r) < 1:\n",
    "        d1 = pd.DataFrame({\"X\": X, \"Y\": Y, \"Bucket\": pd.qcut(X, n)})\n",
    "        d2 = d1.groupby('Bucket', as_index = True)\n",
    "        r, p = stats.spearmanr(d2.mean().X, d2.mean().Y)\n",
    "        n = n - 1\n",
    "    d3 = pd.DataFrame(d2.min().X, columns = ['min_' + X.name])\n",
    "    d3['min_' + X.name] = d2.min().X\n",
    "    d3['max_' + X.name] = d2.max().X\n",
    "    d3[Y.name] = d2.sum().Y\n",
    "    d3['total'] = d2.count().Y\n",
    "    \n",
    "    #好坏比，求woe,证据权重\n",
    "    d3['goodattr']=d3[Y.name]/total_good\n",
    "    d3['badattr']=(d3['total']-d3[Y.name])/total_bad\n",
    "    d3['woe'] = np.log(d3['goodattr']/d3['badattr'])\n",
    "    \n",
    "    #信息值，自变量对于目标变量的影响程度\n",
    "    iv = ((d3['goodattr']-d3['badattr'])*d3['woe']).sum()\n",
    "    d4 = (d3.sort_values(by = 'min_' + X.name)).reset_index(drop = True)\n",
    "    print (\"=\" * 80)\n",
    "    print (d4)\n",
    "    cut = []\n",
    "    cut.append(float('-inf'))\n",
    "    for i in range(1,n+1):\n",
    "        qua =X.quantile(i/(n+1))\n",
    "        cut.append(round(qua,4))\n",
    "    cut.append(float('inf'))\n",
    "    woe = list(d4['woe'].round(3))\n",
    "    return d4,iv,cut,woe"
   ]
  },
  {
   "cell_type": "code",
   "execution_count": 39,
   "id": "filled-fight",
   "metadata": {
    "execution": {
     "iopub.execute_input": "2021-07-07T14:56:57.215044Z",
     "iopub.status.busy": "2021-07-07T14:56:57.214038Z",
     "iopub.status.idle": "2021-07-07T14:56:57.928506Z",
     "shell.execute_reply": "2021-07-07T14:56:57.928022Z",
     "shell.execute_reply.started": "2021-07-07T14:40:20.728506Z"
    },
    "papermill": {
     "duration": 0.799709,
     "end_time": "2021-07-07T14:56:57.928627",
     "exception": false,
     "start_time": "2021-07-07T14:56:57.128918",
     "status": "completed"
    },
    "tags": []
   },
   "outputs": [
    {
     "name": "stdout",
     "output_type": "stream",
     "text": [
      "================================================================================\n",
      "   min_RevolvingUtilizationOfUnsecuredLines  \\\n",
      "0                                  0.000000   \n",
      "1                                  0.029086   \n",
      "2                                  0.150445   \n",
      "3                                  0.556082   \n",
      "\n",
      "   max_RevolvingUtilizationOfUnsecuredLines  SeriousDlqin2yrs  total  \\\n",
      "0                                  0.029085               652  35912   \n",
      "1                                  0.150437               677  35911   \n",
      "2                                  0.556042              1751  35911   \n",
      "3                                  1.499474              6243  35912   \n",
      "\n",
      "   goodattr   badattr       woe  \n",
      "0  0.069935  0.262502 -1.322697  \n",
      "1  0.072616  0.262308 -1.284333  \n",
      "2  0.187815  0.254312 -0.303105  \n",
      "3  0.669634  0.220878  1.109121  \n",
      "================================================================================\n",
      "   min_age  max_age  SeriousDlqin2yrs  total  goodattr   badattr       woe\n",
      "0       21       33              1825  16702  0.195752  0.110755  0.569526\n",
      "1       34       40              1608  17612  0.172477  0.119146  0.369915\n",
      "2       41       45              1277  15676  0.136973  0.107197  0.245118\n",
      "3       46       49              1164  14459  0.124853  0.098978  0.232237\n",
      "4       50       54              1231  17262  0.132039  0.119347  0.101065\n",
      "5       55       59               842  16012  0.090314  0.112937 -0.223532\n",
      "6       60       64               663  16074  0.071114  0.114731 -0.478299\n",
      "7       65       71               382  14407  0.040974  0.104412 -0.935413\n",
      "8       72      109               331  15442  0.035504  0.112497 -1.153297\n",
      "================================================================================\n",
      "   min_DebtRatio  max_DebtRatio  SeriousDlqin2yrs  total  goodattr   badattr  \\\n",
      "0       0.000000       0.234096              2762  47882  0.296257  0.335907   \n",
      "1       0.234101       0.561837              3003  47882  0.322107  0.334113   \n",
      "2       0.561839    8100.000000              3558  47882  0.381637  0.329981   \n",
      "\n",
      "        woe  \n",
      "0 -0.125608  \n",
      "1 -0.036595  \n",
      "2  0.145435  \n",
      "================================================================================\n",
      "   min_MonthlyIncome  max_MonthlyIncome  SeriousDlqin2yrs  total  goodattr  \\\n",
      "0                0.0             3200.0              3572  48186  0.383138   \n",
      "1             3201.0             6600.0              3497  47587  0.375094   \n",
      "2             6601.0            97000.0              2254  47873  0.241768   \n",
      "\n",
      "    badattr       woe  \n",
      "0  0.332140  0.142841  \n",
      "1  0.328239  0.133435  \n",
      "2  0.339622 -0.339855  \n"
     ]
    }
   ],
   "source": [
    "x1_d,x1_iv,x1_cut,x1_woe = monoto_bin(Y_train,X_train.RevolvingUtilizationOfUnsecuredLines,10)\n",
    "x2_d,x2_iv,x2_cut,x2_woe = monoto_bin(Y_train,X_train.age,10)\n",
    "x4_d,x4_iv,x4_cut,x4_woe = monoto_bin(Y_train,X_train.DebtRatio,10)\n",
    "x5_d,x5_iv,x5_cut,x5_woe = monoto_bin(Y_train,X_train.MonthlyIncome,10)\n",
    "#此处下标数对应的是第几个特征（例如x2的下标2对应他是第二个特征age）"
   ]
  },
  {
   "cell_type": "markdown",
   "id": "centered-sleeve",
   "metadata": {
    "papermill": {
     "duration": 0.08211,
     "end_time": "2021-07-07T14:56:58.092479",
     "exception": false,
     "start_time": "2021-07-07T14:56:58.010369",
     "status": "completed"
    },
    "tags": []
   },
   "source": [
    "对于不能直接最优分箱的，我们手动设置边界进行分箱，先定义一个分箱函数"
   ]
  },
  {
   "cell_type": "code",
   "execution_count": 40,
   "id": "dutch-champion",
   "metadata": {
    "execution": {
     "iopub.execute_input": "2021-07-07T14:56:58.263367Z",
     "iopub.status.busy": "2021-07-07T14:56:58.262823Z",
     "iopub.status.idle": "2021-07-07T14:56:58.266364Z",
     "shell.execute_reply": "2021-07-07T14:56:58.265965Z",
     "shell.execute_reply.started": "2021-07-07T14:40:21.447171Z"
    },
    "papermill": {
     "duration": 0.092941,
     "end_time": "2021-07-07T14:56:58.266497",
     "exception": false,
     "start_time": "2021-07-07T14:56:58.173556",
     "status": "completed"
    },
    "tags": []
   },
   "outputs": [],
   "source": [
    "def fenxiang(X,Y,CUT):\n",
    "    #先利用pandas的cut函数给包含自变量-因变量的dataframe加上Bucket特征\n",
    "    \n",
    "    d1=pd.DataFrame({'X':X,'Y':Y,'Bucket':pd.cut(X,CUT)})\n",
    "    \n",
    "    #再利用groupby按Bucket将原有的dataframe按Bucket特征划分成子dataframe\n",
    "    \n",
    "    d2=d1.groupby('Bucket', as_index = True)\n",
    "    \n",
    "    #创建一个空的dataframe，往里面输入参数\n",
    "    d3 = pd.DataFrame({\"min\":d2.min().X})\n",
    "    d3['max'] = d2.max().X\n",
    "    d3['sum'] = d2.sum().Y\n",
    "    d3['total'] = d2.count().Y\n",
    "    d3['rate'] = d2.mean().Y\n",
    "\n",
    "    ## 计算woe iv\n",
    "    good=Y.sum()\n",
    "    bad=Y.count()-good\n",
    "    d3['woe'] = np.log((d3['rate'] / (1 - d3['rate'])) / (good / bad))\n",
    "    d3['goodattribute'] = d3['sum'] / good\n",
    "    d3['badattribute'] = (d3['total'] - d3['sum']) / bad\n",
    "    iv = ((d3['goodattribute'] - d3['badattribute']) * d3['woe']).sum()\n",
    "    d4 = (d3.sort_values(by='min'))\n",
    "    print(\"=\" * 60)\n",
    "    print(d4)\n",
    "    woe = list(d4['woe'].round(3))\n",
    "    return d4, iv,woe"
   ]
  },
  {
   "cell_type": "markdown",
   "id": "dressed-tuning",
   "metadata": {
    "execution": {
     "iopub.execute_input": "2021-07-06T15:58:38.650973Z",
     "iopub.status.busy": "2021-07-06T15:58:38.65053Z",
     "iopub.status.idle": "2021-07-06T15:58:38.672425Z",
     "shell.execute_reply": "2021-07-06T15:58:38.671056Z",
     "shell.execute_reply.started": "2021-07-06T15:58:38.650926Z"
    },
    "papermill": {
     "duration": 0.080718,
     "end_time": "2021-07-07T14:56:58.429114",
     "exception": false,
     "start_time": "2021-07-07T14:56:58.348396",
     "status": "completed"
    },
    "tags": []
   },
   "source": [
    "再对剩余变量进行分箱"
   ]
  },
  {
   "cell_type": "code",
   "execution_count": 41,
   "id": "sapphire-compensation",
   "metadata": {
    "execution": {
     "iopub.execute_input": "2021-07-07T14:56:58.598554Z",
     "iopub.status.busy": "2021-07-07T14:56:58.598012Z",
     "iopub.status.idle": "2021-07-07T14:56:58.601564Z",
     "shell.execute_reply": "2021-07-07T14:56:58.601956Z",
     "shell.execute_reply.started": "2021-07-07T14:40:21.458409Z"
    },
    "papermill": {
     "duration": 0.091326,
     "end_time": "2021-07-07T14:56:58.602091",
     "exception": false,
     "start_time": "2021-07-07T14:56:58.510765",
     "status": "completed"
    },
    "tags": []
   },
   "outputs": [],
   "source": [
    "##先指定不同变量的cut\n",
    "cutx3 = [-np.inf, 0, 1, 2, 4, 8, np.inf]\n",
    "cutx6 = [-np.inf, 0, 1, 2, 3, 4, 5, 6, 7, 8, 9, 10, 11, 12, 13, 14, 15, 16, np.inf]\n",
    "cutx7 = [-np.inf, 0, 1, 2, 4, 8, np.inf]\n",
    "cutx8 = [-np.inf, 0, 1, 2, 3, 4, 5, np.inf]\n",
    "cutx9 = [-np.inf, 0, 1, 2, 4, 8, np.inf]\n",
    "cutx10 = [-np.inf, 0, 1, 2, 3, 4, 5, 6, np.inf]"
   ]
  },
  {
   "cell_type": "code",
   "execution_count": 42,
   "id": "atmospheric-disorder",
   "metadata": {
    "execution": {
     "iopub.execute_input": "2021-07-07T14:56:58.769563Z",
     "iopub.status.busy": "2021-07-07T14:56:58.768453Z",
     "iopub.status.idle": "2021-07-07T14:56:58.914347Z",
     "shell.execute_reply": "2021-07-07T14:56:58.913696Z",
     "shell.execute_reply.started": "2021-07-07T14:40:21.469192Z"
    },
    "papermill": {
     "duration": 0.23201,
     "end_time": "2021-07-07T14:56:58.914508",
     "exception": false,
     "start_time": "2021-07-07T14:56:58.682498",
     "status": "completed"
    },
    "tags": []
   },
   "outputs": [
    {
     "name": "stdout",
     "output_type": "stream",
     "text": [
      "============================================================\n",
      "             min  max   sum   total      rate       woe  goodattribute  \\\n",
      "Bucket                                                                   \n",
      "(-inf, 0.0]    0    0  4780  121301  0.039406 -0.525868       0.512711   \n",
      "(0.0, 1.0]     1    1  2265   15151  0.149495  0.929196       0.242948   \n",
      "(1.0, 2.0]     2    2  1149    4319  0.266034  1.652923       0.123244   \n",
      "(2.0, 4.0]     3    4   876    2351  0.372607  2.146716       0.093961   \n",
      "(4.0, 8.0]     5    8   245     509  0.481336  2.593072       0.026279   \n",
      "(8.0, inf]     9   13     8      15  0.533333  2.801294       0.000858   \n",
      "\n",
      "             badattribute  \n",
      "Bucket                     \n",
      "(-inf, 0.0]      0.867469  \n",
      "(0.0, 1.0]       0.095933  \n",
      "(1.0, 2.0]       0.023600  \n",
      "(2.0, 4.0]       0.010981  \n",
      "(4.0, 8.0]       0.001965  \n",
      "(8.0, inf]       0.000052  \n",
      "============================================================\n",
      "              min  max  sum  total      rate       woe  goodattribute  \\\n",
      "Bucket                                                                  \n",
      "(-inf, 0.0]     0    0  337   1613  0.208927  1.336360       0.036147   \n",
      "(0.0, 1.0]      1    1  566   4395  0.128783  0.755998       0.060710   \n",
      "(1.0, 2.0]      2    2  586   6586  0.088977  0.341568       0.062855   \n",
      "(2.0, 3.0]      3    3  663   8977  0.073855  0.138842       0.071114   \n",
      "(3.0, 4.0]      4    4  721  11519  0.062592 -0.038714       0.077336   \n",
      "(4.0, 5.0]      5    5  798  12856  0.062072 -0.047612       0.085595   \n",
      "(5.0, 6.0]      6    6  744  13539  0.054952 -0.177006       0.079803   \n",
      "(6.0, 7.0]      7    7  740  13171  0.056184 -0.153536       0.079374   \n",
      "(7.0, 8.0]      8    8  598  12496  0.047855 -0.322772       0.064142   \n",
      "(8.0, 9.0]      9    9  656  11302  0.058043 -0.119016       0.070364   \n",
      "(9.0, 10.0]    10   10  564   9572  0.058922 -0.103051       0.060496   \n",
      "(10.0, 11.0]   11   11  469   8285  0.056608 -0.145563       0.050306   \n",
      "(11.0, 12.0]   12   12  437   6971  0.062688 -0.037079       0.046873   \n",
      "(12.0, 13.0]   13   13  303   5633  0.053790 -0.199611       0.032500   \n",
      "(13.0, 14.0]   14   14  297   4522  0.065679  0.012720       0.031857   \n",
      "(14.0, 15.0]   15   15  275   3624  0.075883  0.168117       0.029497   \n",
      "(15.0, 16.0]   16   16  202   2973  0.067945  0.049067       0.021667   \n",
      "(16.0, inf]    17   19  367   5612  0.065396  0.008094       0.039365   \n",
      "\n",
      "              badattribute  \n",
      "Bucket                      \n",
      "(-inf, 0.0]       0.009499  \n",
      "(0.0, 1.0]        0.028506  \n",
      "(1.0, 2.0]        0.044668  \n",
      "(2.0, 3.0]        0.061896  \n",
      "(3.0, 4.0]        0.080388  \n",
      "(4.0, 5.0]        0.089769  \n",
      "(5.0, 6.0]        0.095255  \n",
      "(6.0, 7.0]        0.092546  \n",
      "(7.0, 8.0]        0.088578  \n",
      "(8.0, 9.0]        0.079257  \n",
      "(9.0, 10.0]       0.067062  \n",
      "(10.0, 11.0]      0.058188  \n",
      "(11.0, 12.0]      0.048644  \n",
      "(12.0, 13.0]      0.039680  \n",
      "(13.0, 14.0]      0.031454  \n",
      "(14.0, 15.0]      0.024932  \n",
      "(15.0, 16.0]      0.020629  \n",
      "(16.0, inf]       0.039048  \n",
      "============================================================\n",
      "             min  max   sum   total      rate       woe  goodattribute  \\\n",
      "Bucket                                                                   \n",
      "(-inf, 0.0]    0    0  6134  135884  0.045141 -0.384000       0.657943   \n",
      "(0.0, 1.0]     1    1  1703    5063  0.336362  1.988213       0.182667   \n",
      "(1.0, 2.0]     2    2   749    1499  0.499666  2.666429       0.080339   \n",
      "(2.0, 4.0]     3    4   550     913  0.602410  3.083278       0.058994   \n",
      "(4.0, 8.0]     5    8   162     248  0.653226  3.301012       0.017376   \n",
      "(8.0, inf]     9   17    25      39  0.641026  3.247581       0.002682   \n",
      "\n",
      "             badattribute  \n",
      "Bucket                     \n",
      "(-inf, 0.0]      0.965955  \n",
      "(0.0, 1.0]       0.025014  \n",
      "(1.0, 2.0]       0.005584  \n",
      "(2.0, 4.0]       0.002702  \n",
      "(4.0, 8.0]       0.000640  \n",
      "(8.0, inf]       0.000104  \n",
      "============================================================\n",
      "             min  max   sum  total      rate       woe  goodattribute  \\\n",
      "Bucket                                                                  \n",
      "(-inf, 0.0]    0    0   337   1613  0.208927  1.336360       0.036147   \n",
      "(0.0, 1.0]     1    1   566   4395  0.128783  0.755998       0.060710   \n",
      "(1.0, 2.0]     2    2   586   6586  0.088977  0.341568       0.062855   \n",
      "(2.0, 3.0]     3    3   663   8977  0.073855  0.138842       0.071114   \n",
      "(3.0, 4.0]     4    4   721  11519  0.062592 -0.038714       0.077336   \n",
      "(4.0, 5.0]     5    5   798  12856  0.062072 -0.047612       0.085595   \n",
      "(5.0, inf]     6   19  5652  97700  0.057851 -0.122538       0.606243   \n",
      "\n",
      "             badattribute  \n",
      "Bucket                     \n",
      "(-inf, 0.0]      0.009499  \n",
      "(0.0, 1.0]       0.028506  \n",
      "(1.0, 2.0]       0.044668  \n",
      "(2.0, 3.0]       0.061896  \n",
      "(3.0, 4.0]       0.080388  \n",
      "(4.0, 5.0]       0.089769  \n",
      "(5.0, inf]       0.685274  \n",
      "============================================================\n",
      "             min  max   sum   total      rate       woe  goodattribute  \\\n",
      "Bucket                                                                   \n",
      "(-inf, 0.0]    0    0  6835  136683  0.050006 -0.276545       0.733133   \n",
      "(0.0, 1.0]     1    1  1687    5454  0.309314  1.864436       0.180950   \n",
      "(1.0, 2.0]     2    2   532    1051  0.506185  2.692502       0.057063   \n",
      "(2.0, 4.0]     3    4   233     402  0.579602  2.988903       0.024992   \n",
      "(4.0, 8.0]     5    7    35      54  0.648148  3.278672       0.003754   \n",
      "(8.0, inf]     9   11     1       2  0.500000  2.667763       0.000107   \n",
      "\n",
      "             badattribute  \n",
      "Bucket                     \n",
      "(-inf, 0.0]      0.966685  \n",
      "(0.0, 1.0]       0.028044  \n",
      "(1.0, 2.0]       0.003864  \n",
      "(2.0, 4.0]       0.001258  \n",
      "(4.0, 8.0]       0.000141  \n",
      "(8.0, inf]       0.000007  \n",
      "============================================================\n",
      "             min   max   sum  total      rate       woe  goodattribute  \\\n",
      "Bucket                                                                   \n",
      "(-inf, 0.0]  0.0   0.0  4868  87074  0.055906 -0.158782       0.522150   \n",
      "(0.0, 1.0]   1.0   1.0  1806  25063  0.072058  0.112271       0.193714   \n",
      "(1.0, 2.0]   2.0   2.0  1488  18701  0.079568  0.219531       0.159605   \n",
      "(2.0, 3.0]   3.0   3.0   787   9125  0.086247  0.307412       0.084415   \n",
      "(3.0, 4.0]   4.0   4.0   278   2728  0.101906  0.491541       0.029819   \n",
      "(4.0, 5.0]   5.0   5.0    66    718  0.091922  0.377373       0.007079   \n",
      "(5.0, 6.0]   6.0   6.0    23    153  0.150327  0.935723       0.002467   \n",
      "(6.0, inf]   7.0  10.0     7     84  0.083333  0.269868       0.000751   \n",
      "\n",
      "             badattribute  \n",
      "Bucket                     \n",
      "(-inf, 0.0]      0.612002  \n",
      "(0.0, 1.0]       0.173142  \n",
      "(1.0, 2.0]       0.128146  \n",
      "(2.0, 3.0]       0.062074  \n",
      "(3.0, 4.0]       0.018240  \n",
      "(4.0, 5.0]       0.004854  \n",
      "(5.0, 6.0]       0.000968  \n",
      "(6.0, inf]       0.000573  \n"
     ]
    }
   ],
   "source": [
    "##调用函数计算\n",
    "x3_d,x3_iv,x3_woe = fenxiang(X_train[\"NumberOfTime30-59DaysPastDueNotWorse\"],Y_train,cutx3)\n",
    "x6_d,x6_iv,x6_woe = fenxiang(X_train[\"NumberOfOpenCreditLinesAndLoans\"],Y_train,cutx6)\n",
    "x7_d,x7_iv,x7_woe = fenxiang(X_train[\"NumberOfTimes90DaysLate\"],Y_train,cutx7)\n",
    "x8_d,x8_iv,x8_woe = fenxiang(X_train[\"NumberOfOpenCreditLinesAndLoans\"],Y_train,cutx8)\n",
    "x9_d,x9_iv,x9_woe = fenxiang(X_train[\"NumberOfTime60-89DaysPastDueNotWorse\"],Y_train,cutx9)\n",
    "x10_d,x10_iv,x10_woe = fenxiang(X_train[\"NumberOfDependents\"],Y_train,cutx10)"
   ]
  },
  {
   "cell_type": "markdown",
   "id": "indoor-knowing",
   "metadata": {
    "execution": {
     "iopub.execute_input": "2021-07-06T16:27:05.349474Z",
     "iopub.status.busy": "2021-07-06T16:27:05.349035Z",
     "iopub.status.idle": "2021-07-06T16:27:05.368029Z",
     "shell.execute_reply": "2021-07-06T16:27:05.36723Z",
     "shell.execute_reply.started": "2021-07-06T16:27:05.349434Z"
    },
    "papermill": {
     "duration": 0.080862,
     "end_time": "2021-07-07T14:56:59.077992",
     "exception": false,
     "start_time": "2021-07-07T14:56:58.997130",
     "status": "completed"
    },
    "tags": []
   },
   "source": [
    "### 3.2选取变量\n",
    "查看各个变量的IV值"
   ]
  },
  {
   "cell_type": "code",
   "execution_count": 43,
   "id": "purple-vatican",
   "metadata": {
    "execution": {
     "iopub.execute_input": "2021-07-07T14:56:59.298251Z",
     "iopub.status.busy": "2021-07-07T14:56:59.290168Z",
     "iopub.status.idle": "2021-07-07T14:56:59.443983Z",
     "shell.execute_reply": "2021-07-07T14:56:59.444602Z",
     "shell.execute_reply.started": "2021-07-07T14:40:21.622702Z"
    },
    "papermill": {
     "duration": 0.284703,
     "end_time": "2021-07-07T14:56:59.444758",
     "exception": false,
     "start_time": "2021-07-07T14:56:59.160055",
     "status": "completed"
    },
    "tags": []
   },
   "outputs": [
    {
     "data": {
      "image/png": "[encoded data removed]",
      "text/plain": [
       "<Figure size 1440x720 with 1 Axes>"
      ]
     },
     "metadata": {
      "needs_background": "light"
     },
     "output_type": "display_data"
    }
   ],
   "source": [
    "# 查看各个变量的IV值\n",
    "informationValue = []\n",
    "informationValue.append(x1_iv)\n",
    "informationValue.append(x2_iv)\n",
    "informationValue.append(x3_iv)\n",
    "informationValue.append(x4_iv)\n",
    "informationValue.append(x5_iv)\n",
    "informationValue.append(x6_iv)\n",
    "informationValue.append(x7_iv)\n",
    "informationValue.append(x8_iv)\n",
    "informationValue.append(x9_iv)\n",
    "informationValue.append(x10_iv)\n",
    "informationValue\n",
    "plt.figure(figsize=(20, 10)) \n",
    "index=['RevolvingUtilizationOfUnsecuredLines','age','NumberOfTime30-59DaysPastDueNotWorse','DebtRatio','MonthlyIncome','NumberOfOpenCreditLinesAndLoans','NumberOfTimes90DaysLate','NumberRealEstateLoansOrLines','NumberOfTime60-89DaysPastDueNotWorse','NumberOfDependents']\n",
    "index_num = range(len(index))\n",
    "ax=plt.bar(index_num,informationValue,tick_label=index)\n",
    "plt.xticks(rotation=90) \n",
    "plt.show()"
   ]
  },
  {
   "cell_type": "markdown",
   "id": "attached-transcript",
   "metadata": {
    "execution": {
     "iopub.execute_input": "2021-07-06T16:40:47.993724Z",
     "iopub.status.busy": "2021-07-06T16:40:47.993363Z",
     "iopub.status.idle": "2021-07-06T16:40:47.999689Z",
     "shell.execute_reply": "2021-07-06T16:40:47.998957Z",
     "shell.execute_reply.started": "2021-07-06T16:40:47.993693Z"
    },
    "papermill": {
     "duration": 0.081738,
     "end_time": "2021-07-07T14:56:59.608827",
     "exception": false,
     "start_time": "2021-07-07T14:56:59.527089",
     "status": "completed"
    },
    "tags": []
   },
   "source": [
    "IV值可以用来衡量自变量对于因变量的响应能力，具体量化指标如下：\n",
    "- $\\leq$0.02:useless for prediction\n",
    "- 0.02 to 0.1:Weak predictor\n",
    "- 0.1 to 0.3Medium predictor\n",
    "- 0.3 to 0.5Strong predictor \n",
    "- $\\geq$0.5 Suspicious or too good to be true  \n",
    "舍弃掉衡量能力较差的特征\n",
    "\n"
   ]
  },
  {
   "cell_type": "code",
   "execution_count": 44,
   "id": "considered-beach",
   "metadata": {
    "execution": {
     "iopub.execute_input": "2021-07-07T14:56:59.797078Z",
     "iopub.status.busy": "2021-07-07T14:56:59.796280Z",
     "iopub.status.idle": "2021-07-07T14:56:59.799901Z",
     "shell.execute_reply": "2021-07-07T14:56:59.799491Z",
     "shell.execute_reply.started": "2021-07-07T14:40:21.829875Z"
    },
    "papermill": {
     "duration": 0.107667,
     "end_time": "2021-07-07T14:56:59.800010",
     "exception": false,
     "start_time": "2021-07-07T14:56:59.692343",
     "status": "completed"
    },
    "tags": []
   },
   "outputs": [
    {
     "data": {
      "text/html": [
       "<div>\n",
       "<style scoped>\n",
       "    .dataframe tbody tr th:only-of-type {\n",
       "        vertical-align: middle;\n",
       "    }\n",
       "\n",
       "    .dataframe tbody tr th {\n",
       "        vertical-align: top;\n",
       "    }\n",
       "\n",
       "    .dataframe thead th {\n",
       "        text-align: right;\n",
       "    }\n",
       "</style>\n",
       "<table border=\"1\" class=\"dataframe\">\n",
       "  <thead>\n",
       "    <tr style=\"text-align: right;\">\n",
       "      <th></th>\n",
       "      <th>RevolvingUtilizationOfUnsecuredLines</th>\n",
       "      <th>age</th>\n",
       "      <th>NumberOfTime30-59DaysPastDueNotWorse</th>\n",
       "      <th>DebtRatio</th>\n",
       "      <th>MonthlyIncome</th>\n",
       "      <th>NumberOfOpenCreditLinesAndLoans</th>\n",
       "      <th>NumberOfTimes90DaysLate</th>\n",
       "      <th>NumberRealEstateLoansOrLines</th>\n",
       "      <th>NumberOfTime60-89DaysPastDueNotWorse</th>\n",
       "    </tr>\n",
       "  </thead>\n",
       "  <tbody>\n",
       "    <tr>\n",
       "      <th>0</th>\n",
       "      <td>0.885519</td>\n",
       "      <td>43</td>\n",
       "      <td>0</td>\n",
       "      <td>0.177513</td>\n",
       "      <td>5700.0</td>\n",
       "      <td>4</td>\n",
       "      <td>0</td>\n",
       "      <td>0</td>\n",
       "      <td>0</td>\n",
       "    </tr>\n",
       "    <tr>\n",
       "      <th>1</th>\n",
       "      <td>0.463295</td>\n",
       "      <td>57</td>\n",
       "      <td>0</td>\n",
       "      <td>0.527237</td>\n",
       "      <td>9141.0</td>\n",
       "      <td>15</td>\n",
       "      <td>0</td>\n",
       "      <td>4</td>\n",
       "      <td>0</td>\n",
       "    </tr>\n",
       "    <tr>\n",
       "      <th>2</th>\n",
       "      <td>0.043275</td>\n",
       "      <td>59</td>\n",
       "      <td>0</td>\n",
       "      <td>0.687648</td>\n",
       "      <td>5083.0</td>\n",
       "      <td>12</td>\n",
       "      <td>0</td>\n",
       "      <td>1</td>\n",
       "      <td>0</td>\n",
       "    </tr>\n",
       "    <tr>\n",
       "      <th>3</th>\n",
       "      <td>0.280308</td>\n",
       "      <td>38</td>\n",
       "      <td>1</td>\n",
       "      <td>0.925961</td>\n",
       "      <td>3200.0</td>\n",
       "      <td>7</td>\n",
       "      <td>0</td>\n",
       "      <td>2</td>\n",
       "      <td>0</td>\n",
       "    </tr>\n",
       "    <tr>\n",
       "      <th>4</th>\n",
       "      <td>1.000000</td>\n",
       "      <td>27</td>\n",
       "      <td>0</td>\n",
       "      <td>0.019917</td>\n",
       "      <td>3865.0</td>\n",
       "      <td>4</td>\n",
       "      <td>0</td>\n",
       "      <td>0</td>\n",
       "      <td>0</td>\n",
       "    </tr>\n",
       "  </tbody>\n",
       "</table>\n",
       "</div>"
      ],
      "text/plain": [
       "   RevolvingUtilizationOfUnsecuredLines  age  \\\n",
       "0                              0.885519   43   \n",
       "1                              0.463295   57   \n",
       "2                              0.043275   59   \n",
       "3                              0.280308   38   \n",
       "4                              1.000000   27   \n",
       "\n",
       "   NumberOfTime30-59DaysPastDueNotWorse  DebtRatio  MonthlyIncome  \\\n",
       "0                                     0   0.177513         5700.0   \n",
       "1                                     0   0.527237         9141.0   \n",
       "2                                     0   0.687648         5083.0   \n",
       "3                                     1   0.925961         3200.0   \n",
       "4                                     0   0.019917         3865.0   \n",
       "\n",
       "   NumberOfOpenCreditLinesAndLoans  NumberOfTimes90DaysLate  \\\n",
       "0                                4                        0   \n",
       "1                               15                        0   \n",
       "2                               12                        0   \n",
       "3                                7                        0   \n",
       "4                                4                        0   \n",
       "\n",
       "   NumberRealEstateLoansOrLines  NumberOfTime60-89DaysPastDueNotWorse  \n",
       "0                             0                                     0  \n",
       "1                             4                                     0  \n",
       "2                             1                                     0  \n",
       "3                             2                                     0  \n",
       "4                             0                                     0  "
      ]
     },
     "execution_count": 44,
     "metadata": {},
     "output_type": "execute_result"
    }
   ],
   "source": [
    "X_train_last = X_train.drop([\"NumberOfDependents\"],axis = 1)\n",
    "X_test_last = X_test.drop([\"NumberOfDependents\"],axis = 1)\n",
    "X_test_last.head()"
   ]
  },
  {
   "cell_type": "markdown",
   "id": "continued-command",
   "metadata": {
    "execution": {
     "iopub.execute_input": "2021-07-06T17:15:01.77489Z",
     "iopub.status.busy": "2021-07-06T17:15:01.774461Z",
     "iopub.status.idle": "2021-07-06T17:15:01.79322Z",
     "shell.execute_reply": "2021-07-06T17:15:01.792004Z",
     "shell.execute_reply.started": "2021-07-06T17:15:01.774856Z"
    },
    "papermill": {
     "duration": 0.091291,
     "end_time": "2021-07-07T14:56:59.975483",
     "exception": false,
     "start_time": "2021-07-07T14:56:59.884192",
     "status": "completed"
    },
    "tags": []
   },
   "source": [
    "# **四.模型预测**"
   ]
  },
  {
   "cell_type": "markdown",
   "id": "revolutionary-subscription",
   "metadata": {
    "papermill": {
     "duration": 0.085072,
     "end_time": "2021-07-07T14:57:00.146183",
     "exception": false,
     "start_time": "2021-07-07T14:57:00.061111",
     "status": "completed"
    },
    "tags": []
   },
   "source": [
    "为了评价模型以及后续调参，我们先定义一个ROC曲线绘制函数"
   ]
  },
  {
   "cell_type": "code",
   "execution_count": 45,
   "id": "cooked-seventh",
   "metadata": {
    "execution": {
     "iopub.execute_input": "2021-07-07T14:57:00.319400Z",
     "iopub.status.busy": "2021-07-07T14:57:00.318569Z",
     "iopub.status.idle": "2021-07-07T14:57:00.321341Z",
     "shell.execute_reply": "2021-07-07T14:57:00.320920Z",
     "shell.execute_reply.started": "2021-07-07T14:40:21.850840Z"
    },
    "papermill": {
     "duration": 0.091644,
     "end_time": "2021-07-07T14:57:00.321448",
     "exception": false,
     "start_time": "2021-07-07T14:57:00.229804",
     "status": "completed"
    },
    "tags": []
   },
   "outputs": [],
   "source": [
    "# ROC曲线绘制\n",
    "def draw_roc(FPR, TPR, label=None):\n",
    "    plt.figure(figsize=(8,6))\n",
    "    plt.plot(FPR, TPR,'b', linewidth=2, label=label)\n",
    "    plt.plot([0,1],[0,1], \"r--\") \n",
    "    plt.xlim([0, 1])   \n",
    "    plt.ylim([0, 1])\n",
    "    plt.xlabel(\"False Positive Rate\")\n",
    "    plt.ylabel(\"True Positive rate\")"
   ]
  },
  {
   "cell_type": "code",
   "execution_count": 46,
   "id": "alone-noise",
   "metadata": {
    "execution": {
     "iopub.execute_input": "2021-07-07T14:57:00.490748Z",
     "iopub.status.busy": "2021-07-07T14:57:00.490068Z",
     "iopub.status.idle": "2021-07-07T14:57:00.492866Z",
     "shell.execute_reply": "2021-07-07T14:57:00.492464Z",
     "shell.execute_reply.started": "2021-07-07T14:40:21.860365Z"
    },
    "papermill": {
     "duration": 0.089082,
     "end_time": "2021-07-07T14:57:00.492982",
     "exception": false,
     "start_time": "2021-07-07T14:57:00.403900",
     "status": "completed"
    },
    "tags": []
   },
   "outputs": [],
   "source": [
    "from sklearn.ensemble import RandomForestClassifier, GradientBoostingClassifier\n",
    "from sklearn.model_selection import train_test_split, cross_val_predict\n",
    "from sklearn.metrics import roc_curve, roc_auc_score\n",
    "from sklearn.preprocessing import StandardScaler\n",
    "from sklearn.model_selection import cross_val_score"
   ]
  },
  {
   "cell_type": "markdown",
   "id": "fitting-watershed",
   "metadata": {
    "papermill": {
     "duration": 0.08238,
     "end_time": "2021-07-07T14:57:00.657328",
     "exception": false,
     "start_time": "2021-07-07T14:57:00.574948",
     "status": "completed"
    },
    "tags": []
   },
   "source": [
    "## 4.1 RandomForest"
   ]
  },
  {
   "cell_type": "code",
   "execution_count": 47,
   "id": "certified-anthropology",
   "metadata": {
    "execution": {
     "iopub.execute_input": "2021-07-07T14:57:00.832753Z",
     "iopub.status.busy": "2021-07-07T14:57:00.831574Z",
     "iopub.status.idle": "2021-07-07T14:57:28.767099Z",
     "shell.execute_reply": "2021-07-07T14:57:28.766367Z",
     "shell.execute_reply.started": "2021-07-07T14:40:31.258037Z"
    },
    "papermill": {
     "duration": 28.026076,
     "end_time": "2021-07-07T14:57:28.767226",
     "exception": false,
     "start_time": "2021-07-07T14:57:00.741150",
     "status": "completed"
    },
    "tags": []
   },
   "outputs": [
    {
     "name": "stdout",
     "output_type": "stream",
     "text": [
      "RF在训练集上的AUC是: 86.14047%\n"
     ]
    },
    {
     "data": {
      "image/png": "[encoded data removed]",
      "text/plain": [
       "<Figure size 576x432 with 1 Axes>"
      ]
     },
     "metadata": {
      "needs_background": "light"
     },
     "output_type": "display_data"
    }
   ],
   "source": [
    "from sklearn.ensemble import RandomForestClassifier, GradientBoostingClassifier\n",
    "forest = RandomForestClassifier(n_estimators=300, max_depth=5, class_weight='balanced')\n",
    "forest.fit(X_train_last, Y_train)\n",
    "forest_scores_proba = forest.predict_proba(X_train_last)\n",
    "forest_scores = forest_scores_proba[:,1]\n",
    "FPR_forest, TPR_forest, THRESH_forest = roc_curve(Y_train, forest_scores)\n",
    "AUC_forest=roc_auc_score(Y_train,forest_scores)\n",
    "draw_roc(FPR_forest, TPR_forest)\n",
    "print(\"RF在训练集上的AUC是: {:.5f}%\".format(AUC_forest*100))"
   ]
  },
  {
   "cell_type": "markdown",
   "id": "personal-aggregate",
   "metadata": {
    "papermill": {
     "duration": 0.084505,
     "end_time": "2021-07-07T14:57:28.936325",
     "exception": false,
     "start_time": "2021-07-07T14:57:28.851820",
     "status": "completed"
    },
    "tags": []
   },
   "source": [
    "再通过交叉验证来检验模型的泛化能力  \n",
    "取$K—Fold$中的$K=10$"
   ]
  },
  {
   "cell_type": "code",
   "execution_count": 48,
   "id": "settled-marks",
   "metadata": {
    "execution": {
     "iopub.execute_input": "2021-07-07T14:57:29.108895Z",
     "iopub.status.busy": "2021-07-07T14:57:29.108116Z",
     "iopub.status.idle": "2021-07-07T15:01:00.980794Z",
     "shell.execute_reply": "2021-07-07T15:01:00.981423Z",
     "shell.execute_reply.started": "2021-07-07T14:41:05.660477Z"
    },
    "papermill": {
     "duration": 211.961895,
     "end_time": "2021-07-07T15:01:00.981628",
     "exception": false,
     "start_time": "2021-07-07T14:57:29.019733",
     "status": "completed"
    },
    "tags": []
   },
   "outputs": [
    {
     "name": "stdout",
     "output_type": "stream",
     "text": [
      "RF在训练集上cv的AUC是：85.85262%\n"
     ]
    }
   ],
   "source": [
    "AUC_forest_cv = cross_val_score(forest, X_train, Y_train, cv=10, scoring='roc_auc').mean()\n",
    "print(\"RF在训练集上cv的AUC是：{:.5f}%\".format(AUC_forest_cv*100))"
   ]
  },
  {
   "cell_type": "markdown",
   "id": "seasonal-iceland",
   "metadata": {
    "papermill": {
     "duration": 0.086289,
     "end_time": "2021-07-07T15:01:01.154370",
     "exception": false,
     "start_time": "2021-07-07T15:01:01.068081",
     "status": "completed"
    },
    "tags": []
   },
   "source": [
    "## 4.2梯度提升"
   ]
  },
  {
   "cell_type": "code",
   "execution_count": 49,
   "id": "growing-christian",
   "metadata": {
    "execution": {
     "iopub.execute_input": "2021-07-07T15:01:01.335411Z",
     "iopub.status.busy": "2021-07-07T15:01:01.334427Z",
     "iopub.status.idle": "2021-07-07T15:01:21.495282Z",
     "shell.execute_reply": "2021-07-07T15:01:21.494826Z",
     "shell.execute_reply.started": "2021-07-07T14:42:58.884305Z"
    },
    "papermill": {
     "duration": 20.253933,
     "end_time": "2021-07-07T15:01:21.495403",
     "exception": false,
     "start_time": "2021-07-07T15:01:01.241470",
     "status": "completed"
    },
    "tags": []
   },
   "outputs": [
    {
     "name": "stdout",
     "output_type": "stream",
     "text": [
      "GBC在训练集上的AUC是: 86.77951%\n"
     ]
    },
    {
     "data": {
      "image/png": "[encoded data removed]",
      "text/plain": [
       "<Figure size 576x432 with 1 Axes>"
      ]
     },
     "metadata": {
      "needs_background": "light"
     },
     "output_type": "display_data"
    }
   ],
   "source": [
    "GBC = GradientBoostingClassifier()\n",
    "GBC.fit(X_train_last, Y_train)\n",
    "GBC_scores_proba =GBC.predict_proba(X_train_last)\n",
    "GBC_scores = GBC_scores_proba[:,1]\n",
    "FPR_GBC, TPR_GBC, THRESH_GBC = roc_curve(Y_train, GBC_scores)\n",
    "AUC_GBC=roc_auc_score(Y_train,GBC_scores)\n",
    "draw_roc(FPR_GBC, TPR_GBC)\n",
    "print(\"GBC在训练集上的AUC是: {:.5f}%\".format(AUC_GBC*100))"
   ]
  },
  {
   "cell_type": "markdown",
   "id": "innovative-grocery",
   "metadata": {
    "papermill": {
     "duration": 0.085499,
     "end_time": "2021-07-07T15:01:21.667416",
     "exception": false,
     "start_time": "2021-07-07T15:01:21.581917",
     "status": "completed"
    },
    "tags": []
   },
   "source": [
    "同样通过交叉验证来检验模型的泛化能力  \n",
    "取$K—Fold$中的$K=10$"
   ]
  },
  {
   "cell_type": "code",
   "execution_count": 50,
   "id": "favorite-postcard",
   "metadata": {
    "execution": {
     "iopub.execute_input": "2021-07-07T15:01:21.843723Z",
     "iopub.status.busy": "2021-07-07T15:01:21.842970Z",
     "iopub.status.idle": "2021-07-07T15:04:25.132486Z",
     "shell.execute_reply": "2021-07-07T15:04:25.132951Z"
    },
    "papermill": {
     "duration": 183.380188,
     "end_time": "2021-07-07T15:04:25.133106",
     "exception": false,
     "start_time": "2021-07-07T15:01:21.752918",
     "status": "completed"
    },
    "tags": []
   },
   "outputs": [
    {
     "name": "stdout",
     "output_type": "stream",
     "text": [
      "GBC在训练集上cv的AUC是：86.36800%\n"
     ]
    }
   ],
   "source": [
    "AUC_GBC_cv = cross_val_score(GBC, X_train, Y_train, cv=10, scoring='roc_auc').mean()\n",
    "print(\"GBC在训练集上cv的AUC是：{:.5f}%\".format(AUC_GBC_cv*100))"
   ]
  },
  {
   "cell_type": "markdown",
   "id": "golden-honolulu",
   "metadata": {
    "papermill": {
     "duration": 0.086881,
     "end_time": "2021-07-07T15:04:25.305387",
     "exception": false,
     "start_time": "2021-07-07T15:04:25.218506",
     "status": "completed"
    },
    "tags": []
   },
   "source": [
    "发现在两种方法中，**梯度上升**比随机森林的效果要好  \n",
    "下面对梯度上升中的参数进行调参"
   ]
  },
  {
   "cell_type": "markdown",
   "id": "suitable-crawford",
   "metadata": {
    "papermill": {
     "duration": 0.085751,
     "end_time": "2021-07-07T15:04:25.477983",
     "exception": false,
     "start_time": "2021-07-07T15:04:25.392232",
     "status": "completed"
    },
    "tags": []
   },
   "source": [
    "# **五.参数调优**"
   ]
  },
  {
   "cell_type": "markdown",
   "id": "worthy-health",
   "metadata": {
    "papermill": {
     "duration": 0.086046,
     "end_time": "2021-07-07T15:04:25.650207",
     "exception": false,
     "start_time": "2021-07-07T15:04:25.564161",
     "status": "completed"
    },
    "tags": []
   },
   "source": [
    "## 5.1  **n_estimators**调优  "
   ]
  },
  {
   "cell_type": "code",
   "execution_count": 51,
   "id": "breeding-revelation",
   "metadata": {
    "execution": {
     "iopub.execute_input": "2021-07-07T15:04:25.845254Z",
     "iopub.status.busy": "2021-07-07T15:04:25.844145Z",
     "iopub.status.idle": "2021-07-07T15:22:47.795197Z",
     "shell.execute_reply": "2021-07-07T15:22:47.794763Z"
    },
    "papermill": {
     "duration": 1102.051971,
     "end_time": "2021-07-07T15:22:47.795319",
     "exception": false,
     "start_time": "2021-07-07T15:04:25.743348",
     "status": "completed"
    },
    "tags": []
   },
   "outputs": [
    {
     "data": {
      "text/plain": [
       "[<matplotlib.lines.Line2D at 0x7f34f9e1f510>]"
      ]
     },
     "execution_count": 51,
     "metadata": {},
     "output_type": "execute_result"
    },
    {
     "data": {
      "image/png": "[encoded data removed]",
      "text/plain": [
       "<Figure size 432x288 with 1 Axes>"
      ]
     },
     "metadata": {
      "needs_background": "light"
     },
     "output_type": "display_data"
    }
   ],
   "source": [
    "estimators=np.linspace(100,300,21).astype(int)\n",
    "AUCs=[]\n",
    "nums=[]\n",
    "for estimator in estimators:\n",
    "    GBC = GradientBoostingClassifier(n_estimators=estimator, learning_rate=0.1 ,max_depth=4)\n",
    "    GBC.fit(X_train_last, Y_train)\n",
    "    GBC_scores_proba =GBC.predict_proba(X_train_last)\n",
    "    GBC_scores = GBC_scores_proba[:,1]\n",
    "    FPR_GBC, TPR_GBC, THRESH_GBC = roc_curve(Y_train, GBC_scores)\n",
    "    AUC_GBC=roc_auc_score(Y_train,GBC_scores)\n",
    "    AUCs.append(AUC_GBC*100)\n",
    "    nums.append(estimator)\n",
    "plt.plot(nums,AUCs)"
   ]
  },
  {
   "cell_type": "markdown",
   "id": "precise-lloyd",
   "metadata": {
    "papermill": {
     "duration": 0.087039,
     "end_time": "2021-07-07T15:22:47.969378",
     "exception": false,
     "start_time": "2021-07-07T15:22:47.882339",
     "status": "completed"
    },
    "tags": []
   },
   "source": [
    "可以发现增长越来越缓慢，为了防止过拟合，我们就选取n=250"
   ]
  },
  {
   "cell_type": "markdown",
   "id": "widespread-medication",
   "metadata": {
    "execution": {
     "iopub.execute_input": "2021-07-07T05:21:48.929504Z",
     "iopub.status.busy": "2021-07-07T05:21:48.929168Z",
     "iopub.status.idle": "2021-07-07T05:21:48.934442Z",
     "shell.execute_reply": "2021-07-07T05:21:48.932663Z",
     "shell.execute_reply.started": "2021-07-07T05:21:48.929431Z"
    },
    "papermill": {
     "duration": 0.086665,
     "end_time": "2021-07-07T15:22:48.142618",
     "exception": false,
     "start_time": "2021-07-07T15:22:48.055953",
     "status": "completed"
    },
    "tags": []
   },
   "source": [
    " ## 5.2 max_depth调优"
   ]
  },
  {
   "cell_type": "code",
   "execution_count": 52,
   "id": "sophisticated-symbol",
   "metadata": {
    "execution": {
     "iopub.execute_input": "2021-07-07T15:22:48.325127Z",
     "iopub.status.busy": "2021-07-07T15:22:48.324044Z",
     "iopub.status.idle": "2021-07-07T15:44:21.773251Z",
     "shell.execute_reply": "2021-07-07T15:44:21.772817Z"
    },
    "papermill": {
     "duration": 1293.544298,
     "end_time": "2021-07-07T15:44:21.773369",
     "exception": false,
     "start_time": "2021-07-07T15:22:48.229071",
     "status": "completed"
    },
    "tags": []
   },
   "outputs": [
    {
     "data": {
      "text/plain": [
       "[<matplotlib.lines.Line2D at 0x7f34f9823710>]"
      ]
     },
     "execution_count": 52,
     "metadata": {},
     "output_type": "execute_result"
    },
    {
     "data": {
      "image/png": "[encoded data removed]",
      "text/plain": [
       "<Figure size 432x288 with 1 Axes>"
      ]
     },
     "metadata": {
      "needs_background": "light"
     },
     "output_type": "display_data"
    }
   ],
   "source": [
    "depths = np.linspace(1,12,12).astype(int)\n",
    "AUCs=[]\n",
    "maxdepths=[]\n",
    "for depth in depths:\n",
    "    GBC = GradientBoostingClassifier(n_estimators=250, learning_rate=0.1 ,max_depth=depth)\n",
    "    GBC.fit(X_train_last, Y_train)\n",
    "    GBC_scores_proba =GBC.predict_proba(X_train_last)\n",
    "    GBC_scores = GBC_scores_proba[:,1]\n",
    "    FPR_GBC, TPR_GBC, THRESH_GBC = roc_curve(Y_train, GBC_scores)\n",
    "    AUC_GBC=roc_auc_score(Y_train,GBC_scores)\n",
    "    AUCs.append(AUC_GBC*100)\n",
    "    maxdepths.append(depth)\n",
    "plt.plot(maxdepths,AUCs)"
   ]
  },
  {
   "cell_type": "markdown",
   "id": "plain-veteran",
   "metadata": {
    "papermill": {
     "duration": 0.088798,
     "end_time": "2021-07-07T15:44:21.951528",
     "exception": false,
     "start_time": "2021-07-07T15:44:21.862730",
     "status": "completed"
    },
    "tags": []
   },
   "source": [
    "发现提升还是蛮明显的，但后面显然有一些过拟合了....所以取maxdepths=5，看一下AUC"
   ]
  },
  {
   "cell_type": "code",
   "execution_count": 53,
   "id": "plain-insider",
   "metadata": {
    "execution": {
     "iopub.execute_input": "2021-07-07T15:44:22.136178Z",
     "iopub.status.busy": "2021-07-07T15:44:22.135189Z",
     "iopub.status.idle": "2021-07-07T15:45:42.565275Z",
     "shell.execute_reply": "2021-07-07T15:45:42.564839Z",
     "shell.execute_reply.started": "2021-07-07T14:47:56.928709Z"
    },
    "papermill": {
     "duration": 80.525556,
     "end_time": "2021-07-07T15:45:42.565400",
     "exception": false,
     "start_time": "2021-07-07T15:44:22.039844",
     "status": "completed"
    },
    "tags": []
   },
   "outputs": [
    {
     "name": "stdout",
     "output_type": "stream",
     "text": [
      "GBC在训练集上的AUC是: 88.75837%\n"
     ]
    },
    {
     "data": {
      "image/png": "[encoded data removed]",
      "text/plain": [
       "<Figure size 576x432 with 1 Axes>"
      ]
     },
     "metadata": {
      "needs_background": "light"
     },
     "output_type": "display_data"
    }
   ],
   "source": [
    "GBC = GradientBoostingClassifier(n_estimators=250, learning_rate=0.1 ,max_depth=5)\n",
    "GBC.fit(X_train_last, Y_train)\n",
    "GBC_scores_proba =GBC.predict_proba(X_train_last)\n",
    "GBC_scores = GBC_scores_proba[:,1]\n",
    "FPR_GBC, TPR_GBC, THRESH_GBC = roc_curve(Y_train, GBC_scores)\n",
    "AUC_GBC=roc_auc_score(Y_train,GBC_scores)\n",
    "draw_roc(FPR_GBC, TPR_GBC)\n",
    "print(\"GBC在训练集上的AUC是: {:.5f}%\".format(AUC_GBC*100))"
   ]
  },
  {
   "cell_type": "markdown",
   "id": "included-bracket",
   "metadata": {
    "papermill": {
     "duration": 0.089235,
     "end_time": "2021-07-07T15:45:42.743966",
     "exception": false,
     "start_time": "2021-07-07T15:45:42.654731",
     "status": "completed"
    },
    "tags": []
   },
   "source": [
    "还是有一些过拟合，降低一下learning_rate"
   ]
  },
  {
   "cell_type": "code",
   "execution_count": 54,
   "id": "racial-fifteen",
   "metadata": {
    "execution": {
     "iopub.execute_input": "2021-07-07T15:45:42.936424Z",
     "iopub.status.busy": "2021-07-07T15:45:42.935419Z",
     "iopub.status.idle": "2021-07-07T15:47:03.602654Z",
     "shell.execute_reply": "2021-07-07T15:47:03.602003Z",
     "shell.execute_reply.started": "2021-07-07T14:48:08.511138Z"
    },
    "papermill": {
     "duration": 80.766967,
     "end_time": "2021-07-07T15:47:03.602854",
     "exception": false,
     "start_time": "2021-07-07T15:45:42.835887",
     "status": "completed"
    },
    "tags": []
   },
   "outputs": [
    {
     "name": "stdout",
     "output_type": "stream",
     "text": [
      "GBC在训练集上的AUC是: 87.83538%\n"
     ]
    },
    {
     "data": {
      "image/png": "[encoded data removed]",
      "text/plain": [
       "<Figure size 576x432 with 1 Axes>"
      ]
     },
     "metadata": {
      "needs_background": "light"
     },
     "output_type": "display_data"
    }
   ],
   "source": [
    "GBC = GradientBoostingClassifier(n_estimators=250, learning_rate=0.05 ,max_depth = 5)\n",
    "GBC.fit(X_train_last, Y_train)\n",
    "GBC_scores_proba =GBC.predict_proba(X_train_last)\n",
    "GBC_scores = GBC_scores_proba[:,1]\n",
    "FPR_GBC, TPR_GBC, THRESH_GBC = roc_curve(Y_train, GBC_scores)\n",
    "AUC_GBC=roc_auc_score(Y_train,GBC_scores)\n",
    "draw_roc(FPR_GBC, TPR_GBC)\n",
    "print(\"GBC在训练集上的AUC是: {:.5f}%\".format(AUC_GBC*100))"
   ]
  },
  {
   "cell_type": "markdown",
   "id": "dried-certificate",
   "metadata": {
    "papermill": {
     "duration": 0.14996,
     "end_time": "2021-07-07T15:47:03.892759",
     "exception": false,
     "start_time": "2021-07-07T15:47:03.742799",
     "status": "completed"
    },
    "tags": []
   },
   "source": [
    "感觉还可以了 先交一下试试"
   ]
  },
  {
   "cell_type": "markdown",
   "id": "professional-friendship",
   "metadata": {
    "papermill": {
     "duration": 0.150082,
     "end_time": "2021-07-07T15:47:04.193274",
     "exception": false,
     "start_time": "2021-07-07T15:47:04.043192",
     "status": "completed"
    },
    "tags": []
   },
   "source": [
    "# 六.提交结果"
   ]
  },
  {
   "cell_type": "code",
   "execution_count": 55,
   "id": "quiet-scope",
   "metadata": {
    "execution": {
     "iopub.execute_input": "2021-07-07T15:47:04.452635Z",
     "iopub.status.busy": "2021-07-07T15:47:04.451580Z",
     "iopub.status.idle": "2021-07-07T15:47:04.885838Z",
     "shell.execute_reply": "2021-07-07T15:47:04.886305Z",
     "shell.execute_reply.started": "2021-07-07T14:49:45.350225Z"
    },
    "papermill": {
     "duration": 0.543489,
     "end_time": "2021-07-07T15:47:04.886474",
     "exception": false,
     "start_time": "2021-07-07T15:47:04.342985",
     "status": "completed"
    },
    "tags": []
   },
   "outputs": [
    {
     "data": {
      "text/plain": [
       "(101503,)"
      ]
     },
     "execution_count": 55,
     "metadata": {},
     "output_type": "execute_result"
    }
   ],
   "source": [
    "submission_proba = GBC.predict_proba(X_test_last)\n",
    "submission_scores = submission_proba[:, 1]\n",
    "submission_scores.shape"
   ]
  },
  {
   "cell_type": "code",
   "execution_count": 56,
   "id": "satisfied-excuse",
   "metadata": {
    "execution": {
     "iopub.execute_input": "2021-07-07T15:47:05.102345Z",
     "iopub.status.busy": "2021-07-07T15:47:05.101730Z",
     "iopub.status.idle": "2021-07-07T15:47:05.568083Z",
     "shell.execute_reply": "2021-07-07T15:47:05.567571Z",
     "shell.execute_reply.started": "2021-07-07T14:49:48.694784Z"
    },
    "papermill": {
     "duration": 0.573415,
     "end_time": "2021-07-07T15:47:05.568216",
     "exception": false,
     "start_time": "2021-07-07T15:47:04.994801",
     "status": "completed"
    },
    "tags": []
   },
   "outputs": [],
   "source": [
    "ids = np.arange(1, 101504)\n",
    "submission = pd.DataFrame( {'Id': ids, 'Probability': submission_scores})\n",
    "submission.to_csv('submission.csv', index=False)"
   ]
  },
  {
   "cell_type": "code",
   "execution_count": null,
   "id": "interesting-folder",
   "metadata": {
    "papermill": {
     "duration": 0.128855,
     "end_time": "2021-07-07T15:47:05.788265",
     "exception": false,
     "start_time": "2021-07-07T15:47:05.659410",
     "status": "completed"
    },
    "tags": []
   },
   "outputs": [],
   "source": []
  }
 ],
 "metadata": {
  "kernelspec": {
   "display_name": "Python 3",
   "language": "python",
   "name": "python3"
  },
  "language_info": {
   "codemirror_mode": {
    "name": "ipython",
    "version": 3
   },
   "file_extension": ".py",
   "mimetype": "text/x-python",
   "name": "python",
   "nbconvert_exporter": "python",
   "pygments_lexer": "ipython3",
   "version": "3.7.10"
  },
  "papermill": {
   "default_parameters": {},
   "duration": 3068.326963,
   "end_time": "2021-07-07T15:47:06.653756",
   "environment_variables": {},
   "exception": null,
   "input_path": "__notebook__.ipynb",
   "output_path": "__notebook__.ipynb",
   "parameters": {},
   "start_time": "2021-07-07T14:55:58.326793",
   "version": "2.3.3"
  }
 },
 "nbformat": 4,
 "nbformat_minor": 5
}
