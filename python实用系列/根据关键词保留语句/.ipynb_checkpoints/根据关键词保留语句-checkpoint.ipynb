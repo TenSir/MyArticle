{
 "cells": [
  {
   "cell_type": "code",
   "execution_count": 1,
   "id": "59cdf762-8bee-4a62-a73d-f1c8122997aa",
   "metadata": {},
   "outputs": [
    {
     "data": {
      "text/html": [
       "<div>\n",
       "<style scoped>\n",
       "    .dataframe tbody tr th:only-of-type {\n",
       "        vertical-align: middle;\n",
       "    }\n",
       "\n",
       "    .dataframe tbody tr th {\n",
       "        vertical-align: top;\n",
       "    }\n",
       "\n",
       "    .dataframe thead th {\n",
       "        text-align: right;\n",
       "    }\n",
       "</style>\n",
       "<table border=\"1\" class=\"dataframe\">\n",
       "  <thead>\n",
       "    <tr style=\"text-align: right;\">\n",
       "      <th></th>\n",
       "      <th>id</th>\n",
       "      <th>kw</th>\n",
       "    </tr>\n",
       "  </thead>\n",
       "  <tbody>\n",
       "    <tr>\n",
       "      <th>0</th>\n",
       "      <td>1</td>\n",
       "      <td>人工智能</td>\n",
       "    </tr>\n",
       "    <tr>\n",
       "      <th>1</th>\n",
       "      <td>2</td>\n",
       "      <td>提升</td>\n",
       "    </tr>\n",
       "    <tr>\n",
       "      <th>2</th>\n",
       "      <td>3</td>\n",
       "      <td>赋能</td>\n",
       "    </tr>\n",
       "    <tr>\n",
       "      <th>3</th>\n",
       "      <td>4</td>\n",
       "      <td>大模型</td>\n",
       "    </tr>\n",
       "  </tbody>\n",
       "</table>\n",
       "</div>"
      ],
      "text/plain": [
       "   id    kw\n",
       "0   1  人工智能\n",
       "1   2    提升\n",
       "2   3    赋能\n",
       "3   4   大模型"
      ]
     },
     "execution_count": 1,
     "metadata": {},
     "output_type": "execute_result"
    }
   ],
   "source": [
    "import pandas as pd\n",
    "\n",
    "kw_df = pd.DataFrame({'id': [1, 2, 3, 4], 'kw': ['人工智能','提升','赋能','大模型']})\n",
    "kw_df"
   ]
  },
  {
   "cell_type": "code",
   "execution_count": null,
   "id": "c317bb08-e4e0-4080-b421-35b00da860c5",
   "metadata": {},
   "outputs": [],
   "source": []
  },
  {
   "cell_type": "code",
   "execution_count": 2,
   "id": "8da3cd49-52fe-48bd-9d72-52360b570a96",
   "metadata": {},
   "outputs": [
    {
     "name": "stdout",
     "output_type": "stream",
     "text": [
      "中新社太原10月15日电 （高雨晴 杨佩佩）2023中国（太原）人工智能大会15日在山西太原开幕。中国工业和信息化部科技司副司长任爱光在致辞中介绍，近年来，中国人工智能产业蓬勃发展，核心产业规模达到5000亿元人民币，企业数量超过4400家，创新成果不断涌现。人工智能与制造业深度融合，有力推动实体经济的数字化、智能化、绿色化转型，已建成2500多个数字化车间和智能工厂，建成后，研发和生产效率显著提升。任爱光表示，大模型的技术创新，有望培育形成新的生产力，加速与实体经济深度融合，深刻改变制造业生产模式和经济形态，全方位多层次赋能新型工业化。山西省委常委、太原市委书记韦韬表示，人工智能是新一轮科技革命和产业变革的重要[驱动力](https://finance.sina.com.cn/realstock/company/bj838275/nc.shtml)(2.740, 0.00, 0.00%)量。本次大会以“聚焦制造业振兴、助力高质量发展”为主题，旨在推动人工智能与制造业深度融合，加速赋能产业优化升级。中国工程院院士戴琼海说，大模型成为迈向通用人工智能的可能路径之一，大模型的训练代码量从2019年的万级增长到2021年的十万级，人工智能技术复杂度正在快速增加。大会进行数字经济和人工智能产业招商引资推介并举行项目签约活动，同时举办“产业数字化转型”“人工智能与矿山智能化”“青少年人工智能教育与科学传播”3场分论坛。据了解，此次大会共签署招商引资项目25个，总投资额112.6亿元人民币。其中数字经济领域项目14个、人工智能领域项目3个、先进装备制造项目5个、其他类项目3个。\n"
     ]
    }
   ],
   "source": [
    "import pandas as pd\n",
    "\n",
    "kw_df = pd.DataFrame({'id': [1, 2, 3, 4], 'kw': ['人工智能','提升','赋能','大模型']})\n",
    "# 将关键词表转换为列表的形式\n",
    "kw_list = list(kw_df['kw'])\n",
    "\n",
    "\n",
    "# 加载文本,并去除符号\n",
    "with open('清洗文本.txt', 'r',encoding='UTF8') as file:\n",
    "    # 读取文件内容并去除换行符\n",
    "    text = file.read().replace('\\n', '')\n",
    "\n",
    "# 符号替换,将其他的符号转换为逗号,这样来拆分语句\n",
    "text = text.replace('。','，')\n",
    "text = text.replace('、','，')\n",
    "\n",
    "# 对文本进行处理\n",
    "# 先使用逗号进行分割文本，然后使用any()函数进行判断\n",
    "def keep_sentence(text,keep_list):\n",
    "    result = [item for item in text if any(each in item for each in keep_list)]\n",
    "    return '，'.join(result)\n",
    "\n",
    "res = keep_sentence(text.split('，'),kw_list)\n",
    "res\n"
   ]
  },
  {
   "cell_type": "code",
   "execution_count": 7,
   "id": "f44ce100-611e-48bc-b61d-8c6be6c19c63",
   "metadata": {},
   "outputs": [
    {
     "name": "stdout",
     "output_type": "stream",
     "text": [
      "item 中新社太原10月15日电 （高雨晴 杨佩佩）2023中国（太原）人工智能大会15日在山西太原开幕 \n",
      "\n",
      "each 人工智能\n"
     ]
    }
   ],
   "source": [
    "# for循环的形式\n",
    "def keep_sentence(text,keep_list):\n",
    "    for item in text:\n",
    "        for each in keep_list:    \n",
    "            if any(each in item for each in keep_list):\n",
    "                print('item',item,'\\n')\n",
    "                print('each',each)\n",
    "                break\n",
    "        break\n",
    "\n",
    "res = keep_sentence(text.split('，'),kw_list)\n"
   ]
  },
  {
   "cell_type": "code",
   "execution_count": null,
   "id": "8d99aacc-8afc-4eed-9b5f-53c19061ae1c",
   "metadata": {},
   "outputs": [],
   "source": []
  }
 ],
 "metadata": {
  "kernelspec": {
   "display_name": "Python 3 (ipykernel)",
   "language": "python",
   "name": "python3"
  },
  "language_info": {
   "codemirror_mode": {
    "name": "ipython",
    "version": 3
   },
   "file_extension": ".py",
   "mimetype": "text/x-python",
   "name": "python",
   "nbconvert_exporter": "python",
   "pygments_lexer": "ipython3",
   "version": "3.9.10"
  }
 },
 "nbformat": 4,
 "nbformat_minor": 5
}
