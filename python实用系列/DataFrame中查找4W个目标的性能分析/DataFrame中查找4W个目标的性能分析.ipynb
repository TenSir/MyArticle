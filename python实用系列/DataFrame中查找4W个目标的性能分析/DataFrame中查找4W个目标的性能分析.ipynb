{
 "cells": [
  {
   "cell_type": "code",
   "execution_count": 1,
   "id": "9f0f7ada",
   "metadata": {},
   "outputs": [
    {
     "data": {
      "text/html": [
       "<div>\n",
       "<style scoped>\n",
       "    .dataframe tbody tr th:only-of-type {\n",
       "        vertical-align: middle;\n",
       "    }\n",
       "\n",
       "    .dataframe tbody tr th {\n",
       "        vertical-align: top;\n",
       "    }\n",
       "\n",
       "    .dataframe thead th {\n",
       "        text-align: right;\n",
       "    }\n",
       "</style>\n",
       "<table border=\"1\" class=\"dataframe\">\n",
       "  <thead>\n",
       "    <tr style=\"text-align: right;\">\n",
       "      <th></th>\n",
       "      <th>id</th>\n",
       "      <th>name</th>\n",
       "    </tr>\n",
       "  </thead>\n",
       "  <tbody>\n",
       "    <tr>\n",
       "      <th>0</th>\n",
       "      <td>1</td>\n",
       "      <td>pandas测试_1</td>\n",
       "    </tr>\n",
       "    <tr>\n",
       "      <th>1</th>\n",
       "      <td>2</td>\n",
       "      <td>pandas测试_2</td>\n",
       "    </tr>\n",
       "    <tr>\n",
       "      <th>2</th>\n",
       "      <td>3</td>\n",
       "      <td>pandas测试_3</td>\n",
       "    </tr>\n",
       "    <tr>\n",
       "      <th>3</th>\n",
       "      <td>4</td>\n",
       "      <td>pandas测试_4</td>\n",
       "    </tr>\n",
       "    <tr>\n",
       "      <th>4</th>\n",
       "      <td>5</td>\n",
       "      <td>pandas测试_5</td>\n",
       "    </tr>\n",
       "  </tbody>\n",
       "</table>\n",
       "</div>"
      ],
      "text/plain": [
       "   id        name\n",
       "0   1  pandas测试_1\n",
       "1   2  pandas测试_2\n",
       "2   3  pandas测试_3\n",
       "3   4  pandas测试_4\n",
       "4   5  pandas测试_5"
      ]
     },
     "execution_count": 1,
     "metadata": {},
     "output_type": "execute_result"
    }
   ],
   "source": [
    "import pandas as pd\n",
    "\n",
    "data = {'id': range(1, 40000001),\n",
    "        'name': ['pandas测试_' + str(each) for each in range(1, 40000001)]}\n",
    "\n",
    "df = pd.DataFrame(data)\n",
    "\n",
    "df.head()\n"
   ]
  },
  {
   "cell_type": "code",
   "execution_count": 2,
   "id": "0f2b2ce0",
   "metadata": {},
   "outputs": [
    {
     "name": "stdout",
     "output_type": "stream",
     "text": [
      "None\n"
     ]
    }
   ],
   "source": [
    "print(df.index.name)"
   ]
  },
  {
   "cell_type": "code",
   "execution_count": 3,
   "id": "3b29c21e",
   "metadata": {},
   "outputs": [
    {
     "name": "stdout",
     "output_type": "stream",
     "text": [
      "                id               name\n",
      "10290814  10290815  pandas测试_10290815\n",
      "32947879  32947880  pandas测试_32947880\n",
      "2325945    2325946   pandas测试_2325946\n",
      "4058621    4058622   pandas测试_4058622\n",
      "14093432  14093433  pandas测试_14093433\n",
      "(40000, 2)\n"
     ]
    }
   ],
   "source": [
    "# 假设df是你的DataFrame\n",
    "sampled_df = df.sample(n=40000)\n",
    "\n",
    "# 显示抽取的数据\n",
    "print(sampled_df.head())\n",
    "print(sampled_df.shape)\n"
   ]
  },
  {
   "cell_type": "code",
   "execution_count": 4,
   "id": "a18afa58",
   "metadata": {},
   "outputs": [
    {
     "data": {
      "text/html": [
       "<div>\n",
       "<style scoped>\n",
       "    .dataframe tbody tr th:only-of-type {\n",
       "        vertical-align: middle;\n",
       "    }\n",
       "\n",
       "    .dataframe tbody tr th {\n",
       "        vertical-align: top;\n",
       "    }\n",
       "\n",
       "    .dataframe thead th {\n",
       "        text-align: right;\n",
       "    }\n",
       "</style>\n",
       "<table border=\"1\" class=\"dataframe\">\n",
       "  <thead>\n",
       "    <tr style=\"text-align: right;\">\n",
       "      <th></th>\n",
       "      <th>id</th>\n",
       "      <th>name</th>\n",
       "    </tr>\n",
       "  </thead>\n",
       "  <tbody>\n",
       "    <tr>\n",
       "      <th>15265307</th>\n",
       "      <td>15265308</td>\n",
       "      <td>pandas测试_15265308</td>\n",
       "    </tr>\n",
       "    <tr>\n",
       "      <th>16688816</th>\n",
       "      <td>16688817</td>\n",
       "      <td>pandas测试_16688817</td>\n",
       "    </tr>\n",
       "    <tr>\n",
       "      <th>37821128</th>\n",
       "      <td>37821129</td>\n",
       "      <td>pandas测试_37821129</td>\n",
       "    </tr>\n",
       "    <tr>\n",
       "      <th>38520034</th>\n",
       "      <td>38520035</td>\n",
       "      <td>pandas测试_38520035</td>\n",
       "    </tr>\n",
       "    <tr>\n",
       "      <th>39296898</th>\n",
       "      <td>39296899</td>\n",
       "      <td>pandas测试_39296899</td>\n",
       "    </tr>\n",
       "  </tbody>\n",
       "</table>\n",
       "</div>"
      ],
      "text/plain": [
       "                id               name\n",
       "15265307  15265308  pandas测试_15265308\n",
       "16688816  16688817  pandas测试_16688817\n",
       "37821128  37821129  pandas测试_37821129\n",
       "38520034  38520035  pandas测试_38520035\n",
       "39296898  39296899  pandas测试_39296899"
      ]
     },
     "execution_count": 4,
     "metadata": {},
     "output_type": "execute_result"
    }
   ],
   "source": [
    "sampled_df = df.sample(n=40000)\n",
    "sampled_df.head()"
   ]
  },
  {
   "cell_type": "code",
   "execution_count": 5,
   "id": "2d7d3901",
   "metadata": {},
   "outputs": [],
   "source": [
    "import time\n",
    "def timer_decorator(func):\n",
    "    def wrapper(*args, **kwargs):\n",
    "        start_time = time.time() \n",
    "        result = func(*args, **kwargs) \n",
    "        end_time = time.time() \n",
    "        execution_time = end_time - start_time  \n",
    "        print(f\"函数 {func.__name__} 的运行时间为 {execution_time} 秒\")\n",
    "        return result\n",
    "    return wrapper\n",
    "\n",
    "# @timer_decorator\n",
    "# def my_function():\n",
    "#     print('111111')\n",
    "#     pass\n",
    "\n",
    "# my_function()  # 调用你的函数\n"
   ]
  },
  {
   "cell_type": "code",
   "execution_count": 6,
   "id": "d8770cad",
   "metadata": {},
   "outputs": [
    {
     "data": {
      "text/plain": [
       "index                 1047\n",
       "id                    1048\n",
       "name     pandas测试_10000277\n",
       "dtype: object"
      ]
     },
     "execution_count": 6,
     "metadata": {},
     "output_type": "execute_result"
    }
   ],
   "source": [
    "sampled_df.reset_index().min()"
   ]
  },
  {
   "cell_type": "code",
   "execution_count": 7,
   "id": "36c7f273",
   "metadata": {},
   "outputs": [
    {
     "name": "stdout",
     "output_type": "stream",
     "text": [
      "函数 query_use 的运行时间为 0.6182723045349121 秒\n"
     ]
    },
    {
     "data": {
      "text/html": [
       "<div>\n",
       "<style scoped>\n",
       "    .dataframe tbody tr th:only-of-type {\n",
       "        vertical-align: middle;\n",
       "    }\n",
       "\n",
       "    .dataframe tbody tr th {\n",
       "        vertical-align: top;\n",
       "    }\n",
       "\n",
       "    .dataframe thead th {\n",
       "        text-align: right;\n",
       "    }\n",
       "</style>\n",
       "<table border=\"1\" class=\"dataframe\">\n",
       "  <thead>\n",
       "    <tr style=\"text-align: right;\">\n",
       "      <th></th>\n",
       "      <th>id</th>\n",
       "      <th>name</th>\n",
       "    </tr>\n",
       "  </thead>\n",
       "  <tbody>\n",
       "    <tr>\n",
       "      <th>1047</th>\n",
       "      <td>1048</td>\n",
       "      <td>pandas测试_1048</td>\n",
       "    </tr>\n",
       "    <tr>\n",
       "      <th>1794</th>\n",
       "      <td>1795</td>\n",
       "      <td>pandas测试_1795</td>\n",
       "    </tr>\n",
       "    <tr>\n",
       "      <th>2197</th>\n",
       "      <td>2198</td>\n",
       "      <td>pandas测试_2198</td>\n",
       "    </tr>\n",
       "    <tr>\n",
       "      <th>3012</th>\n",
       "      <td>3013</td>\n",
       "      <td>pandas测试_3013</td>\n",
       "    </tr>\n",
       "    <tr>\n",
       "      <th>3352</th>\n",
       "      <td>3353</td>\n",
       "      <td>pandas测试_3353</td>\n",
       "    </tr>\n",
       "  </tbody>\n",
       "</table>\n",
       "</div>"
      ],
      "text/plain": [
       "        id           name\n",
       "1047  1048  pandas测试_1048\n",
       "1794  1795  pandas测试_1795\n",
       "2197  2198  pandas测试_2198\n",
       "3012  3013  pandas测试_3013\n",
       "3352  3353  pandas测试_3353"
      ]
     },
     "execution_count": 7,
     "metadata": {},
     "output_type": "execute_result"
    }
   ],
   "source": [
    "@timer_decorator\n",
    "def query_use(df,sampled_df):\n",
    "    sampled_ids = sampled_df['id'].tolist()\n",
    "\n",
    "    query_string = 'id in @sampled_ids'\n",
    "    matched_df = df.query(query_string)\n",
    "    return matched_df\n",
    "\n",
    "query_use = query_use(df,sampled_df)\n",
    "query_use.head()"
   ]
  },
  {
   "cell_type": "code",
   "execution_count": 8,
   "id": "49a417f4",
   "metadata": {},
   "outputs": [
    {
     "name": "stdout",
     "output_type": "stream",
     "text": [
      "函数 isin_use 的运行时间为 0.48399996757507324 秒\n"
     ]
    },
    {
     "data": {
      "text/html": [
       "<div>\n",
       "<style scoped>\n",
       "    .dataframe tbody tr th:only-of-type {\n",
       "        vertical-align: middle;\n",
       "    }\n",
       "\n",
       "    .dataframe tbody tr th {\n",
       "        vertical-align: top;\n",
       "    }\n",
       "\n",
       "    .dataframe thead th {\n",
       "        text-align: right;\n",
       "    }\n",
       "</style>\n",
       "<table border=\"1\" class=\"dataframe\">\n",
       "  <thead>\n",
       "    <tr style=\"text-align: right;\">\n",
       "      <th></th>\n",
       "      <th>id</th>\n",
       "      <th>name</th>\n",
       "    </tr>\n",
       "  </thead>\n",
       "  <tbody>\n",
       "    <tr>\n",
       "      <th>1047</th>\n",
       "      <td>1048</td>\n",
       "      <td>pandas测试_1048</td>\n",
       "    </tr>\n",
       "    <tr>\n",
       "      <th>1794</th>\n",
       "      <td>1795</td>\n",
       "      <td>pandas测试_1795</td>\n",
       "    </tr>\n",
       "    <tr>\n",
       "      <th>2197</th>\n",
       "      <td>2198</td>\n",
       "      <td>pandas测试_2198</td>\n",
       "    </tr>\n",
       "    <tr>\n",
       "      <th>3012</th>\n",
       "      <td>3013</td>\n",
       "      <td>pandas测试_3013</td>\n",
       "    </tr>\n",
       "    <tr>\n",
       "      <th>3352</th>\n",
       "      <td>3353</td>\n",
       "      <td>pandas测试_3353</td>\n",
       "    </tr>\n",
       "  </tbody>\n",
       "</table>\n",
       "</div>"
      ],
      "text/plain": [
       "        id           name\n",
       "1047  1048  pandas测试_1048\n",
       "1794  1795  pandas测试_1795\n",
       "2197  2198  pandas测试_2198\n",
       "3012  3013  pandas测试_3013\n",
       "3352  3353  pandas测试_3353"
      ]
     },
     "execution_count": 8,
     "metadata": {},
     "output_type": "execute_result"
    }
   ],
   "source": [
    "@timer_decorator\n",
    "def isin_use(df,sampled_df):\n",
    "    matched_df = df[df['id'].isin(sampled_df['id'])]\n",
    "    return matched_df\n",
    "\n",
    "isin_use = isin_use(df,sampled_df)\n",
    "isin_use.head()"
   ]
  },
  {
   "cell_type": "code",
   "execution_count": 9,
   "id": "5be46068",
   "metadata": {},
   "outputs": [
    {
     "name": "stdout",
     "output_type": "stream",
     "text": [
      "函数 where_use 的运行时间为 0.6667442321777344 秒\n"
     ]
    },
    {
     "data": {
      "text/plain": [
       "1047    1048.0\n",
       "1794    1795.0\n",
       "2197    2198.0\n",
       "3012    3013.0\n",
       "3352    3353.0\n",
       "Name: id, dtype: float64"
      ]
     },
     "execution_count": 9,
     "metadata": {},
     "output_type": "execute_result"
    }
   ],
   "source": [
    "@timer_decorator\n",
    "def where_use(df,sampled_df):\n",
    "\n",
    "    sampled_ids = sampled_df['id'].tolist()\n",
    "    matched_df = df['id'].where(df['id'].isin(sampled_ids))\n",
    "    matched_df = matched_df.dropna()\n",
    "    return matched_df\n",
    "\n",
    "where_use = where_use(df,sampled_df)\n",
    "where_use.head()\n"
   ]
  },
  {
   "cell_type": "code",
   "execution_count": 10,
   "id": "5944ca12",
   "metadata": {},
   "outputs": [
    {
     "name": "stdout",
     "output_type": "stream",
     "text": [
      "函数 loc_use 的运行时间为 0.4856691360473633 秒\n"
     ]
    },
    {
     "data": {
      "text/html": [
       "<div>\n",
       "<style scoped>\n",
       "    .dataframe tbody tr th:only-of-type {\n",
       "        vertical-align: middle;\n",
       "    }\n",
       "\n",
       "    .dataframe tbody tr th {\n",
       "        vertical-align: top;\n",
       "    }\n",
       "\n",
       "    .dataframe thead th {\n",
       "        text-align: right;\n",
       "    }\n",
       "</style>\n",
       "<table border=\"1\" class=\"dataframe\">\n",
       "  <thead>\n",
       "    <tr style=\"text-align: right;\">\n",
       "      <th></th>\n",
       "      <th>id</th>\n",
       "      <th>name</th>\n",
       "    </tr>\n",
       "  </thead>\n",
       "  <tbody>\n",
       "    <tr>\n",
       "      <th>1047</th>\n",
       "      <td>1048</td>\n",
       "      <td>pandas测试_1048</td>\n",
       "    </tr>\n",
       "    <tr>\n",
       "      <th>1794</th>\n",
       "      <td>1795</td>\n",
       "      <td>pandas测试_1795</td>\n",
       "    </tr>\n",
       "    <tr>\n",
       "      <th>2197</th>\n",
       "      <td>2198</td>\n",
       "      <td>pandas测试_2198</td>\n",
       "    </tr>\n",
       "    <tr>\n",
       "      <th>3012</th>\n",
       "      <td>3013</td>\n",
       "      <td>pandas测试_3013</td>\n",
       "    </tr>\n",
       "    <tr>\n",
       "      <th>3352</th>\n",
       "      <td>3353</td>\n",
       "      <td>pandas测试_3353</td>\n",
       "    </tr>\n",
       "  </tbody>\n",
       "</table>\n",
       "</div>"
      ],
      "text/plain": [
       "        id           name\n",
       "1047  1048  pandas测试_1048\n",
       "1794  1795  pandas测试_1795\n",
       "2197  2198  pandas测试_2198\n",
       "3012  3013  pandas测试_3013\n",
       "3352  3353  pandas测试_3353"
      ]
     },
     "execution_count": 10,
     "metadata": {},
     "output_type": "execute_result"
    }
   ],
   "source": [
    "@timer_decorator\n",
    "def loc_use(df,sampled_df):\n",
    "    sampled_ids = sampled_df['id'].tolist()\n",
    "    matched_df = df.loc[df['id'].isin(sampled_ids)]\n",
    "\n",
    "    # 显示匹配的数据\n",
    "    return matched_df\n",
    "\n",
    "loc_use = loc_use(df,sampled_df)\n",
    "loc_use.head()"
   ]
  },
  {
   "cell_type": "code",
   "execution_count": 11,
   "id": "c91ab2f7",
   "metadata": {},
   "outputs": [
    {
     "name": "stdout",
     "output_type": "stream",
     "text": [
      "函数 other_use 的运行时间为 0.48153257369995117 秒\n"
     ]
    },
    {
     "data": {
      "text/html": [
       "<div>\n",
       "<style scoped>\n",
       "    .dataframe tbody tr th:only-of-type {\n",
       "        vertical-align: middle;\n",
       "    }\n",
       "\n",
       "    .dataframe tbody tr th {\n",
       "        vertical-align: top;\n",
       "    }\n",
       "\n",
       "    .dataframe thead th {\n",
       "        text-align: right;\n",
       "    }\n",
       "</style>\n",
       "<table border=\"1\" class=\"dataframe\">\n",
       "  <thead>\n",
       "    <tr style=\"text-align: right;\">\n",
       "      <th></th>\n",
       "      <th>id</th>\n",
       "      <th>name</th>\n",
       "    </tr>\n",
       "  </thead>\n",
       "  <tbody>\n",
       "    <tr>\n",
       "      <th>1047</th>\n",
       "      <td>1048</td>\n",
       "      <td>pandas测试_1048</td>\n",
       "    </tr>\n",
       "    <tr>\n",
       "      <th>1794</th>\n",
       "      <td>1795</td>\n",
       "      <td>pandas测试_1795</td>\n",
       "    </tr>\n",
       "    <tr>\n",
       "      <th>2197</th>\n",
       "      <td>2198</td>\n",
       "      <td>pandas测试_2198</td>\n",
       "    </tr>\n",
       "    <tr>\n",
       "      <th>3012</th>\n",
       "      <td>3013</td>\n",
       "      <td>pandas测试_3013</td>\n",
       "    </tr>\n",
       "    <tr>\n",
       "      <th>3352</th>\n",
       "      <td>3353</td>\n",
       "      <td>pandas测试_3353</td>\n",
       "    </tr>\n",
       "  </tbody>\n",
       "</table>\n",
       "</div>"
      ],
      "text/plain": [
       "        id           name\n",
       "1047  1048  pandas测试_1048\n",
       "1794  1795  pandas测试_1795\n",
       "2197  2198  pandas测试_2198\n",
       "3012  3013  pandas测试_3013\n",
       "3352  3353  pandas测试_3353"
      ]
     },
     "execution_count": 11,
     "metadata": {},
     "output_type": "execute_result"
    }
   ],
   "source": [
    "@timer_decorator\n",
    "def other_use(df,sampled_df):\n",
    "    sampled_ids = sampled_df['id'].tolist()\n",
    "\n",
    "    # 然后，我们可以使用这个列表和loc函数来查询df\n",
    "    matched_df = df.loc[df['id'].isin(sampled_ids)]\n",
    "    return matched_df\n",
    "\n",
    "other_use = other_use(df,sampled_df)\n",
    "other_use.head()"
   ]
  },
  {
   "cell_type": "code",
   "execution_count": 12,
   "id": "c6c70dca",
   "metadata": {},
   "outputs": [
    {
     "name": "stdout",
     "output_type": "stream",
     "text": [
      "函数 reset_index_use 的运行时间为 1.1022207736968994 秒\n"
     ]
    },
    {
     "data": {
      "text/html": [
       "<div>\n",
       "<style scoped>\n",
       "    .dataframe tbody tr th:only-of-type {\n",
       "        vertical-align: middle;\n",
       "    }\n",
       "\n",
       "    .dataframe tbody tr th {\n",
       "        vertical-align: top;\n",
       "    }\n",
       "\n",
       "    .dataframe thead th {\n",
       "        text-align: right;\n",
       "    }\n",
       "</style>\n",
       "<table border=\"1\" class=\"dataframe\">\n",
       "  <thead>\n",
       "    <tr style=\"text-align: right;\">\n",
       "      <th></th>\n",
       "      <th>id</th>\n",
       "      <th>name</th>\n",
       "    </tr>\n",
       "  </thead>\n",
       "  <tbody>\n",
       "    <tr>\n",
       "      <th>0</th>\n",
       "      <td>15265308</td>\n",
       "      <td>pandas测试_15265308</td>\n",
       "    </tr>\n",
       "    <tr>\n",
       "      <th>1</th>\n",
       "      <td>16688817</td>\n",
       "      <td>pandas测试_16688817</td>\n",
       "    </tr>\n",
       "    <tr>\n",
       "      <th>2</th>\n",
       "      <td>37821129</td>\n",
       "      <td>pandas测试_37821129</td>\n",
       "    </tr>\n",
       "    <tr>\n",
       "      <th>3</th>\n",
       "      <td>38520035</td>\n",
       "      <td>pandas测试_38520035</td>\n",
       "    </tr>\n",
       "    <tr>\n",
       "      <th>4</th>\n",
       "      <td>39296899</td>\n",
       "      <td>pandas测试_39296899</td>\n",
       "    </tr>\n",
       "  </tbody>\n",
       "</table>\n",
       "</div>"
      ],
      "text/plain": [
       "         id               name\n",
       "0  15265308  pandas测试_15265308\n",
       "1  16688817  pandas测试_16688817\n",
       "2  37821129  pandas测试_37821129\n",
       "3  38520035  pandas测试_38520035\n",
       "4  39296899  pandas测试_39296899"
      ]
     },
     "execution_count": 12,
     "metadata": {},
     "output_type": "execute_result"
    }
   ],
   "source": [
    "@timer_decorator\n",
    "def reset_index_use(df,sampled_df):\n",
    " \n",
    "    sampled_ids = sampled_df['id'].tolist()\n",
    "    # 然后，我们可以重置df的索引为'id'列\n",
    "    df.set_index('id', inplace=True)\n",
    "    # 最后，我们可以使用loc函数和sampled_ids来查询df\n",
    "    matched_df = df.loc[sampled_ids]\n",
    "    matched_df.reset_index(inplace=True)\n",
    "    return matched_df\n",
    "    \n",
    "reset_index_use = reset_index_use(df,sampled_df)\n",
    "reset_index_use.head()"
   ]
  },
  {
   "cell_type": "code",
   "execution_count": 13,
   "id": "292e9e04",
   "metadata": {},
   "outputs": [
    {
     "ename": "KeyError",
     "evalue": "\"None of ['id'] are in the columns\"",
     "output_type": "error",
     "traceback": [
      "\u001b[1;31m---------------------------------------------------------------------------\u001b[0m",
      "\u001b[1;31mKeyError\u001b[0m                                  Traceback (most recent call last)",
      "Cell \u001b[1;32mIn[13], line 20\u001b[0m\n\u001b[0;32m     16\u001b[0m     matched_df\u001b[38;5;241m.\u001b[39mreset_index(inplace\u001b[38;5;241m=\u001b[39m\u001b[38;5;28;01mTrue\u001b[39;00m)\n\u001b[0;32m     17\u001b[0m     \u001b[38;5;28;01mreturn\u001b[39;00m matched_df\n\u001b[1;32m---> 20\u001b[0m reset_index_use_mdethod \u001b[38;5;241m=\u001b[39m \u001b[43mreset_index_use_mdethod\u001b[49m\u001b[43m(\u001b[49m\u001b[43mdf\u001b[49m\u001b[43m,\u001b[49m\u001b[43msampled_df\u001b[49m\u001b[43m)\u001b[49m\n\u001b[0;32m     21\u001b[0m reset_index_use_mdethod\u001b[38;5;241m.\u001b[39mhead()\n",
      "Cell \u001b[1;32mIn[5], line 5\u001b[0m, in \u001b[0;36mtimer_decorator.<locals>.wrapper\u001b[1;34m(*args, **kwargs)\u001b[0m\n\u001b[0;32m      3\u001b[0m \u001b[38;5;28;01mdef\u001b[39;00m \u001b[38;5;21mwrapper\u001b[39m(\u001b[38;5;241m*\u001b[39margs, \u001b[38;5;241m*\u001b[39m\u001b[38;5;241m*\u001b[39mkwargs):\n\u001b[0;32m      4\u001b[0m     start_time \u001b[38;5;241m=\u001b[39m time\u001b[38;5;241m.\u001b[39mtime() \n\u001b[1;32m----> 5\u001b[0m     result \u001b[38;5;241m=\u001b[39m func(\u001b[38;5;241m*\u001b[39margs, \u001b[38;5;241m*\u001b[39m\u001b[38;5;241m*\u001b[39mkwargs) \n\u001b[0;32m      6\u001b[0m     end_time \u001b[38;5;241m=\u001b[39m time\u001b[38;5;241m.\u001b[39mtime() \n\u001b[0;32m      7\u001b[0m     execution_time \u001b[38;5;241m=\u001b[39m end_time \u001b[38;5;241m-\u001b[39m start_time  \n",
      "Cell \u001b[1;32mIn[13], line 7\u001b[0m, in \u001b[0;36mreset_index_use_mdethod\u001b[1;34m(df, sampled_df)\u001b[0m\n\u001b[0;32m      4\u001b[0m sampled_ids \u001b[38;5;241m=\u001b[39m sampled_df[\u001b[38;5;124m'\u001b[39m\u001b[38;5;124mid\u001b[39m\u001b[38;5;124m'\u001b[39m]\u001b[38;5;241m.\u001b[39mtolist()\n\u001b[0;32m      6\u001b[0m \u001b[38;5;66;03m# 然后，我们可以将df和sampled_df的索引设置为'id'列\u001b[39;00m\n\u001b[1;32m----> 7\u001b[0m \u001b[43mdf\u001b[49m\u001b[38;5;241;43m.\u001b[39;49m\u001b[43mset_index\u001b[49m\u001b[43m(\u001b[49m\u001b[38;5;124;43m'\u001b[39;49m\u001b[38;5;124;43mid\u001b[39;49m\u001b[38;5;124;43m'\u001b[39;49m\u001b[43m,\u001b[49m\u001b[43m \u001b[49m\u001b[43minplace\u001b[49m\u001b[38;5;241;43m=\u001b[39;49m\u001b[38;5;28;43;01mTrue\u001b[39;49;00m\u001b[43m)\u001b[49m\n\u001b[0;32m      8\u001b[0m sampled_df\u001b[38;5;241m.\u001b[39mset_index(\u001b[38;5;124m'\u001b[39m\u001b[38;5;124mid\u001b[39m\u001b[38;5;124m'\u001b[39m, inplace\u001b[38;5;241m=\u001b[39m\u001b[38;5;28;01mTrue\u001b[39;00m)\n\u001b[0;32m     10\u001b[0m \u001b[38;5;66;03m# 使用loc函数和sampled_ids来查询df\u001b[39;00m\n",
      "File \u001b[1;32mD:\\Python\\lib\\site-packages\\pandas\\core\\frame.py:5870\u001b[0m, in \u001b[0;36mDataFrame.set_index\u001b[1;34m(self, keys, drop, append, inplace, verify_integrity)\u001b[0m\n\u001b[0;32m   5867\u001b[0m                 missing\u001b[38;5;241m.\u001b[39mappend(col)\n\u001b[0;32m   5869\u001b[0m \u001b[38;5;28;01mif\u001b[39;00m missing:\n\u001b[1;32m-> 5870\u001b[0m     \u001b[38;5;28;01mraise\u001b[39;00m \u001b[38;5;167;01mKeyError\u001b[39;00m(\u001b[38;5;124mf\u001b[39m\u001b[38;5;124m\"\u001b[39m\u001b[38;5;124mNone of \u001b[39m\u001b[38;5;132;01m{\u001b[39;00mmissing\u001b[38;5;132;01m}\u001b[39;00m\u001b[38;5;124m are in the columns\u001b[39m\u001b[38;5;124m\"\u001b[39m)\n\u001b[0;32m   5872\u001b[0m \u001b[38;5;28;01mif\u001b[39;00m inplace:\n\u001b[0;32m   5873\u001b[0m     frame \u001b[38;5;241m=\u001b[39m \u001b[38;5;28mself\u001b[39m\n",
      "\u001b[1;31mKeyError\u001b[0m: \"None of ['id'] are in the columns\""
     ]
    }
   ],
   "source": [
    "@timer_decorator\n",
    "def reset_index_use_mdethod(df,sampled_df):\n",
    "    \n",
    "    sampled_ids = sampled_df['id'].tolist()\n",
    "\n",
    "    # 然后，我们可以将df和sampled_df的索引设置为'id'列\n",
    "    df.set_index('id', inplace=True)\n",
    "    sampled_df.set_index('id', inplace=True)\n",
    "\n",
    "    # 使用loc函数和sampled_ids来查询df\n",
    "    matched_df = df.loc[sampled_ids]\n",
    "\n",
    "    # 重置df和sampled_df的索引\n",
    "    df.reset_index(inplace=True)\n",
    "    sampled_df.reset_index(inplace=True)\n",
    "    matched_df.reset_index(inplace=True)\n",
    "    return matched_df\n",
    "\n",
    "\n",
    "reset_index_use_mdethod = reset_index_use_mdethod(df,sampled_df)\n",
    "reset_index_use_mdethod.head()"
   ]
  },
  {
   "cell_type": "code",
   "execution_count": null,
   "id": "39e27ece",
   "metadata": {},
   "outputs": [],
   "source": []
  }
 ],
 "metadata": {
  "kernelspec": {
   "display_name": "Python 3 (ipykernel)",
   "language": "python",
   "name": "python3"
  },
  "language_info": {
   "codemirror_mode": {
    "name": "ipython",
    "version": 3
   },
   "file_extension": ".py",
   "mimetype": "text/x-python",
   "name": "python",
   "nbconvert_exporter": "python",
   "pygments_lexer": "ipython3",
   "version": "3.9.10"
  }
 },
 "nbformat": 4,
 "nbformat_minor": 5
}
