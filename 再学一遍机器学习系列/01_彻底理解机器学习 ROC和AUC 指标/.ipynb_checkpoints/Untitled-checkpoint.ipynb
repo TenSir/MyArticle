{
 "cells": [
  {
   "cell_type": "code",
   "execution_count": 2,
   "id": "5b826d60-3b7d-469b-9dd7-48b4fd520fdb",
   "metadata": {},
   "outputs": [
    {
     "name": "stdout",
     "output_type": "stream",
     "text": [
      "AUC: 0.79\n",
      "Accuracy: 0.94\n"
     ]
    },
    {
     "data": {
      "image/png": "[encoded data removed]",
      "text/plain": [
       "<Figure size 800x600 with 2 Axes>"
      ]
     },
     "metadata": {},
     "output_type": "display_data"
    }
   ],
   "source": [
    "import numpy as np\n",
    "from sklearn.datasets import make_classification\n",
    "from sklearn.model_selection import train_test_split\n",
    "from sklearn.linear_model import LogisticRegression\n",
    "from sklearn.metrics import roc_auc_score, confusion_matrix, accuracy_score\n",
    "import matplotlib.pyplot as plt\n",
    "import seaborn as sns\n",
    "\n",
    "# 生成一个二分类数据集\n",
    "X, y = make_classification(n_samples=1000, n_features=20, n_classes=2, weights=[0.95, 0.05], random_state=42)\n",
    "\n",
    "# 划分训练集和测试集\n",
    "X_train, X_test, y_train, y_test = train_test_split(X, y, test_size=0.2, random_state=42)\n",
    "\n",
    "# 创建一个逻辑回归模型\n",
    "model = LogisticRegression()\n",
    "\n",
    "# 训练模型\n",
    "model.fit(X_train, y_train)\n",
    "\n",
    "# 预测测试集的概率\n",
    "y_pred_proba = model.predict_proba(X_test)[:, 1]\n",
    "\n",
    "# 计算AUC\n",
    "auc = roc_auc_score(y_test, y_pred_proba)\n",
    "print(f\"AUC: {auc:.2f}\")\n",
    "\n",
    "# 预测测试集的类别\n",
    "y_pred = model.predict(X_test)\n",
    "\n",
    "# 计算准确率\n",
    "accuracy = accuracy_score(y_test, y_pred)\n",
    "print(f\"Accuracy: {accuracy:.2f}\")\n",
    "\n",
    "# 计算混淆矩阵\n",
    "cm = confusion_matrix(y_test, y_pred)\n",
    "\n",
    "\n",
    "# 绘制混淆矩阵图\n",
    "plt.figure(figsize=(8, 6))\n",
    "sns.heatmap(cm, annot=True, fmt='d', cmap='Blues', xticklabels=['Class 0', 'Class 1'], yticklabels=['Class 0', 'Class 1'])\n",
    "plt.xlabel('Predicted Label')\n",
    "plt.ylabel('True Label')\n",
    "plt.title('Confusion Matrix')\n",
    "plt.show()\n",
    "\n"
   ]
  },
  {
   "cell_type": "code",
   "execution_count": 13,
   "id": "21e8803b-6639-4927-89a8-41652b7e3b9e",
   "metadata": {},
   "outputs": [
    {
     "name": "stdout",
     "output_type": "stream",
     "text": [
      "准确率: 0.95\n",
      "AUC: 0.50\n"
     ]
    },
    {
     "name": "stderr",
     "output_type": "stream",
     "text": [
      "D:\\Anaconda\\anaconda3\\Lib\\site-packages\\IPython\\core\\events.py:82: UserWarning: Glyph 26222 (\\N{CJK UNIFIED IDEOGRAPH-666E}) missing from current font.\n",
      "  func(*args, **kwargs)\n",
      "D:\\Anaconda\\anaconda3\\Lib\\site-packages\\IPython\\core\\events.py:82: UserWarning: Glyph 36890 (\\N{CJK UNIFIED IDEOGRAPH-901A}) missing from current font.\n",
      "  func(*args, **kwargs)\n",
      "D:\\Anaconda\\anaconda3\\Lib\\site-packages\\IPython\\core\\events.py:82: UserWarning: Glyph 24351 (\\N{CJK UNIFIED IDEOGRAPH-5F1F}) missing from current font.\n",
      "  func(*args, **kwargs)\n",
      "D:\\Anaconda\\anaconda3\\Lib\\site-packages\\IPython\\core\\events.py:82: UserWarning: Glyph 23376 (\\N{CJK UNIFIED IDEOGRAPH-5B50}) missing from current font.\n",
      "  func(*args, **kwargs)\n",
      "D:\\Anaconda\\anaconda3\\Lib\\site-packages\\IPython\\core\\events.py:82: UserWarning: Glyph 39640 (\\N{CJK UNIFIED IDEOGRAPH-9AD8}) missing from current font.\n",
      "  func(*args, **kwargs)\n",
      "D:\\Anaconda\\anaconda3\\Lib\\site-packages\\IPython\\core\\events.py:82: UserWarning: Glyph 25163 (\\N{CJK UNIFIED IDEOGRAPH-624B}) missing from current font.\n",
      "  func(*args, **kwargs)\n",
      "D:\\Anaconda\\anaconda3\\Lib\\site-packages\\IPython\\core\\events.py:82: UserWarning: Glyph 30495 (\\N{CJK UNIFIED IDEOGRAPH-771F}) missing from current font.\n",
      "  func(*args, **kwargs)\n",
      "D:\\Anaconda\\anaconda3\\Lib\\site-packages\\IPython\\core\\events.py:82: UserWarning: Glyph 23454 (\\N{CJK UNIFIED IDEOGRAPH-5B9E}) missing from current font.\n",
      "  func(*args, **kwargs)\n",
      "D:\\Anaconda\\anaconda3\\Lib\\site-packages\\IPython\\core\\events.py:82: UserWarning: Glyph 26631 (\\N{CJK UNIFIED IDEOGRAPH-6807}) missing from current font.\n",
      "  func(*args, **kwargs)\n",
      "D:\\Anaconda\\anaconda3\\Lib\\site-packages\\IPython\\core\\events.py:82: UserWarning: Glyph 31614 (\\N{CJK UNIFIED IDEOGRAPH-7B7E}) missing from current font.\n",
      "  func(*args, **kwargs)\n",
      "D:\\Anaconda\\anaconda3\\Lib\\site-packages\\IPython\\core\\events.py:82: UserWarning: Glyph 28151 (\\N{CJK UNIFIED IDEOGRAPH-6DF7}) missing from current font.\n",
      "  func(*args, **kwargs)\n",
      "D:\\Anaconda\\anaconda3\\Lib\\site-packages\\IPython\\core\\events.py:82: UserWarning: Glyph 28102 (\\N{CJK UNIFIED IDEOGRAPH-6DC6}) missing from current font.\n",
      "  func(*args, **kwargs)\n",
      "D:\\Anaconda\\anaconda3\\Lib\\site-packages\\IPython\\core\\events.py:82: UserWarning: Glyph 30697 (\\N{CJK UNIFIED IDEOGRAPH-77E9}) missing from current font.\n",
      "  func(*args, **kwargs)\n",
      "D:\\Anaconda\\anaconda3\\Lib\\site-packages\\IPython\\core\\events.py:82: UserWarning: Glyph 38453 (\\N{CJK UNIFIED IDEOGRAPH-9635}) missing from current font.\n",
      "  func(*args, **kwargs)\n",
      "D:\\Anaconda\\anaconda3\\Lib\\site-packages\\IPython\\core\\events.py:82: UserWarning: Glyph 39044 (\\N{CJK UNIFIED IDEOGRAPH-9884}) missing from current font.\n",
      "  func(*args, **kwargs)\n",
      "D:\\Anaconda\\anaconda3\\Lib\\site-packages\\IPython\\core\\events.py:82: UserWarning: Glyph 27979 (\\N{CJK UNIFIED IDEOGRAPH-6D4B}) missing from current font.\n",
      "  func(*args, **kwargs)\n",
      "D:\\Anaconda\\anaconda3\\Lib\\site-packages\\IPython\\core\\pylabtools.py:152: UserWarning: Glyph 26222 (\\N{CJK UNIFIED IDEOGRAPH-666E}) missing from current font.\n",
      "  fig.canvas.print_figure(bytes_io, **kw)\n",
      "D:\\Anaconda\\anaconda3\\Lib\\site-packages\\IPython\\core\\pylabtools.py:152: UserWarning: Glyph 36890 (\\N{CJK UNIFIED IDEOGRAPH-901A}) missing from current font.\n",
      "  fig.canvas.print_figure(bytes_io, **kw)\n",
      "D:\\Anaconda\\anaconda3\\Lib\\site-packages\\IPython\\core\\pylabtools.py:152: UserWarning: Glyph 24351 (\\N{CJK UNIFIED IDEOGRAPH-5F1F}) missing from current font.\n",
      "  fig.canvas.print_figure(bytes_io, **kw)\n",
      "D:\\Anaconda\\anaconda3\\Lib\\site-packages\\IPython\\core\\pylabtools.py:152: UserWarning: Glyph 23376 (\\N{CJK UNIFIED IDEOGRAPH-5B50}) missing from current font.\n",
      "  fig.canvas.print_figure(bytes_io, **kw)\n",
      "D:\\Anaconda\\anaconda3\\Lib\\site-packages\\IPython\\core\\pylabtools.py:152: UserWarning: Glyph 39640 (\\N{CJK UNIFIED IDEOGRAPH-9AD8}) missing from current font.\n",
      "  fig.canvas.print_figure(bytes_io, **kw)\n",
      "D:\\Anaconda\\anaconda3\\Lib\\site-packages\\IPython\\core\\pylabtools.py:152: UserWarning: Glyph 25163 (\\N{CJK UNIFIED IDEOGRAPH-624B}) missing from current font.\n",
      "  fig.canvas.print_figure(bytes_io, **kw)\n",
      "D:\\Anaconda\\anaconda3\\Lib\\site-packages\\IPython\\core\\pylabtools.py:152: UserWarning: Glyph 30495 (\\N{CJK UNIFIED IDEOGRAPH-771F}) missing from current font.\n",
      "  fig.canvas.print_figure(bytes_io, **kw)\n",
      "D:\\Anaconda\\anaconda3\\Lib\\site-packages\\IPython\\core\\pylabtools.py:152: UserWarning: Glyph 23454 (\\N{CJK UNIFIED IDEOGRAPH-5B9E}) missing from current font.\n",
      "  fig.canvas.print_figure(bytes_io, **kw)\n",
      "D:\\Anaconda\\anaconda3\\Lib\\site-packages\\IPython\\core\\pylabtools.py:152: UserWarning: Glyph 26631 (\\N{CJK UNIFIED IDEOGRAPH-6807}) missing from current font.\n",
      "  fig.canvas.print_figure(bytes_io, **kw)\n",
      "D:\\Anaconda\\anaconda3\\Lib\\site-packages\\IPython\\core\\pylabtools.py:152: UserWarning: Glyph 31614 (\\N{CJK UNIFIED IDEOGRAPH-7B7E}) missing from current font.\n",
      "  fig.canvas.print_figure(bytes_io, **kw)\n",
      "D:\\Anaconda\\anaconda3\\Lib\\site-packages\\IPython\\core\\pylabtools.py:152: UserWarning: Glyph 28151 (\\N{CJK UNIFIED IDEOGRAPH-6DF7}) missing from current font.\n",
      "  fig.canvas.print_figure(bytes_io, **kw)\n",
      "D:\\Anaconda\\anaconda3\\Lib\\site-packages\\IPython\\core\\pylabtools.py:152: UserWarning: Glyph 28102 (\\N{CJK UNIFIED IDEOGRAPH-6DC6}) missing from current font.\n",
      "  fig.canvas.print_figure(bytes_io, **kw)\n",
      "D:\\Anaconda\\anaconda3\\Lib\\site-packages\\IPython\\core\\pylabtools.py:152: UserWarning: Glyph 30697 (\\N{CJK UNIFIED IDEOGRAPH-77E9}) missing from current font.\n",
      "  fig.canvas.print_figure(bytes_io, **kw)\n",
      "D:\\Anaconda\\anaconda3\\Lib\\site-packages\\IPython\\core\\pylabtools.py:152: UserWarning: Glyph 38453 (\\N{CJK UNIFIED IDEOGRAPH-9635}) missing from current font.\n",
      "  fig.canvas.print_figure(bytes_io, **kw)\n",
      "D:\\Anaconda\\anaconda3\\Lib\\site-packages\\IPython\\core\\pylabtools.py:152: UserWarning: Glyph 39044 (\\N{CJK UNIFIED IDEOGRAPH-9884}) missing from current font.\n",
      "  fig.canvas.print_figure(bytes_io, **kw)\n",
      "D:\\Anaconda\\anaconda3\\Lib\\site-packages\\IPython\\core\\pylabtools.py:152: UserWarning: Glyph 27979 (\\N{CJK UNIFIED IDEOGRAPH-6D4B}) missing from current font.\n",
      "  fig.canvas.print_figure(bytes_io, **kw)\n"
     ]
    },
    {
     "data": {
      "image/png": "[encoded data removed]",
      "text/plain": [
       "<Figure size 1000x500 with 2 Axes>"
      ]
     },
     "metadata": {},
     "output_type": "display_data"
    }
   ],
   "source": [
    "# import numpy as np\n",
    "# import matplotlib.pyplot as plt\n",
    "# from sklearn.datasets import make_classification\n",
    "# from sklearn.model_selection import train_test_split\n",
    "# from sklearn.metrics import roc_curve, roc_auc_score, accuracy_score, confusion_matrix\n",
    "\n",
    "# # 生成一个极度不平衡的武侠数据集\n",
    "# # 假设特征表示武功修炼时间、战斗胜率等，标签表示是否为高手\n",
    "# X, y = make_classification(n_samples=1000, n_features=20, n_classes=2, weights=[0.95, 0.05], random_state=42)\n",
    "\n",
    "# # 将数据集分为训练集和测试集\n",
    "# X_train, X_test, y_train, y_test = train_test_split(X, y, test_size=0.3, random_state=42)\n",
    "\n",
    "# # 创建一个总是预测普通弟子的模型\n",
    "\n",
    "# def predict(X):\n",
    "#     return np.zeros(X.shape[0])\n",
    "\n",
    "# # 训练和预测\n",
    "\n",
    "# y_pred = predict(X_test)\n",
    "\n",
    "# # 计算混淆矩阵和准确率\n",
    "# cm = confusion_matrix(y_test, y_pred)\n",
    "# accuracy = accuracy_score(y_test, y_pred)\n",
    "\n",
    "# # 计算 ROC 曲线和 AUC\n",
    "# # 在这里我们需要一个概率预测来计算 ROC 曲线和 AUC，为了演示，我们假设模型输出的是一个常量概率\n",
    "# y_pred_prob = np.zeros(X_test.shape[0])\n",
    "# fpr, tpr, thresholds = roc_curve(y_test, y_pred_prob)\n",
    "# auc = roc_auc_score(y_test, y_pred_prob)\n",
    "\n",
    "# # 可视化结果\n",
    "# plt.figure(figsize=(10, 5))\n",
    "\n",
    "# plt.subplot(1, 2, 1)\n",
    "# plt.title(\"混淆矩阵\")\n",
    "# plt.imshow(cm, interpolation='nearest', cmap=plt.cm.Blues)\n",
    "# plt.colorbar()\n",
    "# plt.xlabel(\"预测标签\")\n",
    "# plt.ylabel(\"真实标签\")\n",
    "# plt.xticks([0, 1], [\"普通弟子\", \"高手\"])\n",
    "# plt.yticks([0, 1], [\"普通弟子\", \"高手\"])\n",
    "# for i in range(2):\n",
    "#     for j in range(2):\n",
    "#         plt.text(j, i, cm[i, j], ha=\"center\", va=\"center\", color=\"red\")\n",
    "\n",
    "\n",
    "# print(f\"准确率: {accuracy:.2f}\")\n",
    "# print(f\"AUC: {auc:.2f}\")"
   ]
  },
  {
   "cell_type": "code",
   "execution_count": null,
   "id": "1e1eaaff-3126-4c2c-9c51-0a5a398dcf93",
   "metadata": {},
   "outputs": [],
   "source": []
  }
 ],
 "metadata": {
  "kernelspec": {
   "display_name": "Python 3 (ipykernel)",
   "language": "python",
   "name": "python3"
  },
  "language_info": {
   "codemirror_mode": {
    "name": "ipython",
    "version": 3
   },
   "file_extension": ".py",
   "mimetype": "text/x-python",
   "name": "python",
   "nbconvert_exporter": "python",
   "pygments_lexer": "ipython3",
   "version": "3.11.7"
  }
 },
 "nbformat": 4,
 "nbformat_minor": 5
}
