{
 "cells": [
  {
   "cell_type": "code",
   "execution_count": 1,
   "id": "7b2112a5",
   "metadata": {},
   "outputs": [
    {
     "data": {
      "text/html": [
       "<div>\n",
       "<style scoped>\n",
       "    .dataframe tbody tr th:only-of-type {\n",
       "        vertical-align: middle;\n",
       "    }\n",
       "\n",
       "    .dataframe tbody tr th {\n",
       "        vertical-align: top;\n",
       "    }\n",
       "\n",
       "    .dataframe thead th {\n",
       "        text-align: right;\n",
       "    }\n",
       "</style>\n",
       "<table border=\"1\" class=\"dataframe\">\n",
       "  <thead>\n",
       "    <tr style=\"text-align: right;\">\n",
       "      <th></th>\n",
       "      <th>col1</th>\n",
       "      <th>col2</th>\n",
       "    </tr>\n",
       "  </thead>\n",
       "  <tbody>\n",
       "    <tr>\n",
       "      <th>row1</th>\n",
       "      <td>1</td>\n",
       "      <td>3</td>\n",
       "    </tr>\n",
       "    <tr>\n",
       "      <th>row2</th>\n",
       "      <td>2</td>\n",
       "      <td>4</td>\n",
       "    </tr>\n",
       "  </tbody>\n",
       "</table>\n",
       "</div>"
      ],
      "text/plain": [
       "      col1  col2\n",
       "row1     1     3\n",
       "row2     2     4"
      ]
     },
     "execution_count": 1,
     "metadata": {},
     "output_type": "execute_result"
    }
   ],
   "source": [
    "import pandas as pd\n",
    " \n",
    "data = {'col1': [1, 2], 'col2': [3, 4]}\n",
    "index = ['row1', 'row2']\n",
    "df = pd.DataFrame(data, index=index)\n",
    "df"
   ]
  },
  {
   "cell_type": "code",
   "execution_count": 2,
   "id": "5ce48a26",
   "metadata": {},
   "outputs": [
    {
     "data": {
      "text/plain": [
       "Index([1, 2, 3, 4], dtype='int64', name='my_index')"
      ]
     },
     "execution_count": 2,
     "metadata": {},
     "output_type": "execute_result"
    }
   ],
   "source": [
    "import pandas as pd\n",
    "\n",
    "index = pd.Index([1, 2, 3, 4], name='my_index')\n",
    "index"
   ]
  },
  {
   "cell_type": "code",
   "execution_count": 3,
   "id": "ceccd2c2",
   "metadata": {},
   "outputs": [
    {
     "data": {
      "text/html": [
       "<div>\n",
       "<style scoped>\n",
       "    .dataframe tbody tr th:only-of-type {\n",
       "        vertical-align: middle;\n",
       "    }\n",
       "\n",
       "    .dataframe tbody tr th {\n",
       "        vertical-align: top;\n",
       "    }\n",
       "\n",
       "    .dataframe thead th {\n",
       "        text-align: right;\n",
       "    }\n",
       "</style>\n",
       "<table border=\"1\" class=\"dataframe\">\n",
       "  <thead>\n",
       "    <tr style=\"text-align: right;\">\n",
       "      <th></th>\n",
       "      <th>col1</th>\n",
       "      <th>col2</th>\n",
       "    </tr>\n",
       "    <tr>\n",
       "      <th>my_index</th>\n",
       "      <th></th>\n",
       "      <th></th>\n",
       "    </tr>\n",
       "  </thead>\n",
       "  <tbody>\n",
       "    <tr>\n",
       "      <th>1</th>\n",
       "      <td>1</td>\n",
       "      <td>3</td>\n",
       "    </tr>\n",
       "    <tr>\n",
       "      <th>2</th>\n",
       "      <td>2</td>\n",
       "      <td>4</td>\n",
       "    </tr>\n",
       "    <tr>\n",
       "      <th>3</th>\n",
       "      <td>12</td>\n",
       "      <td>34</td>\n",
       "    </tr>\n",
       "    <tr>\n",
       "      <th>4</th>\n",
       "      <td>13</td>\n",
       "      <td>35</td>\n",
       "    </tr>\n",
       "  </tbody>\n",
       "</table>\n",
       "</div>"
      ],
      "text/plain": [
       "          col1  col2\n",
       "my_index            \n",
       "1            1     3\n",
       "2            2     4\n",
       "3           12    34\n",
       "4           13    35"
      ]
     },
     "execution_count": 3,
     "metadata": {},
     "output_type": "execute_result"
    }
   ],
   "source": [
    "import pandas as pd\n",
    " \n",
    "data = {'col1': [1, 2, 12, 13], 'col2': [3, 4, 34, 35 ]}\n",
    "df = pd.DataFrame(data, index=index)\n",
    "df"
   ]
  },
  {
   "cell_type": "code",
   "execution_count": 4,
   "id": "e529ef5d",
   "metadata": {},
   "outputs": [
    {
     "data": {
      "text/html": [
       "<div>\n",
       "<style scoped>\n",
       "    .dataframe tbody tr th:only-of-type {\n",
       "        vertical-align: middle;\n",
       "    }\n",
       "\n",
       "    .dataframe tbody tr th {\n",
       "        vertical-align: top;\n",
       "    }\n",
       "\n",
       "    .dataframe thead th {\n",
       "        text-align: right;\n",
       "    }\n",
       "</style>\n",
       "<table border=\"1\" class=\"dataframe\">\n",
       "  <thead>\n",
       "    <tr style=\"text-align: right;\">\n",
       "      <th></th>\n",
       "      <th>col1</th>\n",
       "      <th>col2</th>\n",
       "    </tr>\n",
       "    <tr>\n",
       "      <th>my_index</th>\n",
       "      <th></th>\n",
       "      <th></th>\n",
       "    </tr>\n",
       "  </thead>\n",
       "  <tbody>\n",
       "    <tr>\n",
       "      <th>row1</th>\n",
       "      <td>1</td>\n",
       "      <td>3</td>\n",
       "    </tr>\n",
       "    <tr>\n",
       "      <th>row2</th>\n",
       "      <td>2</td>\n",
       "      <td>4</td>\n",
       "    </tr>\n",
       "    <tr>\n",
       "      <th>row3</th>\n",
       "      <td>12</td>\n",
       "      <td>34</td>\n",
       "    </tr>\n",
       "    <tr>\n",
       "      <th>row4</th>\n",
       "      <td>13</td>\n",
       "      <td>35</td>\n",
       "    </tr>\n",
       "  </tbody>\n",
       "</table>\n",
       "</div>"
      ],
      "text/plain": [
       "          col1  col2\n",
       "my_index            \n",
       "row1         1     3\n",
       "row2         2     4\n",
       "row3        12    34\n",
       "row4        13    35"
      ]
     },
     "execution_count": 4,
     "metadata": {},
     "output_type": "execute_result"
    }
   ],
   "source": [
    "import pandas as pd\n",
    "data = {'col1': [1, 2, 12, 13], 'col2': [3, 4, 34, 35 ]}\n",
    "myindex = pd.Index(['row1', 'row2', 'row3', 'row4'], name='my_index')\n",
    "df = pd.DataFrame(data, index=myindex)\n",
    "df"
   ]
  },
  {
   "cell_type": "code",
   "execution_count": 5,
   "id": "1e5816f2",
   "metadata": {},
   "outputs": [
    {
     "data": {
      "text/plain": [
       "DatetimeIndex(['2021-01-01', '2021-01-02'], dtype='datetime64[ns]', freq='D')"
      ]
     },
     "execution_count": 5,
     "metadata": {},
     "output_type": "execute_result"
    }
   ],
   "source": [
    "datetime_index = pd.DatetimeIndex(['2021-01-01', '2021-01-02'], freq='D')\n",
    "datetime_index"
   ]
  },
  {
   "cell_type": "code",
   "execution_count": 6,
   "id": "d85594e1",
   "metadata": {},
   "outputs": [
    {
     "data": {
      "text/plain": [
       "TimedeltaIndex(['1 days', '2 days'], dtype='timedelta64[ns]', freq=None)"
      ]
     },
     "execution_count": 6,
     "metadata": {},
     "output_type": "execute_result"
    }
   ],
   "source": [
    "timedelta_index = pd.TimedeltaIndex(['1 days', '2 days'])\n",
    "timedelta_index"
   ]
  },
  {
   "cell_type": "code",
   "execution_count": 7,
   "id": "6f0e0eb0",
   "metadata": {},
   "outputs": [
    {
     "data": {
      "text/plain": [
       "PeriodIndex(['2021-01-01', '2021-01-02'], dtype='period[D]')"
      ]
     },
     "execution_count": 7,
     "metadata": {},
     "output_type": "execute_result"
    }
   ],
   "source": [
    "period_index = pd.PeriodIndex(['2021-01-01', '2021-01-02'], freq='D')\n",
    "period_index"
   ]
  },
  {
   "cell_type": "code",
   "execution_count": 8,
   "id": "451c2f40",
   "metadata": {},
   "outputs": [
    {
     "data": {
      "text/plain": [
       "RangeIndex(start=0, stop=5, step=1)"
      ]
     },
     "execution_count": 8,
     "metadata": {},
     "output_type": "execute_result"
    }
   ],
   "source": [
    "range_index = pd.RangeIndex(start=0, stop=5, step=1)\n",
    "range_index"
   ]
  },
  {
   "cell_type": "code",
   "execution_count": 11,
   "id": "201ede5d",
   "metadata": {},
   "outputs": [
    {
     "name": "stdout",
     "output_type": "stream",
     "text": [
      "object\n"
     ]
    }
   ],
   "source": [
    "import pandas as pd\n",
    "data = {'col1': [1, 2, 12, 13], 'col2': [3, 4, 34, 35 ]}\n",
    "myindex = pd.Index(['row1', 'row2', 'row3', 'row4'], name='my_index')\n",
    "df = pd.DataFrame(data, index=myindex)\n",
    "print(df.index.dtype)"
   ]
  },
  {
   "cell_type": "code",
   "execution_count": 12,
   "id": "d57778dd",
   "metadata": {},
   "outputs": [
    {
     "name": "stdout",
     "output_type": "stream",
     "text": [
      "int64\n"
     ]
    }
   ],
   "source": [
    "import pandas as pd\n",
    "data = {'col1': [1, 2, 12, 13], 'col2': [3, 4, 34, 35 ]}\n",
    "myindex = pd.Index([100,101,102,103], name='my_index')\n",
    "df = pd.DataFrame(data, index=myindex)\n",
    "print(df.index.dtype)"
   ]
  },
  {
   "cell_type": "code",
   "execution_count": 3,
   "id": "d04e6eb4",
   "metadata": {},
   "outputs": [
    {
     "name": "stdout",
     "output_type": "stream",
     "text": [
      "<class 'pandas.core.series.Series'> \n",
      "\n"
     ]
    },
    {
     "data": {
      "text/plain": [
       "0    1\n",
       "1    2\n",
       "2    3\n",
       "Name: Column1, dtype: int64"
      ]
     },
     "execution_count": 3,
     "metadata": {},
     "output_type": "execute_result"
    }
   ],
   "source": [
    "\n",
    "import pandas as pd\n",
    "\n",
    "# 创建一个DataFrame\n",
    "df = pd.DataFrame({\n",
    "    'Column1': [1, 2, 3],\n",
    "    'Column2': ['a', 'b', 'c'],\n",
    "    'Column3': [True, False, True]\n",
    "})\n",
    "\n",
    "# 通过列索引访问列\n",
    "column1_df = df['Column1']\n",
    "print(type(column1_df),'\\n')\n",
    "column1_df\n"
   ]
  },
  {
   "cell_type": "code",
   "execution_count": 4,
   "id": "0052d475",
   "metadata": {},
   "outputs": [
    {
     "name": "stdout",
     "output_type": "stream",
     "text": [
      "<class 'pandas.core.frame.DataFrame'> \n",
      "\n"
     ]
    },
    {
     "data": {
      "text/html": [
       "<div>\n",
       "<style scoped>\n",
       "    .dataframe tbody tr th:only-of-type {\n",
       "        vertical-align: middle;\n",
       "    }\n",
       "\n",
       "    .dataframe tbody tr th {\n",
       "        vertical-align: top;\n",
       "    }\n",
       "\n",
       "    .dataframe thead th {\n",
       "        text-align: right;\n",
       "    }\n",
       "</style>\n",
       "<table border=\"1\" class=\"dataframe\">\n",
       "  <thead>\n",
       "    <tr style=\"text-align: right;\">\n",
       "      <th></th>\n",
       "      <th>Column1</th>\n",
       "      <th>Column2</th>\n",
       "    </tr>\n",
       "  </thead>\n",
       "  <tbody>\n",
       "    <tr>\n",
       "      <th>0</th>\n",
       "      <td>1</td>\n",
       "      <td>a</td>\n",
       "    </tr>\n",
       "    <tr>\n",
       "      <th>1</th>\n",
       "      <td>2</td>\n",
       "      <td>b</td>\n",
       "    </tr>\n",
       "    <tr>\n",
       "      <th>2</th>\n",
       "      <td>3</td>\n",
       "      <td>c</td>\n",
       "    </tr>\n",
       "  </tbody>\n",
       "</table>\n",
       "</div>"
      ],
      "text/plain": [
       "   Column1 Column2\n",
       "0        1       a\n",
       "1        2       b\n",
       "2        3       c"
      ]
     },
     "execution_count": 4,
     "metadata": {},
     "output_type": "execute_result"
    }
   ],
   "source": [
    "more_column_df = df[['Column1','Column2']]\n",
    "print(type(more_column_df),'\\n')\n",
    "more_column_df"
   ]
  },
  {
   "cell_type": "code",
   "execution_count": 6,
   "id": "699d33e0",
   "metadata": {},
   "outputs": [
    {
     "name": "stdout",
     "output_type": "stream",
     "text": [
      "<class 'pandas.core.series.Series'>\n"
     ]
    },
    {
     "data": {
      "text/plain": [
       "a    1\n",
       "a    3\n",
       "a    4\n",
       "a    5\n",
       "dtype: int64"
      ]
     },
     "execution_count": 6,
     "metadata": {},
     "output_type": "execute_result"
    }
   ],
   "source": [
    "import pandas as pd\n",
    "s = pd.Series([1, 2, 3, 4, 5, 6],\n",
    "index=['a', 'b', 'a', 'a', 'a', 'c'])\n",
    "print(type(s['a']))\n",
    "s['a']"
   ]
  },
  {
   "cell_type": "code",
   "execution_count": 8,
   "id": "2d5461b4",
   "metadata": {},
   "outputs": [
    {
     "name": "stdout",
     "output_type": "stream",
     "text": [
      "<class 'pandas.core.series.Series'>\n"
     ]
    },
    {
     "data": {
      "text/plain": [
       "c    6\n",
       "b    2\n",
       "dtype: int64"
      ]
     },
     "execution_count": 8,
     "metadata": {},
     "output_type": "execute_result"
    }
   ],
   "source": [
    "print(type(s[['c', 'b']]))\n",
    "s[['c', 'b']]"
   ]
  },
  {
   "cell_type": "code",
   "execution_count": 9,
   "id": "a6fdc3a3",
   "metadata": {},
   "outputs": [
    {
     "name": "stdout",
     "output_type": "stream",
     "text": [
      "<class 'pandas.core.series.Series'> \n",
      "\n"
     ]
    },
    {
     "data": {
      "text/plain": [
       "1    a\n",
       "1    c\n",
       "dtype: object"
      ]
     },
     "execution_count": 9,
     "metadata": {},
     "output_type": "execute_result"
    }
   ],
   "source": [
    "s = pd.Series(['a', 'b', 'c', 'd', 'e', 'f'],\n",
    "               index=[1, 3, 1, 2, 5, 4])\n",
    "print(type(s[1]),'\\n')\n",
    "s[1]"
   ]
  },
  {
   "cell_type": "code",
   "execution_count": 4,
   "id": "52edea12",
   "metadata": {},
   "outputs": [
    {
     "name": "stdout",
     "output_type": "stream",
     "text": [
      "            count\n",
      "time             \n",
      "2021-05-11      1\n",
      "2021-05-12      2\n",
      "2021-05-13      3\n"
     ]
    }
   ],
   "source": [
    "import pandas as pd  \n",
    "df_Test = pd.DataFrame(  \n",
    "{'time':['2021-05-11','2021-05-12','2021-05-13'],'count':[1,2,3]},index=[1,2,3])  \n",
    "  \n",
    "N_df_Test = df_Test.set_index(['time'],drop=True)  \n",
    "print(N_df_Test)  "
   ]
  },
  {
   "cell_type": "code",
   "execution_count": null,
   "id": "3d642468",
   "metadata": {},
   "outputs": [],
   "source": [
    "# 参数说明\n",
    "# keys：类似标签或数组的标签或标签/数组的列表  \n",
    "# drop：默认为True删除要用作新索引的列  \n",
    "# append：True追加到现有索引。\n",
    "# inplace：是否在原数据中修改  \n",
    "# verify_integrity：True检测新的索引是否重复。"
   ]
  },
  {
   "cell_type": "code",
   "execution_count": 5,
   "id": "9f92928d",
   "metadata": {},
   "outputs": [
    {
     "name": "stdout",
     "output_type": "stream",
     "text": [
      "            count\n",
      "这是索引哦            \n",
      "2021-05-11      1\n",
      "2021-05-12      2\n",
      "2021-05-13      3\n"
     ]
    }
   ],
   "source": [
    "new_index = N_df_Test.index.rename('这是索引哦')  \n",
    "N_df_Test.index=new_index  \n",
    "print(N_df_Test)"
   ]
  },
  {
   "cell_type": "code",
   "execution_count": 10,
   "id": "16a9ef53",
   "metadata": {},
   "outputs": [
    {
     "name": "stdout",
     "output_type": "stream",
     "text": [
      "         time  count\n",
      "a  2021-05-11      1\n",
      "b  2021-05-12      2\n",
      "c  2021-05-13      3 \n",
      "\n",
      "<bound method DataFrame.reset_index of          time  count\n",
      "a  2021-05-11      1\n",
      "b  2021-05-12      2\n",
      "c  2021-05-13      3> \n",
      "\n",
      "         time  count\n",
      "0  2021-05-11      1\n",
      "1  2021-05-12      2\n",
      "2  2021-05-13      3\n"
     ]
    }
   ],
   "source": [
    "import pandas as pd  \n",
    "df_Test = pd.DataFrame(  \n",
    "{'time':['2021-05-11','2021-05-12','2021-05-13'],'count':[1,2,3]},  \n",
    "index=list('abc'))  \n",
    "print(df_Test,'\\n')  \n",
    "print(df_Test.reset_index,'\\n')\n",
    "print(df_Test.reset_index(drop=True))"
   ]
  },
  {
   "cell_type": "code",
   "execution_count": 12,
   "id": "1051089b",
   "metadata": {},
   "outputs": [
    {
     "name": "stdout",
     "output_type": "stream",
     "text": [
      "         time  count\n",
      "0  2021-05-11      1\n",
      "1  2021-05-12      2\n",
      "2  2021-05-13      3 \n",
      "\n",
      "         time  count\n",
      "1  2021-05-12    2.0\n",
      "2  2021-05-13    3.0\n",
      "3         NaN    NaN\n",
      "4         NaN    NaN\n",
      "5         NaN    NaN \n",
      "\n",
      "  time  count\n",
      "a  NaN    NaN\n",
      "b  NaN    NaN\n",
      "5  NaN    NaN\n"
     ]
    }
   ],
   "source": [
    "import pandas as pd  \n",
    "df_Test_3 = pd.DataFrame(  \n",
    "{'time':['2021-05-11','2021-05-12','2021-05-13'],'count':[1,2,3]},  \n",
    "index = [0,1,2]  \n",
    ")  \n",
    "print(df_Test_3,'\\n')  \n",
    "print(df_Test_3.reindex([1,2,3,4,5]),'\\n')  \n",
    "print(df_Test_3.reindex(['a','b',5]))"
   ]
  },
  {
   "cell_type": "code",
   "execution_count": 13,
   "id": "c819860e",
   "metadata": {},
   "outputs": [
    {
     "name": "stdout",
     "output_type": "stream",
     "text": [
      "         time  count\n",
      "1  2021-05-12      2\n",
      "2  2021-05-13      3\n",
      "3  2021-05-13      3\n",
      "4  2021-05-13      3\n",
      "5  2021-05-13      3\n"
     ]
    }
   ],
   "source": [
    "print(df_Test_3.reindex([1,2,3,4,5],method='nearest'))"
   ]
  },
  {
   "cell_type": "code",
   "execution_count": 14,
   "id": "2a441afb",
   "metadata": {},
   "outputs": [
    {
     "name": "stdout",
     "output_type": "stream",
     "text": [
      "   New_time  New_count\n",
      "0       NaN        NaN\n",
      "1       NaN        NaN\n",
      "2       NaN        NaN\n"
     ]
    }
   ],
   "source": [
    "print(df_Test_3.reindex(columns=['New_time','New_count']))"
   ]
  },
  {
   "cell_type": "code",
   "execution_count": 15,
   "id": "0d18c6a5",
   "metadata": {},
   "outputs": [
    {
     "name": "stdout",
     "output_type": "stream",
     "text": [
      "         time  count\n",
      "0  2021-05-11      1\n",
      "2  2021-05-13      3\n"
     ]
    }
   ],
   "source": [
    "print(df_Test_3.reindex(index = [0,2],columns=['time','count']))"
   ]
  },
  {
   "cell_type": "code",
   "execution_count": null,
   "id": "771047b0",
   "metadata": {},
   "outputs": [],
   "source": []
  },
  {
   "cell_type": "code",
   "execution_count": null,
   "id": "fe385323",
   "metadata": {},
   "outputs": [],
   "source": [
    "# 重命名列索引\n",
    "df.rename(columns={'Column1': 'NewColumn1'}, inplace=True)\n",
    "\n",
    "# 添加新列\n",
    "df['NewColumn'] = [4, 5, 6]\n",
    "\n",
    "# 删除列\n",
    "df.drop(columns='NewColumn', inplace=True)\n",
    "\n",
    "# 查看列的数据类型\n",
    "print(df.dtypes)\n",
    "\n",
    "# 筛选多列\n",
    "selected_columns = df[['NewColumn1', 'Column2']]"
   ]
  }
 ],
 "metadata": {
  "kernelspec": {
   "display_name": "Python 3 (ipykernel)",
   "language": "python",
   "name": "python3"
  },
  "language_info": {
   "codemirror_mode": {
    "name": "ipython",
    "version": 3
   },
   "file_extension": ".py",
   "mimetype": "text/x-python",
   "name": "python",
   "nbconvert_exporter": "python",
   "pygments_lexer": "ipython3",
   "version": "3.9.8"
  }
 },
 "nbformat": 4,
 "nbformat_minor": 5
}
