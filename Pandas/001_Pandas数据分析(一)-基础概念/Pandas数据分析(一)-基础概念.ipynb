{
 "cells": [
  {
   "cell_type": "code",
   "execution_count": 1,
   "id": "c98b8eaf",
   "metadata": {},
   "outputs": [],
   "source": [
    "import pandas as pd"
   ]
  },
  {
   "cell_type": "code",
   "execution_count": 2,
   "id": "0fcad459",
   "metadata": {},
   "outputs": [
    {
     "name": "stdout",
     "output_type": "stream",
     "text": [
      "0    1\n",
      "1    2\n",
      "2    3\n",
      "3    4\n",
      "4    5\n",
      "dtype: int64 \n",
      "\n",
      "       name  year  stage\n",
      "0   Beijing  2000      1\n",
      "1  Shanghai  2001      0\n",
      "2    Xiamen  2002      1\n",
      "3     Wuhan  2001      0\n",
      "4   Chizhou  2002      0\n"
     ]
    }
   ],
   "source": [
    "import pandas as pd\n",
    "test_list = [1,2,3,4,5]\n",
    "t_series = pd.Series(test_list)\n",
    "\n",
    "data = {\n",
    "    'name':['Beijing','Shanghai','Xiamen','Wuhan','Chizhou'],\n",
    "    'year':[2000,2001,2002,2001,2002],\n",
    "    'stage':[1,0,1,0,0]\n",
    "}\n",
    "t_dataframe = pd.DataFrame(data)\n",
    "print(t_series,'\\n')\n",
    "print(t_dataframe)"
   ]
  },
  {
   "cell_type": "code",
   "execution_count": 3,
   "id": "fa989053",
   "metadata": {},
   "outputs": [],
   "source": [
    "import pandas as pd"
   ]
  }
 ],
 "metadata": {
  "kernelspec": {
   "display_name": "Python 3 (ipykernel)",
   "language": "python",
   "name": "python3"
  },
  "language_info": {
   "codemirror_mode": {
    "name": "ipython",
    "version": 3
   },
   "file_extension": ".py",
   "mimetype": "text/x-python",
   "name": "python",
   "nbconvert_exporter": "python",
   "pygments_lexer": "ipython3",
   "version": "3.9.8"
  }
 },
 "nbformat": 4,
 "nbformat_minor": 5
}
