{
 "cells": [
  {
   "cell_type": "code",
   "execution_count": 1,
   "id": "ee3a6998-e3ca-4486-8d57-b34f65deec92",
   "metadata": {},
   "outputs": [],
   "source": [
    "import pandas as pd\n",
    "import numpy as np\n",
    "\n",
    "np.random.seed(0)\n",
    "\n",
    "multi_index = pd.MultiIndex.from_product([list('ABCD'), ['Female','Male']], names=('School', 'Gender'))\n",
    "multi_column = pd.MultiIndex.from_product([['Height', 'Weight'], ['Freshman','Senior','Sophomore','Junior']], names=('Indicator', 'Grade'))\n",
    "df_multi = pd.DataFrame(np.c_[(np.random.randn(8,4)*5 + 163).tolist(), (np.random.randn(8,4)*5 + 65).tolist()],\n",
    "                        index = multi_index, columns = multi_column).round(1)"
   ]
  },
  {
   "cell_type": "code",
   "execution_count": 2,
   "id": "8f17066c-6ec5-4338-b8a5-986aee0fdde9",
   "metadata": {},
   "outputs": [
    {
     "data": {
      "text/plain": [
       "MultiIndex([('A', 'Female'),\n",
       "            ('A',   'Male'),\n",
       "            ('B', 'Female'),\n",
       "            ('B',   'Male'),\n",
       "            ('C', 'Female'),\n",
       "            ('C',   'Male'),\n",
       "            ('D', 'Female'),\n",
       "            ('D',   'Male')],\n",
       "           names=['School', 'Gender'])"
      ]
     },
     "execution_count": 2,
     "metadata": {},
     "output_type": "execute_result"
    }
   ],
   "source": [
    "multi_index"
   ]
  },
  {
   "cell_type": "code",
   "execution_count": 3,
   "id": "3f377990-5742-4a9d-be7e-96b8c835db8a",
   "metadata": {},
   "outputs": [
    {
     "data": {
      "text/plain": [
       "MultiIndex([('Height',  'Freshman'),\n",
       "            ('Height',    'Senior'),\n",
       "            ('Height', 'Sophomore'),\n",
       "            ('Height',    'Junior'),\n",
       "            ('Weight',  'Freshman'),\n",
       "            ('Weight',    'Senior'),\n",
       "            ('Weight', 'Sophomore'),\n",
       "            ('Weight',    'Junior')],\n",
       "           names=['Indicator', 'Grade'])"
      ]
     },
     "execution_count": 3,
     "metadata": {},
     "output_type": "execute_result"
    }
   ],
   "source": [
    "multi_column"
   ]
  },
  {
   "cell_type": "code",
   "execution_count": 4,
   "id": "d77aa2c6-45ed-4d76-8907-1c9862fdfb5b",
   "metadata": {},
   "outputs": [
    {
     "data": {
      "text/html": [
       "<div>\n",
       "<style scoped>\n",
       "    .dataframe tbody tr th:only-of-type {\n",
       "        vertical-align: middle;\n",
       "    }\n",
       "\n",
       "    .dataframe tbody tr th {\n",
       "        vertical-align: top;\n",
       "    }\n",
       "\n",
       "    .dataframe thead tr th {\n",
       "        text-align: left;\n",
       "    }\n",
       "\n",
       "    .dataframe thead tr:last-of-type th {\n",
       "        text-align: right;\n",
       "    }\n",
       "</style>\n",
       "<table border=\"1\" class=\"dataframe\">\n",
       "  <thead>\n",
       "    <tr>\n",
       "      <th></th>\n",
       "      <th>Indicator</th>\n",
       "      <th colspan=\"4\" halign=\"left\">Height</th>\n",
       "      <th colspan=\"4\" halign=\"left\">Weight</th>\n",
       "    </tr>\n",
       "    <tr>\n",
       "      <th></th>\n",
       "      <th>Grade</th>\n",
       "      <th>Freshman</th>\n",
       "      <th>Senior</th>\n",
       "      <th>Sophomore</th>\n",
       "      <th>Junior</th>\n",
       "      <th>Freshman</th>\n",
       "      <th>Senior</th>\n",
       "      <th>Sophomore</th>\n",
       "      <th>Junior</th>\n",
       "    </tr>\n",
       "    <tr>\n",
       "      <th>School</th>\n",
       "      <th>Gender</th>\n",
       "      <th></th>\n",
       "      <th></th>\n",
       "      <th></th>\n",
       "      <th></th>\n",
       "      <th></th>\n",
       "      <th></th>\n",
       "      <th></th>\n",
       "      <th></th>\n",
       "    </tr>\n",
       "  </thead>\n",
       "  <tbody>\n",
       "    <tr>\n",
       "      <th rowspan=\"2\" valign=\"top\">A</th>\n",
       "      <th>Female</th>\n",
       "      <td>171.8</td>\n",
       "      <td>165.0</td>\n",
       "      <td>167.9</td>\n",
       "      <td>174.2</td>\n",
       "      <td>60.6</td>\n",
       "      <td>55.1</td>\n",
       "      <td>63.3</td>\n",
       "      <td>65.8</td>\n",
       "    </tr>\n",
       "    <tr>\n",
       "      <th>Male</th>\n",
       "      <td>172.3</td>\n",
       "      <td>158.1</td>\n",
       "      <td>167.8</td>\n",
       "      <td>162.2</td>\n",
       "      <td>71.2</td>\n",
       "      <td>71.0</td>\n",
       "      <td>63.1</td>\n",
       "      <td>63.5</td>\n",
       "    </tr>\n",
       "    <tr>\n",
       "      <th rowspan=\"2\" valign=\"top\">B</th>\n",
       "      <th>Female</th>\n",
       "      <td>162.5</td>\n",
       "      <td>165.1</td>\n",
       "      <td>163.7</td>\n",
       "      <td>170.3</td>\n",
       "      <td>59.8</td>\n",
       "      <td>57.9</td>\n",
       "      <td>56.5</td>\n",
       "      <td>74.8</td>\n",
       "    </tr>\n",
       "    <tr>\n",
       "      <th>Male</th>\n",
       "      <td>166.8</td>\n",
       "      <td>163.6</td>\n",
       "      <td>165.2</td>\n",
       "      <td>164.7</td>\n",
       "      <td>62.5</td>\n",
       "      <td>62.8</td>\n",
       "      <td>58.7</td>\n",
       "      <td>68.9</td>\n",
       "    </tr>\n",
       "    <tr>\n",
       "      <th rowspan=\"2\" valign=\"top\">C</th>\n",
       "      <th>Female</th>\n",
       "      <td>170.5</td>\n",
       "      <td>162.0</td>\n",
       "      <td>164.6</td>\n",
       "      <td>158.7</td>\n",
       "      <td>56.9</td>\n",
       "      <td>63.9</td>\n",
       "      <td>60.5</td>\n",
       "      <td>66.9</td>\n",
       "    </tr>\n",
       "    <tr>\n",
       "      <th>Male</th>\n",
       "      <td>150.2</td>\n",
       "      <td>166.3</td>\n",
       "      <td>167.3</td>\n",
       "      <td>159.3</td>\n",
       "      <td>62.4</td>\n",
       "      <td>59.1</td>\n",
       "      <td>64.9</td>\n",
       "      <td>67.1</td>\n",
       "    </tr>\n",
       "    <tr>\n",
       "      <th rowspan=\"2\" valign=\"top\">D</th>\n",
       "      <th>Female</th>\n",
       "      <td>174.3</td>\n",
       "      <td>155.7</td>\n",
       "      <td>163.2</td>\n",
       "      <td>162.1</td>\n",
       "      <td>65.3</td>\n",
       "      <td>66.5</td>\n",
       "      <td>61.8</td>\n",
       "      <td>63.2</td>\n",
       "    </tr>\n",
       "    <tr>\n",
       "      <th>Male</th>\n",
       "      <td>170.7</td>\n",
       "      <td>170.3</td>\n",
       "      <td>163.8</td>\n",
       "      <td>164.9</td>\n",
       "      <td>61.6</td>\n",
       "      <td>63.2</td>\n",
       "      <td>60.9</td>\n",
       "      <td>56.4</td>\n",
       "    </tr>\n",
       "  </tbody>\n",
       "</table>\n",
       "</div>"
      ],
      "text/plain": [
       "Indicator       Height                           Weight                   \\\n",
       "Grade         Freshman Senior Sophomore Junior Freshman Senior Sophomore   \n",
       "School Gender                                                              \n",
       "A      Female    171.8  165.0     167.9  174.2     60.6   55.1      63.3   \n",
       "       Male      172.3  158.1     167.8  162.2     71.2   71.0      63.1   \n",
       "B      Female    162.5  165.1     163.7  170.3     59.8   57.9      56.5   \n",
       "       Male      166.8  163.6     165.2  164.7     62.5   62.8      58.7   \n",
       "C      Female    170.5  162.0     164.6  158.7     56.9   63.9      60.5   \n",
       "       Male      150.2  166.3     167.3  159.3     62.4   59.1      64.9   \n",
       "D      Female    174.3  155.7     163.2  162.1     65.3   66.5      61.8   \n",
       "       Male      170.7  170.3     163.8  164.9     61.6   63.2      60.9   \n",
       "\n",
       "Indicator             \n",
       "Grade         Junior  \n",
       "School Gender         \n",
       "A      Female   65.8  \n",
       "       Male     63.5  \n",
       "B      Female   74.8  \n",
       "       Male     68.9  \n",
       "C      Female   66.9  \n",
       "       Male     67.1  \n",
       "D      Female   63.2  \n",
       "       Male     56.4  "
      ]
     },
     "execution_count": 4,
     "metadata": {},
     "output_type": "execute_result"
    }
   ],
   "source": [
    "df_multi"
   ]
  },
  {
   "cell_type": "code",
   "execution_count": 5,
   "id": "a8a00edc-04e2-4524-81d8-bdc55874b6cf",
   "metadata": {},
   "outputs": [
    {
     "data": {
      "text/plain": [
       "array([[1, 3],\n",
       "       [2, 4]])"
      ]
     },
     "execution_count": 5,
     "metadata": {},
     "output_type": "execute_result"
    }
   ],
   "source": [
    "import numpy as np\n",
    "\n",
    "a = np.array([1, 2])\n",
    "b = np.array([3, 4])\n",
    "result = np.c_[a, b]\n",
    "result\n"
   ]
  },
  {
   "cell_type": "code",
   "execution_count": 6,
   "id": "2127c55c-8074-4073-bdb1-c5094eb5ada2",
   "metadata": {},
   "outputs": [
    {
     "data": {
      "text/plain": [
       "MultiIndex([('A', 'Female'),\n",
       "            ('A',   'Male'),\n",
       "            ('B', 'Female'),\n",
       "            ('B',   'Male'),\n",
       "            ('C', 'Female'),\n",
       "            ('C',   'Male'),\n",
       "            ('D', 'Female'),\n",
       "            ('D',   'Male')],\n",
       "           names=['School', 'Gender'])"
      ]
     },
     "execution_count": 6,
     "metadata": {},
     "output_type": "execute_result"
    }
   ],
   "source": [
    "df_multi.index"
   ]
  },
  {
   "cell_type": "code",
   "execution_count": 13,
   "id": "c633413c-3fd8-4c4e-a860-26209b21cfcc",
   "metadata": {},
   "outputs": [
    {
     "data": {
      "text/plain": [
       "FrozenList(['School', 'Gender'])"
      ]
     },
     "execution_count": 13,
     "metadata": {},
     "output_type": "execute_result"
    }
   ],
   "source": [
    "df_multi.index.names"
   ]
  },
  {
   "cell_type": "code",
   "execution_count": 17,
   "id": "b4ce3aa2-6cd4-4616-8c94-c55842c89154",
   "metadata": {},
   "outputs": [
    {
     "data": {
      "text/plain": [
       "'School'"
      ]
     },
     "execution_count": 17,
     "metadata": {},
     "output_type": "execute_result"
    }
   ],
   "source": [
    "df_multi.index.names[0]"
   ]
  },
  {
   "cell_type": "code",
   "execution_count": 18,
   "id": "bda15b0d-5413-4b47-b2a9-951a2c4dc7b0",
   "metadata": {},
   "outputs": [
    {
     "data": {
      "text/plain": [
       "array([('A', 'Female'), ('A', 'Male'), ('B', 'Female'), ('B', 'Male'),\n",
       "       ('C', 'Female'), ('C', 'Male'), ('D', 'Female'), ('D', 'Male')],\n",
       "      dtype=object)"
      ]
     },
     "execution_count": 18,
     "metadata": {},
     "output_type": "execute_result"
    }
   ],
   "source": [
    "df_multi.index.values"
   ]
  },
  {
   "cell_type": "code",
   "execution_count": 19,
   "id": "78f5038f-b7c4-4a7d-8a00-ee6e1399cc34",
   "metadata": {},
   "outputs": [
    {
     "data": {
      "text/plain": [
       "('A', 'Female')"
      ]
     },
     "execution_count": 19,
     "metadata": {},
     "output_type": "execute_result"
    }
   ],
   "source": [
    "df_multi.index.values[0]"
   ]
  },
  {
   "cell_type": "code",
   "execution_count": 20,
   "id": "1279849f-3ee3-4825-b1c8-762f88c3b8c3",
   "metadata": {},
   "outputs": [
    {
     "data": {
      "text/plain": [
       "'A'"
      ]
     },
     "execution_count": 20,
     "metadata": {},
     "output_type": "execute_result"
    }
   ],
   "source": [
    "df_multi.index.values[0][0]"
   ]
  },
  {
   "cell_type": "code",
   "execution_count": 21,
   "id": "969e72fe-fb3a-4646-9e87-266bc28634df",
   "metadata": {},
   "outputs": [
    {
     "data": {
      "text/plain": [
       "FrozenList(['Indicator', 'Grade'])"
      ]
     },
     "execution_count": 21,
     "metadata": {},
     "output_type": "execute_result"
    }
   ],
   "source": [
    "df_multi.columns.names"
   ]
  },
  {
   "cell_type": "code",
   "execution_count": 22,
   "id": "dd06893b-a8f3-4744-947f-5206b1bdd56b",
   "metadata": {},
   "outputs": [
    {
     "data": {
      "text/plain": [
       "array([('Height', 'Freshman'), ('Height', 'Senior'),\n",
       "       ('Height', 'Sophomore'), ('Height', 'Junior'),\n",
       "       ('Weight', 'Freshman'), ('Weight', 'Senior'),\n",
       "       ('Weight', 'Sophomore'), ('Weight', 'Junior')], dtype=object)"
      ]
     },
     "execution_count": 22,
     "metadata": {},
     "output_type": "execute_result"
    }
   ],
   "source": [
    "df_multi.columns.values"
   ]
  },
  {
   "cell_type": "code",
   "execution_count": 23,
   "id": "10e296d6-6ceb-423c-8974-4b5e5a10e4f6",
   "metadata": {},
   "outputs": [
    {
     "data": {
      "text/plain": [
       "Index(['A', 'A', 'B', 'B', 'C', 'C', 'D', 'D'], dtype='object', name='School')"
      ]
     },
     "execution_count": 23,
     "metadata": {},
     "output_type": "execute_result"
    }
   ],
   "source": [
    "df_multi.index.get_level_values(0)"
   ]
  },
  {
   "cell_type": "code",
   "execution_count": 24,
   "id": "cf76e2c7-8d9e-4232-9e7f-762a75702fb4",
   "metadata": {},
   "outputs": [
    {
     "data": {
      "text/plain": [
       "Index(['Female', 'Male', 'Female', 'Male', 'Female', 'Male', 'Female', 'Male'], dtype='object', name='Gender')"
      ]
     },
     "execution_count": 24,
     "metadata": {},
     "output_type": "execute_result"
    }
   ],
   "source": [
    "df_multi.index.get_level_values(1)"
   ]
  },
  {
   "cell_type": "code",
   "execution_count": 26,
   "id": "ac9cbc88-ad0d-4f40-a9b7-76babde100d4",
   "metadata": {},
   "outputs": [],
   "source": [
    "# df_multi.index.get_level_values(2)"
   ]
  },
  {
   "cell_type": "code",
   "execution_count": 27,
   "id": "0007d87a-bda0-4666-89b4-c9d1f6ac9843",
   "metadata": {},
   "outputs": [
    {
     "data": {
      "text/plain": [
       "MultiIndex([('A', 1),\n",
       "            ('A', 2),\n",
       "            ('B', 1)],\n",
       "           )"
      ]
     },
     "execution_count": 27,
     "metadata": {},
     "output_type": "execute_result"
    }
   ],
   "source": [
    "levels0 = ['A', 'A', 'B']\n",
    "levels1 = [1, 2, 1]\n",
    "index = pd.MultiIndex.from_arrays([levels0, levels1])\n",
    "index"
   ]
  },
  {
   "cell_type": "code",
   "execution_count": 34,
   "id": "c66b9e73-fe04-460c-99e5-67d5b2afa14c",
   "metadata": {},
   "outputs": [
    {
     "data": {
      "text/html": [
       "<div>\n",
       "<style scoped>\n",
       "    .dataframe tbody tr th:only-of-type {\n",
       "        vertical-align: middle;\n",
       "    }\n",
       "\n",
       "    .dataframe tbody tr th {\n",
       "        vertical-align: top;\n",
       "    }\n",
       "\n",
       "    .dataframe thead th {\n",
       "        text-align: right;\n",
       "    }\n",
       "</style>\n",
       "<table border=\"1\" class=\"dataframe\">\n",
       "  <thead>\n",
       "    <tr style=\"text-align: right;\">\n",
       "      <th></th>\n",
       "      <th></th>\n",
       "      <th>java</th>\n",
       "      <th>html5</th>\n",
       "      <th>python</th>\n",
       "    </tr>\n",
       "  </thead>\n",
       "  <tbody>\n",
       "    <tr>\n",
       "      <th>a</th>\n",
       "      <th>A</th>\n",
       "      <td>149</td>\n",
       "      <td>110</td>\n",
       "      <td>25</td>\n",
       "    </tr>\n",
       "    <tr>\n",
       "      <th>b</th>\n",
       "      <th>B</th>\n",
       "      <td>121</td>\n",
       "      <td>118</td>\n",
       "      <td>117</td>\n",
       "    </tr>\n",
       "    <tr>\n",
       "      <th>c</th>\n",
       "      <th>C</th>\n",
       "      <td>83</td>\n",
       "      <td>104</td>\n",
       "      <td>121</td>\n",
       "    </tr>\n",
       "    <tr>\n",
       "      <th>d</th>\n",
       "      <th>D</th>\n",
       "      <td>70</td>\n",
       "      <td>31</td>\n",
       "      <td>13</td>\n",
       "    </tr>\n",
       "  </tbody>\n",
       "</table>\n",
       "</div>"
      ],
      "text/plain": [
       "     java  html5  python\n",
       "a A   149    110      25\n",
       "b B   121    118     117\n",
       "c C    83    104     121\n",
       "d D    70     31      13"
      ]
     },
     "execution_count": 34,
     "metadata": {},
     "output_type": "execute_result"
    }
   ],
   "source": [
    "import pandas as pd\n",
    "import numpy as np\n",
    "pd_test1 = pd.DataFrame(\n",
    "        np.random.randint(0,150,size=(4,3)),\n",
    "        columns=['java','html5','python'],\n",
    "        index=pd.MultiIndex.from_arrays\n",
    "        (\n",
    "            [\n",
    "                ['a','b','c','d'],\n",
    "                ['A','B','C','D']\n",
    "            ]\n",
    "        )\n",
    "     \n",
    "    )\n",
    "\n",
    "pd_test1"
   ]
  },
  {
   "cell_type": "code",
   "execution_count": 31,
   "id": "af9c9de4-2aa0-4e4e-a425-2692a55e5bc5",
   "metadata": {},
   "outputs": [
    {
     "data": {
      "text/plain": [
       "FrozenList([None, None])"
      ]
     },
     "execution_count": 31,
     "metadata": {},
     "output_type": "execute_result"
    }
   ],
   "source": [
    "pd_test1.index.names"
   ]
  },
  {
   "cell_type": "code",
   "execution_count": 41,
   "id": "36278721-bf31-4ca8-82ef-f79b7bcd2637",
   "metadata": {},
   "outputs": [
    {
     "ename": "ValueError",
     "evalue": "all arrays must be same length",
     "output_type": "error",
     "traceback": [
      "\u001b[1;31m---------------------------------------------------------------------------\u001b[0m",
      "\u001b[1;31mValueError\u001b[0m                                Traceback (most recent call last)",
      "Cell \u001b[1;32mIn[41], line 8\u001b[0m\n\u001b[0;32m      1\u001b[0m pd_test1 \u001b[38;5;241m=\u001b[39m pd\u001b[38;5;241m.\u001b[39mDataFrame(\n\u001b[0;32m      2\u001b[0m     np\u001b[38;5;241m.\u001b[39mrandom\u001b[38;5;241m.\u001b[39mrandint(\u001b[38;5;241m0\u001b[39m, \u001b[38;5;241m150\u001b[39m, size\u001b[38;5;241m=\u001b[39m(\u001b[38;5;241m4\u001b[39m, \u001b[38;5;241m3\u001b[39m)),\n\u001b[0;32m      3\u001b[0m     columns\u001b[38;5;241m=\u001b[39m[[\u001b[38;5;124m'\u001b[39m\u001b[38;5;124mjava_code\u001b[39m\u001b[38;5;124m'\u001b[39m, \u001b[38;5;124m'\u001b[39m\u001b[38;5;124mhtml5_code\u001b[39m\u001b[38;5;124m'\u001b[39m, \u001b[38;5;124m'\u001b[39m\u001b[38;5;124mpython_code\u001b[39m\u001b[38;5;124m'\u001b[39m]],\n\u001b[0;32m      4\u001b[0m     index\u001b[38;5;241m=\u001b[39mpd\u001b[38;5;241m.\u001b[39mMultiIndex\u001b[38;5;241m.\u001b[39mfrom_arrays(\n\u001b[0;32m      5\u001b[0m         [[\u001b[38;5;124m'\u001b[39m\u001b[38;5;124ma\u001b[39m\u001b[38;5;124m'\u001b[39m, \u001b[38;5;124m'\u001b[39m\u001b[38;5;124mb\u001b[39m\u001b[38;5;124m'\u001b[39m, \u001b[38;5;124m'\u001b[39m\u001b[38;5;124mc\u001b[39m\u001b[38;5;124m'\u001b[39m, \u001b[38;5;124m'\u001b[39m\u001b[38;5;124md\u001b[39m\u001b[38;5;124m'\u001b[39m],\n\u001b[0;32m      6\u001b[0m          [\u001b[38;5;124m'\u001b[39m\u001b[38;5;124mA\u001b[39m\u001b[38;5;124m'\u001b[39m, \u001b[38;5;124m'\u001b[39m\u001b[38;5;124mB\u001b[39m\u001b[38;5;124m'\u001b[39m, \u001b[38;5;124m'\u001b[39m\u001b[38;5;124mC\u001b[39m\u001b[38;5;124m'\u001b[39m, \u001b[38;5;124m'\u001b[39m\u001b[38;5;124mD\u001b[39m\u001b[38;5;124m'\u001b[39m]]\n\u001b[0;32m      7\u001b[0m     ),\n\u001b[1;32m----> 8\u001b[0m     names \u001b[38;5;241m=\u001b[39m \u001b[43mpd\u001b[49m\u001b[38;5;241;43m.\u001b[39;49m\u001b[43mMultiIndex\u001b[49m\u001b[38;5;241;43m.\u001b[39;49m\u001b[43mfrom_arrays\u001b[49m\u001b[43m(\u001b[49m\u001b[43m[\u001b[49m\u001b[43m[\u001b[49m\u001b[38;5;124;43m'\u001b[39;49m\u001b[38;5;124;43mlevel1\u001b[39;49m\u001b[38;5;124;43m'\u001b[39;49m\u001b[43m,\u001b[49m\u001b[43m \u001b[49m\u001b[38;5;124;43m'\u001b[39;49m\u001b[38;5;124;43mlevel2\u001b[39;49m\u001b[38;5;124;43m'\u001b[39;49m\u001b[43m,\u001b[49m\u001b[38;5;124;43m'\u001b[39;49m\u001b[38;5;124;43mlevel3\u001b[39;49m\u001b[38;5;124;43m'\u001b[39;49m\u001b[43m,\u001b[49m\u001b[38;5;124;43m'\u001b[39;49m\u001b[38;5;124;43mlevel4\u001b[39;49m\u001b[38;5;124;43m'\u001b[39;49m\u001b[43m]\u001b[49m\u001b[43m,\u001b[49m\u001b[43m[\u001b[49m\u001b[38;5;124;43m'\u001b[39;49m\u001b[38;5;124;43mqq\u001b[39;49m\u001b[38;5;124;43m'\u001b[39;49m\u001b[43m,\u001b[49m\u001b[38;5;124;43m'\u001b[39;49m\u001b[38;5;124;43m222\u001b[39;49m\u001b[38;5;124;43m'\u001b[39;49m\u001b[43m]\u001b[49m\u001b[43m]\u001b[49m\u001b[43m)\u001b[49m  \u001b[38;5;66;03m# 这里的names将应用于列\u001b[39;00m\n\u001b[0;32m      9\u001b[0m )\n\u001b[0;32m     11\u001b[0m pd_test1\n",
      "File \u001b[1;32mD:\\Python\\python\\Lib\\site-packages\\pandas\\core\\indexes\\multi.py:531\u001b[0m, in \u001b[0;36mMultiIndex.from_arrays\u001b[1;34m(cls, arrays, sortorder, names)\u001b[0m\n\u001b[0;32m    529\u001b[0m \u001b[38;5;28;01mfor\u001b[39;00m i \u001b[38;5;129;01min\u001b[39;00m \u001b[38;5;28mrange\u001b[39m(\u001b[38;5;241m1\u001b[39m, \u001b[38;5;28mlen\u001b[39m(arrays)):\n\u001b[0;32m    530\u001b[0m     \u001b[38;5;28;01mif\u001b[39;00m \u001b[38;5;28mlen\u001b[39m(arrays[i]) \u001b[38;5;241m!=\u001b[39m \u001b[38;5;28mlen\u001b[39m(arrays[i \u001b[38;5;241m-\u001b[39m \u001b[38;5;241m1\u001b[39m]):\n\u001b[1;32m--> 531\u001b[0m         \u001b[38;5;28;01mraise\u001b[39;00m \u001b[38;5;167;01mValueError\u001b[39;00m(\u001b[38;5;124m\"\u001b[39m\u001b[38;5;124mall arrays must be same length\u001b[39m\u001b[38;5;124m\"\u001b[39m)\n\u001b[0;32m    533\u001b[0m codes, levels \u001b[38;5;241m=\u001b[39m factorize_from_iterables(arrays)\n\u001b[0;32m    534\u001b[0m \u001b[38;5;28;01mif\u001b[39;00m names \u001b[38;5;129;01mis\u001b[39;00m lib\u001b[38;5;241m.\u001b[39mno_default:\n",
      "\u001b[1;31mValueError\u001b[0m: all arrays must be same length"
     ]
    }
   ],
   "source": []
  },
  {
   "cell_type": "code",
   "execution_count": 2,
   "id": "6d48c523-3b54-4a4d-ae31-90c6d12d3208",
   "metadata": {},
   "outputs": [
    {
     "ename": "NotImplementedError",
     "evalue": "isna is not defined for MultiIndex",
     "output_type": "error",
     "traceback": [
      "\u001b[1;31m---------------------------------------------------------------------------\u001b[0m",
      "\u001b[1;31mNotImplementedError\u001b[0m                       Traceback (most recent call last)",
      "Cell \u001b[1;32mIn[2], line 21\u001b[0m\n\u001b[0;32m     17\u001b[0m new_index_level \u001b[38;5;241m=\u001b[39m [\u001b[38;5;124m'\u001b[39m\u001b[38;5;124mName1\u001b[39m\u001b[38;5;124m'\u001b[39m, \u001b[38;5;124m'\u001b[39m\u001b[38;5;124mName2\u001b[39m\u001b[38;5;124m'\u001b[39m, \u001b[38;5;124m'\u001b[39m\u001b[38;5;124mName3\u001b[39m\u001b[38;5;124m'\u001b[39m, \u001b[38;5;124m'\u001b[39m\u001b[38;5;124mName4\u001b[39m\u001b[38;5;124m'\u001b[39m]\n\u001b[0;32m     19\u001b[0m \u001b[38;5;66;03m# 使用pd.MultiIndex.from_product来创建一个新的多级索引\u001b[39;00m\n\u001b[0;32m     20\u001b[0m \u001b[38;5;66;03m# 这个新索引由现有的索引和新的name索引级别组成\u001b[39;00m\n\u001b[1;32m---> 21\u001b[0m new_index \u001b[38;5;241m=\u001b[39m \u001b[43mpd\u001b[49m\u001b[38;5;241;43m.\u001b[39;49m\u001b[43mMultiIndex\u001b[49m\u001b[38;5;241;43m.\u001b[39;49m\u001b[43mfrom_product\u001b[49m\u001b[43m(\u001b[49m\n\u001b[0;32m     22\u001b[0m \u001b[43m    \u001b[49m\u001b[43m[\u001b[49m\u001b[43mpd_test1\u001b[49m\u001b[38;5;241;43m.\u001b[39;49m\u001b[43mindex\u001b[49m\u001b[43m,\u001b[49m\u001b[43m \u001b[49m\u001b[43mnew_index_level\u001b[49m\u001b[43m]\u001b[49m\u001b[43m,\u001b[49m\n\u001b[0;32m     23\u001b[0m \u001b[43m    \u001b[49m\u001b[43mnames\u001b[49m\u001b[38;5;241;43m=\u001b[39;49m\u001b[43m[\u001b[49m\u001b[38;5;124;43m'\u001b[39;49m\u001b[38;5;124;43mIndex1\u001b[39;49m\u001b[38;5;124;43m'\u001b[39;49m\u001b[43m,\u001b[49m\u001b[43m \u001b[49m\u001b[38;5;124;43m'\u001b[39;49m\u001b[38;5;124;43mIndex2\u001b[39;49m\u001b[38;5;124;43m'\u001b[39;49m\u001b[43m,\u001b[49m\u001b[43m \u001b[49m\u001b[38;5;124;43m'\u001b[39;49m\u001b[38;5;124;43mName\u001b[39;49m\u001b[38;5;124;43m'\u001b[39;49m\u001b[43m]\u001b[49m\n\u001b[0;32m     24\u001b[0m \u001b[43m)\u001b[49m\n\u001b[0;32m     26\u001b[0m \u001b[38;5;66;03m# 将新的多级索引赋给DataFrame\u001b[39;00m\n\u001b[0;32m     27\u001b[0m pd_test1\u001b[38;5;241m.\u001b[39mindex \u001b[38;5;241m=\u001b[39m new_index\n",
      "File \u001b[1;32mD:\\Python\\lib\\site-packages\\pandas\\core\\indexes\\multi.py:677\u001b[0m, in \u001b[0;36mMultiIndex.from_product\u001b[1;34m(cls, iterables, sortorder, names)\u001b[0m\n\u001b[0;32m    674\u001b[0m \u001b[38;5;28;01mif\u001b[39;00m is_iterator(iterables):\n\u001b[0;32m    675\u001b[0m     iterables \u001b[38;5;241m=\u001b[39m \u001b[38;5;28mlist\u001b[39m(iterables)\n\u001b[1;32m--> 677\u001b[0m codes, levels \u001b[38;5;241m=\u001b[39m \u001b[43mfactorize_from_iterables\u001b[49m\u001b[43m(\u001b[49m\u001b[43miterables\u001b[49m\u001b[43m)\u001b[49m\n\u001b[0;32m    678\u001b[0m \u001b[38;5;28;01mif\u001b[39;00m names \u001b[38;5;129;01mis\u001b[39;00m lib\u001b[38;5;241m.\u001b[39mno_default:\n\u001b[0;32m    679\u001b[0m     names \u001b[38;5;241m=\u001b[39m [\u001b[38;5;28mgetattr\u001b[39m(it, \u001b[38;5;124m\"\u001b[39m\u001b[38;5;124mname\u001b[39m\u001b[38;5;124m\"\u001b[39m, \u001b[38;5;28;01mNone\u001b[39;00m) \u001b[38;5;28;01mfor\u001b[39;00m it \u001b[38;5;129;01min\u001b[39;00m iterables]\n",
      "File \u001b[1;32mD:\\Python\\lib\\site-packages\\pandas\\core\\arrays\\categorical.py:3023\u001b[0m, in \u001b[0;36mfactorize_from_iterables\u001b[1;34m(iterables)\u001b[0m\n\u001b[0;32m   3019\u001b[0m \u001b[38;5;28;01mif\u001b[39;00m \u001b[38;5;28mlen\u001b[39m(iterables) \u001b[38;5;241m==\u001b[39m \u001b[38;5;241m0\u001b[39m:\n\u001b[0;32m   3020\u001b[0m     \u001b[38;5;66;03m# For consistency, it should return two empty lists.\u001b[39;00m\n\u001b[0;32m   3021\u001b[0m     \u001b[38;5;28;01mreturn\u001b[39;00m [], []\n\u001b[1;32m-> 3023\u001b[0m codes, categories \u001b[38;5;241m=\u001b[39m \u001b[38;5;28;43mzip\u001b[39;49m\u001b[43m(\u001b[49m\u001b[38;5;241;43m*\u001b[39;49m\u001b[43m(\u001b[49m\u001b[43mfactorize_from_iterable\u001b[49m\u001b[43m(\u001b[49m\u001b[43mit\u001b[49m\u001b[43m)\u001b[49m\u001b[43m \u001b[49m\u001b[38;5;28;43;01mfor\u001b[39;49;00m\u001b[43m \u001b[49m\u001b[43mit\u001b[49m\u001b[43m \u001b[49m\u001b[38;5;129;43;01min\u001b[39;49;00m\u001b[43m \u001b[49m\u001b[43miterables\u001b[49m\u001b[43m)\u001b[49m\u001b[43m)\u001b[49m\n\u001b[0;32m   3024\u001b[0m \u001b[38;5;28;01mreturn\u001b[39;00m \u001b[38;5;28mlist\u001b[39m(codes), \u001b[38;5;28mlist\u001b[39m(categories)\n",
      "File \u001b[1;32mD:\\Python\\lib\\site-packages\\pandas\\core\\arrays\\categorical.py:3023\u001b[0m, in \u001b[0;36m<genexpr>\u001b[1;34m(.0)\u001b[0m\n\u001b[0;32m   3019\u001b[0m \u001b[38;5;28;01mif\u001b[39;00m \u001b[38;5;28mlen\u001b[39m(iterables) \u001b[38;5;241m==\u001b[39m \u001b[38;5;241m0\u001b[39m:\n\u001b[0;32m   3020\u001b[0m     \u001b[38;5;66;03m# For consistency, it should return two empty lists.\u001b[39;00m\n\u001b[0;32m   3021\u001b[0m     \u001b[38;5;28;01mreturn\u001b[39;00m [], []\n\u001b[1;32m-> 3023\u001b[0m codes, categories \u001b[38;5;241m=\u001b[39m \u001b[38;5;28mzip\u001b[39m(\u001b[38;5;241m*\u001b[39m(\u001b[43mfactorize_from_iterable\u001b[49m\u001b[43m(\u001b[49m\u001b[43mit\u001b[49m\u001b[43m)\u001b[49m \u001b[38;5;28;01mfor\u001b[39;00m it \u001b[38;5;129;01min\u001b[39;00m iterables))\n\u001b[0;32m   3024\u001b[0m \u001b[38;5;28;01mreturn\u001b[39;00m \u001b[38;5;28mlist\u001b[39m(codes), \u001b[38;5;28mlist\u001b[39m(categories)\n",
      "File \u001b[1;32mD:\\Python\\lib\\site-packages\\pandas\\core\\arrays\\categorical.py:2996\u001b[0m, in \u001b[0;36mfactorize_from_iterable\u001b[1;34m(values)\u001b[0m\n\u001b[0;32m   2991\u001b[0m     codes \u001b[38;5;241m=\u001b[39m values\u001b[38;5;241m.\u001b[39mcodes\n\u001b[0;32m   2992\u001b[0m \u001b[38;5;28;01melse\u001b[39;00m:\n\u001b[0;32m   2993\u001b[0m     \u001b[38;5;66;03m# The value of ordered is irrelevant since we don't use cat as such,\u001b[39;00m\n\u001b[0;32m   2994\u001b[0m     \u001b[38;5;66;03m# but only the resulting categories, the order of which is independent\u001b[39;00m\n\u001b[0;32m   2995\u001b[0m     \u001b[38;5;66;03m# from ordered. Set ordered to False as default. See GH #15457\u001b[39;00m\n\u001b[1;32m-> 2996\u001b[0m     cat \u001b[38;5;241m=\u001b[39m \u001b[43mCategorical\u001b[49m\u001b[43m(\u001b[49m\u001b[43mvalues\u001b[49m\u001b[43m,\u001b[49m\u001b[43m \u001b[49m\u001b[43mordered\u001b[49m\u001b[38;5;241;43m=\u001b[39;49m\u001b[38;5;28;43;01mFalse\u001b[39;49;00m\u001b[43m)\u001b[49m\n\u001b[0;32m   2997\u001b[0m     categories \u001b[38;5;241m=\u001b[39m cat\u001b[38;5;241m.\u001b[39mcategories\n\u001b[0;32m   2998\u001b[0m     codes \u001b[38;5;241m=\u001b[39m cat\u001b[38;5;241m.\u001b[39mcodes\n",
      "File \u001b[1;32mD:\\Python\\lib\\site-packages\\pandas\\core\\arrays\\categorical.py:462\u001b[0m, in \u001b[0;36mCategorical.__init__\u001b[1;34m(self, values, categories, ordered, dtype, fastpath, copy)\u001b[0m\n\u001b[0;32m    455\u001b[0m             \u001b[38;5;28;01mraise\u001b[39;00m \u001b[38;5;167;01mTypeError\u001b[39;00m(\n\u001b[0;32m    456\u001b[0m                 \u001b[38;5;124m\"\u001b[39m\u001b[38;5;124m'\u001b[39m\u001b[38;5;124mvalues\u001b[39m\u001b[38;5;124m'\u001b[39m\u001b[38;5;124m is not ordered, please \u001b[39m\u001b[38;5;124m\"\u001b[39m\n\u001b[0;32m    457\u001b[0m                 \u001b[38;5;124m\"\u001b[39m\u001b[38;5;124mexplicitly specify the categories order \u001b[39m\u001b[38;5;124m\"\u001b[39m\n\u001b[0;32m    458\u001b[0m                 \u001b[38;5;124m\"\u001b[39m\u001b[38;5;124mby passing in a categories argument.\u001b[39m\u001b[38;5;124m\"\u001b[39m\n\u001b[0;32m    459\u001b[0m             ) \u001b[38;5;28;01mfrom\u001b[39;00m \u001b[38;5;21;01merr\u001b[39;00m\n\u001b[0;32m    461\u001b[0m     \u001b[38;5;66;03m# we're inferring from values\u001b[39;00m\n\u001b[1;32m--> 462\u001b[0m     dtype \u001b[38;5;241m=\u001b[39m \u001b[43mCategoricalDtype\u001b[49m\u001b[43m(\u001b[49m\u001b[43mcategories\u001b[49m\u001b[43m,\u001b[49m\u001b[43m \u001b[49m\u001b[43mdtype\u001b[49m\u001b[38;5;241;43m.\u001b[39;49m\u001b[43mordered\u001b[49m\u001b[43m)\u001b[49m\n\u001b[0;32m    464\u001b[0m \u001b[38;5;28;01melif\u001b[39;00m \u001b[38;5;28misinstance\u001b[39m(values\u001b[38;5;241m.\u001b[39mdtype, CategoricalDtype):\n\u001b[0;32m    465\u001b[0m     old_codes \u001b[38;5;241m=\u001b[39m extract_array(values)\u001b[38;5;241m.\u001b[39m_codes\n",
      "File \u001b[1;32mD:\\Python\\lib\\site-packages\\pandas\\core\\dtypes\\dtypes.py:211\u001b[0m, in \u001b[0;36mCategoricalDtype.__init__\u001b[1;34m(self, categories, ordered)\u001b[0m\n\u001b[0;32m    210\u001b[0m \u001b[38;5;28;01mdef\u001b[39;00m \u001b[38;5;21m__init__\u001b[39m(\u001b[38;5;28mself\u001b[39m, categories\u001b[38;5;241m=\u001b[39m\u001b[38;5;28;01mNone\u001b[39;00m, ordered: Ordered \u001b[38;5;241m=\u001b[39m \u001b[38;5;28;01mFalse\u001b[39;00m) \u001b[38;5;241m-\u001b[39m\u001b[38;5;241m>\u001b[39m \u001b[38;5;28;01mNone\u001b[39;00m:\n\u001b[1;32m--> 211\u001b[0m     \u001b[38;5;28;43mself\u001b[39;49m\u001b[38;5;241;43m.\u001b[39;49m\u001b[43m_finalize\u001b[49m\u001b[43m(\u001b[49m\u001b[43mcategories\u001b[49m\u001b[43m,\u001b[49m\u001b[43m \u001b[49m\u001b[43mordered\u001b[49m\u001b[43m,\u001b[49m\u001b[43m \u001b[49m\u001b[43mfastpath\u001b[49m\u001b[38;5;241;43m=\u001b[39;49m\u001b[38;5;28;43;01mFalse\u001b[39;49;00m\u001b[43m)\u001b[49m\n",
      "File \u001b[1;32mD:\\Python\\lib\\site-packages\\pandas\\core\\dtypes\\dtypes.py:368\u001b[0m, in \u001b[0;36mCategoricalDtype._finalize\u001b[1;34m(self, categories, ordered, fastpath)\u001b[0m\n\u001b[0;32m    365\u001b[0m     \u001b[38;5;28mself\u001b[39m\u001b[38;5;241m.\u001b[39mvalidate_ordered(ordered)\n\u001b[0;32m    367\u001b[0m \u001b[38;5;28;01mif\u001b[39;00m categories \u001b[38;5;129;01mis\u001b[39;00m \u001b[38;5;129;01mnot\u001b[39;00m \u001b[38;5;28;01mNone\u001b[39;00m:\n\u001b[1;32m--> 368\u001b[0m     categories \u001b[38;5;241m=\u001b[39m \u001b[38;5;28;43mself\u001b[39;49m\u001b[38;5;241;43m.\u001b[39;49m\u001b[43mvalidate_categories\u001b[49m\u001b[43m(\u001b[49m\u001b[43mcategories\u001b[49m\u001b[43m,\u001b[49m\u001b[43m \u001b[49m\u001b[43mfastpath\u001b[49m\u001b[38;5;241;43m=\u001b[39;49m\u001b[43mfastpath\u001b[49m\u001b[43m)\u001b[49m\n\u001b[0;32m    370\u001b[0m \u001b[38;5;28mself\u001b[39m\u001b[38;5;241m.\u001b[39m_categories \u001b[38;5;241m=\u001b[39m categories\n\u001b[0;32m    371\u001b[0m \u001b[38;5;28mself\u001b[39m\u001b[38;5;241m.\u001b[39m_ordered \u001b[38;5;241m=\u001b[39m ordered\n",
      "File \u001b[1;32mD:\\Python\\lib\\site-packages\\pandas\\core\\dtypes\\dtypes.py:566\u001b[0m, in \u001b[0;36mCategoricalDtype.validate_categories\u001b[1;34m(categories, fastpath)\u001b[0m\n\u001b[0;32m    563\u001b[0m     categories \u001b[38;5;241m=\u001b[39m Index\u001b[38;5;241m.\u001b[39m_with_infer(categories, tupleize_cols\u001b[38;5;241m=\u001b[39m\u001b[38;5;28;01mFalse\u001b[39;00m)\n\u001b[0;32m    565\u001b[0m \u001b[38;5;28;01mif\u001b[39;00m \u001b[38;5;129;01mnot\u001b[39;00m fastpath:\n\u001b[1;32m--> 566\u001b[0m     \u001b[38;5;28;01mif\u001b[39;00m \u001b[43mcategories\u001b[49m\u001b[38;5;241;43m.\u001b[39;49m\u001b[43mhasnans\u001b[49m:\n\u001b[0;32m    567\u001b[0m         \u001b[38;5;28;01mraise\u001b[39;00m \u001b[38;5;167;01mValueError\u001b[39;00m(\u001b[38;5;124m\"\u001b[39m\u001b[38;5;124mCategorical categories cannot be null\u001b[39m\u001b[38;5;124m\"\u001b[39m)\n\u001b[0;32m    569\u001b[0m     \u001b[38;5;28;01mif\u001b[39;00m \u001b[38;5;129;01mnot\u001b[39;00m categories\u001b[38;5;241m.\u001b[39mis_unique:\n",
      "File \u001b[1;32mproperties.pyx:36\u001b[0m, in \u001b[0;36mpandas._libs.properties.CachedProperty.__get__\u001b[1;34m()\u001b[0m\n",
      "File \u001b[1;32mD:\\Python\\lib\\site-packages\\pandas\\core\\indexes\\base.py:2819\u001b[0m, in \u001b[0;36mIndex.hasnans\u001b[1;34m(self)\u001b[0m\n\u001b[0;32m   2798\u001b[0m \u001b[38;5;124;03m\"\"\"\u001b[39;00m\n\u001b[0;32m   2799\u001b[0m \u001b[38;5;124;03mReturn True if there are any NaNs.\u001b[39;00m\n\u001b[0;32m   2800\u001b[0m \n\u001b[1;32m   (...)\u001b[0m\n\u001b[0;32m   2816\u001b[0m \u001b[38;5;124;03mTrue\u001b[39;00m\n\u001b[0;32m   2817\u001b[0m \u001b[38;5;124;03m\"\"\"\u001b[39;00m\n\u001b[0;32m   2818\u001b[0m \u001b[38;5;28;01mif\u001b[39;00m \u001b[38;5;28mself\u001b[39m\u001b[38;5;241m.\u001b[39m_can_hold_na:\n\u001b[1;32m-> 2819\u001b[0m     \u001b[38;5;28;01mreturn\u001b[39;00m \u001b[38;5;28mbool\u001b[39m(\u001b[38;5;28;43mself\u001b[39;49m\u001b[38;5;241;43m.\u001b[39;49m\u001b[43m_isnan\u001b[49m\u001b[38;5;241m.\u001b[39many())\n\u001b[0;32m   2820\u001b[0m \u001b[38;5;28;01melse\u001b[39;00m:\n\u001b[0;32m   2821\u001b[0m     \u001b[38;5;28;01mreturn\u001b[39;00m \u001b[38;5;28;01mFalse\u001b[39;00m\n",
      "File \u001b[1;32mproperties.pyx:36\u001b[0m, in \u001b[0;36mpandas._libs.properties.CachedProperty.__get__\u001b[1;34m()\u001b[0m\n",
      "File \u001b[1;32mD:\\Python\\lib\\site-packages\\pandas\\core\\indexes\\base.py:2789\u001b[0m, in \u001b[0;36mIndex._isnan\u001b[1;34m(self)\u001b[0m\n\u001b[0;32m   2785\u001b[0m \u001b[38;5;124;03m\"\"\"\u001b[39;00m\n\u001b[0;32m   2786\u001b[0m \u001b[38;5;124;03mReturn if each value is NaN.\u001b[39;00m\n\u001b[0;32m   2787\u001b[0m \u001b[38;5;124;03m\"\"\"\u001b[39;00m\n\u001b[0;32m   2788\u001b[0m \u001b[38;5;28;01mif\u001b[39;00m \u001b[38;5;28mself\u001b[39m\u001b[38;5;241m.\u001b[39m_can_hold_na:\n\u001b[1;32m-> 2789\u001b[0m     \u001b[38;5;28;01mreturn\u001b[39;00m \u001b[43misna\u001b[49m\u001b[43m(\u001b[49m\u001b[38;5;28;43mself\u001b[39;49m\u001b[43m)\u001b[49m\n\u001b[0;32m   2790\u001b[0m \u001b[38;5;28;01melse\u001b[39;00m:\n\u001b[0;32m   2791\u001b[0m     \u001b[38;5;66;03m# shouldn't reach to this condition by checking hasnans beforehand\u001b[39;00m\n\u001b[0;32m   2792\u001b[0m     values \u001b[38;5;241m=\u001b[39m np\u001b[38;5;241m.\u001b[39mempty(\u001b[38;5;28mlen\u001b[39m(\u001b[38;5;28mself\u001b[39m), dtype\u001b[38;5;241m=\u001b[39mnp\u001b[38;5;241m.\u001b[39mbool_)\n",
      "File \u001b[1;32mD:\\Python\\lib\\site-packages\\pandas\\core\\dtypes\\missing.py:178\u001b[0m, in \u001b[0;36misna\u001b[1;34m(obj)\u001b[0m\n\u001b[0;32m    101\u001b[0m \u001b[38;5;28;01mdef\u001b[39;00m \u001b[38;5;21misna\u001b[39m(obj: \u001b[38;5;28mobject\u001b[39m) \u001b[38;5;241m-\u001b[39m\u001b[38;5;241m>\u001b[39m \u001b[38;5;28mbool\u001b[39m \u001b[38;5;241m|\u001b[39m npt\u001b[38;5;241m.\u001b[39mNDArray[np\u001b[38;5;241m.\u001b[39mbool_] \u001b[38;5;241m|\u001b[39m NDFrame:\n\u001b[0;32m    102\u001b[0m     \u001b[38;5;124;03m\"\"\"\u001b[39;00m\n\u001b[0;32m    103\u001b[0m \u001b[38;5;124;03m    Detect missing values for an array-like object.\u001b[39;00m\n\u001b[0;32m    104\u001b[0m \n\u001b[1;32m   (...)\u001b[0m\n\u001b[0;32m    176\u001b[0m \u001b[38;5;124;03m    Name: 1, dtype: bool\u001b[39;00m\n\u001b[0;32m    177\u001b[0m \u001b[38;5;124;03m    \"\"\"\u001b[39;00m\n\u001b[1;32m--> 178\u001b[0m     \u001b[38;5;28;01mreturn\u001b[39;00m \u001b[43m_isna\u001b[49m\u001b[43m(\u001b[49m\u001b[43mobj\u001b[49m\u001b[43m)\u001b[49m\n",
      "File \u001b[1;32mD:\\Python\\lib\\site-packages\\pandas\\core\\dtypes\\missing.py:203\u001b[0m, in \u001b[0;36m_isna\u001b[1;34m(obj, inf_as_na)\u001b[0m\n\u001b[0;32m    201\u001b[0m     \u001b[38;5;28;01mreturn\u001b[39;00m libmissing\u001b[38;5;241m.\u001b[39mchecknull(obj, inf_as_na\u001b[38;5;241m=\u001b[39minf_as_na)\n\u001b[0;32m    202\u001b[0m \u001b[38;5;28;01melif\u001b[39;00m \u001b[38;5;28misinstance\u001b[39m(obj, ABCMultiIndex):\n\u001b[1;32m--> 203\u001b[0m     \u001b[38;5;28;01mraise\u001b[39;00m \u001b[38;5;167;01mNotImplementedError\u001b[39;00m(\u001b[38;5;124m\"\u001b[39m\u001b[38;5;124misna is not defined for MultiIndex\u001b[39m\u001b[38;5;124m\"\u001b[39m)\n\u001b[0;32m    204\u001b[0m \u001b[38;5;28;01melif\u001b[39;00m \u001b[38;5;28misinstance\u001b[39m(obj, \u001b[38;5;28mtype\u001b[39m):\n\u001b[0;32m    205\u001b[0m     \u001b[38;5;28;01mreturn\u001b[39;00m \u001b[38;5;28;01mFalse\u001b[39;00m\n",
      "\u001b[1;31mNotImplementedError\u001b[0m: isna is not defined for MultiIndex"
     ]
    }
   ],
   "source": [
    "import pandas as pd\n",
    "import numpy as np\n",
    "\n",
    "# 假设这是您之前创建的DataFrame\n",
    "pd_test1 = pd.DataFrame(\n",
    "    np.random.randint(0, 150, size=(4, 3)),\n",
    "    columns=['java', 'html5', 'python'],\n",
    "    index=pd.MultiIndex.from_arrays(\n",
    "        [\n",
    "            ['a', 'b', 'c', 'd'],\n",
    "            ['A', 'B', 'C', 'D']\n",
    "        ]\n",
    "    )\n",
    ")\n",
    "\n",
    "# 添加一个新的索引级别，这里我们使用一个简单的列表作为示例\n",
    "new_index_level = ['Name1', 'Name2', 'Name3', 'Name4']\n",
    "\n",
    "# 使用pd.MultiIndex.from_product来创建一个新的多级索引\n",
    "# 这个新索引由现有的索引和新的name索引级别组成\n",
    "new_index = pd.MultiIndex.from_product(\n",
    "    [pd_test1.index, new_index_level],\n",
    "    names=['Index1', 'Index2', 'Name']\n",
    ")\n",
    "\n",
    "# 将新的多级索引赋给DataFrame\n",
    "pd_test1.index = new_index\n",
    "\n",
    "# 打印结果查看\n",
    "pd_test1\n"
   ]
  },
  {
   "cell_type": "code",
   "execution_count": null,
   "id": "8eac2029",
   "metadata": {},
   "outputs": [],
   "source": []
  }
 ],
 "metadata": {
  "kernelspec": {
   "display_name": "Python 3 (ipykernel)",
   "language": "python",
   "name": "python3"
  },
  "language_info": {
   "codemirror_mode": {
    "name": "ipython",
    "version": 3
   },
   "file_extension": ".py",
   "mimetype": "text/x-python",
   "name": "python",
   "nbconvert_exporter": "python",
   "pygments_lexer": "ipython3",
   "version": "3.9.8"
  }
 },
 "nbformat": 4,
 "nbformat_minor": 5
}
