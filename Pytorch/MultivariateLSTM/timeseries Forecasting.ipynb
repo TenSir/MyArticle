{
 "cells": [
  {
   "cell_type": "code",
   "execution_count": 1,
   "id": "27e86681",
   "metadata": {},
   "outputs": [],
   "source": [
    "import numpy as np\n",
    "from tensorflow.keras.models import Sequential\n",
    "from tensorflow.keras.layers import LSTM\n",
    "from tensorflow.keras.layers import Dense, Dropout\n",
    "import pandas as pd\n",
    "from matplotlib import pyplot as plt\n",
    "from sklearn.preprocessing import MinMaxScaler\n",
    "import seaborn as sns"
   ]
  },
  {
   "cell_type": "code",
   "execution_count": 2,
   "id": "59a416cd",
   "metadata": {},
   "outputs": [],
   "source": [
    "df=pd.read_csv(\"train.csv\",parse_dates=[\"Date\"],index_col=[0])"
   ]
  },
  {
   "cell_type": "code",
   "execution_count": 3,
   "id": "ab54faea",
   "metadata": {},
   "outputs": [
    {
     "name": "stdout",
     "output_type": "stream",
     "text": [
      "None\n"
     ]
    }
   ],
   "source": [
    "print(df.index.freq)"
   ]
  },
  {
   "cell_type": "code",
   "execution_count": 4,
   "id": "9d69a828",
   "metadata": {},
   "outputs": [
    {
     "data": {
      "text/plain": [
       "(5203, 5)"
      ]
     },
     "execution_count": 4,
     "metadata": {},
     "output_type": "execute_result"
    }
   ],
   "source": [
    "df.shape"
   ]
  },
  {
   "cell_type": "code",
   "execution_count": 5,
   "id": "1fe6f18e",
   "metadata": {},
   "outputs": [
    {
     "data": {
      "text/html": [
       "<div>\n",
       "<style scoped>\n",
       "    .dataframe tbody tr th:only-of-type {\n",
       "        vertical-align: middle;\n",
       "    }\n",
       "\n",
       "    .dataframe tbody tr th {\n",
       "        vertical-align: top;\n",
       "    }\n",
       "\n",
       "    .dataframe thead th {\n",
       "        text-align: right;\n",
       "    }\n",
       "</style>\n",
       "<table border=\"1\" class=\"dataframe\">\n",
       "  <thead>\n",
       "    <tr style=\"text-align: right;\">\n",
       "      <th></th>\n",
       "      <th>Open</th>\n",
       "      <th>High</th>\n",
       "      <th>Low</th>\n",
       "      <th>Close</th>\n",
       "      <th>Adj Close</th>\n",
       "    </tr>\n",
       "    <tr>\n",
       "      <th>Date</th>\n",
       "      <th></th>\n",
       "      <th></th>\n",
       "      <th></th>\n",
       "      <th></th>\n",
       "      <th></th>\n",
       "    </tr>\n",
       "  </thead>\n",
       "  <tbody>\n",
       "    <tr>\n",
       "      <th>2001-01-25</th>\n",
       "      <td>356.730774</td>\n",
       "      <td>362.980774</td>\n",
       "      <td>352.403839</td>\n",
       "      <td>353.365387</td>\n",
       "      <td>197.122452</td>\n",
       "    </tr>\n",
       "    <tr>\n",
       "      <th>2001-01-26</th>\n",
       "      <td>357.211548</td>\n",
       "      <td>360.096161</td>\n",
       "      <td>342.788452</td>\n",
       "      <td>343.269226</td>\n",
       "      <td>191.490234</td>\n",
       "    </tr>\n",
       "    <tr>\n",
       "      <th>2001-01-29</th>\n",
       "      <td>345.153839</td>\n",
       "      <td>355.769226</td>\n",
       "      <td>338.461548</td>\n",
       "      <td>341.384613</td>\n",
       "      <td>190.439011</td>\n",
       "    </tr>\n",
       "    <tr>\n",
       "      <th>2001-01-30</th>\n",
       "      <td>344.307678</td>\n",
       "      <td>355.923065</td>\n",
       "      <td>341.692322</td>\n",
       "      <td>355.769226</td>\n",
       "      <td>198.463318</td>\n",
       "    </tr>\n",
       "    <tr>\n",
       "      <th>2001-01-31</th>\n",
       "      <td>359.615387</td>\n",
       "      <td>361.153839</td>\n",
       "      <td>350.461548</td>\n",
       "      <td>353.692322</td>\n",
       "      <td>197.304749</td>\n",
       "    </tr>\n",
       "  </tbody>\n",
       "</table>\n",
       "</div>"
      ],
      "text/plain": [
       "                  Open        High         Low       Close   Adj Close\n",
       "Date                                                                  \n",
       "2001-01-25  356.730774  362.980774  352.403839  353.365387  197.122452\n",
       "2001-01-26  357.211548  360.096161  342.788452  343.269226  191.490234\n",
       "2001-01-29  345.153839  355.769226  338.461548  341.384613  190.439011\n",
       "2001-01-30  344.307678  355.923065  341.692322  355.769226  198.463318\n",
       "2001-01-31  359.615387  361.153839  350.461548  353.692322  197.304749"
      ]
     },
     "execution_count": 5,
     "metadata": {},
     "output_type": "execute_result"
    }
   ],
   "source": [
    "df.head()"
   ]
  },
  {
   "cell_type": "code",
   "execution_count": 6,
   "id": "750dae9a",
   "metadata": {},
   "outputs": [
    {
     "data": {
      "text/html": [
       "<div>\n",
       "<style scoped>\n",
       "    .dataframe tbody tr th:only-of-type {\n",
       "        vertical-align: middle;\n",
       "    }\n",
       "\n",
       "    .dataframe tbody tr th {\n",
       "        vertical-align: top;\n",
       "    }\n",
       "\n",
       "    .dataframe thead th {\n",
       "        text-align: right;\n",
       "    }\n",
       "</style>\n",
       "<table border=\"1\" class=\"dataframe\">\n",
       "  <thead>\n",
       "    <tr style=\"text-align: right;\">\n",
       "      <th></th>\n",
       "      <th>Open</th>\n",
       "      <th>High</th>\n",
       "      <th>Low</th>\n",
       "      <th>Close</th>\n",
       "      <th>Adj Close</th>\n",
       "    </tr>\n",
       "    <tr>\n",
       "      <th>Date</th>\n",
       "      <th></th>\n",
       "      <th></th>\n",
       "      <th></th>\n",
       "      <th></th>\n",
       "      <th></th>\n",
       "    </tr>\n",
       "  </thead>\n",
       "  <tbody>\n",
       "    <tr>\n",
       "      <th>2021-09-22</th>\n",
       "      <td>97.669998</td>\n",
       "      <td>99.029999</td>\n",
       "      <td>97.660004</td>\n",
       "      <td>98.540001</td>\n",
       "      <td>98.377296</td>\n",
       "    </tr>\n",
       "    <tr>\n",
       "      <th>2021-09-23</th>\n",
       "      <td>99.529999</td>\n",
       "      <td>104.080002</td>\n",
       "      <td>99.519997</td>\n",
       "      <td>102.959999</td>\n",
       "      <td>102.789993</td>\n",
       "    </tr>\n",
       "    <tr>\n",
       "      <th>2021-09-24</th>\n",
       "      <td>102.660004</td>\n",
       "      <td>104.199997</td>\n",
       "      <td>102.599998</td>\n",
       "      <td>103.800003</td>\n",
       "      <td>103.709198</td>\n",
       "    </tr>\n",
       "    <tr>\n",
       "      <th>2021-09-27</th>\n",
       "      <td>104.550003</td>\n",
       "      <td>106.330002</td>\n",
       "      <td>104.389999</td>\n",
       "      <td>105.349998</td>\n",
       "      <td>105.257835</td>\n",
       "    </tr>\n",
       "    <tr>\n",
       "      <th>2021-09-28</th>\n",
       "      <td>105.290001</td>\n",
       "      <td>106.750000</td>\n",
       "      <td>104.730003</td>\n",
       "      <td>105.730003</td>\n",
       "      <td>105.637512</td>\n",
       "    </tr>\n",
       "    <tr>\n",
       "      <th>2021-09-29</th>\n",
       "      <td>106.000000</td>\n",
       "      <td>107.000000</td>\n",
       "      <td>105.309998</td>\n",
       "      <td>106.279999</td>\n",
       "      <td>106.187027</td>\n",
       "    </tr>\n",
       "  </tbody>\n",
       "</table>\n",
       "</div>"
      ],
      "text/plain": [
       "                  Open        High         Low       Close   Adj Close\n",
       "Date                                                                  \n",
       "2021-09-22   97.669998   99.029999   97.660004   98.540001   98.377296\n",
       "2021-09-23   99.529999  104.080002   99.519997  102.959999  102.789993\n",
       "2021-09-24  102.660004  104.199997  102.599998  103.800003  103.709198\n",
       "2021-09-27  104.550003  106.330002  104.389999  105.349998  105.257835\n",
       "2021-09-28  105.290001  106.750000  104.730003  105.730003  105.637512\n",
       "2021-09-29  106.000000  107.000000  105.309998  106.279999  106.187027"
      ]
     },
     "execution_count": 6,
     "metadata": {},
     "output_type": "execute_result"
    }
   ],
   "source": [
    "df.tail(6)"
   ]
  },
  {
   "cell_type": "code",
   "execution_count": 7,
   "id": "9f685196",
   "metadata": {},
   "outputs": [],
   "source": [
    "test_split=round(len(df)*0.20)"
   ]
  },
  {
   "cell_type": "code",
   "execution_count": 8,
   "id": "c435d2e4",
   "metadata": {},
   "outputs": [
    {
     "data": {
      "text/plain": [
       "1041"
      ]
     },
     "execution_count": 8,
     "metadata": {},
     "output_type": "execute_result"
    }
   ],
   "source": [
    "test_split"
   ]
  },
  {
   "cell_type": "code",
   "execution_count": 9,
   "id": "6815e6cf",
   "metadata": {},
   "outputs": [],
   "source": [
    "df_for_training=df[:-1041]\n",
    "df_for_testing=df[-1041:]"
   ]
  },
  {
   "cell_type": "code",
   "execution_count": 10,
   "id": "164f3e06",
   "metadata": {},
   "outputs": [
    {
     "name": "stdout",
     "output_type": "stream",
     "text": [
      "(4162, 5)\n",
      "(1041, 5)\n"
     ]
    }
   ],
   "source": [
    "print(df_for_training.shape)\n",
    "print(df_for_testing.shape)"
   ]
  },
  {
   "cell_type": "code",
   "execution_count": 11,
   "id": "4a86012c",
   "metadata": {},
   "outputs": [],
   "source": [
    "scaler = MinMaxScaler(feature_range=(0,1))\n",
    "df_for_training_scaled = scaler.fit_transform(df_for_training)"
   ]
  },
  {
   "cell_type": "code",
   "execution_count": 12,
   "id": "5697bff5",
   "metadata": {},
   "outputs": [],
   "source": [
    "df_for_testing_scaled=scaler.transform(df_for_testing)"
   ]
  },
  {
   "cell_type": "code",
   "execution_count": 13,
   "id": "d33a6b6e",
   "metadata": {},
   "outputs": [
    {
     "data": {
      "text/plain": [
       "array([[0.85398707, 0.86281807, 0.85292546, 0.8403402 , 0.82180889],\n",
       "       [0.85533406, 0.85473269, 0.82623316, 0.8122593 , 0.79289309],\n",
       "       [0.82155169, 0.84260459, 0.81422168, 0.80701755, 0.78749611],\n",
       "       ...,\n",
       "       [0.40689652, 0.40362224, 0.41960282, 0.40436458, 0.7632948 ],\n",
       "       [0.40517242, 0.39995691, 0.41832161, 0.4075738 , 0.76889077],\n",
       "       [0.40862067, 0.39974127, 0.41426436, 0.39880189, 0.75359571]])"
      ]
     },
     "execution_count": 13,
     "metadata": {},
     "output_type": "execute_result"
    }
   ],
   "source": [
    "df_for_training_scaled"
   ]
  },
  {
   "cell_type": "code",
   "execution_count": 14,
   "id": "03b668b1",
   "metadata": {},
   "outputs": [
    {
     "data": {
      "text/plain": [
       "(4162, 5)"
      ]
     },
     "execution_count": 14,
     "metadata": {},
     "output_type": "execute_result"
    }
   ],
   "source": [
    "df_for_training_scaled.shape"
   ]
  },
  {
   "cell_type": "code",
   "execution_count": 15,
   "id": "88390259",
   "metadata": {},
   "outputs": [
    {
     "data": {
      "text/plain": [
       "(1041, 5)"
      ]
     },
     "execution_count": 15,
     "metadata": {},
     "output_type": "execute_result"
    }
   ],
   "source": [
    "df_for_testing_scaled.shape"
   ]
  },
  {
   "cell_type": "code",
   "execution_count": 16,
   "id": "b6a58026",
   "metadata": {},
   "outputs": [],
   "source": [
    "def createXY(dataset,n_past):\n",
    "    dataX = []\n",
    "    dataY = []\n",
    "    for i in range(n_past, len(dataset)):\n",
    "            dataX.append(dataset[i - n_past:i, 0:dataset.shape[1]])\n",
    "            dataY.append(dataset[i,0])\n",
    "    return np.array(dataX),np.array(dataY)        "
   ]
  },
  {
   "cell_type": "code",
   "execution_count": 17,
   "id": "18b62d65",
   "metadata": {},
   "outputs": [],
   "source": [
    "trainX,trainY=createXY(df_for_training_scaled,30)"
   ]
  },
  {
   "cell_type": "code",
   "execution_count": 18,
   "id": "8d694c12",
   "metadata": {},
   "outputs": [
    {
     "data": {
      "text/plain": [
       "(4132, 30, 5)"
      ]
     },
     "execution_count": 18,
     "metadata": {},
     "output_type": "execute_result"
    }
   ],
   "source": [
    "trainX.shape"
   ]
  },
  {
   "cell_type": "code",
   "execution_count": null,
   "id": "2795bf2a",
   "metadata": {},
   "outputs": [],
   "source": []
  },
  {
   "cell_type": "code",
   "execution_count": 19,
   "id": "184bfdb6",
   "metadata": {},
   "outputs": [],
   "source": [
    "testX,testY=createXY(df_for_testing_scaled,30)"
   ]
  },
  {
   "cell_type": "code",
   "execution_count": 20,
   "id": "5e77d396",
   "metadata": {},
   "outputs": [
    {
     "data": {
      "text/plain": [
       "array([[0.85398707, 0.86281807, 0.85292546, 0.8403402 , 0.82180889],\n",
       "       [0.85533406, 0.85473269, 0.82623316, 0.8122593 , 0.79289309],\n",
       "       [0.82155169, 0.84260459, 0.81422168, 0.80701755, 0.78749611],\n",
       "       [0.81918098, 0.84303579, 0.82319031, 0.8470261 , 0.8286929 ],\n",
       "       [0.86206895, 0.85769729, 0.84753366, 0.84124952, 0.8227448 ],\n",
       "       [0.85668106, 0.85295391, 0.85479397, 0.84659822, 0.82825271],\n",
       "       [0.85129307, 0.85661925, 0.85372629, 0.84766796, 0.82935384],\n",
       "       [0.8540948 , 0.88249248, 0.85799703, 0.88125807, 0.86394198],\n",
       "       [0.88577588, 0.88227684, 0.88255396, 0.87590928, 0.85843431],\n",
       "       [0.88189657, 0.87602422, 0.87016871, 0.86200256, 0.84411479],\n",
       "       [0.88362063, 0.88357053, 0.87892376, 0.86606763, 0.84829995],\n",
       "       [0.87047413, 0.86200956, 0.84390347, 0.8344031 , 0.81569511],\n",
       "       [0.83857758, 0.87645542, 0.84966903, 0.87398378, 0.85645156],\n",
       "       [0.88168102, 0.88012075, 0.88105913, 0.86649551, 0.84874037],\n",
       "       [0.87090514, 0.86287196, 0.85949177, 0.84724008, 0.82891342],\n",
       "       [0.85237065, 0.88249248, 0.8601324 , 0.88403941, 0.86680588],\n",
       "       [0.85668106, 0.86589053, 0.86248134, 0.8630723 , 0.84521599],\n",
       "       [0.87176726, 0.8870203 , 0.88191333, 0.87783486, 0.86041721],\n",
       "       [0.88254305, 0.89003888, 0.88298101, 0.86949083, 0.85182511],\n",
       "       [0.875     , 0.86955587, 0.85821051, 0.86521178, 0.84741896],\n",
       "       [0.85775864, 0.85877534, 0.83600253, 0.84552848, 0.82715127],\n",
       "       [0.86745685, 0.88055195, 0.86120008, 0.88403941, 0.86680588],\n",
       "       [0.87780172, 0.88033639, 0.87828313, 0.88446729, 0.86724607],\n",
       "       [0.88900862, 0.88551106, 0.84838778, 0.85237489, 0.83420073],\n",
       "       [0.83512929, 0.83872361, 0.83365367, 0.83975181, 0.82120263],\n",
       "       [0.83189656, 0.82988361, 0.82532568, 0.81108261, 0.79168158],\n",
       "       [0.81896551, 0.82341526, 0.82703399, 0.82199401, 0.80649534],\n",
       "       [0.85129307, 0.85015098, 0.84240872, 0.8292683 , 0.81401255],\n",
       "       [0.83448273, 0.84282023, 0.84561178, 0.84124952, 0.82639405],\n",
       "       [0.84913791, 0.84497632, 0.83557547, 0.83889605, 0.82396218]])"
      ]
     },
     "execution_count": 20,
     "metadata": {},
     "output_type": "execute_result"
    }
   ],
   "source": [
    "trainX[0]"
   ]
  },
  {
   "cell_type": "code",
   "execution_count": 21,
   "id": "bdaf6a49",
   "metadata": {},
   "outputs": [
    {
     "name": "stdout",
     "output_type": "stream",
     "text": [
      "trainX Shape--  (4132, 30, 5)\n",
      "trainY Shape--  (4132,)\n"
     ]
    }
   ],
   "source": [
    "print(\"trainX Shape-- \",trainX.shape)\n",
    "print(\"trainY Shape-- \",trainY.shape)"
   ]
  },
  {
   "cell_type": "code",
   "execution_count": 22,
   "id": "0c78e7db",
   "metadata": {},
   "outputs": [
    {
     "name": "stdout",
     "output_type": "stream",
     "text": [
      "testX Shape--  (1011, 30, 5)\n",
      "testY Shape--  (1011,)\n"
     ]
    }
   ],
   "source": [
    "print(\"testX Shape-- \",testX.shape)\n",
    "print(\"testY Shape-- \",testY.shape)"
   ]
  },
  {
   "cell_type": "code",
   "execution_count": 23,
   "id": "cbf9d2df",
   "metadata": {},
   "outputs": [
    {
     "name": "stdout",
     "output_type": "stream",
     "text": [
      "trainX[0]-- \n",
      " [[0.85398707 0.86281807 0.85292546 0.8403402  0.82180889]\n",
      " [0.85533406 0.85473269 0.82623316 0.8122593  0.79289309]\n",
      " [0.82155169 0.84260459 0.81422168 0.80701755 0.78749611]\n",
      " [0.81918098 0.84303579 0.82319031 0.8470261  0.8286929 ]\n",
      " [0.86206895 0.85769729 0.84753366 0.84124952 0.8227448 ]\n",
      " [0.85668106 0.85295391 0.85479397 0.84659822 0.82825271]\n",
      " [0.85129307 0.85661925 0.85372629 0.84766796 0.82935384]\n",
      " [0.8540948  0.88249248 0.85799703 0.88125807 0.86394198]\n",
      " [0.88577588 0.88227684 0.88255396 0.87590928 0.85843431]\n",
      " [0.88189657 0.87602422 0.87016871 0.86200256 0.84411479]\n",
      " [0.88362063 0.88357053 0.87892376 0.86606763 0.84829995]\n",
      " [0.87047413 0.86200956 0.84390347 0.8344031  0.81569511]\n",
      " [0.83857758 0.87645542 0.84966903 0.87398378 0.85645156]\n",
      " [0.88168102 0.88012075 0.88105913 0.86649551 0.84874037]\n",
      " [0.87090514 0.86287196 0.85949177 0.84724008 0.82891342]\n",
      " [0.85237065 0.88249248 0.8601324  0.88403941 0.86680588]\n",
      " [0.85668106 0.86589053 0.86248134 0.8630723  0.84521599]\n",
      " [0.87176726 0.8870203  0.88191333 0.87783486 0.86041721]\n",
      " [0.88254305 0.89003888 0.88298101 0.86949083 0.85182511]\n",
      " [0.875      0.86955587 0.85821051 0.86521178 0.84741896]\n",
      " [0.85775864 0.85877534 0.83600253 0.84552848 0.82715127]\n",
      " [0.86745685 0.88055195 0.86120008 0.88403941 0.86680588]\n",
      " [0.87780172 0.88033639 0.87828313 0.88446729 0.86724607]\n",
      " [0.88900862 0.88551106 0.84838778 0.85237489 0.83420073]\n",
      " [0.83512929 0.83872361 0.83365367 0.83975181 0.82120263]\n",
      " [0.83189656 0.82988361 0.82532568 0.81108261 0.79168158]\n",
      " [0.81896551 0.82341526 0.82703399 0.82199401 0.80649534]\n",
      " [0.85129307 0.85015098 0.84240872 0.8292683  0.81401255]\n",
      " [0.83448273 0.84282023 0.84561178 0.84124952 0.82639405]\n",
      " [0.84913791 0.84497632 0.83557547 0.83889605 0.82396218]]\n",
      "\n",
      "trainY[0]--  0.8297413960482309\n"
     ]
    }
   ],
   "source": [
    "print(\"trainX[0]-- \\n\",trainX[0])\n",
    "print(\"\\ntrainY[0]-- \",trainY[0])"
   ]
  },
  {
   "cell_type": "code",
   "execution_count": 24,
   "id": "a5892e85",
   "metadata": {},
   "outputs": [
    {
     "data": {
      "text/plain": [
       "0.8297413960482309"
      ]
     },
     "execution_count": 24,
     "metadata": {},
     "output_type": "execute_result"
    }
   ],
   "source": [
    "trainY[0]"
   ]
  },
  {
   "cell_type": "code",
   "execution_count": 25,
   "id": "713712db",
   "metadata": {},
   "outputs": [
    {
     "data": {
      "text/plain": [
       "(4132,)"
      ]
     },
     "execution_count": 25,
     "metadata": {},
     "output_type": "execute_result"
    }
   ],
   "source": [
    "trainY.shape"
   ]
  },
  {
   "cell_type": "code",
   "execution_count": 26,
   "id": "d165e52b",
   "metadata": {},
   "outputs": [],
   "source": [
    "from keras.wrappers.scikit_learn import KerasRegressor\n",
    "from sklearn.model_selection import GridSearchCV"
   ]
  },
  {
   "cell_type": "code",
   "execution_count": 27,
   "id": "42ffe2bf",
   "metadata": {},
   "outputs": [
    {
     "name": "stderr",
     "output_type": "stream",
     "text": [
      "C:\\Users\\15228\\AppData\\Local\\Temp\\ipykernel_1812\\1694479593.py:11: DeprecationWarning: KerasRegressor is deprecated, use Sci-Keras (https://github.com/adriangb/scikeras) instead. See https://www.adriangb.com/scikeras/stable/migration.html for help migrating.\n",
      "  grid_model = KerasRegressor(build_fn=build_model,verbose=1,validation_data=(testX,testY))\n"
     ]
    }
   ],
   "source": [
    "def build_model(optimizer):\n",
    "    grid_model = Sequential()\n",
    "    grid_model.add(LSTM(50,return_sequences=True,input_shape=(30,5)))\n",
    "    grid_model.add(LSTM(50))\n",
    "    grid_model.add(Dropout(0.2))\n",
    "    grid_model.add(Dense(1))\n",
    "\n",
    "    grid_model.compile(loss = 'mse',optimizer = optimizer)\n",
    "    return grid_model\n",
    "\n",
    "grid_model = KerasRegressor(build_fn=build_model,verbose=1,validation_data=(testX,testY))\n",
    "parameters = {'batch_size' : [16,20],\n",
    "              'epochs' : [8,10],\n",
    "              'optimizer' : ['adam','Adadelta'] }\n",
    "\n",
    "grid_search  = GridSearchCV(estimator = grid_model,\n",
    "                            param_grid = parameters,\n",
    "                            cv = 2)"
   ]
  },
  {
   "cell_type": "code",
   "execution_count": 28,
   "id": "1fc54625",
   "metadata": {},
   "outputs": [
    {
     "name": "stdout",
     "output_type": "stream",
     "text": [
      "Epoch 1/8\n",
      "130/130 [==============================] - 5s 19ms/step - loss: 0.0089 - val_loss: 0.0018\n",
      "Epoch 2/8\n",
      "130/130 [==============================] - 2s 15ms/step - loss: 0.0013 - val_loss: 0.0015\n",
      "Epoch 3/8\n",
      "130/130 [==============================] - 2s 15ms/step - loss: 0.0010 - val_loss: 0.0010\n",
      "Epoch 4/8\n",
      "130/130 [==============================] - 2s 15ms/step - loss: 9.2403e-04 - val_loss: 5.0212e-04\n",
      "Epoch 5/8\n",
      "130/130 [==============================] - 2s 15ms/step - loss: 0.0010 - val_loss: 0.0012\n",
      "Epoch 6/8\n",
      "130/130 [==============================] - 2s 15ms/step - loss: 9.3923e-04 - val_loss: 6.9934e-04\n",
      "Epoch 7/8\n",
      "130/130 [==============================] - 2s 15ms/step - loss: 8.4049e-04 - val_loss: 9.8452e-04\n",
      "Epoch 8/8\n",
      "130/130 [==============================] - 2s 15ms/step - loss: 7.6406e-04 - val_loss: 8.1748e-04\n",
      "130/130 [==============================] - 1s 4ms/step - loss: 0.0031\n",
      "Epoch 1/8\n",
      "130/130 [==============================] - 5s 19ms/step - loss: 0.0176 - val_loss: 0.0034\n",
      "Epoch 2/8\n",
      "130/130 [==============================] - 2s 15ms/step - loss: 0.0033 - val_loss: 9.8688e-04\n",
      "Epoch 3/8\n",
      "130/130 [==============================] - 2s 15ms/step - loss: 0.0027 - val_loss: 5.0006e-04\n",
      "Epoch 4/8\n",
      "130/130 [==============================] - 2s 15ms/step - loss: 0.0027 - val_loss: 3.7018e-04\n",
      "Epoch 5/8\n",
      "130/130 [==============================] - 2s 15ms/step - loss: 0.0025 - val_loss: 4.4194e-04\n",
      "Epoch 6/8\n",
      "130/130 [==============================] - 2s 15ms/step - loss: 0.0023 - val_loss: 1.9471e-04\n",
      "Epoch 7/8\n",
      "130/130 [==============================] - 2s 15ms/step - loss: 0.0023 - val_loss: 1.6253e-04\n",
      "Epoch 8/8\n",
      "130/130 [==============================] - 2s 15ms/step - loss: 0.0024 - val_loss: 7.2360e-04\n",
      "130/130 [==============================] - 1s 4ms/step - loss: 6.8168e-04\n",
      "Epoch 1/8\n",
      "130/130 [==============================] - 5s 20ms/step - loss: 0.1510 - val_loss: 0.0187\n",
      "Epoch 2/8\n",
      "130/130 [==============================] - 2s 15ms/step - loss: 0.1369 - val_loss: 0.0161\n",
      "Epoch 3/8\n",
      "130/130 [==============================] - 2s 16ms/step - loss: 0.1231 - val_loss: 0.0135\n",
      "Epoch 4/8\n",
      "130/130 [==============================] - 2s 15ms/step - loss: 0.1086 - val_loss: 0.0111\n",
      "Epoch 5/8\n",
      "130/130 [==============================] - 2s 17ms/step - loss: 0.0927 - val_loss: 0.0090\n",
      "Epoch 6/8\n",
      "130/130 [==============================] - 2s 16ms/step - loss: 0.0790 - val_loss: 0.0070\n",
      "Epoch 7/8\n",
      "130/130 [==============================] - 2s 15ms/step - loss: 0.0657 - val_loss: 0.0053\n",
      "Epoch 8/8\n",
      "130/130 [==============================] - 2s 15ms/step - loss: 0.0558 - val_loss: 0.0038\n",
      "130/130 [==============================] - 1s 4ms/step - loss: 0.1505\n",
      "Epoch 1/8\n",
      "130/130 [==============================] - 5s 20ms/step - loss: 0.3703 - val_loss: 0.0192\n",
      "Epoch 2/8\n",
      "130/130 [==============================] - 2s 15ms/step - loss: 0.3400 - val_loss: 0.0168\n",
      "Epoch 3/8\n",
      "130/130 [==============================] - 2s 15ms/step - loss: 0.3129 - val_loss: 0.0144\n",
      "Epoch 4/8\n",
      "130/130 [==============================] - 2s 15ms/step - loss: 0.2828 - val_loss: 0.0121\n",
      "Epoch 5/8\n",
      "130/130 [==============================] - 2s 15ms/step - loss: 0.2560 - val_loss: 0.0099\n",
      "Epoch 6/8\n",
      "130/130 [==============================] - 2s 15ms/step - loss: 0.2268 - val_loss: 0.0079\n",
      "Epoch 7/8\n",
      "130/130 [==============================] - 2s 16ms/step - loss: 0.1985 - val_loss: 0.0060\n",
      "Epoch 8/8\n",
      "130/130 [==============================] - 2s 15ms/step - loss: 0.1727 - val_loss: 0.0044\n",
      "130/130 [==============================] - 1s 4ms/step - loss: 0.0519\n",
      "Epoch 1/10\n",
      "130/130 [==============================] - 5s 20ms/step - loss: 0.0075 - val_loss: 0.0040\n",
      "Epoch 2/10\n",
      "130/130 [==============================] - 2s 15ms/step - loss: 0.0012 - val_loss: 0.0038\n",
      "Epoch 3/10\n",
      "130/130 [==============================] - 2s 15ms/step - loss: 0.0011 - val_loss: 0.0025\n",
      "Epoch 4/10\n",
      "130/130 [==============================] - 2s 15ms/step - loss: 0.0010 - val_loss: 0.0025\n",
      "Epoch 5/10\n",
      "130/130 [==============================] - 2s 16ms/step - loss: 8.9754e-04 - val_loss: 0.0023\n",
      "Epoch 6/10\n",
      "130/130 [==============================] - 2s 15ms/step - loss: 8.3436e-04 - val_loss: 0.0016\n",
      "Epoch 7/10\n",
      "130/130 [==============================] - 2s 15ms/step - loss: 7.8584e-04 - val_loss: 0.0016\n",
      "Epoch 8/10\n",
      "130/130 [==============================] - 2s 15ms/step - loss: 7.5437e-04 - val_loss: 8.9340e-04\n",
      "Epoch 9/10\n",
      "130/130 [==============================] - 2s 15ms/step - loss: 6.7519e-04 - val_loss: 0.0011\n",
      "Epoch 10/10\n",
      "130/130 [==============================] - 2s 15ms/step - loss: 6.8551e-04 - val_loss: 0.0014\n",
      "130/130 [==============================] - 1s 4ms/step - loss: 0.0078\n",
      "Epoch 1/10\n",
      "130/130 [==============================] - 5s 20ms/step - loss: 0.0097 - val_loss: 0.0018\n",
      "Epoch 2/10\n",
      "130/130 [==============================] - 2s 15ms/step - loss: 0.0030 - val_loss: 7.7203e-04\n",
      "Epoch 3/10\n",
      "130/130 [==============================] - 2s 15ms/step - loss: 0.0028 - val_loss: 1.7557e-04\n",
      "Epoch 4/10\n",
      "130/130 [==============================] - 2s 15ms/step - loss: 0.0027 - val_loss: 6.9567e-04\n",
      "Epoch 5/10\n",
      "130/130 [==============================] - 2s 15ms/step - loss: 0.0024 - val_loss: 1.7011e-04\n",
      "Epoch 6/10\n",
      "130/130 [==============================] - 2s 15ms/step - loss: 0.0023 - val_loss: 1.4298e-04\n",
      "Epoch 7/10\n",
      "130/130 [==============================] - 2s 15ms/step - loss: 0.0021 - val_loss: 1.3215e-04\n",
      "Epoch 8/10\n",
      "130/130 [==============================] - 2s 15ms/step - loss: 0.0021 - val_loss: 1.1649e-04\n",
      "Epoch 9/10\n",
      "130/130 [==============================] - 2s 15ms/step - loss: 0.0017 - val_loss: 1.1007e-04\n",
      "Epoch 10/10\n",
      "130/130 [==============================] - 2s 15ms/step - loss: 0.0019 - val_loss: 1.2877e-04\n",
      "130/130 [==============================] - 1s 4ms/step - loss: 1.3702e-04\n",
      "Epoch 1/10\n",
      "130/130 [==============================] - 5s 21ms/step - loss: 0.2287 - val_loss: 0.0289\n",
      "Epoch 2/10\n",
      "130/130 [==============================] - 2s 17ms/step - loss: 0.2066 - val_loss: 0.0249\n",
      "Epoch 3/10\n",
      "130/130 [==============================] - 2s 17ms/step - loss: 0.1841 - val_loss: 0.0210\n",
      "Epoch 4/10\n",
      "130/130 [==============================] - 2s 16ms/step - loss: 0.1639 - val_loss: 0.0175\n",
      "Epoch 5/10\n",
      "130/130 [==============================] - 2s 16ms/step - loss: 0.1442 - val_loss: 0.0143\n",
      "Epoch 6/10\n",
      "130/130 [==============================] - 2s 17ms/step - loss: 0.1253 - val_loss: 0.0113\n",
      "Epoch 7/10\n",
      "130/130 [==============================] - 2s 17ms/step - loss: 0.1077 - val_loss: 0.0088\n",
      "Epoch 8/10\n",
      "130/130 [==============================] - 2s 16ms/step - loss: 0.0904 - val_loss: 0.0066\n",
      "Epoch 9/10\n",
      "130/130 [==============================] - 2s 17ms/step - loss: 0.0755 - val_loss: 0.0048\n",
      "Epoch 10/10\n",
      "130/130 [==============================] - 2s 17ms/step - loss: 0.0613 - val_loss: 0.0035\n",
      "130/130 [==============================] - 1s 5ms/step - loss: 0.1818\n",
      "Epoch 1/10\n",
      "130/130 [==============================] - 5s 20ms/step - loss: 0.2676 - val_loss: 0.0104\n",
      "Epoch 2/10\n",
      "130/130 [==============================] - 2s 16ms/step - loss: 0.2455 - val_loss: 0.0086\n",
      "Epoch 3/10\n",
      "130/130 [==============================] - 2s 15ms/step - loss: 0.2204 - val_loss: 0.0069\n",
      "Epoch 4/10\n",
      "130/130 [==============================] - 2s 15ms/step - loss: 0.1946 - val_loss: 0.0054\n",
      "Epoch 5/10\n",
      "130/130 [==============================] - 2s 16ms/step - loss: 0.1716 - val_loss: 0.0040\n",
      "Epoch 6/10\n",
      "130/130 [==============================] - 2s 16ms/step - loss: 0.1487 - val_loss: 0.0028\n",
      "Epoch 7/10\n",
      "130/130 [==============================] - 2s 16ms/step - loss: 0.1262 - val_loss: 0.0019\n",
      "Epoch 8/10\n",
      "130/130 [==============================] - 2s 16ms/step - loss: 0.1063 - val_loss: 0.0013\n",
      "Epoch 9/10\n",
      "130/130 [==============================] - 2s 15ms/step - loss: 0.0875 - val_loss: 0.0010\n",
      "Epoch 10/10\n",
      "130/130 [==============================] - 2s 15ms/step - loss: 0.0704 - val_loss: 0.0011\n",
      "130/130 [==============================] - 1s 4ms/step - loss: 0.0095\n",
      "Epoch 1/8\n",
      "104/104 [==============================] - 5s 22ms/step - loss: 0.0038 - val_loss: 0.0054\n",
      "Epoch 2/8\n",
      "104/104 [==============================] - 2s 18ms/step - loss: 0.0012 - val_loss: 0.0056\n",
      "Epoch 3/8\n",
      "104/104 [==============================] - 2s 18ms/step - loss: 0.0011 - val_loss: 0.0031\n",
      "Epoch 4/8\n",
      "104/104 [==============================] - 2s 17ms/step - loss: 9.5965e-04 - val_loss: 0.0018\n",
      "Epoch 5/8\n",
      "104/104 [==============================] - 2s 16ms/step - loss: 8.6520e-04 - val_loss: 0.0026\n",
      "Epoch 6/8\n",
      "104/104 [==============================] - 2s 17ms/step - loss: 8.0345e-04 - val_loss: 0.0016\n",
      "Epoch 7/8\n",
      "104/104 [==============================] - 2s 17ms/step - loss: 7.1430e-04 - val_loss: 0.0024\n",
      "Epoch 8/8\n",
      "104/104 [==============================] - 2s 17ms/step - loss: 7.0962e-04 - val_loss: 0.0019\n",
      "104/104 [==============================] - 1s 5ms/step - loss: 0.0092\n",
      "Epoch 1/8\n",
      "104/104 [==============================] - 5s 22ms/step - loss: 0.0123 - val_loss: 0.0017\n",
      "Epoch 2/8\n",
      "104/104 [==============================] - 2s 17ms/step - loss: 0.0029 - val_loss: 5.6692e-04\n",
      "Epoch 3/8\n",
      "104/104 [==============================] - 2s 18ms/step - loss: 0.0028 - val_loss: 3.1598e-04\n",
      "Epoch 4/8\n",
      "104/104 [==============================] - 2s 18ms/step - loss: 0.0024 - val_loss: 2.9494e-04\n",
      "Epoch 5/8\n",
      "104/104 [==============================] - 2s 17ms/step - loss: 0.0025 - val_loss: 7.6116e-04\n",
      "Epoch 6/8\n",
      "104/104 [==============================] - 2s 16ms/step - loss: 0.0022 - val_loss: 2.5338e-04\n",
      "Epoch 7/8\n",
      "104/104 [==============================] - 2s 16ms/step - loss: 0.0022 - val_loss: 2.4379e-04\n",
      "Epoch 8/8\n",
      "104/104 [==============================] - 2s 17ms/step - loss: 0.0020 - val_loss: 2.9561e-04\n",
      "104/104 [==============================] - 1s 6ms/step - loss: 1.1492e-04\n",
      "Epoch 1/8\n",
      "104/104 [==============================] - 5s 23ms/step - loss: 0.1494 - val_loss: 0.0183\n",
      "Epoch 2/8\n",
      "104/104 [==============================] - 2s 17ms/step - loss: 0.1386 - val_loss: 0.0166\n",
      "Epoch 3/8\n",
      "104/104 [==============================] - 2s 17ms/step - loss: 0.1283 - val_loss: 0.0149\n",
      "Epoch 4/8\n",
      "104/104 [==============================] - 2s 17ms/step - loss: 0.1197 - val_loss: 0.0132\n",
      "Epoch 5/8\n",
      "104/104 [==============================] - 2s 17ms/step - loss: 0.1084 - val_loss: 0.0116\n",
      "Epoch 6/8\n",
      "104/104 [==============================] - 2s 17ms/step - loss: 0.1000 - val_loss: 0.0101\n",
      "Epoch 7/8\n",
      "104/104 [==============================] - 2s 17ms/step - loss: 0.0904 - val_loss: 0.0086\n",
      "Epoch 8/8\n",
      "104/104 [==============================] - 2s 17ms/step - loss: 0.0799 - val_loss: 0.0072\n",
      "104/104 [==============================] - 1s 5ms/step - loss: 0.2161\n",
      "Epoch 1/8\n",
      "104/104 [==============================] - 5s 22ms/step - loss: 0.4979 - val_loss: 0.0277\n",
      "Epoch 2/8\n",
      "104/104 [==============================] - 2s 17ms/step - loss: 0.4686 - val_loss: 0.0251\n",
      "Epoch 3/8\n",
      "104/104 [==============================] - 2s 16ms/step - loss: 0.4374 - val_loss: 0.0224\n",
      "Epoch 4/8\n",
      "104/104 [==============================] - 2s 17ms/step - loss: 0.4068 - val_loss: 0.0198\n",
      "Epoch 5/8\n",
      "104/104 [==============================] - 2s 16ms/step - loss: 0.3766 - val_loss: 0.0172\n",
      "Epoch 6/8\n",
      "104/104 [==============================] - 2s 16ms/step - loss: 0.3462 - val_loss: 0.0147\n",
      "Epoch 7/8\n",
      "104/104 [==============================] - 2s 17ms/step - loss: 0.3112 - val_loss: 0.0123\n",
      "Epoch 8/8\n",
      "104/104 [==============================] - 2s 16ms/step - loss: 0.2808 - val_loss: 0.0100\n",
      "104/104 [==============================] - 1s 5ms/step - loss: 0.0973\n",
      "Epoch 1/10\n",
      "104/104 [==============================] - 5s 23ms/step - loss: 0.0053 - val_loss: 5.6474e-04\n",
      "Epoch 2/10\n",
      "104/104 [==============================] - 2s 18ms/step - loss: 0.0011 - val_loss: 8.0230e-04\n",
      "Epoch 3/10\n",
      "104/104 [==============================] - 2s 17ms/step - loss: 0.0010 - val_loss: 9.3476e-04\n",
      "Epoch 4/10\n",
      "104/104 [==============================] - 2s 18ms/step - loss: 9.7269e-04 - val_loss: 0.0012\n",
      "Epoch 5/10\n",
      "104/104 [==============================] - 2s 17ms/step - loss: 8.2944e-04 - val_loss: 8.6390e-04\n",
      "Epoch 6/10\n",
      "104/104 [==============================] - 2s 18ms/step - loss: 7.7257e-04 - val_loss: 7.4365e-04\n",
      "Epoch 7/10\n",
      "104/104 [==============================] - 2s 18ms/step - loss: 8.1950e-04 - val_loss: 4.8827e-04\n",
      "Epoch 8/10\n",
      "104/104 [==============================] - 2s 18ms/step - loss: 7.1906e-04 - val_loss: 8.4922e-04\n",
      "Epoch 9/10\n",
      "104/104 [==============================] - 2s 18ms/step - loss: 7.6301e-04 - val_loss: 5.8657e-04\n",
      "Epoch 10/10\n",
      "104/104 [==============================] - 2s 18ms/step - loss: 6.5194e-04 - val_loss: 3.2586e-04\n",
      "104/104 [==============================] - 1s 6ms/step - loss: 0.0085\n",
      "Epoch 1/10\n",
      "104/104 [==============================] - 5s 22ms/step - loss: 0.0241 - val_loss: 0.0020\n",
      "Epoch 2/10\n",
      "104/104 [==============================] - 2s 17ms/step - loss: 0.0034 - val_loss: 2.8392e-04\n",
      "Epoch 3/10\n",
      "104/104 [==============================] - 2s 17ms/step - loss: 0.0027 - val_loss: 3.0051e-04\n",
      "Epoch 4/10\n",
      "104/104 [==============================] - 2s 18ms/step - loss: 0.0025 - val_loss: 1.7194e-04\n",
      "Epoch 5/10\n",
      "104/104 [==============================] - 2s 17ms/step - loss: 0.0028 - val_loss: 2.8058e-04\n",
      "Epoch 6/10\n",
      "104/104 [==============================] - 2s 17ms/step - loss: 0.0025 - val_loss: 1.6237e-04\n",
      "Epoch 7/10\n",
      "104/104 [==============================] - 2s 18ms/step - loss: 0.0025 - val_loss: 1.5989e-04\n",
      "Epoch 8/10\n",
      "104/104 [==============================] - 2s 18ms/step - loss: 0.0023 - val_loss: 1.5880e-04\n",
      "Epoch 9/10\n",
      "104/104 [==============================] - 2s 17ms/step - loss: 0.0022 - val_loss: 2.2168e-04\n",
      "Epoch 10/10\n",
      "104/104 [==============================] - 2s 17ms/step - loss: 0.0021 - val_loss: 1.4106e-04\n",
      "104/104 [==============================] - 1s 6ms/step - loss: 1.1695e-04\n",
      "Epoch 1/10\n",
      "104/104 [==============================] - 5s 23ms/step - loss: 0.0562 - val_loss: 0.0059\n",
      "Epoch 2/10\n",
      "104/104 [==============================] - 2s 17ms/step - loss: 0.0507 - val_loss: 0.0047\n",
      "Epoch 3/10\n",
      "104/104 [==============================] - 2s 17ms/step - loss: 0.0425 - val_loss: 0.0037\n",
      "Epoch 4/10\n",
      "104/104 [==============================] - 2s 17ms/step - loss: 0.0368 - val_loss: 0.0028\n",
      "Epoch 5/10\n",
      "104/104 [==============================] - 2s 17ms/step - loss: 0.0309 - val_loss: 0.0021\n",
      "Epoch 6/10\n",
      "104/104 [==============================] - 2s 17ms/step - loss: 0.0259 - val_loss: 0.0015\n",
      "Epoch 7/10\n",
      "104/104 [==============================] - 2s 17ms/step - loss: 0.0207 - val_loss: 0.0010\n",
      "Epoch 8/10\n",
      "104/104 [==============================] - 2s 17ms/step - loss: 0.0168 - val_loss: 7.5002e-04\n",
      "Epoch 9/10\n",
      "104/104 [==============================] - 2s 17ms/step - loss: 0.0131 - val_loss: 6.3561e-04\n",
      "Epoch 10/10\n",
      "104/104 [==============================] - 2s 17ms/step - loss: 0.0106 - val_loss: 6.5359e-04\n",
      "104/104 [==============================] - 1s 6ms/step - loss: 0.0334\n",
      "Epoch 1/10\n",
      "104/104 [==============================] - 5s 22ms/step - loss: 0.3580 - val_loss: 0.0169\n",
      "Epoch 2/10\n",
      "104/104 [==============================] - 2s 17ms/step - loss: 0.3354 - val_loss: 0.0150\n",
      "Epoch 3/10\n",
      "104/104 [==============================] - 2s 17ms/step - loss: 0.3164 - val_loss: 0.0132\n",
      "Epoch 4/10\n",
      "104/104 [==============================] - 2s 17ms/step - loss: 0.2923 - val_loss: 0.0113\n",
      "Epoch 5/10\n",
      "104/104 [==============================] - 2s 17ms/step - loss: 0.2682 - val_loss: 0.0096\n",
      "Epoch 6/10\n",
      "104/104 [==============================] - 2s 17ms/step - loss: 0.2419 - val_loss: 0.0079\n",
      "Epoch 7/10\n",
      "104/104 [==============================] - 2s 17ms/step - loss: 0.2222 - val_loss: 0.0064\n",
      "Epoch 8/10\n",
      "104/104 [==============================] - 2s 17ms/step - loss: 0.2010 - val_loss: 0.0050\n",
      "Epoch 9/10\n",
      "104/104 [==============================] - 2s 17ms/step - loss: 0.1758 - val_loss: 0.0038\n",
      "Epoch 10/10\n",
      "104/104 [==============================] - 2s 17ms/step - loss: 0.1545 - val_loss: 0.0027\n",
      "104/104 [==============================] - 1s 5ms/step - loss: 0.0407\n",
      "Epoch 1/8\n",
      "259/259 [==============================] - 7s 18ms/step - loss: 0.0059 - val_loss: 2.2343e-04\n",
      "Epoch 2/8\n",
      "259/259 [==============================] - 4s 15ms/step - loss: 0.0018 - val_loss: 1.9848e-04\n",
      "Epoch 3/8\n",
      "259/259 [==============================] - 4s 15ms/step - loss: 0.0016 - val_loss: 1.5246e-04\n",
      "Epoch 4/8\n",
      "259/259 [==============================] - 4s 15ms/step - loss: 0.0014 - val_loss: 1.9493e-04\n",
      "Epoch 5/8\n",
      "259/259 [==============================] - 4s 15ms/step - loss: 0.0013 - val_loss: 2.1060e-04\n",
      "Epoch 6/8\n",
      "259/259 [==============================] - 4s 15ms/step - loss: 0.0012 - val_loss: 3.6198e-04\n",
      "Epoch 7/8\n",
      "259/259 [==============================] - 4s 15ms/step - loss: 0.0012 - val_loss: 3.8415e-04\n",
      "Epoch 8/8\n",
      "259/259 [==============================] - 4s 15ms/step - loss: 9.8679e-04 - val_loss: 1.0391e-04\n"
     ]
    }
   ],
   "source": [
    "grid_search = grid_search.fit(trainX,trainY)"
   ]
  },
  {
   "cell_type": "code",
   "execution_count": 29,
   "id": "a9e26e10",
   "metadata": {},
   "outputs": [
    {
     "data": {
      "text/plain": [
       "{'batch_size': 16, 'epochs': 8, 'optimizer': 'adam'}"
      ]
     },
     "execution_count": 29,
     "metadata": {},
     "output_type": "execute_result"
    }
   ],
   "source": [
    "grid_search.best_params_"
   ]
  },
  {
   "cell_type": "code",
   "execution_count": 30,
   "id": "d6851ffc",
   "metadata": {},
   "outputs": [],
   "source": [
    "my_model=grid_search.best_estimator_.model"
   ]
  },
  {
   "cell_type": "code",
   "execution_count": 31,
   "id": "9f0b2e50",
   "metadata": {},
   "outputs": [
    {
     "data": {
      "text/plain": [
       "<keras.engine.sequential.Sequential at 0x2683ca42820>"
      ]
     },
     "execution_count": 31,
     "metadata": {},
     "output_type": "execute_result"
    }
   ],
   "source": [
    "my_model"
   ]
  },
  {
   "cell_type": "code",
   "execution_count": 32,
   "id": "eeb97d64",
   "metadata": {},
   "outputs": [
    {
     "name": "stdout",
     "output_type": "stream",
     "text": [
      "32/32 [==============================] - 1s 6ms/step\n"
     ]
    }
   ],
   "source": [
    "prediction=my_model.predict(testX)"
   ]
  },
  {
   "cell_type": "code",
   "execution_count": 33,
   "id": "8699c0d3",
   "metadata": {},
   "outputs": [
    {
     "name": "stdout",
     "output_type": "stream",
     "text": [
      "prediction\n",
      " [[0.38040876]\n",
      " [0.38400227]\n",
      " [0.38704723]\n",
      " ...\n",
      " [0.13665818]\n",
      " [0.13931423]\n",
      " [0.14234288]]\n",
      "\n",
      "Prediction Shape- (1011, 1)\n"
     ]
    }
   ],
   "source": [
    "print(\"prediction\\n\", prediction)\n",
    "print(\"\\nPrediction Shape-\",prediction.shape)"
   ]
  },
  {
   "cell_type": "code",
   "execution_count": 34,
   "id": "2be6090a",
   "metadata": {},
   "outputs": [
    {
     "data": {
      "text/plain": [
       "(1011, 1)"
      ]
     },
     "execution_count": 34,
     "metadata": {},
     "output_type": "execute_result"
    }
   ],
   "source": [
    "prediction.shape"
   ]
  },
  {
   "cell_type": "code",
   "execution_count": 35,
   "id": "c8c654a6",
   "metadata": {},
   "outputs": [
    {
     "ename": "ValueError",
     "evalue": "non-broadcastable output operand with shape (1011,1) doesn't match the broadcast shape (1011,5)",
     "output_type": "error",
     "traceback": [
      "\u001b[1;31m---------------------------------------------------------------------------\u001b[0m",
      "\u001b[1;31mValueError\u001b[0m                                Traceback (most recent call last)",
      "Cell \u001b[1;32mIn [35], line 1\u001b[0m\n\u001b[1;32m----> 1\u001b[0m scaler\u001b[38;5;241m.\u001b[39minverse_transform(prediction)\n",
      "File \u001b[1;32mD:\\Python\\lib\\site-packages\\sklearn\\preprocessing\\_data.py:532\u001b[0m, in \u001b[0;36mMinMaxScaler.inverse_transform\u001b[1;34m(self, X)\u001b[0m\n\u001b[0;32m    526\u001b[0m check_is_fitted(\u001b[38;5;28mself\u001b[39m)\n\u001b[0;32m    528\u001b[0m X \u001b[38;5;241m=\u001b[39m check_array(\n\u001b[0;32m    529\u001b[0m     X, copy\u001b[38;5;241m=\u001b[39m\u001b[38;5;28mself\u001b[39m\u001b[38;5;241m.\u001b[39mcopy, dtype\u001b[38;5;241m=\u001b[39mFLOAT_DTYPES, force_all_finite\u001b[38;5;241m=\u001b[39m\u001b[38;5;124m\"\u001b[39m\u001b[38;5;124mallow-nan\u001b[39m\u001b[38;5;124m\"\u001b[39m\n\u001b[0;32m    530\u001b[0m )\n\u001b[1;32m--> 532\u001b[0m X \u001b[38;5;241m-\u001b[39m\u001b[38;5;241m=\u001b[39m \u001b[38;5;28mself\u001b[39m\u001b[38;5;241m.\u001b[39mmin_\n\u001b[0;32m    533\u001b[0m X \u001b[38;5;241m/\u001b[39m\u001b[38;5;241m=\u001b[39m \u001b[38;5;28mself\u001b[39m\u001b[38;5;241m.\u001b[39mscale_\n\u001b[0;32m    534\u001b[0m \u001b[38;5;28;01mreturn\u001b[39;00m X\n",
      "\u001b[1;31mValueError\u001b[0m: non-broadcastable output operand with shape (1011,1) doesn't match the broadcast shape (1011,5)"
     ]
    }
   ],
   "source": [
    "scaler.inverse_transform(prediction)"
   ]
  },
  {
   "cell_type": "code",
   "execution_count": 36,
   "id": "44862c61",
   "metadata": {},
   "outputs": [],
   "source": [
    "prediction_copies_array = np.repeat(prediction,5, axis=-1)"
   ]
  },
  {
   "cell_type": "code",
   "execution_count": 37,
   "id": "1dbd500f",
   "metadata": {},
   "outputs": [
    {
     "data": {
      "text/plain": [
       "(1011, 5)"
      ]
     },
     "execution_count": 37,
     "metadata": {},
     "output_type": "execute_result"
    }
   ],
   "source": [
    "prediction_copies_array.shape"
   ]
  },
  {
   "cell_type": "code",
   "execution_count": 38,
   "id": "3b00bd6e",
   "metadata": {},
   "outputs": [
    {
     "data": {
      "text/plain": [
       "array([[0.38040876, 0.38040876, 0.38040876, 0.38040876, 0.38040876],\n",
       "       [0.38400227, 0.38400227, 0.38400227, 0.38400227, 0.38400227],\n",
       "       [0.38704723, 0.38704723, 0.38704723, 0.38704723, 0.38704723],\n",
       "       ...,\n",
       "       [0.13665818, 0.13665818, 0.13665818, 0.13665818, 0.13665818],\n",
       "       [0.13931423, 0.13931423, 0.13931423, 0.13931423, 0.13931423],\n",
       "       [0.14234288, 0.14234288, 0.14234288, 0.14234288, 0.14234288]],\n",
       "      dtype=float32)"
      ]
     },
     "execution_count": 38,
     "metadata": {},
     "output_type": "execute_result"
    }
   ],
   "source": [
    "prediction_copies_array"
   ]
  },
  {
   "cell_type": "code",
   "execution_count": 39,
   "id": "84f2780a",
   "metadata": {},
   "outputs": [],
   "source": [
    "pred=scaler.inverse_transform(np.reshape(prediction_copies_array,(len(prediction),5)))[:,0]"
   ]
  },
  {
   "cell_type": "code",
   "execution_count": 40,
   "id": "2c86afce",
   "metadata": {},
   "outputs": [
    {
     "data": {
      "text/plain": [
       "array([187.69975 , 188.98235 , 190.06917 , ..., 100.69953 , 101.647545,\n",
       "       102.72853 ], dtype=float32)"
      ]
     },
     "execution_count": 40,
     "metadata": {},
     "output_type": "execute_result"
    }
   ],
   "source": [
    "pred"
   ]
  },
  {
   "cell_type": "code",
   "execution_count": 41,
   "id": "4ec05dff",
   "metadata": {},
   "outputs": [],
   "source": [
    "original_copies_array = np.repeat(testY,5, axis=-1)\n",
    "\n",
    "original_copies_array.shape\n",
    "\n",
    "original=scaler.inverse_transform(np.reshape(original_copies_array,(len(testY),5)))[:,0]"
   ]
  },
  {
   "cell_type": "code",
   "execution_count": 42,
   "id": "442e0222",
   "metadata": {},
   "outputs": [
    {
     "data": {
      "text/plain": [
       "array([187.69975 , 188.98235 , 190.06917 , ..., 100.69953 , 101.647545,\n",
       "       102.72853 ], dtype=float32)"
      ]
     },
     "execution_count": 42,
     "metadata": {},
     "output_type": "execute_result"
    }
   ],
   "source": [
    "pred"
   ]
  },
  {
   "cell_type": "code",
   "execution_count": 43,
   "id": "cecfd7bf",
   "metadata": {},
   "outputs": [
    {
     "name": "stdout",
     "output_type": "stream",
     "text": [
      "Pred Values--  [187.69975  188.98235  190.06917  ... 100.69953  101.647545 102.72853 ]\n",
      "\n",
      "Original Values--  [191.692307 193.461533 192.307693 ... 104.550003 105.290001 106.      ]\n"
     ]
    }
   ],
   "source": [
    "print(\"Pred Values-- \" ,pred)\n",
    "print(\"\\nOriginal Values-- \",original)"
   ]
  },
  {
   "cell_type": "code",
   "execution_count": null,
   "id": "b1986d23",
   "metadata": {},
   "outputs": [],
   "source": []
  },
  {
   "cell_type": "code",
   "execution_count": 44,
   "id": "07e37414",
   "metadata": {},
   "outputs": [],
   "source": [
    "import matplotlib.pyplot as plt"
   ]
  },
  {
   "cell_type": "code",
   "execution_count": 45,
   "id": "bfa9b94b",
   "metadata": {},
   "outputs": [
    {
     "data": {
      "image/png": "[encoded data removed]",
      "text/plain": [
       "<Figure size 640x480 with 1 Axes>"
      ]
     },
     "metadata": {},
     "output_type": "display_data"
    }
   ],
   "source": [
    "plt.plot(original, color = 'red', label = 'Real  Stock Price')\n",
    "plt.plot(pred, color = 'blue', label = 'Predicted  Stock Price')\n",
    "plt.title(' Stock Price Prediction')\n",
    "plt.xlabel('Time')\n",
    "plt.ylabel(' Stock Price')\n",
    "plt.legend()\n",
    "plt.show()"
   ]
  },
  {
   "cell_type": "code",
   "execution_count": null,
   "id": "441ddb80",
   "metadata": {},
   "outputs": [],
   "source": []
  },
  {
   "cell_type": "code",
   "execution_count": 46,
   "id": "3a095e22",
   "metadata": {},
   "outputs": [],
   "source": [
    "df_30_days_past=df.iloc[-30:,:]"
   ]
  },
  {
   "cell_type": "code",
   "execution_count": 47,
   "id": "451dafea",
   "metadata": {},
   "outputs": [
    {
     "data": {
      "text/html": [
       "<div>\n",
       "<style scoped>\n",
       "    .dataframe tbody tr th:only-of-type {\n",
       "        vertical-align: middle;\n",
       "    }\n",
       "\n",
       "    .dataframe tbody tr th {\n",
       "        vertical-align: top;\n",
       "    }\n",
       "\n",
       "    .dataframe thead th {\n",
       "        text-align: right;\n",
       "    }\n",
       "</style>\n",
       "<table border=\"1\" class=\"dataframe\">\n",
       "  <thead>\n",
       "    <tr style=\"text-align: right;\">\n",
       "      <th></th>\n",
       "      <th>Open</th>\n",
       "      <th>High</th>\n",
       "      <th>Low</th>\n",
       "      <th>Close</th>\n",
       "      <th>Adj Close</th>\n",
       "    </tr>\n",
       "    <tr>\n",
       "      <th>Date</th>\n",
       "      <th></th>\n",
       "      <th></th>\n",
       "      <th></th>\n",
       "      <th></th>\n",
       "      <th></th>\n",
       "    </tr>\n",
       "  </thead>\n",
       "  <tbody>\n",
       "    <tr>\n",
       "      <th>2021-08-18</th>\n",
       "      <td>101.080002</td>\n",
       "      <td>103.470001</td>\n",
       "      <td>100.760002</td>\n",
       "      <td>101.410004</td>\n",
       "      <td>101.242561</td>\n",
       "    </tr>\n",
       "    <tr>\n",
       "      <th>2021-08-19</th>\n",
       "      <td>100.000000</td>\n",
       "      <td>100.820000</td>\n",
       "      <td>98.599998</td>\n",
       "      <td>99.419998</td>\n",
       "      <td>99.255844</td>\n",
       "    </tr>\n",
       "    <tr>\n",
       "      <th>2021-08-20</th>\n",
       "      <td>99.589996</td>\n",
       "      <td>100.669998</td>\n",
       "      <td>99.099998</td>\n",
       "      <td>100.050003</td>\n",
       "      <td>99.884804</td>\n",
       "    </tr>\n",
       "    <tr>\n",
       "      <th>2021-08-23</th>\n",
       "      <td>100.599998</td>\n",
       "      <td>101.480003</td>\n",
       "      <td>100.269997</td>\n",
       "      <td>100.970001</td>\n",
       "      <td>100.803284</td>\n",
       "    </tr>\n",
       "    <tr>\n",
       "      <th>2021-08-24</th>\n",
       "      <td>101.290001</td>\n",
       "      <td>103.510002</td>\n",
       "      <td>101.059998</td>\n",
       "      <td>103.269997</td>\n",
       "      <td>103.099487</td>\n",
       "    </tr>\n",
       "    <tr>\n",
       "      <th>2021-08-25</th>\n",
       "      <td>103.360001</td>\n",
       "      <td>105.129997</td>\n",
       "      <td>102.550003</td>\n",
       "      <td>104.699997</td>\n",
       "      <td>104.527122</td>\n",
       "    </tr>\n",
       "    <tr>\n",
       "      <th>2021-08-26</th>\n",
       "      <td>104.459999</td>\n",
       "      <td>104.620003</td>\n",
       "      <td>102.839996</td>\n",
       "      <td>103.379997</td>\n",
       "      <td>103.209305</td>\n",
       "    </tr>\n",
       "    <tr>\n",
       "      <th>2021-08-27</th>\n",
       "      <td>103.900002</td>\n",
       "      <td>106.150002</td>\n",
       "      <td>103.900002</td>\n",
       "      <td>106.089996</td>\n",
       "      <td>105.914825</td>\n",
       "    </tr>\n",
       "    <tr>\n",
       "      <th>2021-08-30</th>\n",
       "      <td>106.330002</td>\n",
       "      <td>106.459999</td>\n",
       "      <td>104.800003</td>\n",
       "      <td>105.190002</td>\n",
       "      <td>105.016312</td>\n",
       "    </tr>\n",
       "    <tr>\n",
       "      <th>2021-08-31</th>\n",
       "      <td>104.940002</td>\n",
       "      <td>106.360001</td>\n",
       "      <td>104.459999</td>\n",
       "      <td>105.410004</td>\n",
       "      <td>105.235954</td>\n",
       "    </tr>\n",
       "    <tr>\n",
       "      <th>2021-09-01</th>\n",
       "      <td>105.360001</td>\n",
       "      <td>105.470001</td>\n",
       "      <td>103.260002</td>\n",
       "      <td>103.660004</td>\n",
       "      <td>103.488846</td>\n",
       "    </tr>\n",
       "    <tr>\n",
       "      <th>2021-09-02</th>\n",
       "      <td>104.000000</td>\n",
       "      <td>106.339996</td>\n",
       "      <td>103.980003</td>\n",
       "      <td>106.260002</td>\n",
       "      <td>106.084557</td>\n",
       "    </tr>\n",
       "    <tr>\n",
       "      <th>2021-09-03</th>\n",
       "      <td>106.000000</td>\n",
       "      <td>107.360001</td>\n",
       "      <td>104.080002</td>\n",
       "      <td>104.750000</td>\n",
       "      <td>104.577042</td>\n",
       "    </tr>\n",
       "    <tr>\n",
       "      <th>2021-09-07</th>\n",
       "      <td>104.500000</td>\n",
       "      <td>104.940002</td>\n",
       "      <td>102.309998</td>\n",
       "      <td>103.290001</td>\n",
       "      <td>103.119453</td>\n",
       "    </tr>\n",
       "    <tr>\n",
       "      <th>2021-09-08</th>\n",
       "      <td>102.949997</td>\n",
       "      <td>104.730003</td>\n",
       "      <td>100.419998</td>\n",
       "      <td>102.580002</td>\n",
       "      <td>102.410629</td>\n",
       "    </tr>\n",
       "    <tr>\n",
       "      <th>2021-09-09</th>\n",
       "      <td>102.360001</td>\n",
       "      <td>104.919998</td>\n",
       "      <td>102.110001</td>\n",
       "      <td>103.290001</td>\n",
       "      <td>103.119453</td>\n",
       "    </tr>\n",
       "    <tr>\n",
       "      <th>2021-09-10</th>\n",
       "      <td>103.290001</td>\n",
       "      <td>103.949997</td>\n",
       "      <td>101.779999</td>\n",
       "      <td>102.000000</td>\n",
       "      <td>101.831581</td>\n",
       "    </tr>\n",
       "    <tr>\n",
       "      <th>2021-09-13</th>\n",
       "      <td>102.650002</td>\n",
       "      <td>104.860001</td>\n",
       "      <td>102.019997</td>\n",
       "      <td>104.459999</td>\n",
       "      <td>104.287521</td>\n",
       "    </tr>\n",
       "    <tr>\n",
       "      <th>2021-09-14</th>\n",
       "      <td>104.540001</td>\n",
       "      <td>104.550003</td>\n",
       "      <td>100.070000</td>\n",
       "      <td>100.379997</td>\n",
       "      <td>100.214256</td>\n",
       "    </tr>\n",
       "    <tr>\n",
       "      <th>2021-09-15</th>\n",
       "      <td>100.790001</td>\n",
       "      <td>102.470001</td>\n",
       "      <td>100.690002</td>\n",
       "      <td>102.160004</td>\n",
       "      <td>101.991325</td>\n",
       "    </tr>\n",
       "    <tr>\n",
       "      <th>2021-09-16</th>\n",
       "      <td>102.389999</td>\n",
       "      <td>102.699997</td>\n",
       "      <td>100.820000</td>\n",
       "      <td>101.339996</td>\n",
       "      <td>101.172668</td>\n",
       "    </tr>\n",
       "    <tr>\n",
       "      <th>2021-09-17</th>\n",
       "      <td>101.150002</td>\n",
       "      <td>101.860001</td>\n",
       "      <td>100.129997</td>\n",
       "      <td>100.470001</td>\n",
       "      <td>100.304115</td>\n",
       "    </tr>\n",
       "    <tr>\n",
       "      <th>2021-09-20</th>\n",
       "      <td>98.500000</td>\n",
       "      <td>99.870003</td>\n",
       "      <td>97.269997</td>\n",
       "      <td>99.809998</td>\n",
       "      <td>99.645195</td>\n",
       "    </tr>\n",
       "    <tr>\n",
       "      <th>2021-09-21</th>\n",
       "      <td>99.900002</td>\n",
       "      <td>99.989998</td>\n",
       "      <td>96.209999</td>\n",
       "      <td>96.820000</td>\n",
       "      <td>96.660133</td>\n",
       "    </tr>\n",
       "    <tr>\n",
       "      <th>2021-09-22</th>\n",
       "      <td>97.669998</td>\n",
       "      <td>99.029999</td>\n",
       "      <td>97.660004</td>\n",
       "      <td>98.540001</td>\n",
       "      <td>98.377296</td>\n",
       "    </tr>\n",
       "    <tr>\n",
       "      <th>2021-09-23</th>\n",
       "      <td>99.529999</td>\n",
       "      <td>104.080002</td>\n",
       "      <td>99.519997</td>\n",
       "      <td>102.959999</td>\n",
       "      <td>102.789993</td>\n",
       "    </tr>\n",
       "    <tr>\n",
       "      <th>2021-09-24</th>\n",
       "      <td>102.660004</td>\n",
       "      <td>104.199997</td>\n",
       "      <td>102.599998</td>\n",
       "      <td>103.800003</td>\n",
       "      <td>103.709198</td>\n",
       "    </tr>\n",
       "    <tr>\n",
       "      <th>2021-09-27</th>\n",
       "      <td>104.550003</td>\n",
       "      <td>106.330002</td>\n",
       "      <td>104.389999</td>\n",
       "      <td>105.349998</td>\n",
       "      <td>105.257835</td>\n",
       "    </tr>\n",
       "    <tr>\n",
       "      <th>2021-09-28</th>\n",
       "      <td>105.290001</td>\n",
       "      <td>106.750000</td>\n",
       "      <td>104.730003</td>\n",
       "      <td>105.730003</td>\n",
       "      <td>105.637512</td>\n",
       "    </tr>\n",
       "    <tr>\n",
       "      <th>2021-09-29</th>\n",
       "      <td>106.000000</td>\n",
       "      <td>107.000000</td>\n",
       "      <td>105.309998</td>\n",
       "      <td>106.279999</td>\n",
       "      <td>106.187027</td>\n",
       "    </tr>\n",
       "  </tbody>\n",
       "</table>\n",
       "</div>"
      ],
      "text/plain": [
       "                  Open        High         Low       Close   Adj Close\n",
       "Date                                                                  \n",
       "2021-08-18  101.080002  103.470001  100.760002  101.410004  101.242561\n",
       "2021-08-19  100.000000  100.820000   98.599998   99.419998   99.255844\n",
       "2021-08-20   99.589996  100.669998   99.099998  100.050003   99.884804\n",
       "2021-08-23  100.599998  101.480003  100.269997  100.970001  100.803284\n",
       "2021-08-24  101.290001  103.510002  101.059998  103.269997  103.099487\n",
       "2021-08-25  103.360001  105.129997  102.550003  104.699997  104.527122\n",
       "2021-08-26  104.459999  104.620003  102.839996  103.379997  103.209305\n",
       "2021-08-27  103.900002  106.150002  103.900002  106.089996  105.914825\n",
       "2021-08-30  106.330002  106.459999  104.800003  105.190002  105.016312\n",
       "2021-08-31  104.940002  106.360001  104.459999  105.410004  105.235954\n",
       "2021-09-01  105.360001  105.470001  103.260002  103.660004  103.488846\n",
       "2021-09-02  104.000000  106.339996  103.980003  106.260002  106.084557\n",
       "2021-09-03  106.000000  107.360001  104.080002  104.750000  104.577042\n",
       "2021-09-07  104.500000  104.940002  102.309998  103.290001  103.119453\n",
       "2021-09-08  102.949997  104.730003  100.419998  102.580002  102.410629\n",
       "2021-09-09  102.360001  104.919998  102.110001  103.290001  103.119453\n",
       "2021-09-10  103.290001  103.949997  101.779999  102.000000  101.831581\n",
       "2021-09-13  102.650002  104.860001  102.019997  104.459999  104.287521\n",
       "2021-09-14  104.540001  104.550003  100.070000  100.379997  100.214256\n",
       "2021-09-15  100.790001  102.470001  100.690002  102.160004  101.991325\n",
       "2021-09-16  102.389999  102.699997  100.820000  101.339996  101.172668\n",
       "2021-09-17  101.150002  101.860001  100.129997  100.470001  100.304115\n",
       "2021-09-20   98.500000   99.870003   97.269997   99.809998   99.645195\n",
       "2021-09-21   99.900002   99.989998   96.209999   96.820000   96.660133\n",
       "2021-09-22   97.669998   99.029999   97.660004   98.540001   98.377296\n",
       "2021-09-23   99.529999  104.080002   99.519997  102.959999  102.789993\n",
       "2021-09-24  102.660004  104.199997  102.599998  103.800003  103.709198\n",
       "2021-09-27  104.550003  106.330002  104.389999  105.349998  105.257835\n",
       "2021-09-28  105.290001  106.750000  104.730003  105.730003  105.637512\n",
       "2021-09-29  106.000000  107.000000  105.309998  106.279999  106.187027"
      ]
     },
     "execution_count": 47,
     "metadata": {},
     "output_type": "execute_result"
    }
   ],
   "source": [
    "df_30_days_past"
   ]
  },
  {
   "cell_type": "code",
   "execution_count": 48,
   "id": "92497be0",
   "metadata": {},
   "outputs": [
    {
     "data": {
      "text/plain": [
       "(30, 4)"
      ]
     },
     "execution_count": 48,
     "metadata": {},
     "output_type": "execute_result"
    }
   ],
   "source": [
    "df_30_days_future=pd.read_csv(\"test.csv\",parse_dates=[\"Date\"],index_col=[0])\n",
    "df_30_days_future.shape"
   ]
  },
  {
   "cell_type": "code",
   "execution_count": 49,
   "id": "7004371c",
   "metadata": {},
   "outputs": [
    {
     "data": {
      "text/html": [
       "<div>\n",
       "<style scoped>\n",
       "    .dataframe tbody tr th:only-of-type {\n",
       "        vertical-align: middle;\n",
       "    }\n",
       "\n",
       "    .dataframe tbody tr th {\n",
       "        vertical-align: top;\n",
       "    }\n",
       "\n",
       "    .dataframe thead th {\n",
       "        text-align: right;\n",
       "    }\n",
       "</style>\n",
       "<table border=\"1\" class=\"dataframe\">\n",
       "  <thead>\n",
       "    <tr style=\"text-align: right;\">\n",
       "      <th></th>\n",
       "      <th>High</th>\n",
       "      <th>Low</th>\n",
       "      <th>Close</th>\n",
       "      <th>Adj Close</th>\n",
       "    </tr>\n",
       "    <tr>\n",
       "      <th>Date</th>\n",
       "      <th></th>\n",
       "      <th></th>\n",
       "      <th></th>\n",
       "      <th></th>\n",
       "    </tr>\n",
       "  </thead>\n",
       "  <tbody>\n",
       "    <tr>\n",
       "      <th>2021-09-30</th>\n",
       "      <td>107.089996</td>\n",
       "      <td>102.949997</td>\n",
       "      <td>103.029999</td>\n",
       "      <td>102.939865</td>\n",
       "    </tr>\n",
       "    <tr>\n",
       "      <th>2021-10-01</th>\n",
       "      <td>106.389999</td>\n",
       "      <td>103.669998</td>\n",
       "      <td>105.820000</td>\n",
       "      <td>105.727425</td>\n",
       "    </tr>\n",
       "    <tr>\n",
       "      <th>2021-10-04</th>\n",
       "      <td>107.080002</td>\n",
       "      <td>104.599998</td>\n",
       "      <td>104.900002</td>\n",
       "      <td>104.808235</td>\n",
       "    </tr>\n",
       "    <tr>\n",
       "      <th>2021-10-05</th>\n",
       "      <td>106.000000</td>\n",
       "      <td>103.750000</td>\n",
       "      <td>104.900002</td>\n",
       "      <td>104.808235</td>\n",
       "    </tr>\n",
       "    <tr>\n",
       "      <th>2021-10-06</th>\n",
       "      <td>104.419998</td>\n",
       "      <td>102.059998</td>\n",
       "      <td>104.330002</td>\n",
       "      <td>104.238731</td>\n",
       "    </tr>\n",
       "    <tr>\n",
       "      <th>2021-10-07</th>\n",
       "      <td>106.529999</td>\n",
       "      <td>104.330002</td>\n",
       "      <td>105.510002</td>\n",
       "      <td>105.417702</td>\n",
       "    </tr>\n",
       "    <tr>\n",
       "      <th>2021-10-08</th>\n",
       "      <td>106.220001</td>\n",
       "      <td>104.660004</td>\n",
       "      <td>104.720001</td>\n",
       "      <td>104.628387</td>\n",
       "    </tr>\n",
       "    <tr>\n",
       "      <th>2021-10-11</th>\n",
       "      <td>105.760002</td>\n",
       "      <td>103.970001</td>\n",
       "      <td>104.080002</td>\n",
       "      <td>103.988953</td>\n",
       "    </tr>\n",
       "    <tr>\n",
       "      <th>2021-10-12</th>\n",
       "      <td>104.040001</td>\n",
       "      <td>101.559998</td>\n",
       "      <td>102.720001</td>\n",
       "      <td>102.630142</td>\n",
       "    </tr>\n",
       "    <tr>\n",
       "      <th>2021-10-13</th>\n",
       "      <td>103.199997</td>\n",
       "      <td>101.180000</td>\n",
       "      <td>102.360001</td>\n",
       "      <td>102.270454</td>\n",
       "    </tr>\n",
       "    <tr>\n",
       "      <th>2021-10-14</th>\n",
       "      <td>103.650002</td>\n",
       "      <td>102.370003</td>\n",
       "      <td>102.739998</td>\n",
       "      <td>102.650116</td>\n",
       "    </tr>\n",
       "    <tr>\n",
       "      <th>2021-10-15</th>\n",
       "      <td>105.900002</td>\n",
       "      <td>103.190002</td>\n",
       "      <td>104.410004</td>\n",
       "      <td>104.318665</td>\n",
       "    </tr>\n",
       "    <tr>\n",
       "      <th>2021-10-18</th>\n",
       "      <td>104.570000</td>\n",
       "      <td>103.040001</td>\n",
       "      <td>104.120003</td>\n",
       "      <td>104.028915</td>\n",
       "    </tr>\n",
       "    <tr>\n",
       "      <th>2021-10-19</th>\n",
       "      <td>104.970001</td>\n",
       "      <td>103.580002</td>\n",
       "      <td>104.730003</td>\n",
       "      <td>104.638382</td>\n",
       "    </tr>\n",
       "    <tr>\n",
       "      <th>2021-10-20</th>\n",
       "      <td>106.019997</td>\n",
       "      <td>103.870003</td>\n",
       "      <td>106.000000</td>\n",
       "      <td>105.907272</td>\n",
       "    </tr>\n",
       "    <tr>\n",
       "      <th>2021-10-21</th>\n",
       "      <td>106.389999</td>\n",
       "      <td>103.010002</td>\n",
       "      <td>103.150002</td>\n",
       "      <td>103.059761</td>\n",
       "    </tr>\n",
       "    <tr>\n",
       "      <th>2021-10-22</th>\n",
       "      <td>104.510002</td>\n",
       "      <td>102.550003</td>\n",
       "      <td>104.050003</td>\n",
       "      <td>103.958977</td>\n",
       "    </tr>\n",
       "    <tr>\n",
       "      <th>2021-10-25</th>\n",
       "      <td>105.989998</td>\n",
       "      <td>103.330002</td>\n",
       "      <td>105.300003</td>\n",
       "      <td>105.207886</td>\n",
       "    </tr>\n",
       "    <tr>\n",
       "      <th>2021-10-26</th>\n",
       "      <td>110.970001</td>\n",
       "      <td>105.220001</td>\n",
       "      <td>107.440002</td>\n",
       "      <td>107.346008</td>\n",
       "    </tr>\n",
       "    <tr>\n",
       "      <th>2021-10-27</th>\n",
       "      <td>108.279999</td>\n",
       "      <td>103.690002</td>\n",
       "      <td>103.849998</td>\n",
       "      <td>103.759148</td>\n",
       "    </tr>\n",
       "    <tr>\n",
       "      <th>2021-10-28</th>\n",
       "      <td>105.379997</td>\n",
       "      <td>103.099998</td>\n",
       "      <td>105.260002</td>\n",
       "      <td>105.167915</td>\n",
       "    </tr>\n",
       "    <tr>\n",
       "      <th>2021-10-29</th>\n",
       "      <td>105.239998</td>\n",
       "      <td>104.120003</td>\n",
       "      <td>104.870003</td>\n",
       "      <td>104.778259</td>\n",
       "    </tr>\n",
       "    <tr>\n",
       "      <th>2021-11-01</th>\n",
       "      <td>106.769997</td>\n",
       "      <td>105.279999</td>\n",
       "      <td>106.230003</td>\n",
       "      <td>106.137070</td>\n",
       "    </tr>\n",
       "    <tr>\n",
       "      <th>2021-11-02</th>\n",
       "      <td>107.139999</td>\n",
       "      <td>105.300003</td>\n",
       "      <td>106.690002</td>\n",
       "      <td>106.596664</td>\n",
       "    </tr>\n",
       "    <tr>\n",
       "      <th>2021-11-03</th>\n",
       "      <td>106.339996</td>\n",
       "      <td>104.820000</td>\n",
       "      <td>105.970001</td>\n",
       "      <td>105.877296</td>\n",
       "    </tr>\n",
       "    <tr>\n",
       "      <th>2021-11-04</th>\n",
       "      <td>106.400002</td>\n",
       "      <td>104.290001</td>\n",
       "      <td>105.209999</td>\n",
       "      <td>105.117958</td>\n",
       "    </tr>\n",
       "    <tr>\n",
       "      <th>2021-11-05</th>\n",
       "      <td>109.650002</td>\n",
       "      <td>106.849998</td>\n",
       "      <td>108.739998</td>\n",
       "      <td>108.644867</td>\n",
       "    </tr>\n",
       "    <tr>\n",
       "      <th>2021-11-08</th>\n",
       "      <td>110.309998</td>\n",
       "      <td>108.320000</td>\n",
       "      <td>108.419998</td>\n",
       "      <td>108.325150</td>\n",
       "    </tr>\n",
       "    <tr>\n",
       "      <th>2021-11-09</th>\n",
       "      <td>116.169998</td>\n",
       "      <td>110.480003</td>\n",
       "      <td>111.290001</td>\n",
       "      <td>111.192642</td>\n",
       "    </tr>\n",
       "    <tr>\n",
       "      <th>2021-11-10</th>\n",
       "      <td>112.680000</td>\n",
       "      <td>108.110001</td>\n",
       "      <td>108.959999</td>\n",
       "      <td>108.864677</td>\n",
       "    </tr>\n",
       "  </tbody>\n",
       "</table>\n",
       "</div>"
      ],
      "text/plain": [
       "                  High         Low       Close   Adj Close\n",
       "Date                                                      \n",
       "2021-09-30  107.089996  102.949997  103.029999  102.939865\n",
       "2021-10-01  106.389999  103.669998  105.820000  105.727425\n",
       "2021-10-04  107.080002  104.599998  104.900002  104.808235\n",
       "2021-10-05  106.000000  103.750000  104.900002  104.808235\n",
       "2021-10-06  104.419998  102.059998  104.330002  104.238731\n",
       "2021-10-07  106.529999  104.330002  105.510002  105.417702\n",
       "2021-10-08  106.220001  104.660004  104.720001  104.628387\n",
       "2021-10-11  105.760002  103.970001  104.080002  103.988953\n",
       "2021-10-12  104.040001  101.559998  102.720001  102.630142\n",
       "2021-10-13  103.199997  101.180000  102.360001  102.270454\n",
       "2021-10-14  103.650002  102.370003  102.739998  102.650116\n",
       "2021-10-15  105.900002  103.190002  104.410004  104.318665\n",
       "2021-10-18  104.570000  103.040001  104.120003  104.028915\n",
       "2021-10-19  104.970001  103.580002  104.730003  104.638382\n",
       "2021-10-20  106.019997  103.870003  106.000000  105.907272\n",
       "2021-10-21  106.389999  103.010002  103.150002  103.059761\n",
       "2021-10-22  104.510002  102.550003  104.050003  103.958977\n",
       "2021-10-25  105.989998  103.330002  105.300003  105.207886\n",
       "2021-10-26  110.970001  105.220001  107.440002  107.346008\n",
       "2021-10-27  108.279999  103.690002  103.849998  103.759148\n",
       "2021-10-28  105.379997  103.099998  105.260002  105.167915\n",
       "2021-10-29  105.239998  104.120003  104.870003  104.778259\n",
       "2021-11-01  106.769997  105.279999  106.230003  106.137070\n",
       "2021-11-02  107.139999  105.300003  106.690002  106.596664\n",
       "2021-11-03  106.339996  104.820000  105.970001  105.877296\n",
       "2021-11-04  106.400002  104.290001  105.209999  105.117958\n",
       "2021-11-05  109.650002  106.849998  108.739998  108.644867\n",
       "2021-11-08  110.309998  108.320000  108.419998  108.325150\n",
       "2021-11-09  116.169998  110.480003  111.290001  111.192642\n",
       "2021-11-10  112.680000  108.110001  108.959999  108.864677"
      ]
     },
     "execution_count": 49,
     "metadata": {},
     "output_type": "execute_result"
    }
   ],
   "source": [
    "df_30_days_future"
   ]
  },
  {
   "cell_type": "code",
   "execution_count": 50,
   "id": "20277ef8",
   "metadata": {},
   "outputs": [],
   "source": [
    "df_30_days_future[\"Open\"]=0\n",
    "df_30_days_future=df_30_days_future[[\"Open\",\"High\",\"Low\",\"Close\",\"Adj Close\"]]\n",
    "old_scaled_array=scaler.transform(df_30_days_past)\n",
    "new_scaled_array=scaler.transform(df_30_days_future)\n",
    "new_scaled_df=pd.DataFrame(new_scaled_array)\n",
    "new_scaled_df.iloc[:,0]=np.nan\n",
    "full_df=pd.concat([pd.DataFrame(old_scaled_array),new_scaled_df]).reset_index().drop([\"index\"],axis=1)"
   ]
  },
  {
   "cell_type": "code",
   "execution_count": 51,
   "id": "0dcb1ee5",
   "metadata": {},
   "outputs": [
    {
     "data": {
      "text/plain": [
       "(60, 5)"
      ]
     },
     "execution_count": 51,
     "metadata": {},
     "output_type": "execute_result"
    }
   ],
   "source": [
    "full_df.shape"
   ]
  },
  {
   "cell_type": "code",
   "execution_count": 52,
   "id": "88cfa224",
   "metadata": {},
   "outputs": [
    {
     "data": {
      "text/html": [
       "<div>\n",
       "<style scoped>\n",
       "    .dataframe tbody tr th:only-of-type {\n",
       "        vertical-align: middle;\n",
       "    }\n",
       "\n",
       "    .dataframe tbody tr th {\n",
       "        vertical-align: top;\n",
       "    }\n",
       "\n",
       "    .dataframe thead th {\n",
       "        text-align: right;\n",
       "    }\n",
       "</style>\n",
       "<table border=\"1\" class=\"dataframe\">\n",
       "  <thead>\n",
       "    <tr style=\"text-align: right;\">\n",
       "      <th></th>\n",
       "      <th>0</th>\n",
       "      <th>1</th>\n",
       "      <th>2</th>\n",
       "      <th>3</th>\n",
       "      <th>4</th>\n",
       "    </tr>\n",
       "  </thead>\n",
       "  <tbody>\n",
       "    <tr>\n",
       "      <th>55</th>\n",
       "      <td>NaN</td>\n",
       "      <td>0.143640</td>\n",
       "      <td>0.164162</td>\n",
       "      <td>0.150135</td>\n",
       "      <td>0.349458</td>\n",
       "    </tr>\n",
       "    <tr>\n",
       "      <th>56</th>\n",
       "      <td>NaN</td>\n",
       "      <td>0.152749</td>\n",
       "      <td>0.171268</td>\n",
       "      <td>0.159953</td>\n",
       "      <td>0.367565</td>\n",
       "    </tr>\n",
       "    <tr>\n",
       "      <th>57</th>\n",
       "      <td>NaN</td>\n",
       "      <td>0.154599</td>\n",
       "      <td>0.175349</td>\n",
       "      <td>0.159063</td>\n",
       "      <td>0.365924</td>\n",
       "    </tr>\n",
       "    <tr>\n",
       "      <th>58</th>\n",
       "      <td>NaN</td>\n",
       "      <td>0.171024</td>\n",
       "      <td>0.181345</td>\n",
       "      <td>0.167045</td>\n",
       "      <td>0.380645</td>\n",
       "    </tr>\n",
       "    <tr>\n",
       "      <th>59</th>\n",
       "      <td>NaN</td>\n",
       "      <td>0.161242</td>\n",
       "      <td>0.174766</td>\n",
       "      <td>0.160565</td>\n",
       "      <td>0.368694</td>\n",
       "    </tr>\n",
       "  </tbody>\n",
       "</table>\n",
       "</div>"
      ],
      "text/plain": [
       "     0         1         2         3         4\n",
       "55 NaN  0.143640  0.164162  0.150135  0.349458\n",
       "56 NaN  0.152749  0.171268  0.159953  0.367565\n",
       "57 NaN  0.154599  0.175349  0.159063  0.365924\n",
       "58 NaN  0.171024  0.181345  0.167045  0.380645\n",
       "59 NaN  0.161242  0.174766  0.160565  0.368694"
      ]
     },
     "execution_count": 52,
     "metadata": {},
     "output_type": "execute_result"
    }
   ],
   "source": [
    "full_df.tail()"
   ]
  },
  {
   "cell_type": "code",
   "execution_count": 53,
   "id": "e8cc462a",
   "metadata": {},
   "outputs": [
    {
     "data": {
      "text/plain": [
       "(60, 5)"
      ]
     },
     "execution_count": 53,
     "metadata": {},
     "output_type": "execute_result"
    }
   ],
   "source": [
    "full_df.shape"
   ]
  },
  {
   "cell_type": "code",
   "execution_count": 54,
   "id": "48bf070f",
   "metadata": {},
   "outputs": [],
   "source": [
    "full_df_scaled_array=full_df.values"
   ]
  },
  {
   "cell_type": "code",
   "execution_count": 55,
   "id": "91fdcf82",
   "metadata": {},
   "outputs": [
    {
     "data": {
      "text/plain": [
       "(60, 5)"
      ]
     },
     "execution_count": 55,
     "metadata": {},
     "output_type": "execute_result"
    }
   ],
   "source": [
    "full_df_scaled_array.shape"
   ]
  },
  {
   "cell_type": "code",
   "execution_count": 56,
   "id": "547622aa",
   "metadata": {},
   "outputs": [
    {
     "name": "stdout",
     "output_type": "stream",
     "text": [
      "1/1 [==============================] - 0s 28ms/step\n",
      "1/1 [==============================] - 0s 16ms/step\n",
      "1/1 [==============================] - 0s 3ms/step\n",
      "1/1 [==============================] - 0s 8ms/step\n",
      "1/1 [==============================] - 0s 16ms/step\n",
      "1/1 [==============================] - 0s 3ms/step\n",
      "1/1 [==============================] - 0s 8ms/step\n",
      "1/1 [==============================] - 0s 4ms/step\n",
      "1/1 [==============================] - 0s 3ms/step\n",
      "1/1 [==============================] - 0s 10ms/step\n",
      "1/1 [==============================] - 0s 7ms/step\n",
      "1/1 [==============================] - 0s 5ms/step\n",
      "1/1 [==============================] - 0s 16ms/step\n",
      "1/1 [==============================] - 0s 10ms/step\n",
      "1/1 [==============================] - 0s 6ms/step\n",
      "1/1 [==============================] - 0s 4ms/step\n",
      "1/1 [==============================] - 0s 10ms/step\n",
      "1/1 [==============================] - 0s 6ms/step\n",
      "1/1 [==============================] - 0s 2ms/step\n",
      "1/1 [==============================] - 0s 6ms/step\n",
      "1/1 [==============================] - 0s 5ms/step\n",
      "1/1 [==============================] - 0s 10ms/step\n",
      "1/1 [==============================] - 0s 8ms/step\n",
      "1/1 [==============================] - 0s 8ms/step\n",
      "1/1 [==============================] - 0s 5ms/step\n",
      "1/1 [==============================] - 0s 3ms/step\n",
      "1/1 [==============================] - 0s 6ms/step\n",
      "1/1 [==============================] - 0s 13ms/step\n",
      "1/1 [==============================] - 0s 3ms/step\n",
      "1/1 [==============================] - 0s 7ms/step\n"
     ]
    }
   ],
   "source": [
    "all_data=[]\n",
    "time_step=30\n",
    "for i in range(time_step,len(full_df_scaled_array)):\n",
    "    data_x=[]\n",
    "    data_x.append(full_df_scaled_array[i-time_step:i,0:full_df_scaled_array.shape[1]])\n",
    "    data_x=np.array(data_x)\n",
    "    prediction=my_model.predict(data_x)\n",
    "    all_data.append(prediction)\n",
    "    full_df.iloc[i,0]=prediction"
   ]
  },
  {
   "cell_type": "code",
   "execution_count": 57,
   "id": "05929d50",
   "metadata": {},
   "outputs": [
    {
     "data": {
      "text/plain": [
       "[array([[0.14532402]], dtype=float32),\n",
       " array([[0.14697623]], dtype=float32),\n",
       " array([[0.14835581]], dtype=float32),\n",
       " array([[0.14934537]], dtype=float32),\n",
       " array([[0.14986092]], dtype=float32),\n",
       " array([[0.14968915]], dtype=float32),\n",
       " array([[0.1498005]], dtype=float32),\n",
       " array([[0.14984125]], dtype=float32),\n",
       " array([[0.14962722]], dtype=float32),\n",
       " array([[0.14872564]], dtype=float32),\n",
       " array([[0.14743268]], dtype=float32),\n",
       " array([[0.14631063]], dtype=float32),\n",
       " array([[0.14603351]], dtype=float32),\n",
       " array([[0.14597067]], dtype=float32),\n",
       " array([[0.14621097]], dtype=float32),\n",
       " array([[0.14694168]], dtype=float32),\n",
       " array([[0.14721328]], dtype=float32),\n",
       " array([[0.14721875]], dtype=float32),\n",
       " array([[0.14754528]], dtype=float32),\n",
       " array([[0.14906235]], dtype=float32),\n",
       " array([[0.14983657]], dtype=float32),\n",
       " array([[0.15013878]], dtype=float32),\n",
       " array([[0.15012226]], dtype=float32),\n",
       " array([[0.15046038]], dtype=float32),\n",
       " array([[0.15104334]], dtype=float32),\n",
       " array([[0.15139289]], dtype=float32),\n",
       " array([[0.1514082]], dtype=float32),\n",
       " array([[0.15248972]], dtype=float32),\n",
       " array([[0.15400317]], dtype=float32),\n",
       " array([[0.15689716]], dtype=float32)]"
      ]
     },
     "execution_count": 57,
     "metadata": {},
     "output_type": "execute_result"
    }
   ],
   "source": [
    "all_data"
   ]
  },
  {
   "cell_type": "code",
   "execution_count": 58,
   "id": "379cf40a",
   "metadata": {},
   "outputs": [],
   "source": [
    "new_array=np.array(all_data)\n",
    "new_array=new_array.reshape(-1,1)\n",
    "prediction_copies_array = np.repeat(new_array,5, axis=-1)\n",
    "y_pred_future_30_days = scaler.inverse_transform(np.reshape(prediction_copies_array,(len(new_array),5)))[:,0]"
   ]
  },
  {
   "cell_type": "code",
   "execution_count": 59,
   "id": "4ab9307c",
   "metadata": {
    "scrolled": true
   },
   "outputs": [
    {
     "data": {
      "text/plain": [
       "array([103.79257 , 104.382286, 104.874695, 105.22789 , 105.411896,\n",
       "       105.350586, 105.39033 , 105.40488 , 105.32848 , 105.00669 ,\n",
       "       104.545204, 104.144714, 104.0458  , 104.02338 , 104.109146,\n",
       "       104.36995 , 104.466896, 104.46884 , 104.585396, 105.12687 ,\n",
       "       105.403206, 105.51107 , 105.50517 , 105.625854, 105.83392 ,\n",
       "       105.95869 , 105.96416 , 106.35018 , 106.890366, 107.923294],\n",
       "      dtype=float32)"
      ]
     },
     "execution_count": 59,
     "metadata": {},
     "output_type": "execute_result"
    }
   ],
   "source": [
    "y_pred_future_30_days"
   ]
  },
  {
   "cell_type": "code",
   "execution_count": null,
   "id": "265bfef0",
   "metadata": {},
   "outputs": [],
   "source": []
  },
  {
   "cell_type": "code",
   "execution_count": 60,
   "id": "eed9c5c8",
   "metadata": {},
   "outputs": [],
   "source": [
    "from tensorflow.keras.models import Model\n",
    "from tensorflow.keras.models import load_model"
   ]
  },
  {
   "cell_type": "code",
   "execution_count": 61,
   "id": "0ede34e7",
   "metadata": {},
   "outputs": [
    {
     "ename": "NameError",
     "evalue": "name 'mymodel' is not defined",
     "output_type": "error",
     "traceback": [
      "\u001b[1;31m---------------------------------------------------------------------------\u001b[0m",
      "\u001b[1;31mNameError\u001b[0m                                 Traceback (most recent call last)",
      "Cell \u001b[1;32mIn [61], line 1\u001b[0m\n\u001b[1;32m----> 1\u001b[0m mymodel\u001b[38;5;241m.\u001b[39msave(\u001b[38;5;124m'\u001b[39m\u001b[38;5;124mModel_future_value.h5\u001b[39m\u001b[38;5;124m'\u001b[39m)\n\u001b[0;32m      2\u001b[0m \u001b[38;5;28mprint\u001b[39m(\u001b[38;5;124m'\u001b[39m\u001b[38;5;124mModel Saved!\u001b[39m\u001b[38;5;124m'\u001b[39m)\n",
      "\u001b[1;31mNameError\u001b[0m: name 'mymodel' is not defined"
     ]
    }
   ],
   "source": [
    "mymodel.save('Model_future_value.h5')\n",
    "print('Model Saved!')"
   ]
  },
  {
   "cell_type": "code",
   "execution_count": 62,
   "id": "4f12ddc7",
   "metadata": {},
   "outputs": [
    {
     "data": {
      "text/html": [
       "<style>#sk-container-id-1 {color: black;background-color: white;}#sk-container-id-1 pre{padding: 0;}#sk-container-id-1 div.sk-toggleable {background-color: white;}#sk-container-id-1 label.sk-toggleable__label {cursor: pointer;display: block;width: 100%;margin-bottom: 0;padding: 0.3em;box-sizing: border-box;text-align: center;}#sk-container-id-1 label.sk-toggleable__label-arrow:before {content: \"▸\";float: left;margin-right: 0.25em;color: #696969;}#sk-container-id-1 label.sk-toggleable__label-arrow:hover:before {color: black;}#sk-container-id-1 div.sk-estimator:hover label.sk-toggleable__label-arrow:before {color: black;}#sk-container-id-1 div.sk-toggleable__content {max-height: 0;max-width: 0;overflow: hidden;text-align: left;background-color: #f0f8ff;}#sk-container-id-1 div.sk-toggleable__content pre {margin: 0.2em;color: black;border-radius: 0.25em;background-color: #f0f8ff;}#sk-container-id-1 input.sk-toggleable__control:checked~div.sk-toggleable__content {max-height: 200px;max-width: 100%;overflow: auto;}#sk-container-id-1 input.sk-toggleable__control:checked~label.sk-toggleable__label-arrow:before {content: \"▾\";}#sk-container-id-1 div.sk-estimator input.sk-toggleable__control:checked~label.sk-toggleable__label {background-color: #d4ebff;}#sk-container-id-1 div.sk-label input.sk-toggleable__control:checked~label.sk-toggleable__label {background-color: #d4ebff;}#sk-container-id-1 input.sk-hidden--visually {border: 0;clip: rect(1px 1px 1px 1px);clip: rect(1px, 1px, 1px, 1px);height: 1px;margin: -1px;overflow: hidden;padding: 0;position: absolute;width: 1px;}#sk-container-id-1 div.sk-estimator {font-family: monospace;background-color: #f0f8ff;border: 1px dotted black;border-radius: 0.25em;box-sizing: border-box;margin-bottom: 0.5em;}#sk-container-id-1 div.sk-estimator:hover {background-color: #d4ebff;}#sk-container-id-1 div.sk-parallel-item::after {content: \"\";width: 100%;border-bottom: 1px solid gray;flex-grow: 1;}#sk-container-id-1 div.sk-label:hover label.sk-toggleable__label {background-color: #d4ebff;}#sk-container-id-1 div.sk-serial::before {content: \"\";position: absolute;border-left: 1px solid gray;box-sizing: border-box;top: 0;bottom: 0;left: 50%;z-index: 0;}#sk-container-id-1 div.sk-serial {display: flex;flex-direction: column;align-items: center;background-color: white;padding-right: 0.2em;padding-left: 0.2em;position: relative;}#sk-container-id-1 div.sk-item {position: relative;z-index: 1;}#sk-container-id-1 div.sk-parallel {display: flex;align-items: stretch;justify-content: center;background-color: white;position: relative;}#sk-container-id-1 div.sk-item::before, #sk-container-id-1 div.sk-parallel-item::before {content: \"\";position: absolute;border-left: 1px solid gray;box-sizing: border-box;top: 0;bottom: 0;left: 50%;z-index: -1;}#sk-container-id-1 div.sk-parallel-item {display: flex;flex-direction: column;z-index: 1;position: relative;background-color: white;}#sk-container-id-1 div.sk-parallel-item:first-child::after {align-self: flex-end;width: 50%;}#sk-container-id-1 div.sk-parallel-item:last-child::after {align-self: flex-start;width: 50%;}#sk-container-id-1 div.sk-parallel-item:only-child::after {width: 0;}#sk-container-id-1 div.sk-dashed-wrapped {border: 1px dashed gray;margin: 0 0.4em 0.5em 0.4em;box-sizing: border-box;padding-bottom: 0.4em;background-color: white;}#sk-container-id-1 div.sk-label label {font-family: monospace;font-weight: bold;display: inline-block;line-height: 1.2em;}#sk-container-id-1 div.sk-label-container {text-align: center;}#sk-container-id-1 div.sk-container {/* jupyter's `normalize.less` sets `[hidden] { display: none; }` but bootstrap.min.css set `[hidden] { display: none !important; }` so we also need the `!important` here to be able to override the default hidden behavior on the sphinx rendered scikit-learn.org. See: https://github.com/scikit-learn/scikit-learn/issues/21755 */display: inline-block !important;position: relative;}#sk-container-id-1 div.sk-text-repr-fallback {display: none;}</style><div id=\"sk-container-id-1\" class=\"sk-top-container\"><div class=\"sk-text-repr-fallback\"><pre>MinMaxScaler()</pre><b>In a Jupyter environment, please rerun this cell to show the HTML representation or trust the notebook. <br />On GitHub, the HTML representation is unable to render, please try loading this page with nbviewer.org.</b></div><div class=\"sk-container\" hidden><div class=\"sk-item\"><div class=\"sk-estimator sk-toggleable\"><input class=\"sk-toggleable__control sk-hidden--visually\" id=\"sk-estimator-id-1\" type=\"checkbox\" checked><label for=\"sk-estimator-id-1\" class=\"sk-toggleable__label sk-toggleable__label-arrow\">MinMaxScaler</label><div class=\"sk-toggleable__content\"><pre>MinMaxScaler()</pre></div></div></div></div></div>"
      ],
      "text/plain": [
       "MinMaxScaler()"
      ]
     },
     "execution_count": 62,
     "metadata": {},
     "output_type": "execute_result"
    }
   ],
   "source": [
    "scaler"
   ]
  },
  {
   "cell_type": "code",
   "execution_count": 63,
   "id": "13f766d0",
   "metadata": {},
   "outputs": [],
   "source": [
    "import pickle\n",
    "scalerfile = 'scaler_model_future_value.pkl'\n",
    "pickle.dump(scaler, open(scalerfile, 'wb'))"
   ]
  },
  {
   "cell_type": "markdown",
   "id": "dcbe5698",
   "metadata": {},
   "source": [
    "# END!!!!"
   ]
  },
  {
   "cell_type": "code",
   "execution_count": null,
   "id": "75d6665a-d96f-430f-9469-83be485172e5",
   "metadata": {},
   "outputs": [],
   "source": []
  },
  {
   "cell_type": "code",
   "execution_count": null,
   "id": "2091dea5-d021-4438-b508-e99378938093",
   "metadata": {},
   "outputs": [],
   "source": []
  }
 ],
 "metadata": {
  "kernelspec": {
   "display_name": "Python 3 (ipykernel)",
   "language": "python",
   "name": "python3"
  },
  "language_info": {
   "codemirror_mode": {
    "name": "ipython",
    "version": 3
   },
   "file_extension": ".py",
   "mimetype": "text/x-python",
   "name": "python",
   "nbconvert_exporter": "python",
   "pygments_lexer": "ipython3",
   "version": "3.8.8"
  }
 },
 "nbformat": 4,
 "nbformat_minor": 5
}
