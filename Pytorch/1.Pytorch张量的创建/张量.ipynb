{
 "cells": [
  {
   "cell_type": "code",
   "execution_count": 1,
   "id": "300719ad",
   "metadata": {},
   "outputs": [
    {
     "name": "stdout",
     "output_type": "stream",
     "text": [
      "tensor([1.])\n"
     ]
    }
   ],
   "source": [
    "import torch\n",
    "const_dim_tensor = torch.Tensor([1])\n",
    "print(const_dim_tensor)"
   ]
  },
  {
   "cell_type": "code",
   "execution_count": 9,
   "id": "d5fac4ba",
   "metadata": {},
   "outputs": [
    {
     "name": "stdout",
     "output_type": "stream",
     "text": [
      "tensor([1.1000, 2.2000, 3.3000])\n"
     ]
    }
   ],
   "source": [
    "one_dim_tensor = torch.Tensor([1.1,2.2,3.3])\n",
    "print(one_dim_tensor)"
   ]
  },
  {
   "cell_type": "code",
   "execution_count": 10,
   "id": "c281204e",
   "metadata": {},
   "outputs": [
    {
     "name": "stdout",
     "output_type": "stream",
     "text": [
      "tensor([[1., 2., 3.],\n",
      "        [4., 5., 6.]])\n"
     ]
    }
   ],
   "source": [
    "two_dim_tensor = torch.Tensor([[1, 2, 3], [4, 5, 6]])\n",
    "print(two_dim_tensor)"
   ]
  },
  {
   "cell_type": "code",
   "execution_count": 14,
   "id": "2357d8b0",
   "metadata": {},
   "outputs": [
    {
     "name": "stdout",
     "output_type": "stream",
     "text": [
      "tensor([[[ 1.,  2.,  3.],\n",
      "         [ 5.,  6.,  7.]],\n",
      "\n",
      "        [[ 9., 10., 11.],\n",
      "         [13., 14., 15.]]])\n"
     ]
    }
   ],
   "source": [
    "three_dim_tensor = torch.Tensor(\n",
    "    [[[ 1.,  2.,  3.],\n",
    "     [ 5.,  6.,  7.]],\n",
    "\n",
    "    [[ 9., 10., 11.],\n",
    "     [13., 14., 15.]]]\n",
    ")\n",
    "print(three_dim_tensor)"
   ]
  },
  {
   "cell_type": "code",
   "execution_count": null,
   "id": "67414a33",
   "metadata": {},
   "outputs": [],
   "source": []
  },
  {
   "cell_type": "code",
   "execution_count": null,
   "id": "6e654fcc",
   "metadata": {},
   "outputs": [],
   "source": []
  }
 ],
 "metadata": {
  "kernelspec": {
   "display_name": "Python 3 (ipykernel)",
   "language": "python",
   "name": "python3"
  },
  "language_info": {
   "codemirror_mode": {
    "name": "ipython",
    "version": 3
   },
   "file_extension": ".py",
   "mimetype": "text/x-python",
   "name": "python",
   "nbconvert_exporter": "python",
   "pygments_lexer": "ipython3",
   "version": "3.8.2"
  }
 },
 "nbformat": 4,
 "nbformat_minor": 5
}