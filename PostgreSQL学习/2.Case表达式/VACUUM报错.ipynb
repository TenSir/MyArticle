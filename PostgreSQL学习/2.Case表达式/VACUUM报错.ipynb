{
 "cells": [
  {
   "cell_type": "code",
   "execution_count": 1,
   "id": "ade5a3ce-07e0-4385-8211-27fc5f071c70",
   "metadata": {
    "execution": {
     "iopub.execute_input": "2023-11-03T07:34:34.726892Z",
     "iopub.status.busy": "2023-11-03T07:34:34.725894Z",
     "iopub.status.idle": "2023-11-03T07:34:35.366020Z",
     "shell.execute_reply": "2023-11-03T07:34:35.362093Z",
     "shell.execute_reply.started": "2023-11-03T07:34:34.726892Z"
    }
   },
   "outputs": [],
   "source": [
    "import psycopg2\n",
    "import pandas as pd\n",
    "from sqlalchemy import create_engine \n",
    "from sqlalchemy.orm import scoped_session, sessionmaker\n",
    "from sqlalchemy import create_engine, text\n",
    "from psycopg2.extensions import ISOLATION_LEVEL_AUTOCOMMIT \n",
    "\n",
    "def execute_sql(sql):\n",
    "    # con = psycopg2.connect(...)\n",
    "    con = psycopg2.connect(host=\"localhost\", user=\"postgres\", password=\"123456\", port=5432, database=\"sql_advanced\")\n",
    "    # 下面的代码很重要\n",
    "    con.set_isolation_level(ISOLATION_LEVEL_AUTOCOMMIT) \n",
    "\n",
    "\n"
   ]
  },
  {
   "cell_type": "code",
   "execution_count": 8,
   "id": "4358054e-ad76-4490-b901-e9c544d12b9c",
   "metadata": {
    "execution": {
     "iopub.execute_input": "2023-11-03T07:49:24.541047Z",
     "iopub.status.busy": "2023-11-03T07:49:24.540050Z",
     "iopub.status.idle": "2023-11-03T07:49:24.612538Z",
     "shell.execute_reply": "2023-11-03T07:49:24.611578Z",
     "shell.execute_reply.started": "2023-11-03T07:49:24.541047Z"
    }
   },
   "outputs": [
    {
     "name": "stdout",
     "output_type": "stream",
     "text": [
      "开始执行\n",
      "实验失败: VACUUM cannot run inside a transaction block\n",
      "\n"
     ]
    }
   ],
   "source": [
    "import datetime\n",
    "def clear_tablespace():\n",
    "    try:\n",
    "        with psycopg2.connect(host=\"localhost\", user=\"postgres\", password=\"123456\", port=5432, database=\"sql_advanced\") as connection:\n",
    "            connection.autocommit = False\n",
    "            with connection.cursor() as cursor:\n",
    "\n",
    "                startime = datetime.datetime.now()\n",
    "                print('开始执行')\n",
    "                try:\n",
    "                    cursor.execute('BEGIN')\n",
    "                    cursor.execute('VACUUM')\n",
    "                    connection.commit()\n",
    "                    \n",
    "                    cursor.close()\n",
    "                    connection.close()\n",
    "                except Exception as e1:\n",
    "                    print('实验失败:',str(e1))\n",
    "                    with open('log.txt','a') as f:\n",
    "                        f.write(str(e1) + '1111' + str(datetime.datetime.now())) \n",
    "                endtime = datetime.datetime.now()\n",
    "            with open('log.txt','a') as f:\n",
    "                f.write('清除存储空间调度器成功')  \n",
    "    except Exception as e2:\n",
    "        with open('log.txt','a') as f:\n",
    "            f.write(str(e1) + '1111' + str(datetime.datetime.now()))   \n",
    "\n",
    "clear_tablespace()"
   ]
  },
  {
   "cell_type": "code",
   "execution_count": 15,
   "id": "5beac370-e320-4904-ad68-5982367fd50d",
   "metadata": {
    "execution": {
     "iopub.execute_input": "2023-11-03T08:01:00.108043Z",
     "iopub.status.busy": "2023-11-03T08:01:00.107047Z",
     "iopub.status.idle": "2023-11-03T08:01:00.179684Z",
     "shell.execute_reply": "2023-11-03T08:01:00.178724Z",
     "shell.execute_reply.started": "2023-11-03T08:01:00.108043Z"
    }
   },
   "outputs": [
    {
     "name": "stdout",
     "output_type": "stream",
     "text": [
      "开始执行\n",
      "实验失败: VACUUM cannot run inside a transaction block\n",
      "\n"
     ]
    }
   ],
   "source": [
    "import datetime\n",
    "def clear_tablespace():\n",
    "    try:\n",
    "        with psycopg2.connect(host=\"localhost\", user=\"postgres\", password=\"123456\", port=5432, database=\"sql_advanced\") as connection:\n",
    "            # connection.autocommit = False\n",
    "            with connection.cursor() as cursor:\n",
    "\n",
    "                startime = datetime.datetime.now()\n",
    "                print('开始执行')\n",
    "                try:\n",
    "                    # cursor.execute('BEGIN')\n",
    "                    cursor.execute('VACUUM')\n",
    "                    # connection.commit()\n",
    "                    connection.set_isolation_level(psycopg2.extensions.ISOLATION_LEVEL_AUTOCOMMIT)\n",
    "                    cursor.close()\n",
    "                    connection.close()\n",
    "                except Exception as e1:\n",
    "                    print('实验失败:',str(e1))\n",
    "                    with open('log.txt','a') as f:\n",
    "                        f.write(str(e1) + '1111' + str(datetime.datetime.now())) \n",
    "                endtime = datetime.datetime.now()\n",
    "            with open('log.txt','a') as f:\n",
    "                f.write('清除存储空间调度器成功')  \n",
    "    except Exception as e2:\n",
    "        with open('log.txt','a') as f:\n",
    "            f.write(str(e1) + '1111' + str(datetime.datetime.now()))   \n",
    "\n",
    "clear_tablespace()"
   ]
  },
  {
   "cell_type": "code",
   "execution_count": 25,
   "id": "2fa267d6-442b-4822-9762-e02d7534a247",
   "metadata": {
    "execution": {
     "iopub.execute_input": "2023-11-03T08:09:26.852345Z",
     "iopub.status.busy": "2023-11-03T08:09:26.851348Z",
     "iopub.status.idle": "2023-11-03T08:09:26.923502Z",
     "shell.execute_reply": "2023-11-03T08:09:26.923502Z",
     "shell.execute_reply.started": "2023-11-03T08:09:26.852345Z"
    }
   },
   "outputs": [
    {
     "name": "stdout",
     "output_type": "stream",
     "text": [
      "开始执行\n",
      "实验失败: VACUUM cannot run inside a transaction block\n",
      "\n"
     ]
    }
   ],
   "source": [
    "import datetime\n",
    "def clear_tablespace():\n",
    "    try:\n",
    "        with psycopg2.connect(host=\"localhost\", user=\"postgres\", password=\"123456\", port=5432, database=\"sql_advanced\") as connection:\n",
    "            # connection.autocommit = False\n",
    "            with connection.cursor() as cursor:\n",
    "                startime = datetime.datetime.now()\n",
    "                print('开始执行')\n",
    "                try:\n",
    "                    # connection.commit()\n",
    "                    connection.set_session(autocommit=True) # 设置为自动提交模式\n",
    "                    cursor.execute('VACUUM') # 执行VACUUM命令\n",
    "                    connection.set_session(autocommit=False) # 恢复到事务模式\n",
    "                    \n",
    "                    cursor.close()\n",
    "                    connection.close()\n",
    "                except Exception as e1:\n",
    "                    print('实验失败:',str(e1))\n",
    "                    with open('log.txt','a') as f:\n",
    "                        f.write(str(e1) + '1111' + str(datetime.datetime.now())) \n",
    "                endtime = datetime.datetime.now()\n",
    "            with open('log.txt','a') as f:\n",
    "                f.write('清除存储空间调度器成功')  \n",
    "    except Exception as e2:\n",
    "        with open('log.txt','a') as f:\n",
    "            f.write(str(e1) + '1111' + str(datetime.datetime.now()))   \n",
    "\n",
    "clear_tablespace()\n"
   ]
  },
  {
   "cell_type": "code",
   "execution_count": 26,
   "id": "66f17c8b-b03e-4b82-88b6-e9640158039f",
   "metadata": {
    "execution": {
     "iopub.execute_input": "2023-11-03T08:12:36.094827Z",
     "iopub.status.busy": "2023-11-03T08:12:36.093828Z",
     "iopub.status.idle": "2023-11-03T08:12:36.294203Z",
     "shell.execute_reply": "2023-11-03T08:12:36.293640Z",
     "shell.execute_reply.started": "2023-11-03T08:12:36.094827Z"
    }
   },
   "outputs": [],
   "source": [
    "import psycopg2\n",
    "import pandas as pd\n",
    "from sqlalchemy import create_engine \n",
    "from sqlalchemy.orm import scoped_session, sessionmaker\n",
    "from sqlalchemy import create_engine, text\n",
    "from psycopg2.extensions import ISOLATION_LEVEL_AUTOCOMMIT \n",
    "\n",
    "def execute_sql(sql):\n",
    "    # con = psycopg2.connect(...)\n",
    "    con = psycopg2.connect(host=\"localhost\", user=\"postgres\", password=\"123456\", port=5432, database=\"sql_advanced\")\n",
    "    con.set_isolation_level(ISOLATION_LEVEL_AUTOCOMMIT) \n",
    "    cur = con.cursor()\n",
    "    cur.execute(sql)\n",
    "    cur.close()\n",
    "    con.close()\n",
    "\n",
    "execute_sql('VACUUM')"
   ]
  },
  {
   "cell_type": "code",
   "execution_count": null,
   "id": "2f848caf-c0b0-49b4-854e-c4acc76b5e67",
   "metadata": {},
   "outputs": [],
   "source": [
    "https://www.cnblogs.com/huangguoming/p/10761980.html"
   ]
  },
  {
   "cell_type": "code",
   "execution_count": null,
   "id": "f668a1e3-61bd-450e-b2dd-403562d83793",
   "metadata": {},
   "outputs": [],
   "source": []
  }
 ],
 "metadata": {
  "kernelspec": {
   "display_name": "Python 3 (ipykernel)",
   "language": "python",
   "name": "python3"
  },
  "language_info": {
   "codemirror_mode": {
    "name": "ipython",
    "version": 3
   },
   "file_extension": ".py",
   "mimetype": "text/x-python",
   "name": "python",
   "nbconvert_exporter": "python",
   "pygments_lexer": "ipython3",
   "version": "3.9.10"
  }
 },
 "nbformat": 4,
 "nbformat_minor": 5
}
